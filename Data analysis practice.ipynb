{
 "cells": [
  {
   "cell_type": "markdown",
   "id": "c4e3d135",
   "metadata": {},
   "source": [
    "### Практика по библиотекам numpy, scipy, pandas, matplotlib, seaborn"
   ]
  },
  {
   "cell_type": "markdown",
   "id": "f169ed75",
   "metadata": {},
   "source": [
    "#### Среднее, медиана и мода"
   ]
  },
  {
   "cell_type": "code",
   "execution_count": 11,
   "id": "a01aa3e0",
   "metadata": {},
   "outputs": [
    {
     "name": "stdout",
     "output_type": "stream",
     "text": [
      "mode: 172\n",
      "median: 170.5\n",
      "mean: 170.4\n"
     ]
    }
   ],
   "source": [
    "# Расчет с помощью scipy и numpy\n",
    "import numpy as np\n",
    "from scipy import stats\n",
    "sample = np.array([185, 175, 170, 169, 171, 175, 157, 172, 170, 172, 167, 173, 168, 167, 166,\n",
    "              167, 169, 172, 177, 178, 165, 161, 179, 159, 164, 178, 172, 170, 173, 171])\n",
    "# В numpy кажись нет моды :(\n",
    "print('mode:', stats.mode(sample)[0][0])\n",
    "print('median:', np.median(sample))\n",
    "print('mean:', np.mean(sample))"
   ]
  },
  {
   "cell_type": "code",
   "execution_count": 14,
   "id": "ae3f2f58",
   "metadata": {
    "scrolled": true
   },
   "outputs": [
    {
     "name": "stdout",
     "output_type": "stream",
     "text": [
      "mode: 0    172\n",
      "dtype: int64\n",
      "median: 170.5\n",
      "mean: 170.4\n"
     ]
    }
   ],
   "source": [
    "# Расчет с помощью pandas\n",
    "import pandas as pd\n",
    "sample = pd.Series([185, 175, 170, 169, 171, 175, 157, 172, 170, 172, 167, 173, 168, 167, 166,\n",
    "              167, 169, 172, 177, 178, 165, 161, 179, 159, 164, 178, 172, 170, 173, 171])\n",
    "print('mode:', sample.mode())\n",
    "print('median:', sample.median())\n",
    "print('mean:', sample.mean())"
   ]
  },
  {
   "cell_type": "code",
   "execution_count": 23,
   "id": "39733ace",
   "metadata": {},
   "outputs": [],
   "source": [
    "sample = np.array([185, 175, 170, 169, 171, 175, 157, 172, 170, 172, 167, 173, 168, 167, 166,\n",
    "              167, 169, 172, 177, 178, 165, 161, 179, 159, 164, 178, 172, 170, 173, 171])"
   ]
  },
  {
   "cell_type": "markdown",
   "id": "20647cd3",
   "metadata": {},
   "source": [
    "#### Меры изменчивости"
   ]
  },
  {
   "cell_type": "code",
   "execution_count": 24,
   "id": "b005ef48",
   "metadata": {},
   "outputs": [
    {
     "name": "stdout",
     "output_type": "stream",
     "text": [
      "Размах: 28\n",
      "Стандартное отклонение: 5.902541825349482\n"
     ]
    }
   ],
   "source": [
    "print('Размах:', np.max(sample) - np.min(sample))\n",
    "print('Стандартное отклонение:', np.std(sample))"
   ]
  },
  {
   "cell_type": "markdown",
   "id": "300bcd36",
   "metadata": {},
   "source": [
    "#### Диаграмма boxplot"
   ]
  },
  {
   "cell_type": "code",
   "execution_count": 32,
   "id": "6fb33f5b",
   "metadata": {},
   "outputs": [
    {
     "data": {
      "image/png": "[encoded data removed]",
      "text/plain": [
       "<Figure size 432x288 with 1 Axes>"
      ]
     },
     "metadata": {
      "needs_background": "light"
     },
     "output_type": "display_data"
    }
   ],
   "source": [
    "import matplotlib.pyplot as plt\n",
    "\n",
    "plt.boxplot(sample)\n",
    "plt.show()"
   ]
  },
  {
   "cell_type": "code",
   "execution_count": 39,
   "id": "bac6c22d",
   "metadata": {
    "scrolled": true
   },
   "outputs": [
    {
     "data": {
      "image/png": "[encoded data removed]",
      "text/plain": [
       "<Figure size 432x288 with 1 Axes>"
      ]
     },
     "metadata": {
      "needs_background": "light"
     },
     "output_type": "display_data"
    }
   ],
   "source": [
    "# Имитация доски Гальтона в коде\n",
    "import seaborn as sns\n",
    "data = dict()\n",
    "\n",
    "# Кол-во шариков\n",
    "N = 10000\n",
    "\n",
    "# Кол-во уровней\n",
    "level = 20\n",
    "\n",
    "for _ in range(N):\n",
    "    index = 0\n",
    "    for _ in range(level):\n",
    "        index += np.random.choice([-1, 1]) \n",
    "    data.setdefault(index, 0)\n",
    "    data[index] += 1\n",
    "sns.barplot(x = list(data.keys()), y = list(data.values()));"
   ]
  },
  {
   "cell_type": "markdown",
   "id": "1a42d2fb",
   "metadata": {},
   "source": [
    "#### Z-преобразование"
   ]
  },
  {
   "cell_type": "code",
   "execution_count": 44,
   "id": "720b763b",
   "metadata": {},
   "outputs": [
    {
     "name": "stdout",
     "output_type": "stream",
     "text": [
      "1.4\n"
     ]
    }
   ],
   "source": [
    "M = 175\n",
    "sd = 8\n",
    "value = 186.2\n",
    "z = (value - M)/sd\n",
    "print(round(z, ndigits = 2))"
   ]
  },
  {
   "cell_type": "code",
   "execution_count": 48,
   "id": "47170165",
   "metadata": {},
   "outputs": [
    {
     "name": "stdout",
     "output_type": "stream",
     "text": [
      "[ 90.0 , 110.0 ]\n"
     ]
    }
   ],
   "source": [
    "# 95% Наблюдений будет в диапазоне\n",
    "M = 100\n",
    "D = 25\n",
    "sd = np.sqrt(D)\n",
    "\n",
    "print('[', M - 2*sd, ',', M + 2*sd, ']')"
   ]
  },
  {
   "cell_type": "code",
   "execution_count": 86,
   "id": "ace3f745",
   "metadata": {},
   "outputs": [
    {
     "data": {
      "text/plain": [
       "0.0477903522728147"
      ]
     },
     "execution_count": 86,
     "metadata": {},
     "output_type": "execute_result"
    }
   ],
   "source": [
    "# Какой процент людей c IQ > 125\n",
    "import scipy as sp\n",
    "\n",
    "M = 100\n",
    "sd = 15\n",
    "value = 125\n",
    "\n",
    "sp.stats.norm.sf((value - M)/sd)"
   ]
  },
  {
   "cell_type": "code",
   "execution_count": 74,
   "id": "21378130",
   "metadata": {},
   "outputs": [
    {
     "name": "stdout",
     "output_type": "stream",
     "text": [
      "0.77\n"
     ]
    }
   ],
   "source": [
    "# Какой приблизительно процент людей обладает IQ на \n",
    "# промежутке от 70 до 112\n",
    "\n",
    "M = 100\n",
    "sd = 15\n",
    "value1 = 70\n",
    "value2 = 112\n",
    "\n",
    "p_value_left = sp.stats.norm.cdf((value1-M)/sd)\n",
    "p_value_right = sp.stats.norm.sf((value2-M)/sd)\n",
    "print(round(1 - p_value_left - p_value_right, ndigits = 2))"
   ]
  },
  {
   "cell_type": "code",
   "execution_count": 76,
   "id": "599b0968",
   "metadata": {},
   "outputs": [
    {
     "name": "stdout",
     "output_type": "stream",
     "text": [
      "0.2\n"
     ]
    }
   ],
   "source": [
    "# Рассчитать стандартную ошибку\n",
    "\n",
    "D = 4\n",
    "N = 100\n",
    "\n",
    "se = np.sqrt(D)/np.sqrt(N)\n",
    "print(se)"
   ]
  },
  {
   "cell_type": "code",
   "execution_count": 83,
   "id": "675dfe60",
   "metadata": {},
   "outputs": [
    {
     "name": "stdout",
     "output_type": "stream",
     "text": [
      "[ 8.71 , 11.29 ]\n"
     ]
    }
   ],
   "source": [
    "# Рассчитать 99% доверительный интервал\n",
    "x = 10\n",
    "sd = 5\n",
    "n = 100\n",
    "\n",
    "print('[', x - 2.58 * (sd/np.sqrt(n)), ',', x + 2.58 * (sd/np.sqrt(n)) ,']')"
   ]
  },
  {
   "cell_type": "code",
   "execution_count": 103,
   "id": "df5a8bd9",
   "metadata": {},
   "outputs": [
    {
     "data": {
      "image/png": "[encoded data removed]",
      "text/plain": [
       "<Figure size 432x288 with 1 Axes>"
      ]
     },
     "metadata": {
      "needs_background": "light"
     },
     "output_type": "display_data"
    }
   ],
   "source": [
    "# T-распределение\n",
    "x = np.linspace(-5, 5, 100)\n",
    "y = sp.stats.t.pdf(x, df = 100)\n",
    "\n",
    "plt.plot(y);"
   ]
  },
  {
   "cell_type": "code",
   "execution_count": 126,
   "id": "b43a787a",
   "metadata": {},
   "outputs": [
    {
     "data": {
      "image/png": "[encoded data removed]",
      "text/plain": [
       "<Figure size 720x360 with 1 Axes>"
      ]
     },
     "metadata": {
      "needs_background": "light"
     },
     "output_type": "display_data"
    }
   ],
   "source": [
    "# Нормальное распределение\n",
    "x = np.linspace(-5, 5, 100)\n",
    "y1 = sp.stats.norm.pdf(x)\n",
    "y2 = sp.stats.t.pdf(x, df = 5)\n",
    "plt.figure(figsize=(10, 5))\n",
    "plt.plot(y1)\n",
    "plt.plot(y2, 'r:')\n",
    "plt.legend(['normal distribution', 't-distribution with df = 5'], loc = 'upper right')\n",
    "plt.show()"
   ]
  },
  {
   "cell_type": "code",
   "execution_count": 132,
   "id": "4a1e17e9",
   "metadata": {},
   "outputs": [
    {
     "data": {
      "text/plain": [
       "0.065"
      ]
     },
     "execution_count": 132,
     "metadata": {},
     "output_type": "execute_result"
    }
   ],
   "source": [
    "# Рассчитать p-уровень значимости (двусторонний)\n",
    "mean = 10\n",
    "t = -2\n",
    "n = 15\n",
    "round(sp.stats.t.cdf(t, df = n-1) * 2, ndigits = 3)"
   ]
  },
  {
   "cell_type": "markdown",
   "id": "6f3f8edc",
   "metadata": {},
   "source": [
    "#### T-критерий Стьюдента"
   ]
  },
  {
   "cell_type": "code",
   "execution_count": 276,
   "id": "f94bde9e",
   "metadata": {},
   "outputs": [
    {
     "name": "stdout",
     "output_type": "stream",
     "text": [
      "                   Mx         SD     N        SE\n",
      "1-ая выборка  100.815  10.246503  20.0  2.291188\n",
      "2-ая выборка   75.735  15.458102  20.0  3.456537\n",
      "p-value: 8.113664646369756e-06\n",
      "p-value in one line: 4.894702897415829e-07\n",
      "Отклоняем нулевую гипотезу H0 о равенстве средних значений данных выборок\n"
     ]
    },
    {
     "data": {
      "text/html": [
       "<div>\n",
       "<style scoped>\n",
       "    .dataframe tbody tr th:only-of-type {\n",
       "        vertical-align: middle;\n",
       "    }\n",
       "\n",
       "    .dataframe tbody tr th {\n",
       "        vertical-align: top;\n",
       "    }\n",
       "\n",
       "    .dataframe thead th {\n",
       "        text-align: right;\n",
       "    }\n",
       "</style>\n",
       "<table border=\"1\" class=\"dataframe\">\n",
       "  <thead>\n",
       "    <tr style=\"text-align: right;\">\n",
       "      <th></th>\n",
       "      <th>Mx</th>\n",
       "      <th>SD</th>\n",
       "      <th>N</th>\n",
       "      <th>SE</th>\n",
       "      <th>interval</th>\n",
       "    </tr>\n",
       "  </thead>\n",
       "  <tbody>\n",
       "    <tr>\n",
       "      <th>1-ая выборка</th>\n",
       "      <td>100.815</td>\n",
       "      <td>10.246503</td>\n",
       "      <td>20.0</td>\n",
       "      <td>2.291188</td>\n",
       "      <td>[96.02, 105.61]</td>\n",
       "    </tr>\n",
       "    <tr>\n",
       "      <th>2-ая выборка</th>\n",
       "      <td>75.735</td>\n",
       "      <td>15.458102</td>\n",
       "      <td>20.0</td>\n",
       "      <td>3.456537</td>\n",
       "      <td>[68.5, 82.97]</td>\n",
       "    </tr>\n",
       "  </tbody>\n",
       "</table>\n",
       "</div>"
      ],
      "text/plain": [
       "                   Mx         SD     N        SE         interval\n",
       "1-ая выборка  100.815  10.246503  20.0  2.291188  [96.02, 105.61]\n",
       "2-ая выборка   75.735  15.458102  20.0  3.456537    [68.5, 82.97]"
      ]
     },
     "execution_count": 276,
     "metadata": {},
     "output_type": "execute_result"
    }
   ],
   "source": [
    "array1 = np.array([84.7, 105, 98.9, 97.9, 108.7, 81.3, 99.4, 89.4 , 93, 119.3, 99.2, 99.4, 97.1, 112.4, 99.8, 94.7, 114, 95.1, 115.5, 111.5])\n",
    "array2 = np.array([57.2, 68.6, 104.4, 95.1, 89.9, 70.8, 83.5, 60.1, 75.7, 102, 69, 79.6, 68.9, 98.6, 76, 74.8, 56, 55.6, 69.4, 59.5])\n",
    "\n",
    "# Считаем количество элементов, среднее, стандартное отклонение и стандартную ошибку\n",
    "dtfm = pd.DataFrame({'1-ая выборка':array1, '2-ая выборка':array2}).agg(['mean', 'std', 'count', 'sem']).T\n",
    "dtfm.columns = ['Mx', 'SD', 'N', 'SE']\n",
    "\n",
    "print(dtfm)\n",
    "\n",
    "# Выясним являются ли значения статистически значимыми\n",
    "df = len(array1) - 1\n",
    "\n",
    "sd1 = dtfm.loc['1-ая выборка']['SD']\n",
    "n1 = dtfm.loc['1-ая выборка']['N']\n",
    "\n",
    "sd2 = dtfm.loc['2-ая выборка']['SD']\n",
    "n2 = dtfm.loc['2-ая выборка']['N']\n",
    "\n",
    "se = np.sqrt((sd1 ** 2 / n1) + (sd2 ** 2 / n2))\n",
    "\n",
    "se1 = dtfm.loc['1-ая выборка']['SE']\n",
    "se2 = dtfm.loc['2-ая выборка']['SE']\n",
    "\n",
    "mean1 = array1.mean()\n",
    "mean2 = array2.mean()\n",
    "t = (mean1 - mean2) / se\n",
    "p_value = 2*(1 - sp.stats.t.cdf(t, df))\n",
    "\n",
    "print('p-value:', p_value)\n",
    "\n",
    "# В одну строчку тоже самое\n",
    "print('p-value in one line:', sp.stats.ttest_ind(array1, array2, alternative='two-sided')[1])\n",
    "\n",
    "if p_value < 0.05:\n",
    "    print('Отклоняем нулевую гипотезу H0 о равенстве средних значений данных выборок')\n",
    "else:\n",
    "    print('Верна нулевая гипотеза H0 о равенстве средних значений данных выборок')\n",
    "    \n",
    "# 95% интервал отклонения среднего\n",
    "# Возвращается кортеж\n",
    "interval1 = sp.stats.t.interval(0.95, df, loc = mean1, scale = se1)\n",
    "interval2 = sp.stats.t.interval(0.95, df, loc = mean2, scale = se2)\n",
    "\n",
    "# Округляем значения\n",
    "interval_arr1 = np.around(np.array(interval1), decimals = 2)\n",
    "interval_arr2 = np.around(np.array(interval2), decimals = 2)\n",
    "\n",
    "d = {'1-ая выборка':interval_arr1, '2-ая выборка':interval_arr2}\n",
    "dtfm['interval'] = pd.Series(data = d)\n",
    "\n",
    "dtfm"
   ]
  },
  {
   "cell_type": "code",
   "execution_count": 238,
   "id": "b8a655f2",
   "metadata": {},
   "outputs": [
    {
     "name": "stdout",
     "output_type": "stream",
     "text": [
      "                  Mx        SD     N        SE\n",
      "1-ая выборка  108.05  5.995393  20.0  1.340611\n",
      "2-ая выборка  109.90  5.230477  20.0  1.169570\n",
      "p-value: 0.3114564636004076\n",
      "p-value in one line: 0.3049752508036721\n",
      "Верна нулевая гипотеза H0 о равенстве средних значений данных выборок\n"
     ]
    }
   ],
   "source": [
    "array3 = np.array([101, 101, 107, 112, 108, 103, 101, 113, 103, 118, 103, 117, 119, 104, 114, 113, 106, 104, 110, 104])\n",
    "array4 = np.array([116, 102, 109, 109, 119, 116, 115, 116, 105, 103, 111, 102, 114, 106, 105, 107, 113, 114, 107, 109])\n",
    "\n",
    "dtfm = pd.DataFrame({'1-ая выборка':array3, '2-ая выборка':array4}).agg(['mean', 'std', 'count', 'sem']).T\n",
    "dtfm.columns = ['Mx', 'SD', 'N', 'SE']\n",
    "\n",
    "df = len(array3) - 1\n",
    "print(dtfm)\n",
    "\n",
    "sd1 = dtfm.loc['1-ая выборка']['SD']\n",
    "n1 = dtfm.loc['1-ая выборка']['N']\n",
    "\n",
    "sd2 = dtfm.loc['2-ая выборка']['SD']\n",
    "n2 = dtfm.loc['2-ая выборка']['N']\n",
    "\n",
    "se = np.sqrt((sd1 ** 2 / n1) + (sd2 ** 2 / n2))\n",
    "\n",
    "mean1 = array4.mean()\n",
    "mean2 = array3.mean()\n",
    "\n",
    "t = (mean1 - mean2) / se\n",
    "\n",
    "p_value = 2*(1 - sp.stats.t.cdf(t, df))\n",
    "print('p-value:', p_value)\n",
    "\n",
    "# В одну строчку тоже самое\n",
    "print('p-value in one line:', sp.stats.ttest_ind(array3, array4, alternative='two-sided')[1])\n",
    "\n",
    "if p_value < 0.05:\n",
    "    print('Отклоняем нулевую гипотезу H0 о равенстве средних значений данных выборок')\n",
    "else:\n",
    "    print('Верна нулевая гипотеза H0 о равенстве средних значений данных выборок')"
   ]
  }
 ],
 "metadata": {
  "kernelspec": {
   "display_name": "Python 3 (ipykernel)",
   "language": "python",
   "name": "python3"
  },
  "language_info": {
   "codemirror_mode": {
    "name": "ipython",
    "version": 3
   },
   "file_extension": ".py",
   "mimetype": "text/x-python",
   "name": "python",
   "nbconvert_exporter": "python",
   "pygments_lexer": "ipython3",
   "version": "3.9.7"
  }
 },
 "nbformat": 4,
 "nbformat_minor": 5
}
