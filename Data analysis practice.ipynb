{
 "cells": [
  {
   "cell_type": "markdown",
   "id": "11abffaf",
   "metadata": {},
   "source": [
    "## Практика по библиотекам numpy, scipy, pandas, matplotlib, seaborn, plotly, statsmodels, sklearn"
   ]
  },
  {
   "cell_type": "markdown",
   "id": "b9b8b4c3",
   "metadata": {},
   "source": [
    "### Среднее, медиана и мода"
   ]
  },
  {
   "cell_type": "code",
   "execution_count": 11,
   "id": "97d3659e",
   "metadata": {},
   "outputs": [
    {
     "name": "stdout",
     "output_type": "stream",
     "text": [
      "mode: 172\n",
      "median: 170.5\n",
      "mean: 170.4\n"
     ]
    }
   ],
   "source": [
    "# Расчет с помощью scipy и numpy\n",
    "import numpy as np\n",
    "from scipy import stats\n",
    "sample = np.array([185, 175, 170, 169, 171, 175, 157, 172, 170, 172, 167, 173, 168, 167, 166,\n",
    "              167, 169, 172, 177, 178, 165, 161, 179, 159, 164, 178, 172, 170, 173, 171])\n",
    "# В numpy кажись нет моды :(\n",
    "print('mode:', stats.mode(sample)[0][0])\n",
    "print('median:', np.median(sample))\n",
    "print('mean:', np.mean(sample))"
   ]
  },
  {
   "cell_type": "code",
   "execution_count": 14,
   "id": "1a65d2dc",
   "metadata": {
    "scrolled": true
   },
   "outputs": [
    {
     "name": "stdout",
     "output_type": "stream",
     "text": [
      "mode: 0    172\n",
      "dtype: int64\n",
      "median: 170.5\n",
      "mean: 170.4\n"
     ]
    }
   ],
   "source": [
    "# Расчет с помощью pandas\n",
    "import pandas as pd\n",
    "sample = pd.Series([185, 175, 170, 169, 171, 175, 157, 172, 170, 172, 167, 173, 168, 167, 166,\n",
    "              167, 169, 172, 177, 178, 165, 161, 179, 159, 164, 178, 172, 170, 173, 171])\n",
    "print('mode:', sample.mode())\n",
    "print('median:', sample.median())\n",
    "print('mean:', sample.mean())"
   ]
  },
  {
   "cell_type": "code",
   "execution_count": 23,
   "id": "6e7c974f",
   "metadata": {},
   "outputs": [],
   "source": [
    "sample = np.array([185, 175, 170, 169, 171, 175, 157, 172, 170, 172, 167, 173, 168, 167, 166,\n",
    "              167, 169, 172, 177, 178, 165, 161, 179, 159, 164, 178, 172, 170, 173, 171])"
   ]
  },
  {
   "cell_type": "markdown",
   "id": "3b73cdb1",
   "metadata": {},
   "source": [
    "### Меры изменчивости"
   ]
  },
  {
   "cell_type": "code",
   "execution_count": 24,
   "id": "4664f1ad",
   "metadata": {},
   "outputs": [
    {
     "name": "stdout",
     "output_type": "stream",
     "text": [
      "Размах: 28\n",
      "Стандартное отклонение: 5.902541825349482\n"
     ]
    }
   ],
   "source": [
    "print('Размах:', np.max(sample) - np.min(sample))\n",
    "print('Стандартное отклонение:', np.std(sample))"
   ]
  },
  {
   "cell_type": "markdown",
   "id": "b1879474",
   "metadata": {},
   "source": [
    "### Диаграмма boxplot"
   ]
  },
  {
   "cell_type": "code",
   "execution_count": 32,
   "id": "802bc485",
   "metadata": {},
   "outputs": [
    {
     "data": {
      "image/png": "[encoded data removed]",
      "text/plain": [
       "<Figure size 432x288 with 1 Axes>"
      ]
     },
     "metadata": {
      "needs_background": "light"
     },
     "output_type": "display_data"
    }
   ],
   "source": [
    "import matplotlib.pyplot as plt\n",
    "\n",
    "plt.boxplot(sample)\n",
    "plt.show()"
   ]
  },
  {
   "cell_type": "code",
   "execution_count": 39,
   "id": "7fde8fe5",
   "metadata": {
    "scrolled": true
   },
   "outputs": [
    {
     "data": {
      "image/png": "[encoded data removed]",
      "text/plain": [
       "<Figure size 432x288 with 1 Axes>"
      ]
     },
     "metadata": {
      "needs_background": "light"
     },
     "output_type": "display_data"
    }
   ],
   "source": [
    "# Имитация доски Гальтона в коде\n",
    "import seaborn as sns\n",
    "data = dict()\n",
    "\n",
    "# Кол-во шариков\n",
    "N = 10000\n",
    "\n",
    "# Кол-во уровней\n",
    "level = 20\n",
    "\n",
    "for _ in range(N):\n",
    "    index = 0\n",
    "    for _ in range(level):\n",
    "        index += np.random.choice([-1, 1]) \n",
    "    data.setdefault(index, 0)\n",
    "    data[index] += 1\n",
    "sns.barplot(x = list(data.keys()), y = list(data.values()));"
   ]
  },
  {
   "cell_type": "markdown",
   "id": "12333a7b",
   "metadata": {},
   "source": [
    "### Z-преобразование"
   ]
  },
  {
   "cell_type": "code",
   "execution_count": 44,
   "id": "200e59e1",
   "metadata": {},
   "outputs": [
    {
     "name": "stdout",
     "output_type": "stream",
     "text": [
      "1.4\n"
     ]
    }
   ],
   "source": [
    "M = 175\n",
    "sd = 8\n",
    "value = 186.2\n",
    "z = (value - M)/sd\n",
    "print(round(z, ndigits = 2))"
   ]
  },
  {
   "cell_type": "code",
   "execution_count": 48,
   "id": "275be11b",
   "metadata": {},
   "outputs": [
    {
     "name": "stdout",
     "output_type": "stream",
     "text": [
      "[ 90.0 , 110.0 ]\n"
     ]
    }
   ],
   "source": [
    "# 95% Наблюдений будет в диапазоне\n",
    "M = 100\n",
    "D = 25\n",
    "sd = np.sqrt(D)\n",
    "\n",
    "print('[', M - 2*sd, ',', M + 2*sd, ']')"
   ]
  },
  {
   "cell_type": "code",
   "execution_count": 86,
   "id": "8fe7dff1",
   "metadata": {},
   "outputs": [
    {
     "data": {
      "text/plain": [
       "0.0477903522728147"
      ]
     },
     "execution_count": 86,
     "metadata": {},
     "output_type": "execute_result"
    }
   ],
   "source": [
    "# Какой процент людей c IQ > 125\n",
    "import scipy as sp\n",
    "\n",
    "M = 100\n",
    "sd = 15\n",
    "value = 125\n",
    "\n",
    "sp.stats.norm.sf((value - M)/sd)"
   ]
  },
  {
   "cell_type": "code",
   "execution_count": 74,
   "id": "fc91ec48",
   "metadata": {},
   "outputs": [
    {
     "name": "stdout",
     "output_type": "stream",
     "text": [
      "0.77\n"
     ]
    }
   ],
   "source": [
    "# Какой приблизительно процент людей обладает IQ на \n",
    "# промежутке от 70 до 112\n",
    "\n",
    "M = 100\n",
    "sd = 15\n",
    "value1 = 70\n",
    "value2 = 112\n",
    "\n",
    "p_value_left = sp.stats.norm.cdf((value1-M)/sd)\n",
    "p_value_right = sp.stats.norm.sf((value2-M)/sd)\n",
    "print(round(1 - p_value_left - p_value_right, ndigits = 2))"
   ]
  },
  {
   "cell_type": "code",
   "execution_count": 76,
   "id": "24ba9d88",
   "metadata": {},
   "outputs": [
    {
     "name": "stdout",
     "output_type": "stream",
     "text": [
      "0.2\n"
     ]
    }
   ],
   "source": [
    "# Рассчитать стандартную ошибку\n",
    "\n",
    "D = 4\n",
    "N = 100\n",
    "\n",
    "se = np.sqrt(D)/np.sqrt(N)\n",
    "print(se)"
   ]
  },
  {
   "cell_type": "code",
   "execution_count": 83,
   "id": "560f94e0",
   "metadata": {},
   "outputs": [
    {
     "name": "stdout",
     "output_type": "stream",
     "text": [
      "[ 8.71 , 11.29 ]\n"
     ]
    }
   ],
   "source": [
    "# Рассчитать 99% доверительный интервал\n",
    "x = 10\n",
    "sd = 5\n",
    "n = 100\n",
    "\n",
    "print('[', x - 2.58 * (sd/np.sqrt(n)), ',', x + 2.58 * (sd/np.sqrt(n)) ,']')"
   ]
  },
  {
   "cell_type": "code",
   "execution_count": 103,
   "id": "57241a23",
   "metadata": {},
   "outputs": [
    {
     "data": {
      "image/png": "[encoded data removed]",
      "text/plain": [
       "<Figure size 432x288 with 1 Axes>"
      ]
     },
     "metadata": {
      "needs_background": "light"
     },
     "output_type": "display_data"
    }
   ],
   "source": [
    "# T-распределение\n",
    "x = np.linspace(-5, 5, 100)\n",
    "y = sp.stats.t.pdf(x, df = 100)\n",
    "\n",
    "plt.plot(y);"
   ]
  },
  {
   "cell_type": "code",
   "execution_count": 126,
   "id": "31af593f",
   "metadata": {},
   "outputs": [
    {
     "data": {
      "image/png": "[encoded data removed]",
      "text/plain": [
       "<Figure size 720x360 with 1 Axes>"
      ]
     },
     "metadata": {
      "needs_background": "light"
     },
     "output_type": "display_data"
    }
   ],
   "source": [
    "# Нормальное распределение\n",
    "x = np.linspace(-5, 5, 100)\n",
    "y1 = sp.stats.norm.pdf(x)\n",
    "y2 = sp.stats.t.pdf(x, df = 5)\n",
    "plt.figure(figsize=(10, 5))\n",
    "plt.plot(y1)\n",
    "plt.plot(y2, 'r:')\n",
    "plt.legend(['normal distribution', 't-distribution with df = 5'], loc = 'upper right')\n",
    "plt.show()"
   ]
  },
  {
   "cell_type": "code",
   "execution_count": 132,
   "id": "3d930a7d",
   "metadata": {},
   "outputs": [
    {
     "data": {
      "text/plain": [
       "0.065"
      ]
     },
     "execution_count": 132,
     "metadata": {},
     "output_type": "execute_result"
    }
   ],
   "source": [
    "# Рассчитать p-уровень значимости (двусторонний)\n",
    "mean = 10\n",
    "t = -2\n",
    "n = 15\n",
    "round(sp.stats.t.cdf(t, df = n-1) * 2, ndigits = 3)"
   ]
  },
  {
   "cell_type": "markdown",
   "id": "e8d287d5",
   "metadata": {},
   "source": [
    "### T-критерий Стьюдента"
   ]
  },
  {
   "cell_type": "code",
   "execution_count": 28,
   "id": "8813f476",
   "metadata": {
    "scrolled": true
   },
   "outputs": [
    {
     "name": "stdout",
     "output_type": "stream",
     "text": [
      "                   Mx         SD     N        SE\n",
      "1-ая выборка  100.815  10.246503  20.0  2.291188\n",
      "2-ая выборка   75.735  15.458102  20.0  3.456537\n",
      "p-value: 8.113664646369756e-06\n",
      "p-value in one line: 4.894702897415829e-07\n",
      "Отклоняем нулевую гипотезу H0 о равенстве средних значений данных выборок\n"
     ]
    },
    {
     "data": {
      "text/html": [
       "<div>\n",
       "<style scoped>\n",
       "    .dataframe tbody tr th:only-of-type {\n",
       "        vertical-align: middle;\n",
       "    }\n",
       "\n",
       "    .dataframe tbody tr th {\n",
       "        vertical-align: top;\n",
       "    }\n",
       "\n",
       "    .dataframe thead th {\n",
       "        text-align: right;\n",
       "    }\n",
       "</style>\n",
       "<table border=\"1\" class=\"dataframe\">\n",
       "  <thead>\n",
       "    <tr style=\"text-align: right;\">\n",
       "      <th></th>\n",
       "      <th>Mx</th>\n",
       "      <th>SD</th>\n",
       "      <th>N</th>\n",
       "      <th>SE</th>\n",
       "      <th>interval</th>\n",
       "    </tr>\n",
       "  </thead>\n",
       "  <tbody>\n",
       "    <tr>\n",
       "      <th>1-ая выборка</th>\n",
       "      <td>100.815</td>\n",
       "      <td>10.246503</td>\n",
       "      <td>20.0</td>\n",
       "      <td>2.291188</td>\n",
       "      <td>[96.02, 105.61]</td>\n",
       "    </tr>\n",
       "    <tr>\n",
       "      <th>2-ая выборка</th>\n",
       "      <td>75.735</td>\n",
       "      <td>15.458102</td>\n",
       "      <td>20.0</td>\n",
       "      <td>3.456537</td>\n",
       "      <td>[68.5, 82.97]</td>\n",
       "    </tr>\n",
       "  </tbody>\n",
       "</table>\n",
       "</div>"
      ],
      "text/plain": [
       "                   Mx         SD     N        SE         interval\n",
       "1-ая выборка  100.815  10.246503  20.0  2.291188  [96.02, 105.61]\n",
       "2-ая выборка   75.735  15.458102  20.0  3.456537    [68.5, 82.97]"
      ]
     },
     "execution_count": 28,
     "metadata": {},
     "output_type": "execute_result"
    }
   ],
   "source": [
    "import numpy as np\n",
    "import pandas as pd\n",
    "array1 = np.array([84.7, 105, 98.9, 97.9, 108.7, 81.3, 99.4, 89.4 , 93, 119.3, 99.2, 99.4, 97.1, 112.4, 99.8, 94.7, 114, 95.1, 115.5, 111.5])\n",
    "array2 = np.array([57.2, 68.6, 104.4, 95.1, 89.9, 70.8, 83.5, 60.1, 75.7, 102, 69, 79.6, 68.9, 98.6, 76, 74.8, 56, 55.6, 69.4, 59.5])\n",
    "\n",
    "# Считаем количество элементов, среднее, стандартное отклонение и стандартную ошибку\n",
    "dtfm = pd.DataFrame({'1-ая выборка':array1, '2-ая выборка':array2}).agg(['mean', 'std', 'count', 'sem']).T\n",
    "dtfm.columns = ['Mx', 'SD', 'N', 'SE']\n",
    "\n",
    "print(dtfm)\n",
    "\n",
    "# Выясним являются ли значения статистически значимыми\n",
    "df = len(array1) - 1\n",
    "\n",
    "sd1 = dtfm.loc['1-ая выборка']['SD']\n",
    "n1 = dtfm.loc['1-ая выборка']['N']\n",
    "\n",
    "sd2 = dtfm.loc['2-ая выборка']['SD']\n",
    "n2 = dtfm.loc['2-ая выборка']['N']\n",
    "\n",
    "se = np.sqrt((sd1 ** 2 / n1) + (sd2 ** 2 / n2))\n",
    "\n",
    "se1 = dtfm.loc['1-ая выборка']['SE']\n",
    "se2 = dtfm.loc['2-ая выборка']['SE']\n",
    "\n",
    "mean1 = array1.mean()\n",
    "mean2 = array2.mean()\n",
    "t = (mean1 - mean2) / se\n",
    "p_value = 2*(1 - sp.stats.t.cdf(t, df))\n",
    "\n",
    "print('p-value:', p_value)\n",
    "\n",
    "# В одну строчку тоже самое\n",
    "print('p-value in one line:', sp.stats.ttest_ind(array1, array2, alternative='two-sided')[1])\n",
    "\n",
    "if p_value < 0.05:\n",
    "    print('Отклоняем нулевую гипотезу H0 о равенстве средних значений данных выборок')\n",
    "else:\n",
    "    print('Верна нулевая гипотеза H0 о равенстве средних значений данных выборок')\n",
    "    \n",
    "# 95% интервал отклонения среднего\n",
    "# Возвращается кортеж\n",
    "interval1 = sp.stats.t.interval(0.95, df = df, loc = mean1, scale = se1)\n",
    "interval2 = sp.stats.t.interval(0.95, df = df, loc = mean2, scale = se2)\n",
    "\n",
    "# Округляем значения\n",
    "interval_arr1 = np.around(np.array(interval1), decimals = 2)\n",
    "interval_arr2 = np.around(np.array(interval2), decimals = 2)\n",
    "\n",
    "d = {'1-ая выборка':interval_arr1, '2-ая выборка':interval_arr2}\n",
    "dtfm['interval'] = pd.Series(data = d)\n",
    "\n",
    "dtfm"
   ]
  },
  {
   "cell_type": "code",
   "execution_count": 238,
   "id": "c3cdd28b",
   "metadata": {
    "scrolled": true
   },
   "outputs": [
    {
     "name": "stdout",
     "output_type": "stream",
     "text": [
      "                  Mx        SD     N        SE\n",
      "1-ая выборка  108.05  5.995393  20.0  1.340611\n",
      "2-ая выборка  109.90  5.230477  20.0  1.169570\n",
      "p-value: 0.3114564636004076\n",
      "p-value in one line: 0.3049752508036721\n",
      "Верна нулевая гипотеза H0 о равенстве средних значений данных выборок\n"
     ]
    }
   ],
   "source": [
    "array3 = np.array([101, 101, 107, 112, 108, 103, 101, 113, 103, 118, 103, 117, 119, 104, 114, 113, 106, 104, 110, 104])\n",
    "array4 = np.array([116, 102, 109, 109, 119, 116, 115, 116, 105, 103, 111, 102, 114, 106, 105, 107, 113, 114, 107, 109])\n",
    "\n",
    "dtfm = pd.DataFrame({'1-ая выборка':array3, '2-ая выборка':array4}).agg(['mean', 'std', 'count', 'sem']).T\n",
    "dtfm.columns = ['Mx', 'SD', 'N', 'SE']\n",
    "\n",
    "df = len(array3) - 1\n",
    "print(dtfm)\n",
    "\n",
    "sd1 = dtfm.loc['1-ая выборка']['SD']\n",
    "n1 = dtfm.loc['1-ая выборка']['N']\n",
    "\n",
    "sd2 = dtfm.loc['2-ая выборка']['SD']\n",
    "n2 = dtfm.loc['2-ая выборка']['N']\n",
    "\n",
    "se = np.sqrt((sd1 ** 2 / n1) + (sd2 ** 2 / n2))\n",
    "\n",
    "mean1 = array4.mean()\n",
    "mean2 = array3.mean()\n",
    "\n",
    "t = (mean1 - mean2) / se\n",
    "\n",
    "p_value = 2*(1 - sp.stats.t.cdf(t, df))\n",
    "print('p-value:', p_value)\n",
    "\n",
    "# В одну строчку тоже самое\n",
    "print('p-value in one line:', sp.stats.ttest_ind(array3, array4, alternative='two-sided')[1])\n",
    "\n",
    "if p_value < 0.05:\n",
    "    print('Отклоняем нулевую гипотезу H0 о равенстве средних значений данных выборок')\n",
    "else:\n",
    "    print('Верна нулевая гипотеза H0 о равенстве средних значений данных выборок')"
   ]
  },
  {
   "cell_type": "code",
   "execution_count": 376,
   "id": "71324370",
   "metadata": {
    "scrolled": true
   },
   "outputs": [
    {
     "data": {
      "image/png": "[encoded data removed]",
      "text/plain": [
       "<Figure size 1152x576 with 2 Axes>"
      ]
     },
     "metadata": {
      "needs_background": "light"
     },
     "output_type": "display_data"
    }
   ],
   "source": [
    "# Строим окна для графиков\n",
    "fig, (ax1, ax2) = plt.subplots(nrows = 1, ncols = 2, figsize = (16, 8))\n",
    "\n",
    "# Boxplot\n",
    "plot1 = ax1.boxplot([array1, array2], labels = ['1-ая выборка', '2-ая выборка'])\n",
    "\n",
    "# Доверительные интервалы\n",
    "plt.xlim(-1, 2)\n",
    "plt.ylim(40, 140)\n",
    "plot2 = ax2.errorbar(x = dtfm.index, y = dtfm['Mx'], yerr = dtfm['interval'][1] - dtfm['interval'][0], color = 'black', capsize=10, fmt = 'o')\n",
    "\n",
    "for ax in [ax1, ax2]:\n",
    "    ax.yaxis.grid(True)\n",
    "    ax.set_title('Температура плавления ДНК двух типов', fontsize = 18)\n",
    "    ax.set_xlabel('Сравнение двух выборок', fontsize = 18)\n",
    "    ax.set_ylabel('Температура F', fontsize = 18)"
   ]
  },
  {
   "cell_type": "markdown",
   "id": "11abdcb6",
   "metadata": {},
   "source": [
    "Рассчитать доверительный интервал для t-распределения\n",
    "$$ \\bar{X}=89,9\\quad sd=11,3\\quad n=20$$"
   ]
  },
  {
   "cell_type": "code",
   "execution_count": 27,
   "id": "579c32a6",
   "metadata": {},
   "outputs": [
    {
     "data": {
      "text/plain": [
       "(84.61143720745503, 95.18856279254499)"
      ]
     },
     "execution_count": 27,
     "metadata": {},
     "output_type": "execute_result"
    }
   ],
   "source": [
    "import scipy as sp\n",
    "from scipy import stats\n",
    "x = 89.9\n",
    "sd = 11.3\n",
    "n = 20\n",
    "\n",
    "# 95 % процентный доверительный интервал\n",
    "p = 0.95\n",
    "\n",
    "se = sd/np.sqrt(n)\n",
    "\n",
    "stats.t.interval(0.95, df = n-1, scale = se, loc = x)"
   ]
  },
  {
   "cell_type": "markdown",
   "id": "3acaa9bf",
   "metadata": {},
   "source": [
    "Первые премии Оскар за лучшую мужскую и женскую роль были вручены в 1929. Данные гистограммы демонстрируют распределение возраста победителей с 1929 по 2014 год (100 мужчин, 100 женщин). Используя t - критерий проверьте, можно ли считать наблюдаемые различия в возрасте между лучшими актрисами и актерами  статистически достоверными.\n",
    "\n",
    "Средний возраст мужчин равен 45, sd = 9.\n",
    "\n",
    "Средний возраст женщин равен 34, sd = 10.\n",
    "\n",
    "<img src = 'img/plot1.png'>"
   ]
  },
  {
   "cell_type": "code",
   "execution_count": 35,
   "id": "d3e1d37a",
   "metadata": {},
   "outputs": [
    {
     "name": "stdout",
     "output_type": "stream",
     "text": [
      "p-value: 3.455544014290269e-14\n",
      "Отклоняем нулевую гипотезу H0 о равенстве средних значений данных выборок\n"
     ]
    }
   ],
   "source": [
    "mean1, mean2 = 45, 34\n",
    "sd1, sd2 = 9, 10\n",
    "n1, n2 = 100, 100\n",
    "\n",
    "se = np.sqrt((sd1 ** 2 / n1) + (sd2 ** 2 / n2))\n",
    "\n",
    "t_value = (mean1 - mean2) / se\n",
    "\n",
    "p_value = 2*sp.stats.t.sf(t_value, n1+n2 - 2)\n",
    "print('p-value:', p_value)\n",
    "if p_value < 0.05:\n",
    "    print('Отклоняем нулевую гипотезу H0 о равенстве средних значений данных выборок')\n",
    "else:\n",
    "    print('Верна нулевая гипотеза H0 о равенстве средних значений данных выборок')"
   ]
  },
  {
   "cell_type": "markdown",
   "id": "1d79937d",
   "metadata": {},
   "source": [
    "### QQ-plot"
   ]
  },
  {
   "cell_type": "code",
   "execution_count": 122,
   "id": "7356b985",
   "metadata": {},
   "outputs": [
    {
     "data": {
      "image/png": "[encoded data removed]",
      "text/plain": [
       "<Figure size 1152x576 with 2 Axes>"
      ]
     },
     "metadata": {
      "needs_background": "light"
     },
     "output_type": "display_data"
    }
   ],
   "source": [
    "import numpy as np\n",
    "import matplotlib.pyplot as plt\n",
    "mu = 0\n",
    "sigma = 10\n",
    "n = 1000\n",
    "\n",
    "sequence = np.random.normal(mu, sigma, n)\n",
    "\n",
    "# normal distribution\n",
    "fig, (ax1, ax2) = plt.subplots(1, 2, figsize = (16, 8))\n",
    "\n",
    "#fig.suptitle('Normal Distribution and QQ-plot', fontsize = 24)\n",
    "\n",
    "x = np.linspace(mu - 3*sigma, mu + 3*sigma, 1000)\n",
    "plot1 = ax1.hist(sequence, 40, density = True)\n",
    "\n",
    "ax1.plot(x, stats.norm.pdf(x, mu, sigma), color='r')\n",
    "\n",
    "ax1.set_title('Normal Distribution', fontsize = 20)\n",
    "\n",
    "# QQ-plot\n",
    "stats.probplot(sequence, dist = 'norm', plot = ax2)\n",
    "\n",
    "ax2.set_title('QQ-plot', fontsize = 20)\n",
    "\n",
    "ax2.set_xlabel('Theoretical quantiles', fontsize = 18)\n",
    "ax2.set_ylabel('Ordered Values', fontsize = 18)\n",
    "\n",
    "for ax in [ax1, ax2]:\n",
    "    ax.tick_params(axis='both', labelsize=16)"
   ]
  },
  {
   "cell_type": "markdown",
   "id": "82096c5e",
   "metadata": {},
   "source": [
    "### Однофакторный дисперсионный анализ\n",
    "\n",
    "$$ SS_{total} = \\sum_{j=1}^{p}{\\sum_{i=1}^{n_j}{(x_{ij} - \\bar{x})^2}} = SS_{between} + SS_{within} $$\n",
    "$$ SS_{between} = \\sum_{j=1}^{p}{n_j{(\\bar{x}_j - \\bar{x})^2}} $$\n",
    "$$ SS_{within} = \\sum_{j=1}^{p}{\\sum_{i=1}^{n_j}{(x_{ij} - \\bar{x}_j)^2}} $$"
   ]
  },
  {
   "cell_type": "code",
   "execution_count": 461,
   "id": "38d72e9c",
   "metadata": {},
   "outputs": [
    {
     "name": "stdout",
     "output_type": "stream",
     "text": [
      "Нулевая гипотеза: a=b=c\n",
      "Альтернативная гипотеза: !(a=b=c)\n",
      "p-value: 0.008\n",
      "Отклоняем нулевую гипотезу H0 о равенстве средних значений данных выборок\n"
     ]
    },
    {
     "data": {
      "image/png": "[encoded data removed]",
      "text/plain": [
       "<Figure size 1152x648 with 1 Axes>"
      ]
     },
     "metadata": {
      "needs_background": "light"
     },
     "output_type": "display_data"
    },
    {
     "data": {
      "image/png": "[encoded data removed]",
      "text/plain": [
       "<Figure size 1152x648 with 1 Axes>"
      ]
     },
     "metadata": {
      "needs_background": "light"
     },
     "output_type": "display_data"
    }
   ],
   "source": [
    "data = pd.DataFrame({\"a\": [3, 1, 2], \"b\": [5, 3, 4], \"c\": [7, 6, 5]})\n",
    "data.boxplot(figsize=(16, 9))\n",
    "\n",
    "print(\"Нулевая гипотеза:\", \"=\".join(data))\n",
    "print(\"Альтернативная гипотеза:\", f'!({\"=\".join(data)})')\n",
    "\n",
    "general_mean = data.values.flatten().mean()\n",
    "\n",
    "fig, ax = plt.subplots(1, 1, figsize=(16, 9))\n",
    "plt.boxplot(data, labels=[\"a\", \"b\", \"c\"])\n",
    "ax.yaxis.grid(True)\n",
    "\n",
    "# внутригрупповая сумма квадратов \n",
    "ssw = np.sum(\n",
    "    np.sum(\n",
    "        pd.Series(\n",
    "            map(\n",
    "                lambda x: pd.Series(map(lambda y: (y - x[1]) ** 2, data[x[0]])),\n",
    "                data.mean().items(),\n",
    "            )\n",
    "        )\n",
    "    )\n",
    ")\n",
    "\n",
    "# межгрупповая сумма квадратов\n",
    "ssb = np.sum(\n",
    "    pd.Series(\n",
    "        map(\n",
    "            lambda x: data[x[0]].shape[0] * (x[1] - general_mean) ** 2,\n",
    "            data.mean().items(),\n",
    "        )\n",
    "    )\n",
    ")\n",
    "\n",
    "count_of_groups = data.shape[1]\n",
    "\n",
    "# число степеней свободы для межгрупповой суммы квадратов\n",
    "dfb = count_of_groups - 1\n",
    "\n",
    "# число степеней свободы для внутригрупповой суммы квадратов\n",
    "dfw = data.size - count_of_groups\n",
    "\n",
    "# межгрупповой средний квадрат\n",
    "mssb = ssb / dfb\n",
    "\n",
    "# внутригрупповой средний квадрат\n",
    "mssw = ssw / dfw\n",
    "\n",
    "f_value = mssb / mssw\n",
    "\n",
    "p_value = stats.f.sf(f_value, dfb, dfw)\n",
    "print('p-value:', round(p_value, ndigits = 3))\n",
    "\n",
    "if p_value < 0.05:\n",
    "    print('Отклоняем нулевую гипотезу H0 о равенстве средних значений данных выборок')\n",
    "else:\n",
    "    print('Верна нулевая гипотеза H0 о равенстве средних значений данных выборок')"
   ]
  },
  {
   "cell_type": "markdown",
   "id": "fa0889b9",
   "metadata": {},
   "source": [
    "### Множественные сравнения в ANOVA"
   ]
  },
  {
   "cell_type": "markdown",
   "id": "278914ae",
   "metadata": {},
   "source": [
    "#### T-критерий без поправок на множественную проверку гипотез"
   ]
  },
  {
   "cell_type": "code",
   "execution_count": 148,
   "id": "123c410a",
   "metadata": {},
   "outputs": [],
   "source": [
    "import numpy as np\n",
    "from numpy import random\n",
    "import matplotlib.pyplot as plt\n",
    "from scipy.stats import t\n",
    "\n",
    "# Парный t-критерий возвращает True, если средние всех выборок равны\n",
    "def pair_t(samples, alpha):\n",
    "    n_samples = samples.shape[0]\n",
    "    n_combinations = n_samples*(n_samples - 1) / 2\n",
    "    result = np.zeros(n_combinations, dtype = bool)\n",
    "    k = 0\n",
    "    for i in range(n_samples):\n",
    "        for j in range(i + 1, n_samples):\n",
    "            N = samples[i].size\n",
    "            se = np.sqrt((samples[i].std()**2)/N + (samples[j].std()**2)/N)\n",
    "            t_value = (samples[i].mean() - samples[j].mean())/se\n",
    "            p_value = t.sf(t_value, N-2)\n",
    "            result[k] = p_value >= alpha\n",
    "            k += 1\n",
    "    return np.all(result)"
   ]
  },
  {
   "cell_type": "code",
   "execution_count": 81,
   "id": "b0d300f0",
   "metadata": {},
   "outputs": [],
   "source": [
    "# Возвращает количество ложных результатов при парном сравнении с помощью t-критерия\n",
    "# alpha = 1 - p_value\n",
    "def pair_t_test(repeats, n_samples, sample_size, ax, alpha = 0.05):\n",
    "    result = np.zeros(repeats, dtype = bool)\n",
    "    for i in range(repeats):\n",
    "        samples = random.randn(n_samples, sample_size)\n",
    "        result[i] = pair_t(samples, alpha)\n",
    "        \n",
    "    unique, counts = np.unique(result, return_counts = True)\n",
    "    percentage = counts/result.size\n",
    "    explode = (0.1, 0.1)\n",
    "    ax.pie(percentage, explode = explode, labels = unique, autopct='%.0f%%', colors = ['#D62728', '#2CA02C'], shadow=True, startangle=90)"
   ]
  },
  {
   "cell_type": "code",
   "execution_count": 85,
   "id": "d8050740",
   "metadata": {
    "scrolled": true
   },
   "outputs": [
    {
     "data": {
      "image/png": "[encoded data removed]",
      "text/plain": [
       "<Figure size 1440x288 with 4 Axes>"
      ]
     },
     "metadata": {},
     "output_type": "display_data"
    }
   ],
   "source": [
    "fig, axs = plt.subplots(ncols = 4, figsize = (20, 4))\n",
    "n_samples = [2, 4, 8, 16]\n",
    "fig.suptitle('Процент ошибок при попарном сравнении выборок t-критерием без учета поправок на множественную проверку гипотез')\n",
    "\n",
    "for n, ax in zip(n_samples, axs):\n",
    "    pair_t_test(250, n, 100, ax)\n",
    "    ax.set_title(f'{n} samples')"
   ]
  },
  {
   "cell_type": "code",
   "execution_count": 86,
   "id": "78d3e349",
   "metadata": {},
   "outputs": [
    {
     "data": {
      "image/png": "[encoded data removed]",
      "text/plain": [
       "<Figure size 1440x288 with 4 Axes>"
      ]
     },
     "metadata": {},
     "output_type": "display_data"
    }
   ],
   "source": [
    "fig, axs = plt.subplots(ncols=4, figsize=(20, 4))\n",
    "n_samples = [2, 4, 8, 16]\n",
    "fig.suptitle('Процент ошибок при попарном сравнении выборок t-критерием с поправкой Бонферрони')\n",
    "\n",
    "for n, ax in zip(n_samples, axs):\n",
    "    alpha = 0.05/((n*(n-1))/2)\n",
    "    pair_t_test(250, n, 100, ax, alpha)\n",
    "    ax.set_title(f'{n} samples')\n",
    "    \n",
    "# Поправка Бонферонни слишком консервативная и её за это критикуют. \n",
    "# На её замену используют Критерий Тьюки"
   ]
  },
  {
   "cell_type": "markdown",
   "id": "322c4db8",
   "metadata": {},
   "source": [
    "#### Ошибки первого и второго рода"
   ]
  },
  {
   "cell_type": "markdown",
   "id": "94454f91",
   "metadata": {},
   "source": [
    "<img src='img/errors.jpg'>"
   ]
  },
  {
   "cell_type": "markdown",
   "id": "b73ae0f1",
   "metadata": {},
   "source": [
    "### Корреляция"
   ]
  },
  {
   "cell_type": "code",
   "execution_count": 59,
   "id": "f54d90bb",
   "metadata": {},
   "outputs": [
    {
     "data": {
      "image/png": "[encoded data removed]",
      "text/plain": [
       "<Figure size 576x1152 with 3 Axes>"
      ]
     },
     "metadata": {
      "needs_background": "light"
     },
     "output_type": "display_data"
    },
    {
     "name": "stdout",
     "output_type": "stream",
     "text": [
      "\n",
      "cov1: -36.97\n",
      "cov2: -40.85\n",
      "cov3: -25.26\n",
      "\n",
      "cor1: -0.98\n",
      "cor2: -0.79\n",
      "cor3: -0.51\n",
      "\n"
     ]
    }
   ],
   "source": [
    "import random as r\n",
    "import matplotlib.pyplot as plt\n",
    "\n",
    "def cov(x, y):\n",
    "    return ((x - x.mean()) * (y - y.mean())).sum()/(x.size - 1)\n",
    "\n",
    "def cor(x, y):\n",
    "    return cov(x, y)/(np.std(x, ddof = 1)*np.std(y, ddof = 1))\n",
    "\n",
    "# p - показатель случайности фактора\n",
    "def randomize(arr, p):\n",
    "    alpha = np.max(arr) - np.min(arr)\n",
    "    res = np.zeros(arr.shape)\n",
    "    for i, value in enumerate(arr):\n",
    "        sign = 1 if r.choice([True, False]) else -1\n",
    "        res[i] = sign*alpha*r.random()*p - value\n",
    "    return res\n",
    "\n",
    "x = np.array(range(20))\n",
    "y1 = randomize(x, 0.1)\n",
    "y2 = randomize(x, 0.5)\n",
    "y3 = randomize(x, 0.9)\n",
    "\n",
    "fig, (ax1, ax2, ax3) = plt.subplots(3, 1, figsize = (8, 16))\n",
    "ax1.scatter(x, y1)\n",
    "ax2.scatter(x, y2)\n",
    "ax3.scatter(x, y3)\n",
    "\n",
    "ax1.set_title('Высокая корреляция')\n",
    "ax2.set_title('Средняя корреляция')\n",
    "ax3.set_title('Низкая корреляция')\n",
    "\n",
    "plt.show()\n",
    "\n",
    "print(f'''\n",
    "cov1: {cov(x, y1):.2f}\n",
    "cov2: {cov(x, y2):.2f}\n",
    "cov3: {cov(x, y3):.2f}\n",
    "\n",
    "cor1: {cor(x, y1):.2f}\n",
    "cor2: {cor(x, y2):.2f}\n",
    "cor3: {cor(x, y3):.2f}\n",
    "''')"
   ]
  },
  {
   "cell_type": "markdown",
   "id": "f02666f1",
   "metadata": {},
   "source": [
    "### Регрессия с одной независимой переменной"
   ]
  },
  {
   "cell_type": "code",
   "execution_count": 60,
   "id": "7f2fc4e2",
   "metadata": {
    "scrolled": true
   },
   "outputs": [
    {
     "data": {
      "image/png": "[encoded data removed]",
      "text/plain": [
       "<Figure size 432x288 with 1 Axes>"
      ]
     },
     "metadata": {
      "needs_background": "light"
     },
     "output_type": "display_data"
    }
   ],
   "source": [
    "# Метод наименьших квадратов\n",
    "b1 = y1.std()/x.std()*cor(x, y1)\n",
    "b0 = y1.mean() - b1*x.mean()\n",
    "f = lambda x: b0 + b1*x\n",
    "y = f(x)\n",
    "plt.scatter(x, y1)\n",
    "plt.plot(x, y, color='r')\n",
    "plt.show()\n"
   ]
  },
  {
   "cell_type": "markdown",
   "id": "0b0bebe5",
   "metadata": {},
   "source": [
    "### Регрессионный анализ на данных"
   ]
  },
  {
   "cell_type": "code",
   "execution_count": 421,
   "id": "f839906e",
   "metadata": {},
   "outputs": [
    {
     "data": {
      "text/html": [
       "<div>\n",
       "<style scoped>\n",
       "    .dataframe tbody tr th:only-of-type {\n",
       "        vertical-align: middle;\n",
       "    }\n",
       "\n",
       "    .dataframe tbody tr th {\n",
       "        vertical-align: top;\n",
       "    }\n",
       "\n",
       "    .dataframe thead th {\n",
       "        text-align: right;\n",
       "    }\n",
       "</style>\n",
       "<table border=\"1\" class=\"dataframe\">\n",
       "  <thead>\n",
       "    <tr style=\"text-align: right;\">\n",
       "      <th></th>\n",
       "      <th>state</th>\n",
       "      <th>metro_res</th>\n",
       "      <th>white</th>\n",
       "      <th>hs_grad</th>\n",
       "      <th>poverty</th>\n",
       "      <th>female_house</th>\n",
       "    </tr>\n",
       "  </thead>\n",
       "  <tbody>\n",
       "    <tr>\n",
       "      <th>0</th>\n",
       "      <td>Alabama</td>\n",
       "      <td>55.4</td>\n",
       "      <td>71.3</td>\n",
       "      <td>79.9</td>\n",
       "      <td>14.6</td>\n",
       "      <td>14.2</td>\n",
       "    </tr>\n",
       "    <tr>\n",
       "      <th>1</th>\n",
       "      <td>Alaska</td>\n",
       "      <td>65.6</td>\n",
       "      <td>70.8</td>\n",
       "      <td>90.6</td>\n",
       "      <td>8.3</td>\n",
       "      <td>10.8</td>\n",
       "    </tr>\n",
       "    <tr>\n",
       "      <th>2</th>\n",
       "      <td>Arizona</td>\n",
       "      <td>88.2</td>\n",
       "      <td>87.7</td>\n",
       "      <td>83.8</td>\n",
       "      <td>13.3</td>\n",
       "      <td>11.1</td>\n",
       "    </tr>\n",
       "    <tr>\n",
       "      <th>3</th>\n",
       "      <td>Arkansas</td>\n",
       "      <td>52.5</td>\n",
       "      <td>81.0</td>\n",
       "      <td>80.9</td>\n",
       "      <td>18.0</td>\n",
       "      <td>12.1</td>\n",
       "    </tr>\n",
       "    <tr>\n",
       "      <th>4</th>\n",
       "      <td>California</td>\n",
       "      <td>94.4</td>\n",
       "      <td>77.5</td>\n",
       "      <td>81.1</td>\n",
       "      <td>12.8</td>\n",
       "      <td>12.6</td>\n",
       "    </tr>\n",
       "  </tbody>\n",
       "</table>\n",
       "</div>"
      ],
      "text/plain": [
       "        state  metro_res  white  hs_grad  poverty  female_house\n",
       "0     Alabama       55.4   71.3     79.9     14.6          14.2\n",
       "1      Alaska       65.6   70.8     90.6      8.3          10.8\n",
       "2     Arizona       88.2   87.7     83.8     13.3          11.1\n",
       "3    Arkansas       52.5   81.0     80.9     18.0          12.1\n",
       "4  California       94.4   77.5     81.1     12.8          12.6"
      ]
     },
     "execution_count": 421,
     "metadata": {},
     "output_type": "execute_result"
    }
   ],
   "source": [
    "import numpy as np\n",
    "import pandas as pd\n",
    "import matplotlib.pyplot as plt\n",
    "import seaborn as sb\n",
    "df = pd.read_csv('states.csv')\n",
    "df.head()"
   ]
  },
  {
   "cell_type": "code",
   "execution_count": 422,
   "id": "f7df2b5d",
   "metadata": {},
   "outputs": [
    {
     "data": {
      "text/html": [
       "<div>\n",
       "<style scoped>\n",
       "    .dataframe tbody tr th:only-of-type {\n",
       "        vertical-align: middle;\n",
       "    }\n",
       "\n",
       "    .dataframe tbody tr th {\n",
       "        vertical-align: top;\n",
       "    }\n",
       "\n",
       "    .dataframe thead th {\n",
       "        text-align: right;\n",
       "    }\n",
       "</style>\n",
       "<table border=\"1\" class=\"dataframe\">\n",
       "  <thead>\n",
       "    <tr style=\"text-align: right;\">\n",
       "      <th></th>\n",
       "      <th>count</th>\n",
       "      <th>mean</th>\n",
       "      <th>std</th>\n",
       "      <th>min</th>\n",
       "      <th>25%</th>\n",
       "      <th>50%</th>\n",
       "      <th>75%</th>\n",
       "      <th>max</th>\n",
       "    </tr>\n",
       "  </thead>\n",
       "  <tbody>\n",
       "    <tr>\n",
       "      <th>metro_res</th>\n",
       "      <td>51.0</td>\n",
       "      <td>72.249020</td>\n",
       "      <td>15.275894</td>\n",
       "      <td>38.2</td>\n",
       "      <td>60.80</td>\n",
       "      <td>71.6</td>\n",
       "      <td>86.80</td>\n",
       "      <td>100.0</td>\n",
       "    </tr>\n",
       "    <tr>\n",
       "      <th>white</th>\n",
       "      <td>51.0</td>\n",
       "      <td>81.719608</td>\n",
       "      <td>13.897223</td>\n",
       "      <td>25.9</td>\n",
       "      <td>76.80</td>\n",
       "      <td>85.4</td>\n",
       "      <td>90.25</td>\n",
       "      <td>97.1</td>\n",
       "    </tr>\n",
       "    <tr>\n",
       "      <th>hs_grad</th>\n",
       "      <td>51.0</td>\n",
       "      <td>86.011765</td>\n",
       "      <td>3.725998</td>\n",
       "      <td>77.2</td>\n",
       "      <td>83.30</td>\n",
       "      <td>86.9</td>\n",
       "      <td>88.70</td>\n",
       "      <td>92.1</td>\n",
       "    </tr>\n",
       "    <tr>\n",
       "      <th>poverty</th>\n",
       "      <td>51.0</td>\n",
       "      <td>11.349020</td>\n",
       "      <td>3.099185</td>\n",
       "      <td>5.6</td>\n",
       "      <td>9.25</td>\n",
       "      <td>10.6</td>\n",
       "      <td>13.40</td>\n",
       "      <td>18.0</td>\n",
       "    </tr>\n",
       "    <tr>\n",
       "      <th>female_house</th>\n",
       "      <td>51.0</td>\n",
       "      <td>11.633333</td>\n",
       "      <td>2.356155</td>\n",
       "      <td>7.8</td>\n",
       "      <td>9.55</td>\n",
       "      <td>11.8</td>\n",
       "      <td>12.65</td>\n",
       "      <td>18.9</td>\n",
       "    </tr>\n",
       "  </tbody>\n",
       "</table>\n",
       "</div>"
      ],
      "text/plain": [
       "              count       mean        std   min    25%   50%    75%    max\n",
       "metro_res      51.0  72.249020  15.275894  38.2  60.80  71.6  86.80  100.0\n",
       "white          51.0  81.719608  13.897223  25.9  76.80  85.4  90.25   97.1\n",
       "hs_grad        51.0  86.011765   3.725998  77.2  83.30  86.9  88.70   92.1\n",
       "poverty        51.0  11.349020   3.099185   5.6   9.25  10.6  13.40   18.0\n",
       "female_house   51.0  11.633333   2.356155   7.8   9.55  11.8  12.65   18.9"
      ]
     },
     "execution_count": 422,
     "metadata": {},
     "output_type": "execute_result"
    }
   ],
   "source": [
    "df.describe().T"
   ]
  },
  {
   "cell_type": "code",
   "execution_count": 423,
   "id": "1ae6ff04",
   "metadata": {},
   "outputs": [
    {
     "data": {
      "text/plain": [
       "<seaborn.axisgrid.JointGrid at 0x224de395910>"
      ]
     },
     "execution_count": 423,
     "metadata": {},
     "output_type": "execute_result"
    },
    {
     "data": {
      "image/png": "[encoded data removed]",
      "text/plain": [
       "<Figure size 432x432 with 3 Axes>"
      ]
     },
     "metadata": {
      "needs_background": "light"
     },
     "output_type": "display_data"
    }
   ],
   "source": [
    "sb.jointplot(data = df, x = 'hs_grad', y = 'poverty', kind = 'reg', color='#2CA02C')"
   ]
  },
  {
   "cell_type": "code",
   "execution_count": 424,
   "id": "59b02dcd",
   "metadata": {
    "scrolled": true
   },
   "outputs": [
    {
     "data": {
      "image/png": "[encoded data removed]",
      "text/plain": [
       "<Figure size 432x288 with 1 Axes>"
      ]
     },
     "metadata": {
      "needs_background": "light"
     },
     "output_type": "display_data"
    }
   ],
   "source": [
    "# Строим модель\n",
    "from scipy.stats import linregress\n",
    "\n",
    "slope, intercept, r_value, p_value, se = linregress(df['hs_grad'], df['poverty'])\n",
    "\n",
    "x = np.linspace(df['hs_grad'].min(), df['hs_grad'].max(), num = 51)\n",
    "\n",
    "reg = lambda x: intercept + slope * x\n",
    "fig, ax = plt.subplots(1, 1)\n",
    "ax.set_xlabel('hs_grad %')\n",
    "ax.set_ylabel('poverty %')\n",
    "plt.scatter(data = df, x = 'hs_grad', y = 'poverty', label = 'data')\n",
    "plt.title('Linear Regression')\n",
    "plt.plot(x, reg(x), color = 'r', label = 'fitted line')\n",
    "plt.legend()\n",
    "plt.show()"
   ]
  },
  {
   "cell_type": "code",
   "execution_count": 425,
   "id": "7935b35a",
   "metadata": {},
   "outputs": [
    {
     "name": "stdout",
     "output_type": "stream",
     "text": [
      "\n",
      "slope = -0.62\n",
      "intercept = 64.78\n",
      "r_value = -0.75\n",
      "R squared = 0.56\n",
      "p_value = 0.00000\n",
      "se = 0.079\n",
      "\n"
     ]
    }
   ],
   "source": [
    "print(f'''\n",
    "slope = {slope:.2f}\n",
    "intercept = {intercept:.2f}\n",
    "r_value = {r_value:.2f}\n",
    "R squared = {(r_value ** 2):.2f}\n",
    "p_value = {p_value:.5f}\n",
    "se = {se:.3f}\n",
    "''')"
   ]
  },
  {
   "cell_type": "code",
   "execution_count": 426,
   "id": "65979144",
   "metadata": {},
   "outputs": [
    {
     "data": {
      "image/png": "[encoded data removed]",
      "text/plain": [
       "<Figure size 720x720 with 2 Axes>"
      ]
     },
     "metadata": {
      "needs_background": "light"
     },
     "output_type": "display_data"
    }
   ],
   "source": [
    "import scipy as sp\n",
    "fig, (ax1, ax2) = plt.subplots(2,1, figsize = (10, 10))\n",
    "plt.subplots_adjust(hspace=0.3)\n",
    "coordinates = (df['hs_grad'].values, df['poverty'].values)\n",
    "residuals = coordinates[1] - reg(coordinates[0])\n",
    "ax1.scatter(coordinates[0], residuals)\n",
    "                                 \n",
    "func = lambda x: 0*x\n",
    "ax1.plot(x, func(x), '--', color = 'r')\n",
    "ax1.set_title('Анализ остатков', fontsize = 20)\n",
    "ax1.set_xlabel('hs_grad %', fontsize = 12)\n",
    "\n",
    "sp.stats.probplot(residuals, plot = ax2)\n",
    "ax2.set_title('QQ-plot', fontsize = 20)\n",
    "plt.show()\n"
   ]
  },
  {
   "cell_type": "code",
   "execution_count": 427,
   "id": "f441bb85",
   "metadata": {},
   "outputs": [
    {
     "data": {
      "image/png": "[encoded data removed]",
      "text/plain": [
       "<Figure size 432x648 with 2 Axes>"
      ]
     },
     "metadata": {
      "needs_background": "light"
     },
     "output_type": "display_data"
    }
   ],
   "source": [
    "import pandas as pd\n",
    "import numpy as np\n",
    "import matplotlib.pyplot as plt\n",
    "import statsmodels.formula.api as sm\n",
    "import statsmodels.api as sma\n",
    "\n",
    "# получаем данные и вычисляем коэффициэнты регрессионной модели\n",
    "data=pd.read_csv('states.csv', sep=',')\n",
    "intercept, slope = sm.ols(formula=\"poverty ~ hs_grad\", data=data).fit().params\n",
    "X = data['hs_grad']\n",
    "Y = data['poverty']\n",
    "\n",
    "# вычисляем остатки - на сколько Y далека от теоретической модели\n",
    "residuals = Y - intercept - slope*X\n",
    "x1=np.linspace(min(X),max(X),len(X))\n",
    "\n",
    "# создаем графики\n",
    "fig, (ax1,ax2) = plt.subplots(nrows=2, ncols=1, figsize=(6, 9))\n",
    "# scatter plot\n",
    "ax1.scatter(X,residuals)\n",
    "ax1.plot(x1,[0]*len(x1),'--r')\n",
    "# Q-Q plot\n",
    "sma.qqplot(residuals, line='s', ax = ax2)\n",
    "\n",
    "ax1.grid()\n",
    "ax1.set_title('Анализ остатков')\n",
    "ax1.set_xlabel('Среднее образование (%)')\n",
    "ax1.set_ylabel('Остатки')\n",
    "ax1.set_xticks(np.arange(76,93, step=4))\n",
    "ax1.set_yticks(np.arange(-5,6, step=2.5))\n",
    "\n",
    "ax2.set_title('QQ-Plot')\n",
    "\n",
    "fig.tight_layout(pad=3.0)\n",
    "plt.show()"
   ]
  },
  {
   "cell_type": "markdown",
   "id": "31f7718a",
   "metadata": {},
   "source": [
    "### Регрессионный анализ с несколькими независимыми переменными"
   ]
  },
  {
   "cell_type": "code",
   "execution_count": 1465,
   "id": "b7ece5c0",
   "metadata": {
    "scrolled": false
   },
   "outputs": [
    {
     "data": {
      "application/vnd.plotly.v1+json": {
       "config": {
        "plotlyServerURL": "https://plot.ly"
       },
       "data": [
        {
         "hovertemplate": "poverty_pred=False<br>white=%{x}<br>hs_grad=%{y}<br>poverty=%{z}<extra></extra>",
         "legendgroup": "False",
         "marker": {
          "color": "red",
          "size": 3,
          "symbol": "circle"
         },
         "mode": "markers",
         "name": "False",
         "scene": "scene",
         "showlegend": true,
         "type": "scatter3d",
         "x": [
          71.3,
          70.8,
          77.5,
          90.2,
          85.4,
          76.3,
          80.6,
          67.5,
          25.9,
          79.5,
          88.9,
          94.9,
          89.3,
          65.6,
          87.2,
          81.5,
          90.2,
          85.3,
          84.1,
          96.3,
          77.3,
          74.1,
          85.4,
          86.4,
          89.2,
          67.7,
          80.8,
          83.6,
          73.9,
          90.1
         ],
         "y": [
          79.9,
          90.6,
          81.1,
          88.7,
          87.5,
          88.7,
          84.7,
          85.1,
          88.5,
          85.9,
          86.4,
          89.7,
          88.6,
          87.6,
          87.1,
          87.6,
          91.6,
          88.3,
          85.6,
          92.1,
          86.2,
          81.4,
          87.2,
          86,
          81,
          80.8,
          81,
          77.2,
          87.8,
          88.6
         ],
         "z": [
          14.6,
          8.3,
          12.8,
          9.4,
          7.8,
          8.1,
          12.1,
          12.1,
          10.6,
          11.2,
          8.7,
          8.3,
          9.4,
          7.3,
          9.6,
          10.3,
          6.5,
          9.6,
          8.3,
          5.6,
          7.8,
          13.1,
          10.1,
          9.2,
          10.3,
          13.5,
          14.2,
          15.3,
          8.7,
          8.6
         ]
        },
        {
         "hovertemplate": "poverty_pred=True<br>white=%{x}<br>hs_grad=%{y}<br>poverty=%{z}<extra></extra>",
         "legendgroup": "True",
         "marker": {
          "color": "green",
          "size": 3,
          "symbol": "circle"
         },
         "mode": "markers",
         "name": "True",
         "scene": "scene",
         "showlegend": true,
         "type": "scatter3d",
         "x": [
          87.7,
          81,
          36.2,
          95.5,
          90.3,
          64.2,
          97.1,
          61.2,
          90.9,
          92.1,
          84.9,
          73.6,
          92.5,
          78.4,
          90.8,
          88.8,
          93.6,
          96.9,
          85.5,
          95,
          94.7
         ],
         "y": [
          83.8,
          80.9,
          86,
          88.2,
          82.8,
          79.8,
          86.6,
          81.2,
          90.1,
          90.8,
          81.7,
          84.2,
          89.7,
          85.7,
          86.9,
          88.7,
          89.4,
          88.9,
          89.1,
          78.7,
          90.9
         ],
         "z": [
          13.3,
          18,
          16.8,
          11.8,
          13.1,
          17,
          11.3,
          17.6,
          13.7,
          9.5,
          17.8,
          14,
          11.9,
          14.7,
          11.2,
          10.2,
          9.3,
          9.9,
          10.8,
          16,
          9.5
         ]
        },
        {
         "colorscale": [
          [
           0,
           "rgb(243, 231, 155)"
          ],
          [
           0.16666666666666666,
           "rgb(250, 196, 132)"
          ],
          [
           0.3333333333333333,
           "rgb(248, 160, 126)"
          ],
          [
           0.5,
           "rgb(235, 127, 134)"
          ],
          [
           0.6666666666666666,
           "rgb(206, 102, 147)"
          ],
          [
           0.8333333333333334,
           "rgb(160, 89, 160)"
          ],
          [
           1,
           "rgb(92, 83, 165)"
          ]
         ],
         "name": "prediction",
         "opacity": 0.8,
         "type": "surface",
         "x": [
          23.9,
          24.9,
          25.9,
          26.9,
          27.9,
          28.9,
          29.9,
          30.9,
          31.9,
          32.9,
          33.9,
          34.9,
          35.9,
          36.9,
          37.9,
          38.9,
          39.9,
          40.9,
          41.9,
          42.9,
          43.9,
          44.9,
          45.9,
          46.9,
          47.9,
          48.9,
          49.9,
          50.9,
          51.9,
          52.9,
          53.9,
          54.9,
          55.9,
          56.9,
          57.9,
          58.9,
          59.9,
          60.9,
          61.9,
          62.9,
          63.9,
          64.9,
          65.9,
          66.9,
          67.9,
          68.9,
          69.9,
          70.9,
          71.9,
          72.9,
          73.9,
          74.9,
          75.9,
          76.9,
          77.9,
          78.9,
          79.9,
          80.9,
          81.9,
          82.9,
          83.9,
          84.9,
          85.9,
          86.9,
          87.9,
          88.9,
          89.9,
          90.9,
          91.9,
          92.9,
          93.9,
          94.9,
          95.9,
          96.9,
          97.9,
          98.9
         ],
         "y": [
          75.2,
          76.2,
          77.2,
          78.2,
          79.2,
          80.2,
          81.2,
          82.2,
          83.2,
          84.2,
          85.2,
          86.2,
          87.2,
          88.2,
          89.2,
          90.2,
          91.2,
          92.2,
          93.2
         ],
         "z": [
          [
           19.554764392496978,
           19.52387626122706,
           19.492988129957155,
           19.46209999868725,
           19.431211867417332,
           19.400323736147428,
           19.369435604877523,
           19.338547473607605,
           19.3076593423377,
           19.27677121106779,
           19.245883079797878,
           19.214994948527973,
           19.184106817258062,
           19.15321868598815,
           19.122330554718246,
           19.091442423448335,
           19.060554292178423,
           19.02966616090852,
           18.998778029638608,
           18.967889898368696,
           18.937001767098792,
           18.90611363582888,
           18.87522550455897,
           18.844337373289065,
           18.813449242019153,
           18.782561110749242,
           18.751672979479338,
           18.720784848209426,
           18.689896716939515,
           18.659008585669604,
           18.6281204543997,
           18.597232323129788,
           18.566344191859876,
           18.535456060589972,
           18.50456792932006,
           18.47367979805015,
           18.442791666780245,
           18.411903535510334,
           18.381015404240422,
           18.350127272970518,
           18.319239141700606,
           18.288351010430695,
           18.257462879160784,
           18.22657474789088,
           18.195686616620968,
           18.164798485351056,
           18.133910354081152,
           18.10302222281124,
           18.07213409154133,
           18.041245960271425,
           18.010357829001514,
           17.979469697731602,
           17.948581566461698,
           17.917693435191786,
           17.886805303921875,
           17.85591717265197,
           17.82502904138206,
           17.794140910112148,
           17.763252778842244,
           17.732364647572332,
           17.70147651630242,
           17.670588385032516,
           17.639700253762605,
           17.608812122492694,
           17.57792399122279,
           17.547035859952878,
           17.516147728682967,
           17.485259597413055,
           17.45437146614315,
           17.42348333487324,
           17.392595203603328,
           17.361707072333424,
           17.330818941063512,
           17.2999308097936,
           17.269042678523697,
           17.238154547253785
          ],
          [
           18.960984808658324,
           18.930096677388406,
           18.8992085461185,
           18.868320414848597,
           18.83743228357868,
           18.806544152308774,
           18.77565602103887,
           18.74476788976895,
           18.713879758499047,
           18.682991627229136,
           18.652103495959224,
           18.62121536468932,
           18.59032723341941,
           18.559439102149497,
           18.528550970879593,
           18.49766283960968,
           18.46677470833977,
           18.435886577069866,
           18.404998445799954,
           18.374110314530043,
           18.34322218326014,
           18.312334051990227,
           18.281445920720316,
           18.25055778945041,
           18.2196696581805,
           18.18878152691059,
           18.157893395640684,
           18.127005264370773,
           18.09611713310086,
           18.06522900183095,
           18.034340870561046,
           18.003452739291134,
           17.972564608021223,
           17.94167647675132,
           17.910788345481407,
           17.879900214211496,
           17.84901208294159,
           17.81812395167168,
           17.78723582040177,
           17.756347689131864,
           17.725459557861953,
           17.69457142659204,
           17.66368329532213,
           17.632795164052226,
           17.601907032782314,
           17.571018901512403,
           17.5401307702425,
           17.509242638972587,
           17.478354507702676,
           17.44746637643277,
           17.41657824516286,
           17.38569011389295,
           17.354801982623044,
           17.323913851353133,
           17.29302572008322,
           17.262137588813317,
           17.231249457543406,
           17.200361326273494,
           17.16947319500359,
           17.13858506373368,
           17.107696932463767,
           17.076808801193863,
           17.04592066992395,
           17.01503253865404,
           16.984144407384136,
           16.953256276114224,
           16.922368144844313,
           16.8914800135744,
           16.860591882304497,
           16.829703751034586,
           16.798815619764675,
           16.76792748849477,
           16.73703935722486,
           16.706151225954947,
           16.675263094685043,
           16.64437496341513
          ],
          [
           18.367205224819664,
           18.336317093549745,
           18.30542896227984,
           18.274540831009936,
           18.243652699740018,
           18.212764568470114,
           18.18187643720021,
           18.15098830593029,
           18.120100174660386,
           18.089212043390475,
           18.058323912120564,
           18.02743578085066,
           17.996547649580748,
           17.965659518310837,
           17.934771387040932,
           17.90388325577102,
           17.87299512450111,
           17.842106993231205,
           17.811218861961294,
           17.780330730691382,
           17.749442599421478,
           17.718554468151567,
           17.687666336881655,
           17.65677820561175,
           17.62589007434184,
           17.595001943071928,
           17.564113811802024,
           17.533225680532112,
           17.5023375492622,
           17.47144941799229,
           17.440561286722385,
           17.409673155452474,
           17.378785024182562,
           17.347896892912658,
           17.317008761642747,
           17.286120630372835,
           17.25523249910293,
           17.22434436783302,
           17.193456236563108,
           17.162568105293204,
           17.131679974023292,
           17.10079184275338,
           17.06990371148347,
           17.039015580213565,
           17.008127448943654,
           16.977239317673742,
           16.946351186403838,
           16.915463055133927,
           16.884574923864015,
           16.85368679259411,
           16.8227986613242,
           16.791910530054288,
           16.761022398784384,
           16.730134267514472,
           16.69924613624456,
           16.668358004974657,
           16.637469873704745,
           16.606581742434834,
           16.57569361116493,
           16.544805479895018,
           16.513917348625107,
           16.483029217355202,
           16.45214108608529,
           16.42125295481538,
           16.390364823545475,
           16.359476692275564,
           16.328588561005652,
           16.29770042973574,
           16.266812298465837,
           16.235924167195925,
           16.205036035926014,
           16.17414790465611,
           16.143259773386198,
           16.112371642116287,
           16.081483510846383,
           16.05059537957647
          ],
          [
           17.773425640981003,
           17.742537509711084,
           17.71164937844118,
           17.680761247171276,
           17.649873115901357,
           17.618984984631453,
           17.58809685336155,
           17.55720872209163,
           17.526320590821726,
           17.495432459551814,
           17.464544328281903,
           17.433656197012,
           17.402768065742087,
           17.371879934472176,
           17.34099180320227,
           17.31010367193236,
           17.27921554066245,
           17.248327409392544,
           17.217439278122633,
           17.18655114685272,
           17.155663015582817,
           17.124774884312906,
           17.093886753042995,
           17.06299862177309,
           17.03211049050318,
           17.001222359233267,
           16.970334227963363,
           16.93944609669345,
           16.90855796542354,
           16.87766983415363,
           16.846781702883725,
           16.815893571613813,
           16.7850054403439,
           16.754117309073997,
           16.723229177804086,
           16.692341046534175,
           16.66145291526427,
           16.63056478399436,
           16.599676652724447,
           16.568788521454543,
           16.53790039018463,
           16.50701225891472,
           16.47612412764481,
           16.445235996374905,
           16.414347865104993,
           16.383459733835082,
           16.352571602565177,
           16.321683471295266,
           16.290795340025355,
           16.25990720875545,
           16.22901907748554,
           16.198130946215628,
           16.167242814945723,
           16.136354683675812,
           16.1054665524059,
           16.074578421135996,
           16.043690289866085,
           16.012802158596173,
           15.981914027326269,
           15.951025896056358,
           15.920137764786446,
           15.889249633516542,
           15.85836150224663,
           15.827473370976719,
           15.796585239706815,
           15.765697108436903,
           15.734808977166992,
           15.70392084589708,
           15.673032714627176,
           15.642144583357265,
           15.611256452087353,
           15.580368320817449,
           15.549480189547538,
           15.518592058277626,
           15.487703927007722,
           15.45681579573781
          ],
          [
           17.179646057142342,
           17.148757925872424,
           17.11786979460252,
           17.086981663332615,
           17.056093532062697,
           17.025205400792792,
           16.994317269522888,
           16.96342913825297,
           16.932541006983065,
           16.901652875713154,
           16.870764744443242,
           16.839876613173338,
           16.808988481903427,
           16.778100350633515,
           16.74721221936361,
           16.7163240880937,
           16.685435956823788,
           16.654547825553884,
           16.623659694283972,
           16.59277156301406,
           16.561883431744157,
           16.530995300474245,
           16.500107169204334,
           16.46921903793443,
           16.43833090666452,
           16.407442775394607,
           16.376554644124703,
           16.34566651285479,
           16.31477838158488,
           16.28389025031497,
           16.253002119045064,
           16.222113987775153,
           16.19122585650524,
           16.160337725235337,
           16.129449593965425,
           16.098561462695514,
           16.06767333142561,
           16.0367852001557,
           16.005897068885787,
           15.975008937615883,
           15.944120806345971,
           15.91323267507606,
           15.882344543806148,
           15.851456412536244,
           15.820568281266333,
           15.789680149996421,
           15.758792018726517,
           15.727903887456606,
           15.697015756186694,
           15.66612762491679,
           15.635239493646878,
           15.604351362376967,
           15.573463231107063,
           15.542575099837151,
           15.51168696856724,
           15.480798837297336,
           15.449910706027424,
           15.419022574757513,
           15.388134443487608,
           15.357246312217697,
           15.326358180947786,
           15.295470049677881,
           15.26458191840797,
           15.233693787138058,
           15.202805655868154,
           15.171917524598243,
           15.141029393328331,
           15.11014126205842,
           15.079253130788516,
           15.048364999518604,
           15.017476868248693,
           14.986588736978788,
           14.955700605708877,
           14.924812474438966,
           14.893924343169061,
           14.86303621189915
          ],
          [
           16.585866473303682,
           16.554978342033763,
           16.52409021076386,
           16.493202079493955,
           16.462313948224036,
           16.431425816954132,
           16.400537685684228,
           16.36964955441431,
           16.338761423144405,
           16.307873291874493,
           16.276985160604582,
           16.246097029334678,
           16.215208898064766,
           16.184320766794855,
           16.15343263552495,
           16.12254450425504,
           16.091656372985128,
           16.060768241715223,
           16.029880110445312,
           15.9989919791754,
           15.968103847905496,
           15.937215716635585,
           15.906327585365673,
           15.875439454095769,
           15.844551322825858,
           15.813663191555946,
           15.782775060286042,
           15.75188692901613,
           15.720998797746219,
           15.690110666476308,
           15.659222535206403,
           15.628334403936492,
           15.59744627266658,
           15.566558141396676,
           15.535670010126765,
           15.504781878856853,
           15.47389374758695,
           15.443005616317038,
           15.412117485047126,
           15.381229353777222,
           15.35034122250731,
           15.3194530912374,
           15.288564959967488,
           15.257676828697583,
           15.226788697427672,
           15.19590056615776,
           15.165012434887856,
           15.134124303617945,
           15.103236172348034,
           15.07234804107813,
           15.041459909808218,
           15.010571778538306,
           14.979683647268402,
           14.94879551599849,
           14.91790738472858,
           14.887019253458675,
           14.856131122188764,
           14.825242990918852,
           14.794354859648948,
           14.763466728379036,
           14.732578597109125,
           14.70169046583922,
           14.67080233456931,
           14.639914203299398,
           14.609026072029494,
           14.578137940759582,
           14.54724980948967,
           14.51636167821976,
           14.485473546949855,
           14.454585415679944,
           14.423697284410032,
           14.392809153140128,
           14.361921021870216,
           14.331032890600305,
           14.3001447593304,
           14.26925662806049
          ],
          [
           15.992086889465021,
           15.961198758195103,
           15.930310626925198,
           15.899422495655294,
           15.868534364385376,
           15.837646233115471,
           15.806758101845567,
           15.775869970575648,
           15.744981839305744,
           15.714093708035833,
           15.683205576765921,
           15.652317445496017,
           15.621429314226106,
           15.590541182956194,
           15.55965305168629,
           15.528764920416378,
           15.497876789146467,
           15.466988657876563,
           15.436100526606651,
           15.40521239533674,
           15.374324264066836,
           15.343436132796924,
           15.312548001527013,
           15.281659870257108,
           15.250771738987197,
           15.219883607717286,
           15.188995476447381,
           15.15810734517747,
           15.127219213907559,
           15.096331082637647,
           15.065442951367743,
           15.034554820097831,
           15.00366668882792,
           14.972778557558016,
           14.941890426288104,
           14.911002295018193,
           14.880114163748289,
           14.849226032478377,
           14.818337901208466,
           14.787449769938561,
           14.75656163866865,
           14.725673507398739,
           14.694785376128827,
           14.663897244858923,
           14.633009113589011,
           14.6021209823191,
           14.571232851049196,
           14.540344719779284,
           14.509456588509373,
           14.478568457239469,
           14.447680325969557,
           14.416792194699646,
           14.385904063429741,
           14.35501593215983,
           14.324127800889919,
           14.293239669620014,
           14.262351538350103,
           14.231463407080192,
           14.200575275810287,
           14.169687144540376,
           14.138799013270464,
           14.10791088200056,
           14.077022750730649,
           14.046134619460737,
           14.015246488190833,
           13.984358356920922,
           13.95347022565101,
           13.922582094381099,
           13.891693963111194,
           13.860805831841283,
           13.829917700571372,
           13.799029569301467,
           13.768141438031556,
           13.737253306761644,
           13.70636517549174,
           13.675477044221829
          ],
          [
           15.39830730562636,
           15.367419174356442,
           15.336531043086538,
           15.305642911816634,
           15.274754780546715,
           15.24386664927681,
           15.212978518006906,
           15.182090386736988,
           15.151202255467084,
           15.120314124197172,
           15.08942599292726,
           15.058537861657356,
           15.027649730387445,
           14.996761599117534,
           14.96587346784763,
           14.934985336577718,
           14.904097205307806,
           14.873209074037902,
           14.84232094276799,
           14.81143281149808,
           14.780544680228175,
           14.749656548958264,
           14.718768417688352,
           14.687880286418448,
           14.656992155148536,
           14.626104023878625,
           14.59521589260872,
           14.56432776133881,
           14.533439630068898,
           14.502551498798987,
           14.471663367529082,
           14.44077523625917,
           14.40988710498926,
           14.378998973719355,
           14.348110842449444,
           14.317222711179532,
           14.286334579909628,
           14.255446448639717,
           14.224558317369805,
           14.1936701860999,
           14.16278205482999,
           14.131893923560078,
           14.101005792290167,
           14.070117661020262,
           14.03922952975035,
           14.00834139848044,
           13.977453267210535,
           13.946565135940624,
           13.915677004670712,
           13.884788873400808,
           13.853900742130897,
           13.823012610860985,
           13.792124479591081,
           13.76123634832117,
           13.730348217051258,
           13.699460085781354,
           13.668571954511442,
           13.637683823241531,
           13.606795691971627,
           13.575907560701715,
           13.545019429431804,
           13.5141312981619,
           13.483243166891988,
           13.452355035622077,
           13.421466904352172,
           13.390578773082261,
           13.35969064181235,
           13.328802510542438,
           13.297914379272534,
           13.267026248002622,
           13.236138116732711,
           13.205249985462807,
           13.174361854192895,
           13.143473722922984,
           13.11258559165308,
           13.081697460383168
          ],
          [
           14.8045277217877,
           14.773639590517782,
           14.742751459247877,
           14.711863327977973,
           14.680975196708054,
           14.65008706543815,
           14.619198934168246,
           14.588310802898327,
           14.557422671628423,
           14.526534540358512,
           14.4956464090886,
           14.464758277818696,
           14.433870146548784,
           14.402982015278873,
           14.372093884008969,
           14.341205752739057,
           14.310317621469146,
           14.279429490199242,
           14.24854135892933,
           14.217653227659419,
           14.186765096389514,
           14.155876965119603,
           14.124988833849692,
           14.094100702579787,
           14.063212571309876,
           14.032324440039964,
           14.00143630877006,
           13.970548177500149,
           13.939660046230237,
           13.908771914960326,
           13.877883783690422,
           13.84699565242051,
           13.816107521150599,
           13.785219389880695,
           13.754331258610783,
           13.723443127340872,
           13.692554996070967,
           13.661666864801056,
           13.630778733531145,
           13.59989060226124,
           13.569002470991329,
           13.538114339721417,
           13.507226208451506,
           13.476338077181602,
           13.44544994591169,
           13.414561814641779,
           13.383673683371875,
           13.352785552101963,
           13.321897420832052,
           13.291009289562147,
           13.260121158292236,
           13.229233027022325,
           13.19834489575242,
           13.167456764482509,
           13.136568633212597,
           13.105680501942693,
           13.074792370672782,
           13.04390423940287,
           13.013016108132966,
           12.982127976863055,
           12.951239845593143,
           12.920351714323239,
           12.889463583053328,
           12.858575451783416,
           12.827687320513512,
           12.7967991892436,
           12.765911057973689,
           12.735022926703778,
           12.704134795433873,
           12.673246664163962,
           12.64235853289405,
           12.611470401624146,
           12.580582270354235,
           12.549694139084323,
           12.518806007814419,
           12.487917876544508
          ],
          [
           14.21074813794904,
           14.179860006679121,
           14.148971875409217,
           14.118083744139312,
           14.087195612869394,
           14.05630748159949,
           14.025419350329585,
           13.994531219059667,
           13.963643087789762,
           13.932754956519851,
           13.90186682524994,
           13.870978693980035,
           13.840090562710124,
           13.809202431440212,
           13.778314300170308,
           13.747426168900397,
           13.716538037630485,
           13.685649906360581,
           13.65476177509067,
           13.623873643820758,
           13.592985512550854,
           13.562097381280942,
           13.531209250011031,
           13.500321118741127,
           13.469432987471215,
           13.438544856201304,
           13.4076567249314,
           13.376768593661488,
           13.345880462391577,
           13.314992331121665,
           13.284104199851761,
           13.25321606858185,
           13.222327937311938,
           13.191439806042034,
           13.160551674772123,
           13.129663543502211,
           13.098775412232307,
           13.067887280962395,
           13.036999149692484,
           13.00611101842258,
           12.975222887152668,
           12.944334755882757,
           12.913446624612845,
           12.882558493342941,
           12.85167036207303,
           12.820782230803118,
           12.789894099533214,
           12.759005968263303,
           12.728117836993391,
           12.697229705723487,
           12.666341574453575,
           12.635453443183664,
           12.60456531191376,
           12.573677180643848,
           12.542789049373937,
           12.511900918104033,
           12.481012786834121,
           12.45012465556421,
           12.419236524294305,
           12.388348393024394,
           12.357460261754483,
           12.326572130484578,
           12.295683999214667,
           12.264795867944756,
           12.233907736674851,
           12.20301960540494,
           12.172131474135028,
           12.141243342865117,
           12.110355211595213,
           12.079467080325301,
           12.04857894905539,
           12.017690817785486,
           11.986802686515574,
           11.955914555245663,
           11.925026423975758,
           11.894138292705847
          ],
          [
           13.616968554110379,
           13.58608042284046,
           13.555192291570556,
           13.524304160300652,
           13.493416029030733,
           13.462527897760829,
           13.431639766490925,
           13.400751635221006,
           13.369863503951102,
           13.33897537268119,
           13.308087241411279,
           13.277199110141375,
           13.246310978871463,
           13.215422847601552,
           13.184534716331648,
           13.153646585061736,
           13.122758453791825,
           13.09187032252192,
           13.060982191252009,
           13.030094059982098,
           12.999205928712193,
           12.968317797442282,
           12.93742966617237,
           12.906541534902466,
           12.875653403632555,
           12.844765272362643,
           12.813877141092739,
           12.782989009822828,
           12.752100878552916,
           12.721212747283005,
           12.6903246160131,
           12.659436484743189,
           12.628548353473278,
           12.597660222203373,
           12.566772090933462,
           12.53588395966355,
           12.504995828393646,
           12.474107697123735,
           12.443219565853823,
           12.412331434583919,
           12.381443303314008,
           12.350555172044096,
           12.319667040774185,
           12.28877890950428,
           12.25789077823437,
           12.227002646964458,
           12.196114515694553,
           12.165226384424642,
           12.13433825315473,
           12.103450121884826,
           12.072561990614915,
           12.041673859345003,
           12.0107857280751,
           11.979897596805188,
           11.949009465535276,
           11.918121334265372,
           11.88723320299546,
           11.85634507172555,
           11.825456940455645,
           11.794568809185733,
           11.763680677915822,
           11.732792546645918,
           11.701904415376006,
           11.671016284106095,
           11.64012815283619,
           11.60924002156628,
           11.578351890296368,
           11.547463759026456,
           11.516575627756552,
           11.48568749648664,
           11.45479936521673,
           11.423911233946825,
           11.393023102676914,
           11.362134971407002,
           11.331246840137098,
           11.300358708867186
          ],
          [
           13.023188970271718,
           12.9923008390018,
           12.961412707731895,
           12.930524576461991,
           12.899636445192073,
           12.868748313922168,
           12.837860182652264,
           12.806972051382346,
           12.776083920112441,
           12.74519578884253,
           12.714307657572618,
           12.683419526302714,
           12.652531395032803,
           12.621643263762891,
           12.590755132492987,
           12.559867001223076,
           12.528978869953164,
           12.49809073868326,
           12.467202607413348,
           12.436314476143437,
           12.405426344873533,
           12.374538213603621,
           12.34365008233371,
           12.312761951063806,
           12.281873819793894,
           12.250985688523983,
           12.220097557254078,
           12.189209425984167,
           12.158321294714256,
           12.127433163444344,
           12.09654503217444,
           12.065656900904528,
           12.034768769634617,
           12.003880638364713,
           11.972992507094801,
           11.94210437582489,
           11.911216244554986,
           11.880328113285074,
           11.849439982015163,
           11.818551850745258,
           11.787663719475347,
           11.756775588205436,
           11.725887456935524,
           11.69499932566562,
           11.664111194395709,
           11.633223063125797,
           11.602334931855893,
           11.571446800585981,
           11.54055866931607,
           11.509670538046166,
           11.478782406776254,
           11.447894275506343,
           11.417006144236439,
           11.386118012966527,
           11.355229881696616,
           11.324341750426711,
           11.2934536191568,
           11.262565487886889,
           11.231677356616984,
           11.200789225347073,
           11.169901094077161,
           11.139012962807257,
           11.108124831537346,
           11.077236700267434,
           11.04634856899753,
           11.015460437727619,
           10.984572306457707,
           10.953684175187796,
           10.922796043917891,
           10.89190791264798,
           10.861019781378069,
           10.830131650108164,
           10.799243518838253,
           10.768355387568342,
           10.737467256298437,
           10.706579125028526
          ],
          [
           12.429409386433058,
           12.39852125516314,
           12.367633123893235,
           12.33674499262333,
           12.305856861353412,
           12.274968730083508,
           12.244080598813603,
           12.213192467543685,
           12.18230433627378,
           12.15141620500387,
           12.120528073733958,
           12.089639942464053,
           12.058751811194142,
           12.02786367992423,
           11.996975548654326,
           11.966087417384415,
           11.935199286114504,
           11.9043111548446,
           11.873423023574688,
           11.842534892304776,
           11.811646761034872,
           11.78075862976496,
           11.74987049849505,
           11.718982367225145,
           11.688094235955234,
           11.657206104685322,
           11.626317973415418,
           11.595429842145506,
           11.564541710875595,
           11.533653579605684,
           11.50276544833578,
           11.471877317065868,
           11.440989185795956,
           11.410101054526052,
           11.37921292325614,
           11.34832479198623,
           11.317436660716325,
           11.286548529446414,
           11.255660398176502,
           11.224772266906598,
           11.193884135636686,
           11.162996004366775,
           11.132107873096864,
           11.10121974182696,
           11.070331610557048,
           11.039443479287137,
           11.008555348017232,
           10.97766721674732,
           10.94677908547741,
           10.915890954207505,
           10.885002822937594,
           10.854114691667682,
           10.823226560397778,
           10.792338429127867,
           10.761450297857955,
           10.73056216658805,
           10.69967403531814,
           10.668785904048228,
           10.637897772778324,
           10.607009641508412,
           10.576121510238501,
           10.545233378968597,
           10.514345247698685,
           10.483457116428774,
           10.45256898515887,
           10.421680853888958,
           10.390792722619047,
           10.359904591349135,
           10.329016460079231,
           10.29812832880932,
           10.267240197539408,
           10.236352066269504,
           10.205463934999592,
           10.174575803729681,
           10.143687672459777,
           10.112799541189865
          ],
          [
           11.835629802594397,
           11.804741671324479,
           11.773853540054574,
           11.74296540878467,
           11.712077277514751,
           11.681189146244847,
           11.650301014974943,
           11.619412883705024,
           11.58852475243512,
           11.557636621165209,
           11.526748489895297,
           11.495860358625393,
           11.464972227355481,
           11.43408409608557,
           11.403195964815666,
           11.372307833545754,
           11.341419702275843,
           11.310531571005939,
           11.279643439736027,
           11.248755308466116,
           11.217867177196212,
           11.1869790459263,
           11.156090914656389,
           11.125202783386484,
           11.094314652116573,
           11.063426520846662,
           11.032538389576757,
           11.001650258306846,
           10.970762127036934,
           10.939873995767023,
           10.908985864497119,
           10.878097733227207,
           10.847209601957296,
           10.816321470687392,
           10.78543333941748,
           10.754545208147569,
           10.723657076877664,
           10.692768945607753,
           10.661880814337842,
           10.630992683067937,
           10.600104551798026,
           10.569216420528114,
           10.538328289258203,
           10.507440157988299,
           10.476552026718387,
           10.445663895448476,
           10.414775764178572,
           10.38388763290866,
           10.352999501638749,
           10.322111370368845,
           10.291223239098933,
           10.260335107829022,
           10.229446976559117,
           10.198558845289206,
           10.167670714019295,
           10.13678258274939,
           10.105894451479479,
           10.075006320209567,
           10.044118188939663,
           10.013230057669752,
           9.98234192639984,
           9.951453795129936,
           9.920565663860025,
           9.889677532590113,
           9.858789401320209,
           9.827901270050297,
           9.797013138780386,
           9.766125007510475,
           9.73523687624057,
           9.704348744970659,
           9.673460613700748,
           9.642572482430843,
           9.611684351160932,
           9.58079621989102,
           9.549908088621116,
           9.519019957351205
          ],
          [
           11.241850218755737,
           11.210962087485818,
           11.180073956215914,
           11.14918582494601,
           11.11829769367609,
           11.087409562406187,
           11.056521431136282,
           11.025633299866364,
           10.99474516859646,
           10.963857037326548,
           10.932968906056637,
           10.902080774786732,
           10.871192643516821,
           10.84030451224691,
           10.809416380977005,
           10.778528249707094,
           10.747640118437182,
           10.716751987167278,
           10.685863855897367,
           10.654975724627455,
           10.624087593357551,
           10.59319946208764,
           10.562311330817728,
           10.531423199547824,
           10.500535068277912,
           10.469646937008001,
           10.438758805738097,
           10.407870674468185,
           10.376982543198274,
           10.346094411928362,
           10.315206280658458,
           10.284318149388547,
           10.253430018118635,
           10.222541886848731,
           10.19165375557882,
           10.160765624308908,
           10.129877493039004,
           10.098989361769092,
           10.068101230499181,
           10.037213099229277,
           10.006324967959365,
           9.975436836689454,
           9.944548705419543,
           9.913660574149638,
           9.882772442879727,
           9.851884311609815,
           9.820996180339911,
           9.79010804907,
           9.759219917800088,
           9.728331786530184,
           9.697443655260273,
           9.666555523990361,
           9.635667392720457,
           9.604779261450545,
           9.573891130180634,
           9.54300299891073,
           9.512114867640818,
           9.481226736370907,
           9.450338605101003,
           9.419450473831091,
           9.38856234256118,
           9.357674211291275,
           9.326786080021364,
           9.295897948751453,
           9.265009817481548,
           9.234121686211637,
           9.203233554941725,
           9.172345423671814,
           9.14145729240191,
           9.110569161131998,
           9.079681029862087,
           9.048792898592183,
           9.017904767322271,
           8.98701663605236,
           8.956128504782455,
           8.925240373512544
          ],
          [
           10.648070634917076,
           10.617182503647157,
           10.586294372377253,
           10.555406241107349,
           10.52451810983743,
           10.493629978567526,
           10.462741847297622,
           10.431853716027703,
           10.400965584757799,
           10.370077453487887,
           10.339189322217976,
           10.308301190948072,
           10.27741305967816,
           10.246524928408249,
           10.215636797138345,
           10.184748665868433,
           10.153860534598522,
           10.122972403328617,
           10.092084272058706,
           10.061196140788795,
           10.03030800951889,
           9.999419878248979,
           9.968531746979068,
           9.937643615709163,
           9.906755484439252,
           9.87586735316934,
           9.844979221899436,
           9.814091090629525,
           9.783202959359613,
           9.752314828089702,
           9.721426696819798,
           9.690538565549886,
           9.659650434279975,
           9.62876230301007,
           9.597874171740159,
           9.566986040470248,
           9.536097909200343,
           9.505209777930432,
           9.47432164666052,
           9.443433515390616,
           9.412545384120705,
           9.381657252850793,
           9.350769121580882,
           9.319880990310978,
           9.288992859041066,
           9.258104727771155,
           9.22721659650125,
           9.196328465231339,
           9.165440333961428,
           9.134552202691523,
           9.103664071421612,
           9.0727759401517,
           9.041887808881796,
           9.010999677611885,
           8.980111546341973,
           8.949223415072069,
           8.918335283802158,
           8.887447152532246,
           8.856559021262342,
           8.82567088999243,
           8.79478275872252,
           8.763894627452615,
           8.733006496182703,
           8.702118364912792,
           8.671230233642888,
           8.640342102372976,
           8.609453971103065,
           8.578565839833153,
           8.54767770856325,
           8.516789577293338,
           8.485901446023426,
           8.455013314753522,
           8.42412518348361,
           8.3932370522137,
           8.362348920943795,
           8.331460789673883
          ],
          [
           10.054291051078415,
           10.023402919808497,
           9.992514788538593,
           9.961626657268688,
           9.93073852599877,
           9.899850394728865,
           9.868962263458961,
           9.838074132189043,
           9.807186000919138,
           9.776297869649227,
           9.745409738379315,
           9.714521607109411,
           9.6836334758395,
           9.652745344569588,
           9.621857213299684,
           9.590969082029773,
           9.560080950759861,
           9.529192819489957,
           9.498304688220045,
           9.467416556950134,
           9.43652842568023,
           9.405640294410318,
           9.374752163140407,
           9.343864031870503,
           9.312975900600591,
           9.28208776933068,
           9.251199638060775,
           9.220311506790864,
           9.189423375520953,
           9.158535244251041,
           9.127647112981137,
           9.096758981711226,
           9.065870850441314,
           9.03498271917141,
           9.004094587901498,
           8.973206456631587,
           8.942318325361683,
           8.911430194091771,
           8.88054206282186,
           8.849653931551956,
           8.818765800282044,
           8.787877669012133,
           8.756989537742221,
           8.726101406472317,
           8.695213275202406,
           8.664325143932494,
           8.63343701266259,
           8.602548881392678,
           8.571660750122767,
           8.540772618852863,
           8.509884487582951,
           8.47899635631304,
           8.448108225043136,
           8.417220093773224,
           8.386331962503313,
           8.355443831233409,
           8.324555699963497,
           8.293667568693586,
           8.262779437423681,
           8.23189130615377,
           8.201003174883859,
           8.170115043613954,
           8.139226912344043,
           8.108338781074131,
           8.077450649804227,
           8.046562518534316,
           8.015674387264404,
           7.984786255994493,
           7.953898124724589,
           7.923009993454677,
           7.892121862184766,
           7.861233730914861,
           7.83034559964495,
           7.799457468375039,
           7.768569337105134,
           7.737681205835223
          ],
          [
           9.460511467239762,
           9.429623335969843,
           9.398735204699939,
           9.367847073430035,
           9.336958942160116,
           9.306070810890212,
           9.275182679620308,
           9.244294548350389,
           9.213406417080485,
           9.182518285810573,
           9.151630154540662,
           9.120742023270758,
           9.089853892000846,
           9.058965760730935,
           9.02807762946103,
           8.99718949819112,
           8.966301366921208,
           8.935413235651303,
           8.904525104381392,
           8.87363697311148,
           8.842748841841576,
           8.811860710571665,
           8.780972579301753,
           8.75008444803185,
           8.719196316761938,
           8.688308185492026,
           8.657420054222122,
           8.62653192295221,
           8.5956437916823,
           8.564755660412388,
           8.533867529142483,
           8.502979397872572,
           8.47209126660266,
           8.441203135332756,
           8.410315004062845,
           8.379426872792934,
           8.34853874152303,
           8.317650610253118,
           8.286762478983206,
           8.255874347713302,
           8.22498621644339,
           8.19409808517348,
           8.163209953903568,
           8.132321822633664,
           8.101433691363752,
           8.07054556009384,
           8.039657428823936,
           8.008769297554025,
           7.977881166284114,
           7.946993035014209,
           7.916104903744298,
           7.8852167724743865,
           7.854328641204482,
           7.823440509934571,
           7.792552378664659,
           7.761664247394755,
           7.730776116124844,
           7.699887984854932,
           7.668999853585028,
           7.6381117223151165,
           7.607223591045205,
           7.576335459775301,
           7.545447328505389,
           7.514559197235478,
           7.483671065965574,
           7.452782934695662,
           7.421894803425751,
           7.391006672155839,
           7.360118540885935,
           7.329230409616024,
           7.298342278346112,
           7.267454147076208,
           7.2365660158062965,
           7.205677884536385,
           7.174789753266481,
           7.143901621996569
          ],
          [
           8.866731883401101,
           8.835843752131183,
           8.804955620861278,
           8.774067489591374,
           8.743179358321456,
           8.712291227051551,
           8.681403095781647,
           8.650514964511729,
           8.619626833241824,
           8.588738701971913,
           8.557850570702001,
           8.526962439432097,
           8.496074308162186,
           8.465186176892274,
           8.43429804562237,
           8.403409914352459,
           8.372521783082547,
           8.341633651812643,
           8.310745520542731,
           8.27985738927282,
           8.248969258002916,
           8.218081126733004,
           8.187192995463093,
           8.156304864193189,
           8.125416732923277,
           8.094528601653366,
           8.063640470383461,
           8.03275233911355,
           8.001864207843639,
           7.970976076573727,
           7.940087945303823,
           7.9091998140339115,
           7.878311682764,
           7.847423551494096,
           7.816535420224184,
           7.785647288954273,
           7.754759157684369,
           7.723871026414457,
           7.692982895144546,
           7.6620947638746415,
           7.63120663260473,
           7.600318501334819,
           7.569430370064907,
           7.538542238795003,
           7.5076541075250915,
           7.47676597625518,
           7.445877844985276,
           7.414989713715364,
           7.384101582445453,
           7.353213451175549,
           7.322325319905637,
           7.291437188635726,
           7.260549057365822,
           7.22966092609591,
           7.198772794825999,
           7.167884663556094,
           7.136996532286183,
           7.106108401016272,
           7.075220269746367,
           7.044332138476456,
           7.0134440072065445,
           6.98255587593664,
           6.951667744666729,
           6.920779613396817,
           6.889891482126913,
           6.859003350857002,
           6.82811521958709,
           6.797227088317179,
           6.7663389570472745,
           6.735450825777363,
           6.704562694507452,
           6.673674563237547,
           6.642786431967636,
           6.6118983006977246,
           6.58101016942782,
           6.550122038157909
          ]
         ]
        }
       ],
       "layout": {
        "legend": {
         "title": {
          "text": "poverty_pred"
         },
         "tracegroupgap": 0,
         "x": 0.01,
         "xanchor": "left",
         "y": 0.99,
         "yanchor": "top"
        },
        "scene": {
         "domain": {
          "x": [
           0,
           1
          ],
          "y": [
           0,
           1
          ]
         },
         "xaxis": {
          "title": {
           "text": "white"
          }
         },
         "yaxis": {
          "title": {
           "text": "hs_grad"
          }
         },
         "zaxis": {
          "title": {
           "text": "poverty"
          }
         }
        },
        "template": {
         "data": {
          "bar": [
           {
            "error_x": {
             "color": "#2a3f5f"
            },
            "error_y": {
             "color": "#2a3f5f"
            },
            "marker": {
             "line": {
              "color": "#E5ECF6",
              "width": 0.5
             },
             "pattern": {
              "fillmode": "overlay",
              "size": 10,
              "solidity": 0.2
             }
            },
            "type": "bar"
           }
          ],
          "barpolar": [
           {
            "marker": {
             "line": {
              "color": "#E5ECF6",
              "width": 0.5
             },
             "pattern": {
              "fillmode": "overlay",
              "size": 10,
              "solidity": 0.2
             }
            },
            "type": "barpolar"
           }
          ],
          "carpet": [
           {
            "aaxis": {
             "endlinecolor": "#2a3f5f",
             "gridcolor": "white",
             "linecolor": "white",
             "minorgridcolor": "white",
             "startlinecolor": "#2a3f5f"
            },
            "baxis": {
             "endlinecolor": "#2a3f5f",
             "gridcolor": "white",
             "linecolor": "white",
             "minorgridcolor": "white",
             "startlinecolor": "#2a3f5f"
            },
            "type": "carpet"
           }
          ],
          "choropleth": [
           {
            "colorbar": {
             "outlinewidth": 0,
             "ticks": ""
            },
            "type": "choropleth"
           }
          ],
          "contour": [
           {
            "colorbar": {
             "outlinewidth": 0,
             "ticks": ""
            },
            "colorscale": [
             [
              0,
              "#0d0887"
             ],
             [
              0.1111111111111111,
              "#46039f"
             ],
             [
              0.2222222222222222,
              "#7201a8"
             ],
             [
              0.3333333333333333,
              "#9c179e"
             ],
             [
              0.4444444444444444,
              "#bd3786"
             ],
             [
              0.5555555555555556,
              "#d8576b"
             ],
             [
              0.6666666666666666,
              "#ed7953"
             ],
             [
              0.7777777777777778,
              "#fb9f3a"
             ],
             [
              0.8888888888888888,
              "#fdca26"
             ],
             [
              1,
              "#f0f921"
             ]
            ],
            "type": "contour"
           }
          ],
          "contourcarpet": [
           {
            "colorbar": {
             "outlinewidth": 0,
             "ticks": ""
            },
            "type": "contourcarpet"
           }
          ],
          "heatmap": [
           {
            "colorbar": {
             "outlinewidth": 0,
             "ticks": ""
            },
            "colorscale": [
             [
              0,
              "#0d0887"
             ],
             [
              0.1111111111111111,
              "#46039f"
             ],
             [
              0.2222222222222222,
              "#7201a8"
             ],
             [
              0.3333333333333333,
              "#9c179e"
             ],
             [
              0.4444444444444444,
              "#bd3786"
             ],
             [
              0.5555555555555556,
              "#d8576b"
             ],
             [
              0.6666666666666666,
              "#ed7953"
             ],
             [
              0.7777777777777778,
              "#fb9f3a"
             ],
             [
              0.8888888888888888,
              "#fdca26"
             ],
             [
              1,
              "#f0f921"
             ]
            ],
            "type": "heatmap"
           }
          ],
          "heatmapgl": [
           {
            "colorbar": {
             "outlinewidth": 0,
             "ticks": ""
            },
            "colorscale": [
             [
              0,
              "#0d0887"
             ],
             [
              0.1111111111111111,
              "#46039f"
             ],
             [
              0.2222222222222222,
              "#7201a8"
             ],
             [
              0.3333333333333333,
              "#9c179e"
             ],
             [
              0.4444444444444444,
              "#bd3786"
             ],
             [
              0.5555555555555556,
              "#d8576b"
             ],
             [
              0.6666666666666666,
              "#ed7953"
             ],
             [
              0.7777777777777778,
              "#fb9f3a"
             ],
             [
              0.8888888888888888,
              "#fdca26"
             ],
             [
              1,
              "#f0f921"
             ]
            ],
            "type": "heatmapgl"
           }
          ],
          "histogram": [
           {
            "marker": {
             "pattern": {
              "fillmode": "overlay",
              "size": 10,
              "solidity": 0.2
             }
            },
            "type": "histogram"
           }
          ],
          "histogram2d": [
           {
            "colorbar": {
             "outlinewidth": 0,
             "ticks": ""
            },
            "colorscale": [
             [
              0,
              "#0d0887"
             ],
             [
              0.1111111111111111,
              "#46039f"
             ],
             [
              0.2222222222222222,
              "#7201a8"
             ],
             [
              0.3333333333333333,
              "#9c179e"
             ],
             [
              0.4444444444444444,
              "#bd3786"
             ],
             [
              0.5555555555555556,
              "#d8576b"
             ],
             [
              0.6666666666666666,
              "#ed7953"
             ],
             [
              0.7777777777777778,
              "#fb9f3a"
             ],
             [
              0.8888888888888888,
              "#fdca26"
             ],
             [
              1,
              "#f0f921"
             ]
            ],
            "type": "histogram2d"
           }
          ],
          "histogram2dcontour": [
           {
            "colorbar": {
             "outlinewidth": 0,
             "ticks": ""
            },
            "colorscale": [
             [
              0,
              "#0d0887"
             ],
             [
              0.1111111111111111,
              "#46039f"
             ],
             [
              0.2222222222222222,
              "#7201a8"
             ],
             [
              0.3333333333333333,
              "#9c179e"
             ],
             [
              0.4444444444444444,
              "#bd3786"
             ],
             [
              0.5555555555555556,
              "#d8576b"
             ],
             [
              0.6666666666666666,
              "#ed7953"
             ],
             [
              0.7777777777777778,
              "#fb9f3a"
             ],
             [
              0.8888888888888888,
              "#fdca26"
             ],
             [
              1,
              "#f0f921"
             ]
            ],
            "type": "histogram2dcontour"
           }
          ],
          "mesh3d": [
           {
            "colorbar": {
             "outlinewidth": 0,
             "ticks": ""
            },
            "type": "mesh3d"
           }
          ],
          "parcoords": [
           {
            "line": {
             "colorbar": {
              "outlinewidth": 0,
              "ticks": ""
             }
            },
            "type": "parcoords"
           }
          ],
          "pie": [
           {
            "automargin": true,
            "type": "pie"
           }
          ],
          "scatter": [
           {
            "fillpattern": {
             "fillmode": "overlay",
             "size": 10,
             "solidity": 0.2
            },
            "type": "scatter"
           }
          ],
          "scatter3d": [
           {
            "line": {
             "colorbar": {
              "outlinewidth": 0,
              "ticks": ""
             }
            },
            "marker": {
             "colorbar": {
              "outlinewidth": 0,
              "ticks": ""
             }
            },
            "type": "scatter3d"
           }
          ],
          "scattercarpet": [
           {
            "marker": {
             "colorbar": {
              "outlinewidth": 0,
              "ticks": ""
             }
            },
            "type": "scattercarpet"
           }
          ],
          "scattergeo": [
           {
            "marker": {
             "colorbar": {
              "outlinewidth": 0,
              "ticks": ""
             }
            },
            "type": "scattergeo"
           }
          ],
          "scattergl": [
           {
            "marker": {
             "colorbar": {
              "outlinewidth": 0,
              "ticks": ""
             }
            },
            "type": "scattergl"
           }
          ],
          "scattermapbox": [
           {
            "marker": {
             "colorbar": {
              "outlinewidth": 0,
              "ticks": ""
             }
            },
            "type": "scattermapbox"
           }
          ],
          "scatterpolar": [
           {
            "marker": {
             "colorbar": {
              "outlinewidth": 0,
              "ticks": ""
             }
            },
            "type": "scatterpolar"
           }
          ],
          "scatterpolargl": [
           {
            "marker": {
             "colorbar": {
              "outlinewidth": 0,
              "ticks": ""
             }
            },
            "type": "scatterpolargl"
           }
          ],
          "scatterternary": [
           {
            "marker": {
             "colorbar": {
              "outlinewidth": 0,
              "ticks": ""
             }
            },
            "type": "scatterternary"
           }
          ],
          "surface": [
           {
            "colorbar": {
             "outlinewidth": 0,
             "ticks": ""
            },
            "colorscale": [
             [
              0,
              "#0d0887"
             ],
             [
              0.1111111111111111,
              "#46039f"
             ],
             [
              0.2222222222222222,
              "#7201a8"
             ],
             [
              0.3333333333333333,
              "#9c179e"
             ],
             [
              0.4444444444444444,
              "#bd3786"
             ],
             [
              0.5555555555555556,
              "#d8576b"
             ],
             [
              0.6666666666666666,
              "#ed7953"
             ],
             [
              0.7777777777777778,
              "#fb9f3a"
             ],
             [
              0.8888888888888888,
              "#fdca26"
             ],
             [
              1,
              "#f0f921"
             ]
            ],
            "type": "surface"
           }
          ],
          "table": [
           {
            "cells": {
             "fill": {
              "color": "#EBF0F8"
             },
             "line": {
              "color": "white"
             }
            },
            "header": {
             "fill": {
              "color": "#C8D4E3"
             },
             "line": {
              "color": "white"
             }
            },
            "type": "table"
           }
          ]
         },
         "layout": {
          "annotationdefaults": {
           "arrowcolor": "#2a3f5f",
           "arrowhead": 0,
           "arrowwidth": 1
          },
          "autotypenumbers": "strict",
          "coloraxis": {
           "colorbar": {
            "outlinewidth": 0,
            "ticks": ""
           }
          },
          "colorscale": {
           "diverging": [
            [
             0,
             "#8e0152"
            ],
            [
             0.1,
             "#c51b7d"
            ],
            [
             0.2,
             "#de77ae"
            ],
            [
             0.3,
             "#f1b6da"
            ],
            [
             0.4,
             "#fde0ef"
            ],
            [
             0.5,
             "#f7f7f7"
            ],
            [
             0.6,
             "#e6f5d0"
            ],
            [
             0.7,
             "#b8e186"
            ],
            [
             0.8,
             "#7fbc41"
            ],
            [
             0.9,
             "#4d9221"
            ],
            [
             1,
             "#276419"
            ]
           ],
           "sequential": [
            [
             0,
             "#0d0887"
            ],
            [
             0.1111111111111111,
             "#46039f"
            ],
            [
             0.2222222222222222,
             "#7201a8"
            ],
            [
             0.3333333333333333,
             "#9c179e"
            ],
            [
             0.4444444444444444,
             "#bd3786"
            ],
            [
             0.5555555555555556,
             "#d8576b"
            ],
            [
             0.6666666666666666,
             "#ed7953"
            ],
            [
             0.7777777777777778,
             "#fb9f3a"
            ],
            [
             0.8888888888888888,
             "#fdca26"
            ],
            [
             1,
             "#f0f921"
            ]
           ],
           "sequentialminus": [
            [
             0,
             "#0d0887"
            ],
            [
             0.1111111111111111,
             "#46039f"
            ],
            [
             0.2222222222222222,
             "#7201a8"
            ],
            [
             0.3333333333333333,
             "#9c179e"
            ],
            [
             0.4444444444444444,
             "#bd3786"
            ],
            [
             0.5555555555555556,
             "#d8576b"
            ],
            [
             0.6666666666666666,
             "#ed7953"
            ],
            [
             0.7777777777777778,
             "#fb9f3a"
            ],
            [
             0.8888888888888888,
             "#fdca26"
            ],
            [
             1,
             "#f0f921"
            ]
           ]
          },
          "colorway": [
           "#636efa",
           "#EF553B",
           "#00cc96",
           "#ab63fa",
           "#FFA15A",
           "#19d3f3",
           "#FF6692",
           "#B6E880",
           "#FF97FF",
           "#FECB52"
          ],
          "font": {
           "color": "#2a3f5f"
          },
          "geo": {
           "bgcolor": "white",
           "lakecolor": "white",
           "landcolor": "#E5ECF6",
           "showlakes": true,
           "showland": true,
           "subunitcolor": "white"
          },
          "hoverlabel": {
           "align": "left"
          },
          "hovermode": "closest",
          "mapbox": {
           "style": "light"
          },
          "paper_bgcolor": "white",
          "plot_bgcolor": "#E5ECF6",
          "polar": {
           "angularaxis": {
            "gridcolor": "white",
            "linecolor": "white",
            "ticks": ""
           },
           "bgcolor": "#E5ECF6",
           "radialaxis": {
            "gridcolor": "white",
            "linecolor": "white",
            "ticks": ""
           }
          },
          "scene": {
           "xaxis": {
            "backgroundcolor": "#E5ECF6",
            "gridcolor": "white",
            "gridwidth": 2,
            "linecolor": "white",
            "showbackground": true,
            "ticks": "",
            "zerolinecolor": "white"
           },
           "yaxis": {
            "backgroundcolor": "#E5ECF6",
            "gridcolor": "white",
            "gridwidth": 2,
            "linecolor": "white",
            "showbackground": true,
            "ticks": "",
            "zerolinecolor": "white"
           },
           "zaxis": {
            "backgroundcolor": "#E5ECF6",
            "gridcolor": "white",
            "gridwidth": 2,
            "linecolor": "white",
            "showbackground": true,
            "ticks": "",
            "zerolinecolor": "white"
           }
          },
          "shapedefaults": {
           "line": {
            "color": "#2a3f5f"
           }
          },
          "ternary": {
           "aaxis": {
            "gridcolor": "white",
            "linecolor": "white",
            "ticks": ""
           },
           "baxis": {
            "gridcolor": "white",
            "linecolor": "white",
            "ticks": ""
           },
           "bgcolor": "#E5ECF6",
           "caxis": {
            "gridcolor": "white",
            "linecolor": "white",
            "ticks": ""
           }
          },
          "title": {
           "x": 0.05
          },
          "xaxis": {
           "automargin": true,
           "gridcolor": "white",
           "linecolor": "white",
           "ticks": "",
           "title": {
            "standoff": 15
           },
           "zerolinecolor": "white",
           "zerolinewidth": 2
          },
          "yaxis": {
           "automargin": true,
           "gridcolor": "white",
           "linecolor": "white",
           "ticks": "",
           "title": {
            "standoff": 15
           },
           "zerolinecolor": "white",
           "zerolinewidth": 2
          }
         }
        },
        "title": {
         "text": "Зависиость процента белого населения и уровня образования на бедность населения"
        }
       }
      },
      "text/html": [
       "<div>                            <div id=\"689217a3-c88f-4d4b-af71-142206c40a25\" class=\"plotly-graph-div\" style=\"height:525px; width:100%;\"></div>            <script type=\"text/javascript\">                require([\"plotly\"], function(Plotly) {                    window.PLOTLYENV=window.PLOTLYENV || {};                                    if (document.getElementById(\"689217a3-c88f-4d4b-af71-142206c40a25\")) {                    Plotly.newPlot(                        \"689217a3-c88f-4d4b-af71-142206c40a25\",                        [{\"hovertemplate\":\"poverty_pred=False<br>white=%{x}<br>hs_grad=%{y}<br>poverty=%{z}<extra></extra>\",\"legendgroup\":\"False\",\"marker\":{\"color\":\"red\",\"symbol\":\"circle\",\"size\":3},\"mode\":\"markers\",\"name\":\"False\",\"scene\":\"scene\",\"showlegend\":true,\"x\":[71.3,70.8,77.5,90.2,85.4,76.3,80.6,67.5,25.9,79.5,88.9,94.9,89.3,65.6,87.2,81.5,90.2,85.3,84.1,96.3,77.3,74.1,85.4,86.4,89.2,67.7,80.8,83.6,73.9,90.1],\"y\":[79.9,90.6,81.1,88.7,87.5,88.7,84.7,85.1,88.5,85.9,86.4,89.7,88.6,87.6,87.1,87.6,91.6,88.3,85.6,92.1,86.2,81.4,87.2,86.0,81.0,80.8,81.0,77.2,87.8,88.6],\"z\":[14.6,8.3,12.8,9.4,7.8,8.1,12.1,12.1,10.6,11.2,8.7,8.3,9.4,7.3,9.6,10.3,6.5,9.6,8.3,5.6,7.8,13.1,10.1,9.2,10.3,13.5,14.2,15.3,8.7,8.6],\"type\":\"scatter3d\"},{\"hovertemplate\":\"poverty_pred=True<br>white=%{x}<br>hs_grad=%{y}<br>poverty=%{z}<extra></extra>\",\"legendgroup\":\"True\",\"marker\":{\"color\":\"green\",\"symbol\":\"circle\",\"size\":3},\"mode\":\"markers\",\"name\":\"True\",\"scene\":\"scene\",\"showlegend\":true,\"x\":[87.7,81.0,36.2,95.5,90.3,64.2,97.1,61.2,90.9,92.1,84.9,73.6,92.5,78.4,90.8,88.8,93.6,96.9,85.5,95.0,94.7],\"y\":[83.8,80.9,86.0,88.2,82.8,79.8,86.6,81.2,90.1,90.8,81.7,84.2,89.7,85.7,86.9,88.7,89.4,88.9,89.1,78.7,90.9],\"z\":[13.3,18.0,16.8,11.8,13.1,17.0,11.3,17.6,13.7,9.5,17.8,14.0,11.9,14.7,11.2,10.2,9.3,9.9,10.8,16.0,9.5],\"type\":\"scatter3d\"},{\"colorscale\":[[0.0,\"rgb(243, 231, 155)\"],[0.16666666666666666,\"rgb(250, 196, 132)\"],[0.3333333333333333,\"rgb(248, 160, 126)\"],[0.5,\"rgb(235, 127, 134)\"],[0.6666666666666666,\"rgb(206, 102, 147)\"],[0.8333333333333334,\"rgb(160, 89, 160)\"],[1.0,\"rgb(92, 83, 165)\"]],\"name\":\"prediction\",\"opacity\":0.8,\"x\":[23.9,24.9,25.9,26.9,27.9,28.9,29.9,30.9,31.9,32.9,33.9,34.9,35.9,36.9,37.9,38.9,39.9,40.9,41.9,42.9,43.9,44.9,45.9,46.9,47.9,48.9,49.9,50.9,51.9,52.9,53.9,54.9,55.9,56.9,57.9,58.9,59.9,60.9,61.9,62.9,63.9,64.9,65.9,66.9,67.9,68.9,69.9,70.9,71.9,72.9,73.9,74.9,75.9,76.9,77.9,78.9,79.9,80.9,81.9,82.9,83.9,84.9,85.9,86.9,87.9,88.9,89.9,90.9,91.9,92.9,93.9,94.9,95.9,96.9,97.9,98.9],\"y\":[75.2,76.2,77.2,78.2,79.2,80.2,81.2,82.2,83.2,84.2,85.2,86.2,87.2,88.2,89.2,90.2,91.2,92.2,93.2],\"z\":[[19.554764392496978,19.52387626122706,19.492988129957155,19.46209999868725,19.431211867417332,19.400323736147428,19.369435604877523,19.338547473607605,19.3076593423377,19.27677121106779,19.245883079797878,19.214994948527973,19.184106817258062,19.15321868598815,19.122330554718246,19.091442423448335,19.060554292178423,19.02966616090852,18.998778029638608,18.967889898368696,18.937001767098792,18.90611363582888,18.87522550455897,18.844337373289065,18.813449242019153,18.782561110749242,18.751672979479338,18.720784848209426,18.689896716939515,18.659008585669604,18.6281204543997,18.597232323129788,18.566344191859876,18.535456060589972,18.50456792932006,18.47367979805015,18.442791666780245,18.411903535510334,18.381015404240422,18.350127272970518,18.319239141700606,18.288351010430695,18.257462879160784,18.22657474789088,18.195686616620968,18.164798485351056,18.133910354081152,18.10302222281124,18.07213409154133,18.041245960271425,18.010357829001514,17.979469697731602,17.948581566461698,17.917693435191786,17.886805303921875,17.85591717265197,17.82502904138206,17.794140910112148,17.763252778842244,17.732364647572332,17.70147651630242,17.670588385032516,17.639700253762605,17.608812122492694,17.57792399122279,17.547035859952878,17.516147728682967,17.485259597413055,17.45437146614315,17.42348333487324,17.392595203603328,17.361707072333424,17.330818941063512,17.2999308097936,17.269042678523697,17.238154547253785],[18.960984808658324,18.930096677388406,18.8992085461185,18.868320414848597,18.83743228357868,18.806544152308774,18.77565602103887,18.74476788976895,18.713879758499047,18.682991627229136,18.652103495959224,18.62121536468932,18.59032723341941,18.559439102149497,18.528550970879593,18.49766283960968,18.46677470833977,18.435886577069866,18.404998445799954,18.374110314530043,18.34322218326014,18.312334051990227,18.281445920720316,18.25055778945041,18.2196696581805,18.18878152691059,18.157893395640684,18.127005264370773,18.09611713310086,18.06522900183095,18.034340870561046,18.003452739291134,17.972564608021223,17.94167647675132,17.910788345481407,17.879900214211496,17.84901208294159,17.81812395167168,17.78723582040177,17.756347689131864,17.725459557861953,17.69457142659204,17.66368329532213,17.632795164052226,17.601907032782314,17.571018901512403,17.5401307702425,17.509242638972587,17.478354507702676,17.44746637643277,17.41657824516286,17.38569011389295,17.354801982623044,17.323913851353133,17.29302572008322,17.262137588813317,17.231249457543406,17.200361326273494,17.16947319500359,17.13858506373368,17.107696932463767,17.076808801193863,17.04592066992395,17.01503253865404,16.984144407384136,16.953256276114224,16.922368144844313,16.8914800135744,16.860591882304497,16.829703751034586,16.798815619764675,16.76792748849477,16.73703935722486,16.706151225954947,16.675263094685043,16.64437496341513],[18.367205224819664,18.336317093549745,18.30542896227984,18.274540831009936,18.243652699740018,18.212764568470114,18.18187643720021,18.15098830593029,18.120100174660386,18.089212043390475,18.058323912120564,18.02743578085066,17.996547649580748,17.965659518310837,17.934771387040932,17.90388325577102,17.87299512450111,17.842106993231205,17.811218861961294,17.780330730691382,17.749442599421478,17.718554468151567,17.687666336881655,17.65677820561175,17.62589007434184,17.595001943071928,17.564113811802024,17.533225680532112,17.5023375492622,17.47144941799229,17.440561286722385,17.409673155452474,17.378785024182562,17.347896892912658,17.317008761642747,17.286120630372835,17.25523249910293,17.22434436783302,17.193456236563108,17.162568105293204,17.131679974023292,17.10079184275338,17.06990371148347,17.039015580213565,17.008127448943654,16.977239317673742,16.946351186403838,16.915463055133927,16.884574923864015,16.85368679259411,16.8227986613242,16.791910530054288,16.761022398784384,16.730134267514472,16.69924613624456,16.668358004974657,16.637469873704745,16.606581742434834,16.57569361116493,16.544805479895018,16.513917348625107,16.483029217355202,16.45214108608529,16.42125295481538,16.390364823545475,16.359476692275564,16.328588561005652,16.29770042973574,16.266812298465837,16.235924167195925,16.205036035926014,16.17414790465611,16.143259773386198,16.112371642116287,16.081483510846383,16.05059537957647],[17.773425640981003,17.742537509711084,17.71164937844118,17.680761247171276,17.649873115901357,17.618984984631453,17.58809685336155,17.55720872209163,17.526320590821726,17.495432459551814,17.464544328281903,17.433656197012,17.402768065742087,17.371879934472176,17.34099180320227,17.31010367193236,17.27921554066245,17.248327409392544,17.217439278122633,17.18655114685272,17.155663015582817,17.124774884312906,17.093886753042995,17.06299862177309,17.03211049050318,17.001222359233267,16.970334227963363,16.93944609669345,16.90855796542354,16.87766983415363,16.846781702883725,16.815893571613813,16.7850054403439,16.754117309073997,16.723229177804086,16.692341046534175,16.66145291526427,16.63056478399436,16.599676652724447,16.568788521454543,16.53790039018463,16.50701225891472,16.47612412764481,16.445235996374905,16.414347865104993,16.383459733835082,16.352571602565177,16.321683471295266,16.290795340025355,16.25990720875545,16.22901907748554,16.198130946215628,16.167242814945723,16.136354683675812,16.1054665524059,16.074578421135996,16.043690289866085,16.012802158596173,15.981914027326269,15.951025896056358,15.920137764786446,15.889249633516542,15.85836150224663,15.827473370976719,15.796585239706815,15.765697108436903,15.734808977166992,15.70392084589708,15.673032714627176,15.642144583357265,15.611256452087353,15.580368320817449,15.549480189547538,15.518592058277626,15.487703927007722,15.45681579573781],[17.179646057142342,17.148757925872424,17.11786979460252,17.086981663332615,17.056093532062697,17.025205400792792,16.994317269522888,16.96342913825297,16.932541006983065,16.901652875713154,16.870764744443242,16.839876613173338,16.808988481903427,16.778100350633515,16.74721221936361,16.7163240880937,16.685435956823788,16.654547825553884,16.623659694283972,16.59277156301406,16.561883431744157,16.530995300474245,16.500107169204334,16.46921903793443,16.43833090666452,16.407442775394607,16.376554644124703,16.34566651285479,16.31477838158488,16.28389025031497,16.253002119045064,16.222113987775153,16.19122585650524,16.160337725235337,16.129449593965425,16.098561462695514,16.06767333142561,16.0367852001557,16.005897068885787,15.975008937615883,15.944120806345971,15.91323267507606,15.882344543806148,15.851456412536244,15.820568281266333,15.789680149996421,15.758792018726517,15.727903887456606,15.697015756186694,15.66612762491679,15.635239493646878,15.604351362376967,15.573463231107063,15.542575099837151,15.51168696856724,15.480798837297336,15.449910706027424,15.419022574757513,15.388134443487608,15.357246312217697,15.326358180947786,15.295470049677881,15.26458191840797,15.233693787138058,15.202805655868154,15.171917524598243,15.141029393328331,15.11014126205842,15.079253130788516,15.048364999518604,15.017476868248693,14.986588736978788,14.955700605708877,14.924812474438966,14.893924343169061,14.86303621189915],[16.585866473303682,16.554978342033763,16.52409021076386,16.493202079493955,16.462313948224036,16.431425816954132,16.400537685684228,16.36964955441431,16.338761423144405,16.307873291874493,16.276985160604582,16.246097029334678,16.215208898064766,16.184320766794855,16.15343263552495,16.12254450425504,16.091656372985128,16.060768241715223,16.029880110445312,15.9989919791754,15.968103847905496,15.937215716635585,15.906327585365673,15.875439454095769,15.844551322825858,15.813663191555946,15.782775060286042,15.75188692901613,15.720998797746219,15.690110666476308,15.659222535206403,15.628334403936492,15.59744627266658,15.566558141396676,15.535670010126765,15.504781878856853,15.47389374758695,15.443005616317038,15.412117485047126,15.381229353777222,15.35034122250731,15.3194530912374,15.288564959967488,15.257676828697583,15.226788697427672,15.19590056615776,15.165012434887856,15.134124303617945,15.103236172348034,15.07234804107813,15.041459909808218,15.010571778538306,14.979683647268402,14.94879551599849,14.91790738472858,14.887019253458675,14.856131122188764,14.825242990918852,14.794354859648948,14.763466728379036,14.732578597109125,14.70169046583922,14.67080233456931,14.639914203299398,14.609026072029494,14.578137940759582,14.54724980948967,14.51636167821976,14.485473546949855,14.454585415679944,14.423697284410032,14.392809153140128,14.361921021870216,14.331032890600305,14.3001447593304,14.26925662806049],[15.992086889465021,15.961198758195103,15.930310626925198,15.899422495655294,15.868534364385376,15.837646233115471,15.806758101845567,15.775869970575648,15.744981839305744,15.714093708035833,15.683205576765921,15.652317445496017,15.621429314226106,15.590541182956194,15.55965305168629,15.528764920416378,15.497876789146467,15.466988657876563,15.436100526606651,15.40521239533674,15.374324264066836,15.343436132796924,15.312548001527013,15.281659870257108,15.250771738987197,15.219883607717286,15.188995476447381,15.15810734517747,15.127219213907559,15.096331082637647,15.065442951367743,15.034554820097831,15.00366668882792,14.972778557558016,14.941890426288104,14.911002295018193,14.880114163748289,14.849226032478377,14.818337901208466,14.787449769938561,14.75656163866865,14.725673507398739,14.694785376128827,14.663897244858923,14.633009113589011,14.6021209823191,14.571232851049196,14.540344719779284,14.509456588509373,14.478568457239469,14.447680325969557,14.416792194699646,14.385904063429741,14.35501593215983,14.324127800889919,14.293239669620014,14.262351538350103,14.231463407080192,14.200575275810287,14.169687144540376,14.138799013270464,14.10791088200056,14.077022750730649,14.046134619460737,14.015246488190833,13.984358356920922,13.95347022565101,13.922582094381099,13.891693963111194,13.860805831841283,13.829917700571372,13.799029569301467,13.768141438031556,13.737253306761644,13.70636517549174,13.675477044221829],[15.39830730562636,15.367419174356442,15.336531043086538,15.305642911816634,15.274754780546715,15.24386664927681,15.212978518006906,15.182090386736988,15.151202255467084,15.120314124197172,15.08942599292726,15.058537861657356,15.027649730387445,14.996761599117534,14.96587346784763,14.934985336577718,14.904097205307806,14.873209074037902,14.84232094276799,14.81143281149808,14.780544680228175,14.749656548958264,14.718768417688352,14.687880286418448,14.656992155148536,14.626104023878625,14.59521589260872,14.56432776133881,14.533439630068898,14.502551498798987,14.471663367529082,14.44077523625917,14.40988710498926,14.378998973719355,14.348110842449444,14.317222711179532,14.286334579909628,14.255446448639717,14.224558317369805,14.1936701860999,14.16278205482999,14.131893923560078,14.101005792290167,14.070117661020262,14.03922952975035,14.00834139848044,13.977453267210535,13.946565135940624,13.915677004670712,13.884788873400808,13.853900742130897,13.823012610860985,13.792124479591081,13.76123634832117,13.730348217051258,13.699460085781354,13.668571954511442,13.637683823241531,13.606795691971627,13.575907560701715,13.545019429431804,13.5141312981619,13.483243166891988,13.452355035622077,13.421466904352172,13.390578773082261,13.35969064181235,13.328802510542438,13.297914379272534,13.267026248002622,13.236138116732711,13.205249985462807,13.174361854192895,13.143473722922984,13.11258559165308,13.081697460383168],[14.8045277217877,14.773639590517782,14.742751459247877,14.711863327977973,14.680975196708054,14.65008706543815,14.619198934168246,14.588310802898327,14.557422671628423,14.526534540358512,14.4956464090886,14.464758277818696,14.433870146548784,14.402982015278873,14.372093884008969,14.341205752739057,14.310317621469146,14.279429490199242,14.24854135892933,14.217653227659419,14.186765096389514,14.155876965119603,14.124988833849692,14.094100702579787,14.063212571309876,14.032324440039964,14.00143630877006,13.970548177500149,13.939660046230237,13.908771914960326,13.877883783690422,13.84699565242051,13.816107521150599,13.785219389880695,13.754331258610783,13.723443127340872,13.692554996070967,13.661666864801056,13.630778733531145,13.59989060226124,13.569002470991329,13.538114339721417,13.507226208451506,13.476338077181602,13.44544994591169,13.414561814641779,13.383673683371875,13.352785552101963,13.321897420832052,13.291009289562147,13.260121158292236,13.229233027022325,13.19834489575242,13.167456764482509,13.136568633212597,13.105680501942693,13.074792370672782,13.04390423940287,13.013016108132966,12.982127976863055,12.951239845593143,12.920351714323239,12.889463583053328,12.858575451783416,12.827687320513512,12.7967991892436,12.765911057973689,12.735022926703778,12.704134795433873,12.673246664163962,12.64235853289405,12.611470401624146,12.580582270354235,12.549694139084323,12.518806007814419,12.487917876544508],[14.21074813794904,14.179860006679121,14.148971875409217,14.118083744139312,14.087195612869394,14.05630748159949,14.025419350329585,13.994531219059667,13.963643087789762,13.932754956519851,13.90186682524994,13.870978693980035,13.840090562710124,13.809202431440212,13.778314300170308,13.747426168900397,13.716538037630485,13.685649906360581,13.65476177509067,13.623873643820758,13.592985512550854,13.562097381280942,13.531209250011031,13.500321118741127,13.469432987471215,13.438544856201304,13.4076567249314,13.376768593661488,13.345880462391577,13.314992331121665,13.284104199851761,13.25321606858185,13.222327937311938,13.191439806042034,13.160551674772123,13.129663543502211,13.098775412232307,13.067887280962395,13.036999149692484,13.00611101842258,12.975222887152668,12.944334755882757,12.913446624612845,12.882558493342941,12.85167036207303,12.820782230803118,12.789894099533214,12.759005968263303,12.728117836993391,12.697229705723487,12.666341574453575,12.635453443183664,12.60456531191376,12.573677180643848,12.542789049373937,12.511900918104033,12.481012786834121,12.45012465556421,12.419236524294305,12.388348393024394,12.357460261754483,12.326572130484578,12.295683999214667,12.264795867944756,12.233907736674851,12.20301960540494,12.172131474135028,12.141243342865117,12.110355211595213,12.079467080325301,12.04857894905539,12.017690817785486,11.986802686515574,11.955914555245663,11.925026423975758,11.894138292705847],[13.616968554110379,13.58608042284046,13.555192291570556,13.524304160300652,13.493416029030733,13.462527897760829,13.431639766490925,13.400751635221006,13.369863503951102,13.33897537268119,13.308087241411279,13.277199110141375,13.246310978871463,13.215422847601552,13.184534716331648,13.153646585061736,13.122758453791825,13.09187032252192,13.060982191252009,13.030094059982098,12.999205928712193,12.968317797442282,12.93742966617237,12.906541534902466,12.875653403632555,12.844765272362643,12.813877141092739,12.782989009822828,12.752100878552916,12.721212747283005,12.6903246160131,12.659436484743189,12.628548353473278,12.597660222203373,12.566772090933462,12.53588395966355,12.504995828393646,12.474107697123735,12.443219565853823,12.412331434583919,12.381443303314008,12.350555172044096,12.319667040774185,12.28877890950428,12.25789077823437,12.227002646964458,12.196114515694553,12.165226384424642,12.13433825315473,12.103450121884826,12.072561990614915,12.041673859345003,12.0107857280751,11.979897596805188,11.949009465535276,11.918121334265372,11.88723320299546,11.85634507172555,11.825456940455645,11.794568809185733,11.763680677915822,11.732792546645918,11.701904415376006,11.671016284106095,11.64012815283619,11.60924002156628,11.578351890296368,11.547463759026456,11.516575627756552,11.48568749648664,11.45479936521673,11.423911233946825,11.393023102676914,11.362134971407002,11.331246840137098,11.300358708867186],[13.023188970271718,12.9923008390018,12.961412707731895,12.930524576461991,12.899636445192073,12.868748313922168,12.837860182652264,12.806972051382346,12.776083920112441,12.74519578884253,12.714307657572618,12.683419526302714,12.652531395032803,12.621643263762891,12.590755132492987,12.559867001223076,12.528978869953164,12.49809073868326,12.467202607413348,12.436314476143437,12.405426344873533,12.374538213603621,12.34365008233371,12.312761951063806,12.281873819793894,12.250985688523983,12.220097557254078,12.189209425984167,12.158321294714256,12.127433163444344,12.09654503217444,12.065656900904528,12.034768769634617,12.003880638364713,11.972992507094801,11.94210437582489,11.911216244554986,11.880328113285074,11.849439982015163,11.818551850745258,11.787663719475347,11.756775588205436,11.725887456935524,11.69499932566562,11.664111194395709,11.633223063125797,11.602334931855893,11.571446800585981,11.54055866931607,11.509670538046166,11.478782406776254,11.447894275506343,11.417006144236439,11.386118012966527,11.355229881696616,11.324341750426711,11.2934536191568,11.262565487886889,11.231677356616984,11.200789225347073,11.169901094077161,11.139012962807257,11.108124831537346,11.077236700267434,11.04634856899753,11.015460437727619,10.984572306457707,10.953684175187796,10.922796043917891,10.89190791264798,10.861019781378069,10.830131650108164,10.799243518838253,10.768355387568342,10.737467256298437,10.706579125028526],[12.429409386433058,12.39852125516314,12.367633123893235,12.33674499262333,12.305856861353412,12.274968730083508,12.244080598813603,12.213192467543685,12.18230433627378,12.15141620500387,12.120528073733958,12.089639942464053,12.058751811194142,12.02786367992423,11.996975548654326,11.966087417384415,11.935199286114504,11.9043111548446,11.873423023574688,11.842534892304776,11.811646761034872,11.78075862976496,11.74987049849505,11.718982367225145,11.688094235955234,11.657206104685322,11.626317973415418,11.595429842145506,11.564541710875595,11.533653579605684,11.50276544833578,11.471877317065868,11.440989185795956,11.410101054526052,11.37921292325614,11.34832479198623,11.317436660716325,11.286548529446414,11.255660398176502,11.224772266906598,11.193884135636686,11.162996004366775,11.132107873096864,11.10121974182696,11.070331610557048,11.039443479287137,11.008555348017232,10.97766721674732,10.94677908547741,10.915890954207505,10.885002822937594,10.854114691667682,10.823226560397778,10.792338429127867,10.761450297857955,10.73056216658805,10.69967403531814,10.668785904048228,10.637897772778324,10.607009641508412,10.576121510238501,10.545233378968597,10.514345247698685,10.483457116428774,10.45256898515887,10.421680853888958,10.390792722619047,10.359904591349135,10.329016460079231,10.29812832880932,10.267240197539408,10.236352066269504,10.205463934999592,10.174575803729681,10.143687672459777,10.112799541189865],[11.835629802594397,11.804741671324479,11.773853540054574,11.74296540878467,11.712077277514751,11.681189146244847,11.650301014974943,11.619412883705024,11.58852475243512,11.557636621165209,11.526748489895297,11.495860358625393,11.464972227355481,11.43408409608557,11.403195964815666,11.372307833545754,11.341419702275843,11.310531571005939,11.279643439736027,11.248755308466116,11.217867177196212,11.1869790459263,11.156090914656389,11.125202783386484,11.094314652116573,11.063426520846662,11.032538389576757,11.001650258306846,10.970762127036934,10.939873995767023,10.908985864497119,10.878097733227207,10.847209601957296,10.816321470687392,10.78543333941748,10.754545208147569,10.723657076877664,10.692768945607753,10.661880814337842,10.630992683067937,10.600104551798026,10.569216420528114,10.538328289258203,10.507440157988299,10.476552026718387,10.445663895448476,10.414775764178572,10.38388763290866,10.352999501638749,10.322111370368845,10.291223239098933,10.260335107829022,10.229446976559117,10.198558845289206,10.167670714019295,10.13678258274939,10.105894451479479,10.075006320209567,10.044118188939663,10.013230057669752,9.98234192639984,9.951453795129936,9.920565663860025,9.889677532590113,9.858789401320209,9.827901270050297,9.797013138780386,9.766125007510475,9.73523687624057,9.704348744970659,9.673460613700748,9.642572482430843,9.611684351160932,9.58079621989102,9.549908088621116,9.519019957351205],[11.241850218755737,11.210962087485818,11.180073956215914,11.14918582494601,11.11829769367609,11.087409562406187,11.056521431136282,11.025633299866364,10.99474516859646,10.963857037326548,10.932968906056637,10.902080774786732,10.871192643516821,10.84030451224691,10.809416380977005,10.778528249707094,10.747640118437182,10.716751987167278,10.685863855897367,10.654975724627455,10.624087593357551,10.59319946208764,10.562311330817728,10.531423199547824,10.500535068277912,10.469646937008001,10.438758805738097,10.407870674468185,10.376982543198274,10.346094411928362,10.315206280658458,10.284318149388547,10.253430018118635,10.222541886848731,10.19165375557882,10.160765624308908,10.129877493039004,10.098989361769092,10.068101230499181,10.037213099229277,10.006324967959365,9.975436836689454,9.944548705419543,9.913660574149638,9.882772442879727,9.851884311609815,9.820996180339911,9.79010804907,9.759219917800088,9.728331786530184,9.697443655260273,9.666555523990361,9.635667392720457,9.604779261450545,9.573891130180634,9.54300299891073,9.512114867640818,9.481226736370907,9.450338605101003,9.419450473831091,9.38856234256118,9.357674211291275,9.326786080021364,9.295897948751453,9.265009817481548,9.234121686211637,9.203233554941725,9.172345423671814,9.14145729240191,9.110569161131998,9.079681029862087,9.048792898592183,9.017904767322271,8.98701663605236,8.956128504782455,8.925240373512544],[10.648070634917076,10.617182503647157,10.586294372377253,10.555406241107349,10.52451810983743,10.493629978567526,10.462741847297622,10.431853716027703,10.400965584757799,10.370077453487887,10.339189322217976,10.308301190948072,10.27741305967816,10.246524928408249,10.215636797138345,10.184748665868433,10.153860534598522,10.122972403328617,10.092084272058706,10.061196140788795,10.03030800951889,9.999419878248979,9.968531746979068,9.937643615709163,9.906755484439252,9.87586735316934,9.844979221899436,9.814091090629525,9.783202959359613,9.752314828089702,9.721426696819798,9.690538565549886,9.659650434279975,9.62876230301007,9.597874171740159,9.566986040470248,9.536097909200343,9.505209777930432,9.47432164666052,9.443433515390616,9.412545384120705,9.381657252850793,9.350769121580882,9.319880990310978,9.288992859041066,9.258104727771155,9.22721659650125,9.196328465231339,9.165440333961428,9.134552202691523,9.103664071421612,9.0727759401517,9.041887808881796,9.010999677611885,8.980111546341973,8.949223415072069,8.918335283802158,8.887447152532246,8.856559021262342,8.82567088999243,8.79478275872252,8.763894627452615,8.733006496182703,8.702118364912792,8.671230233642888,8.640342102372976,8.609453971103065,8.578565839833153,8.54767770856325,8.516789577293338,8.485901446023426,8.455013314753522,8.42412518348361,8.3932370522137,8.362348920943795,8.331460789673883],[10.054291051078415,10.023402919808497,9.992514788538593,9.961626657268688,9.93073852599877,9.899850394728865,9.868962263458961,9.838074132189043,9.807186000919138,9.776297869649227,9.745409738379315,9.714521607109411,9.6836334758395,9.652745344569588,9.621857213299684,9.590969082029773,9.560080950759861,9.529192819489957,9.498304688220045,9.467416556950134,9.43652842568023,9.405640294410318,9.374752163140407,9.343864031870503,9.312975900600591,9.28208776933068,9.251199638060775,9.220311506790864,9.189423375520953,9.158535244251041,9.127647112981137,9.096758981711226,9.065870850441314,9.03498271917141,9.004094587901498,8.973206456631587,8.942318325361683,8.911430194091771,8.88054206282186,8.849653931551956,8.818765800282044,8.787877669012133,8.756989537742221,8.726101406472317,8.695213275202406,8.664325143932494,8.63343701266259,8.602548881392678,8.571660750122767,8.540772618852863,8.509884487582951,8.47899635631304,8.448108225043136,8.417220093773224,8.386331962503313,8.355443831233409,8.324555699963497,8.293667568693586,8.262779437423681,8.23189130615377,8.201003174883859,8.170115043613954,8.139226912344043,8.108338781074131,8.077450649804227,8.046562518534316,8.015674387264404,7.984786255994493,7.953898124724589,7.923009993454677,7.892121862184766,7.861233730914861,7.83034559964495,7.799457468375039,7.768569337105134,7.737681205835223],[9.460511467239762,9.429623335969843,9.398735204699939,9.367847073430035,9.336958942160116,9.306070810890212,9.275182679620308,9.244294548350389,9.213406417080485,9.182518285810573,9.151630154540662,9.120742023270758,9.089853892000846,9.058965760730935,9.02807762946103,8.99718949819112,8.966301366921208,8.935413235651303,8.904525104381392,8.87363697311148,8.842748841841576,8.811860710571665,8.780972579301753,8.75008444803185,8.719196316761938,8.688308185492026,8.657420054222122,8.62653192295221,8.5956437916823,8.564755660412388,8.533867529142483,8.502979397872572,8.47209126660266,8.441203135332756,8.410315004062845,8.379426872792934,8.34853874152303,8.317650610253118,8.286762478983206,8.255874347713302,8.22498621644339,8.19409808517348,8.163209953903568,8.132321822633664,8.101433691363752,8.07054556009384,8.039657428823936,8.008769297554025,7.977881166284114,7.946993035014209,7.916104903744298,7.8852167724743865,7.854328641204482,7.823440509934571,7.792552378664659,7.761664247394755,7.730776116124844,7.699887984854932,7.668999853585028,7.6381117223151165,7.607223591045205,7.576335459775301,7.545447328505389,7.514559197235478,7.483671065965574,7.452782934695662,7.421894803425751,7.391006672155839,7.360118540885935,7.329230409616024,7.298342278346112,7.267454147076208,7.2365660158062965,7.205677884536385,7.174789753266481,7.143901621996569],[8.866731883401101,8.835843752131183,8.804955620861278,8.774067489591374,8.743179358321456,8.712291227051551,8.681403095781647,8.650514964511729,8.619626833241824,8.588738701971913,8.557850570702001,8.526962439432097,8.496074308162186,8.465186176892274,8.43429804562237,8.403409914352459,8.372521783082547,8.341633651812643,8.310745520542731,8.27985738927282,8.248969258002916,8.218081126733004,8.187192995463093,8.156304864193189,8.125416732923277,8.094528601653366,8.063640470383461,8.03275233911355,8.001864207843639,7.970976076573727,7.940087945303823,7.9091998140339115,7.878311682764,7.847423551494096,7.816535420224184,7.785647288954273,7.754759157684369,7.723871026414457,7.692982895144546,7.6620947638746415,7.63120663260473,7.600318501334819,7.569430370064907,7.538542238795003,7.5076541075250915,7.47676597625518,7.445877844985276,7.414989713715364,7.384101582445453,7.353213451175549,7.322325319905637,7.291437188635726,7.260549057365822,7.22966092609591,7.198772794825999,7.167884663556094,7.136996532286183,7.106108401016272,7.075220269746367,7.044332138476456,7.0134440072065445,6.98255587593664,6.951667744666729,6.920779613396817,6.889891482126913,6.859003350857002,6.82811521958709,6.797227088317179,6.7663389570472745,6.735450825777363,6.704562694507452,6.673674563237547,6.642786431967636,6.6118983006977246,6.58101016942782,6.550122038157909]],\"type\":\"surface\"}],                        {\"template\":{\"data\":{\"histogram2dcontour\":[{\"type\":\"histogram2dcontour\",\"colorbar\":{\"outlinewidth\":0,\"ticks\":\"\"},\"colorscale\":[[0.0,\"#0d0887\"],[0.1111111111111111,\"#46039f\"],[0.2222222222222222,\"#7201a8\"],[0.3333333333333333,\"#9c179e\"],[0.4444444444444444,\"#bd3786\"],[0.5555555555555556,\"#d8576b\"],[0.6666666666666666,\"#ed7953\"],[0.7777777777777778,\"#fb9f3a\"],[0.8888888888888888,\"#fdca26\"],[1.0,\"#f0f921\"]]}],\"choropleth\":[{\"type\":\"choropleth\",\"colorbar\":{\"outlinewidth\":0,\"ticks\":\"\"}}],\"histogram2d\":[{\"type\":\"histogram2d\",\"colorbar\":{\"outlinewidth\":0,\"ticks\":\"\"},\"colorscale\":[[0.0,\"#0d0887\"],[0.1111111111111111,\"#46039f\"],[0.2222222222222222,\"#7201a8\"],[0.3333333333333333,\"#9c179e\"],[0.4444444444444444,\"#bd3786\"],[0.5555555555555556,\"#d8576b\"],[0.6666666666666666,\"#ed7953\"],[0.7777777777777778,\"#fb9f3a\"],[0.8888888888888888,\"#fdca26\"],[1.0,\"#f0f921\"]]}],\"heatmap\":[{\"type\":\"heatmap\",\"colorbar\":{\"outlinewidth\":0,\"ticks\":\"\"},\"colorscale\":[[0.0,\"#0d0887\"],[0.1111111111111111,\"#46039f\"],[0.2222222222222222,\"#7201a8\"],[0.3333333333333333,\"#9c179e\"],[0.4444444444444444,\"#bd3786\"],[0.5555555555555556,\"#d8576b\"],[0.6666666666666666,\"#ed7953\"],[0.7777777777777778,\"#fb9f3a\"],[0.8888888888888888,\"#fdca26\"],[1.0,\"#f0f921\"]]}],\"heatmapgl\":[{\"type\":\"heatmapgl\",\"colorbar\":{\"outlinewidth\":0,\"ticks\":\"\"},\"colorscale\":[[0.0,\"#0d0887\"],[0.1111111111111111,\"#46039f\"],[0.2222222222222222,\"#7201a8\"],[0.3333333333333333,\"#9c179e\"],[0.4444444444444444,\"#bd3786\"],[0.5555555555555556,\"#d8576b\"],[0.6666666666666666,\"#ed7953\"],[0.7777777777777778,\"#fb9f3a\"],[0.8888888888888888,\"#fdca26\"],[1.0,\"#f0f921\"]]}],\"contourcarpet\":[{\"type\":\"contourcarpet\",\"colorbar\":{\"outlinewidth\":0,\"ticks\":\"\"}}],\"contour\":[{\"type\":\"contour\",\"colorbar\":{\"outlinewidth\":0,\"ticks\":\"\"},\"colorscale\":[[0.0,\"#0d0887\"],[0.1111111111111111,\"#46039f\"],[0.2222222222222222,\"#7201a8\"],[0.3333333333333333,\"#9c179e\"],[0.4444444444444444,\"#bd3786\"],[0.5555555555555556,\"#d8576b\"],[0.6666666666666666,\"#ed7953\"],[0.7777777777777778,\"#fb9f3a\"],[0.8888888888888888,\"#fdca26\"],[1.0,\"#f0f921\"]]}],\"surface\":[{\"type\":\"surface\",\"colorbar\":{\"outlinewidth\":0,\"ticks\":\"\"},\"colorscale\":[[0.0,\"#0d0887\"],[0.1111111111111111,\"#46039f\"],[0.2222222222222222,\"#7201a8\"],[0.3333333333333333,\"#9c179e\"],[0.4444444444444444,\"#bd3786\"],[0.5555555555555556,\"#d8576b\"],[0.6666666666666666,\"#ed7953\"],[0.7777777777777778,\"#fb9f3a\"],[0.8888888888888888,\"#fdca26\"],[1.0,\"#f0f921\"]]}],\"mesh3d\":[{\"type\":\"mesh3d\",\"colorbar\":{\"outlinewidth\":0,\"ticks\":\"\"}}],\"scatter\":[{\"fillpattern\":{\"fillmode\":\"overlay\",\"size\":10,\"solidity\":0.2},\"type\":\"scatter\"}],\"parcoords\":[{\"type\":\"parcoords\",\"line\":{\"colorbar\":{\"outlinewidth\":0,\"ticks\":\"\"}}}],\"scatterpolargl\":[{\"type\":\"scatterpolargl\",\"marker\":{\"colorbar\":{\"outlinewidth\":0,\"ticks\":\"\"}}}],\"bar\":[{\"error_x\":{\"color\":\"#2a3f5f\"},\"error_y\":{\"color\":\"#2a3f5f\"},\"marker\":{\"line\":{\"color\":\"#E5ECF6\",\"width\":0.5},\"pattern\":{\"fillmode\":\"overlay\",\"size\":10,\"solidity\":0.2}},\"type\":\"bar\"}],\"scattergeo\":[{\"type\":\"scattergeo\",\"marker\":{\"colorbar\":{\"outlinewidth\":0,\"ticks\":\"\"}}}],\"scatterpolar\":[{\"type\":\"scatterpolar\",\"marker\":{\"colorbar\":{\"outlinewidth\":0,\"ticks\":\"\"}}}],\"histogram\":[{\"marker\":{\"pattern\":{\"fillmode\":\"overlay\",\"size\":10,\"solidity\":0.2}},\"type\":\"histogram\"}],\"scattergl\":[{\"type\":\"scattergl\",\"marker\":{\"colorbar\":{\"outlinewidth\":0,\"ticks\":\"\"}}}],\"scatter3d\":[{\"type\":\"scatter3d\",\"line\":{\"colorbar\":{\"outlinewidth\":0,\"ticks\":\"\"}},\"marker\":{\"colorbar\":{\"outlinewidth\":0,\"ticks\":\"\"}}}],\"scattermapbox\":[{\"type\":\"scattermapbox\",\"marker\":{\"colorbar\":{\"outlinewidth\":0,\"ticks\":\"\"}}}],\"scatterternary\":[{\"type\":\"scatterternary\",\"marker\":{\"colorbar\":{\"outlinewidth\":0,\"ticks\":\"\"}}}],\"scattercarpet\":[{\"type\":\"scattercarpet\",\"marker\":{\"colorbar\":{\"outlinewidth\":0,\"ticks\":\"\"}}}],\"carpet\":[{\"aaxis\":{\"endlinecolor\":\"#2a3f5f\",\"gridcolor\":\"white\",\"linecolor\":\"white\",\"minorgridcolor\":\"white\",\"startlinecolor\":\"#2a3f5f\"},\"baxis\":{\"endlinecolor\":\"#2a3f5f\",\"gridcolor\":\"white\",\"linecolor\":\"white\",\"minorgridcolor\":\"white\",\"startlinecolor\":\"#2a3f5f\"},\"type\":\"carpet\"}],\"table\":[{\"cells\":{\"fill\":{\"color\":\"#EBF0F8\"},\"line\":{\"color\":\"white\"}},\"header\":{\"fill\":{\"color\":\"#C8D4E3\"},\"line\":{\"color\":\"white\"}},\"type\":\"table\"}],\"barpolar\":[{\"marker\":{\"line\":{\"color\":\"#E5ECF6\",\"width\":0.5},\"pattern\":{\"fillmode\":\"overlay\",\"size\":10,\"solidity\":0.2}},\"type\":\"barpolar\"}],\"pie\":[{\"automargin\":true,\"type\":\"pie\"}]},\"layout\":{\"autotypenumbers\":\"strict\",\"colorway\":[\"#636efa\",\"#EF553B\",\"#00cc96\",\"#ab63fa\",\"#FFA15A\",\"#19d3f3\",\"#FF6692\",\"#B6E880\",\"#FF97FF\",\"#FECB52\"],\"font\":{\"color\":\"#2a3f5f\"},\"hovermode\":\"closest\",\"hoverlabel\":{\"align\":\"left\"},\"paper_bgcolor\":\"white\",\"plot_bgcolor\":\"#E5ECF6\",\"polar\":{\"bgcolor\":\"#E5ECF6\",\"angularaxis\":{\"gridcolor\":\"white\",\"linecolor\":\"white\",\"ticks\":\"\"},\"radialaxis\":{\"gridcolor\":\"white\",\"linecolor\":\"white\",\"ticks\":\"\"}},\"ternary\":{\"bgcolor\":\"#E5ECF6\",\"aaxis\":{\"gridcolor\":\"white\",\"linecolor\":\"white\",\"ticks\":\"\"},\"baxis\":{\"gridcolor\":\"white\",\"linecolor\":\"white\",\"ticks\":\"\"},\"caxis\":{\"gridcolor\":\"white\",\"linecolor\":\"white\",\"ticks\":\"\"}},\"coloraxis\":{\"colorbar\":{\"outlinewidth\":0,\"ticks\":\"\"}},\"colorscale\":{\"sequential\":[[0.0,\"#0d0887\"],[0.1111111111111111,\"#46039f\"],[0.2222222222222222,\"#7201a8\"],[0.3333333333333333,\"#9c179e\"],[0.4444444444444444,\"#bd3786\"],[0.5555555555555556,\"#d8576b\"],[0.6666666666666666,\"#ed7953\"],[0.7777777777777778,\"#fb9f3a\"],[0.8888888888888888,\"#fdca26\"],[1.0,\"#f0f921\"]],\"sequentialminus\":[[0.0,\"#0d0887\"],[0.1111111111111111,\"#46039f\"],[0.2222222222222222,\"#7201a8\"],[0.3333333333333333,\"#9c179e\"],[0.4444444444444444,\"#bd3786\"],[0.5555555555555556,\"#d8576b\"],[0.6666666666666666,\"#ed7953\"],[0.7777777777777778,\"#fb9f3a\"],[0.8888888888888888,\"#fdca26\"],[1.0,\"#f0f921\"]],\"diverging\":[[0,\"#8e0152\"],[0.1,\"#c51b7d\"],[0.2,\"#de77ae\"],[0.3,\"#f1b6da\"],[0.4,\"#fde0ef\"],[0.5,\"#f7f7f7\"],[0.6,\"#e6f5d0\"],[0.7,\"#b8e186\"],[0.8,\"#7fbc41\"],[0.9,\"#4d9221\"],[1,\"#276419\"]]},\"xaxis\":{\"gridcolor\":\"white\",\"linecolor\":\"white\",\"ticks\":\"\",\"title\":{\"standoff\":15},\"zerolinecolor\":\"white\",\"automargin\":true,\"zerolinewidth\":2},\"yaxis\":{\"gridcolor\":\"white\",\"linecolor\":\"white\",\"ticks\":\"\",\"title\":{\"standoff\":15},\"zerolinecolor\":\"white\",\"automargin\":true,\"zerolinewidth\":2},\"scene\":{\"xaxis\":{\"backgroundcolor\":\"#E5ECF6\",\"gridcolor\":\"white\",\"linecolor\":\"white\",\"showbackground\":true,\"ticks\":\"\",\"zerolinecolor\":\"white\",\"gridwidth\":2},\"yaxis\":{\"backgroundcolor\":\"#E5ECF6\",\"gridcolor\":\"white\",\"linecolor\":\"white\",\"showbackground\":true,\"ticks\":\"\",\"zerolinecolor\":\"white\",\"gridwidth\":2},\"zaxis\":{\"backgroundcolor\":\"#E5ECF6\",\"gridcolor\":\"white\",\"linecolor\":\"white\",\"showbackground\":true,\"ticks\":\"\",\"zerolinecolor\":\"white\",\"gridwidth\":2}},\"shapedefaults\":{\"line\":{\"color\":\"#2a3f5f\"}},\"annotationdefaults\":{\"arrowcolor\":\"#2a3f5f\",\"arrowhead\":0,\"arrowwidth\":1},\"geo\":{\"bgcolor\":\"white\",\"landcolor\":\"#E5ECF6\",\"subunitcolor\":\"white\",\"showland\":true,\"showlakes\":true,\"lakecolor\":\"white\"},\"title\":{\"x\":0.05},\"mapbox\":{\"style\":\"light\"}}},\"scene\":{\"domain\":{\"x\":[0.0,1.0],\"y\":[0.0,1.0]},\"xaxis\":{\"title\":{\"text\":\"white\"}},\"yaxis\":{\"title\":{\"text\":\"hs_grad\"}},\"zaxis\":{\"title\":{\"text\":\"poverty\"}}},\"legend\":{\"title\":{\"text\":\"poverty_pred\"},\"tracegroupgap\":0,\"yanchor\":\"top\",\"y\":0.99,\"xanchor\":\"left\",\"x\":0.01},\"title\":{\"text\":\"\\u0417\\u0430\\u0432\\u0438\\u0441\\u0438\\u043e\\u0441\\u0442\\u044c \\u043f\\u0440\\u043e\\u0446\\u0435\\u043d\\u0442\\u0430 \\u0431\\u0435\\u043b\\u043e\\u0433\\u043e \\u043d\\u0430\\u0441\\u0435\\u043b\\u0435\\u043d\\u0438\\u044f \\u0438 \\u0443\\u0440\\u043e\\u0432\\u043d\\u044f \\u043e\\u0431\\u0440\\u0430\\u0437\\u043e\\u0432\\u0430\\u043d\\u0438\\u044f \\u043d\\u0430 \\u0431\\u0435\\u0434\\u043d\\u043e\\u0441\\u0442\\u044c \\u043d\\u0430\\u0441\\u0435\\u043b\\u0435\\u043d\\u0438\\u044f\"}},                        {\"responsive\": true}                    ).then(function(){\n",
       "                            \n",
       "var gd = document.getElementById('689217a3-c88f-4d4b-af71-142206c40a25');\n",
       "var x = new MutationObserver(function (mutations, observer) {{\n",
       "        var display = window.getComputedStyle(gd).display;\n",
       "        if (!display || display === 'none') {{\n",
       "            console.log([gd, 'removed!']);\n",
       "            Plotly.purge(gd);\n",
       "            observer.disconnect();\n",
       "        }}\n",
       "}});\n",
       "\n",
       "// Listen for the removal of the full notebook cells\n",
       "var notebookContainer = gd.closest('#notebook-container');\n",
       "if (notebookContainer) {{\n",
       "    x.observe(notebookContainer, {childList: true});\n",
       "}}\n",
       "\n",
       "// Listen for the clearing of the current output cell\n",
       "var outputEl = gd.closest('.output');\n",
       "if (outputEl) {{\n",
       "    x.observe(outputEl, {childList: true});\n",
       "}}\n",
       "\n",
       "                        })                };                });            </script>        </div>"
      ]
     },
     "metadata": {},
     "output_type": "display_data"
    }
   ],
   "source": [
    "import pandas as pd\n",
    "import plotly.express as px\n",
    "import plotly.graph_objects as pgo\n",
    "import numpy as np\n",
    "import statsmodels.formula.api as smfa\n",
    "\n",
    "df = pd.read_csv('data/states.csv')\n",
    "\n",
    "lm = smfa.ols(formula='poverty ~ white + hs_grad', data = df).fit()\n",
    "#print(lm.summary())\n",
    "margin = 2\n",
    "mesh_size = 1\n",
    "x_min, x_max = df.white.min() - margin, df.white.max() + margin\n",
    "y_min, y_max = df.hs_grad.min() - margin, df.hs_grad.max() + margin\n",
    "z_pred = lambda x, y: lm.params.Intercept + lm.params.white * x  + lm.params.hs_grad * y\n",
    "x_range = np.arange(x_min, x_max, mesh_size)\n",
    "y_range = np.arange(y_min, y_max, mesh_size)\n",
    "z_range = np.array([[z_pred(x, y) for x in x_range] for y in y_range])\n",
    "\n",
    "df['poverty_pred'] = np.array([poverty >= z_pred(df.white[i], df.hs_grad[i]) for i, poverty in df.poverty.items()])\n",
    "\n",
    "fig = px.scatter_3d(df, x = 'white', y = 'hs_grad', z = 'poverty', \n",
    "                    color='poverty_pred', \n",
    "                    color_discrete_sequence=['red', 'green'],\n",
    "                   title='Зависиость процента белого населения и уровня образования на бедность населения')\n",
    "fig.update_traces(marker=dict(size=3))\n",
    "fig.add_traces(pgo.Surface(x = x_range, y = y_range, z = z_range, name = 'prediction', opacity=0.8, colorscale = 'sunset'))\n",
    "fig.update_layout(legend=dict(\n",
    "    yanchor=\"top\",\n",
    "    y=0.99,\n",
    "    xanchor=\"left\",\n",
    "    x=0.01\n",
    "))\n",
    "\n",
    "fig.show()"
   ]
  },
  {
   "cell_type": "code",
   "execution_count": 1467,
   "id": "255f2198",
   "metadata": {
    "scrolled": false
   },
   "outputs": [
    {
     "data": {
      "text/html": [
       "<table class=\"simpletable\">\n",
       "<caption>OLS Regression Results</caption>\n",
       "<tr>\n",
       "  <th>Dep. Variable:</th>         <td>poverty</td>     <th>  R-squared:         </th> <td>   0.642</td>\n",
       "</tr>\n",
       "<tr>\n",
       "  <th>Model:</th>                   <td>OLS</td>       <th>  Adj. R-squared:    </th> <td>   0.610</td>\n",
       "</tr>\n",
       "<tr>\n",
       "  <th>Method:</th>             <td>Least Squares</td>  <th>  F-statistic:       </th> <td>   20.58</td>\n",
       "</tr>\n",
       "<tr>\n",
       "  <th>Date:</th>             <td>Tue, 26 Jul 2022</td> <th>  Prob (F-statistic):</th> <td>8.88e-10</td>\n",
       "</tr>\n",
       "<tr>\n",
       "  <th>Time:</th>                 <td>12:01:38</td>     <th>  Log-Likelihood:    </th> <td> -103.39</td>\n",
       "</tr>\n",
       "<tr>\n",
       "  <th>No. Observations:</th>      <td>    51</td>      <th>  AIC:               </th> <td>   216.8</td>\n",
       "</tr>\n",
       "<tr>\n",
       "  <th>Df Residuals:</th>          <td>    46</td>      <th>  BIC:               </th> <td>   226.4</td>\n",
       "</tr>\n",
       "<tr>\n",
       "  <th>Df Model:</th>              <td>     4</td>      <th>                     </th>     <td> </td>   \n",
       "</tr>\n",
       "<tr>\n",
       "  <th>Covariance Type:</th>      <td>nonrobust</td>    <th>                     </th>     <td> </td>   \n",
       "</tr>\n",
       "</table>\n",
       "<table class=\"simpletable\">\n",
       "<tr>\n",
       "        <td></td>          <th>coef</th>     <th>std err</th>      <th>t</th>      <th>P>|t|</th>  <th>[0.025</th>    <th>0.975]</th>  \n",
       "</tr>\n",
       "<tr>\n",
       "  <th>Intercept</th>    <td>   66.4765</td> <td>   12.590</td> <td>    5.280</td> <td> 0.000</td> <td>   41.134</td> <td>   91.819</td>\n",
       "</tr>\n",
       "<tr>\n",
       "  <th>metro_res</th>    <td>   -0.0563</td> <td>    0.020</td> <td>   -2.881</td> <td> 0.006</td> <td>   -0.096</td> <td>   -0.017</td>\n",
       "</tr>\n",
       "<tr>\n",
       "  <th>white</th>        <td>   -0.0481</td> <td>    0.033</td> <td>   -1.456</td> <td> 0.152</td> <td>   -0.115</td> <td>    0.018</td>\n",
       "</tr>\n",
       "<tr>\n",
       "  <th>hs_grad</th>      <td>   -0.5547</td> <td>    0.105</td> <td>   -5.288</td> <td> 0.000</td> <td>   -0.766</td> <td>   -0.344</td>\n",
       "</tr>\n",
       "<tr>\n",
       "  <th>female_house</th> <td>    0.0505</td> <td>    0.243</td> <td>    0.208</td> <td> 0.836</td> <td>   -0.439</td> <td>    0.540</td>\n",
       "</tr>\n",
       "</table>\n",
       "<table class=\"simpletable\">\n",
       "<tr>\n",
       "  <th>Omnibus:</th>       <td> 3.254</td> <th>  Durbin-Watson:     </th> <td>   1.891</td>\n",
       "</tr>\n",
       "<tr>\n",
       "  <th>Prob(Omnibus):</th> <td> 0.197</td> <th>  Jarque-Bera (JB):  </th> <td>   3.043</td>\n",
       "</tr>\n",
       "<tr>\n",
       "  <th>Skew:</th>          <td> 0.585</td> <th>  Prob(JB):          </th> <td>   0.218</td>\n",
       "</tr>\n",
       "<tr>\n",
       "  <th>Kurtosis:</th>      <td> 2.750</td> <th>  Cond. No.          </th> <td>6.50e+03</td>\n",
       "</tr>\n",
       "</table><br/><br/>Notes:<br/>[1] Standard Errors assume that the covariance matrix of the errors is correctly specified.<br/>[2] The condition number is large, 6.5e+03. This might indicate that there are<br/>strong multicollinearity or other numerical problems."
      ],
      "text/plain": [
       "<class 'statsmodels.iolib.summary.Summary'>\n",
       "\"\"\"\n",
       "                            OLS Regression Results                            \n",
       "==============================================================================\n",
       "Dep. Variable:                poverty   R-squared:                       0.642\n",
       "Model:                            OLS   Adj. R-squared:                  0.610\n",
       "Method:                 Least Squares   F-statistic:                     20.58\n",
       "Date:                Tue, 26 Jul 2022   Prob (F-statistic):           8.88e-10\n",
       "Time:                        12:01:38   Log-Likelihood:                -103.39\n",
       "No. Observations:                  51   AIC:                             216.8\n",
       "Df Residuals:                      46   BIC:                             226.4\n",
       "Df Model:                           4                                         \n",
       "Covariance Type:            nonrobust                                         \n",
       "================================================================================\n",
       "                   coef    std err          t      P>|t|      [0.025      0.975]\n",
       "--------------------------------------------------------------------------------\n",
       "Intercept       66.4765     12.590      5.280      0.000      41.134      91.819\n",
       "metro_res       -0.0563      0.020     -2.881      0.006      -0.096      -0.017\n",
       "white           -0.0481      0.033     -1.456      0.152      -0.115       0.018\n",
       "hs_grad         -0.5547      0.105     -5.288      0.000      -0.766      -0.344\n",
       "female_house     0.0505      0.243      0.208      0.836      -0.439       0.540\n",
       "==============================================================================\n",
       "Omnibus:                        3.254   Durbin-Watson:                   1.891\n",
       "Prob(Omnibus):                  0.197   Jarque-Bera (JB):                3.043\n",
       "Skew:                           0.585   Prob(JB):                        0.218\n",
       "Kurtosis:                       2.750   Cond. No.                     6.50e+03\n",
       "==============================================================================\n",
       "\n",
       "Notes:\n",
       "[1] Standard Errors assume that the covariance matrix of the errors is correctly specified.\n",
       "[2] The condition number is large, 6.5e+03. This might indicate that there are\n",
       "strong multicollinearity or other numerical problems.\n",
       "\"\"\""
      ]
     },
     "execution_count": 1467,
     "metadata": {},
     "output_type": "execute_result"
    }
   ],
   "source": [
    "import pandas as pd\n",
    "import statsmodels.formula.api as smf\n",
    "\n",
    "df = pd.read_csv('data/states.csv')\n",
    "lm = smf.ols(formula = 'poverty ~ metro_res + white + hs_grad + female_house', data = df).fit()\n",
    "\n",
    "# lm.params\n",
    "\n",
    "lm.summary()"
   ]
  },
  {
   "cell_type": "code",
   "execution_count": 1491,
   "id": "54b2b014",
   "metadata": {
    "scrolled": false
   },
   "outputs": [
    {
     "data": {
      "image/png": "[encoded data removed]",
      "text/plain": [
       "<Figure size 720x720 with 25 Axes>"
      ]
     },
     "metadata": {
      "needs_background": "light"
     },
     "output_type": "display_data"
    }
   ],
   "source": [
    "import pandas as pd\n",
    "import matplotlib.pyplot as plt\n",
    "import numpy as np\n",
    "\n",
    "axes = pd.plotting.scatter_matrix(df,figsize = (10,10), diagonal=\"kde\", grid=True)\n",
    "data_corr = df.corr().values\n",
    "for i, j in zip(*plt.np.triu_indices_from(axes, k=1)):\n",
    "    axes[i, j].annotate(\"%.3f\" %data_corr[i,j], (0.2, 0.1), xycoords='axes fraction', ha='center', va='center')\n",
    "plt.show()"
   ]
  },
  {
   "cell_type": "code",
   "execution_count": 1498,
   "id": "3a5da0dd",
   "metadata": {},
   "outputs": [
    {
     "name": "stdout",
     "output_type": "stream",
     "text": [
      "0.55 hs_grad\n",
      "0.58 hs_grad + metro_res\n",
      "0.62 hs_grad + white + metro_res\n",
      "0.55 hs_grad + female_house + white\n",
      "0.6 hs_grad + female_house + metro_res\n",
      "0.26 female_house\n",
      "0.55 hs_grad + female_house\n",
      "0.61 hs_grad + female_house + white + metro_res\n",
      "0.17 white + metro_res\n",
      "0.56 hs_grad + white\n",
      "0.26 female_house + white\n",
      "0.077 white\n",
      "0.4 female_house + metro_res\n",
      "0.39 female_house + white + metro_res\n",
      "0.022 metro_res\n",
      "\n",
      "Вывод: сочетание \"white + metro_res + hs_grad\" даёт наилучший результат. Т.к. Adj.R-squared наибольшее и = 0.62\n"
     ]
    }
   ],
   "source": [
    "# Найдём такой набор фичей, что R-squared максимальна\n",
    "features = {'metro_res', 'white', 'hs_grad', 'female_house'}\n",
    "\n",
    "# Рекурсивно переберём все сочетания переменных\n",
    "def brute_force(params: set, formula: str, result: set) -> str:\n",
    "    if not params:\n",
    "        result.add(formula.lstrip('+ '))\n",
    "        return \n",
    "    else:\n",
    "        new_params = params.copy()\n",
    "        for el in params:\n",
    "            new_params.remove(el)\n",
    "\n",
    "            brute_force(new_params, formula + ' + ' + el, result)\n",
    "            brute_force(new_params, formula, result)\n",
    "\n",
    "res = set()          \n",
    "brute_force(features, '', res)\n",
    "res.remove('')\n",
    "\n",
    "# Теперь посчитаем Adjusted R-Square для каждого сочетания и выведем на экран\n",
    "for formula in res:\n",
    "    lm = smf.ols(formula='poverty ~ ' + formula, data=df).fit()\n",
    "    print(f'{lm.rsquared_adj:.2}', formula)\n",
    "    \n",
    "print()\n",
    "print('Вывод: сочетание \"white + metro_res + hs_grad\" даёт наилучший результат. Т.к. Adj.R-squared наибольшее и = 0.62')"
   ]
  },
  {
   "cell_type": "code",
   "execution_count": 1496,
   "id": "c99ee05a",
   "metadata": {
    "scrolled": false
   },
   "outputs": [
    {
     "data": {
      "text/html": [
       "<table class=\"simpletable\">\n",
       "<caption>OLS Regression Results</caption>\n",
       "<tr>\n",
       "  <th>Dep. Variable:</th>         <td>poverty</td>     <th>  R-squared:         </th> <td>   0.641</td>\n",
       "</tr>\n",
       "<tr>\n",
       "  <th>Model:</th>                   <td>OLS</td>       <th>  Adj. R-squared:    </th> <td>   0.618</td>\n",
       "</tr>\n",
       "<tr>\n",
       "  <th>Method:</th>             <td>Least Squares</td>  <th>  F-statistic:       </th> <td>   28.00</td>\n",
       "</tr>\n",
       "<tr>\n",
       "  <th>Date:</th>             <td>Tue, 26 Jul 2022</td> <th>  Prob (F-statistic):</th> <td>1.55e-10</td>\n",
       "</tr>\n",
       "<tr>\n",
       "  <th>Time:</th>                 <td>12:38:46</td>     <th>  Log-Likelihood:    </th> <td> -103.41</td>\n",
       "</tr>\n",
       "<tr>\n",
       "  <th>No. Observations:</th>      <td>    51</td>      <th>  AIC:               </th> <td>   214.8</td>\n",
       "</tr>\n",
       "<tr>\n",
       "  <th>Df Residuals:</th>          <td>    47</td>      <th>  BIC:               </th> <td>   222.5</td>\n",
       "</tr>\n",
       "<tr>\n",
       "  <th>Df Model:</th>              <td>     3</td>      <th>                     </th>     <td> </td>   \n",
       "</tr>\n",
       "<tr>\n",
       "  <th>Covariance Type:</th>      <td>nonrobust</td>    <th>                     </th>     <td> </td>   \n",
       "</tr>\n",
       "</table>\n",
       "<table class=\"simpletable\">\n",
       "<tr>\n",
       "      <td></td>         <th>coef</th>     <th>std err</th>      <th>t</th>      <th>P>|t|</th>  <th>[0.025</th>    <th>0.975]</th>  \n",
       "</tr>\n",
       "<tr>\n",
       "  <th>Intercept</th> <td>   68.7220</td> <td>    6.389</td> <td>   10.756</td> <td> 0.000</td> <td>   55.869</td> <td>   81.575</td>\n",
       "</tr>\n",
       "<tr>\n",
       "  <th>metro_res</th> <td>   -0.0555</td> <td>    0.019</td> <td>   -2.926</td> <td> 0.005</td> <td>   -0.094</td> <td>   -0.017</td>\n",
       "</tr>\n",
       "<tr>\n",
       "  <th>white</th>     <td>   -0.0533</td> <td>    0.021</td> <td>   -2.483</td> <td> 0.017</td> <td>   -0.097</td> <td>   -0.010</td>\n",
       "</tr>\n",
       "<tr>\n",
       "  <th>hs_grad</th>   <td>   -0.5697</td> <td>    0.075</td> <td>   -7.569</td> <td> 0.000</td> <td>   -0.721</td> <td>   -0.418</td>\n",
       "</tr>\n",
       "</table>\n",
       "<table class=\"simpletable\">\n",
       "<tr>\n",
       "  <th>Omnibus:</th>       <td> 3.479</td> <th>  Durbin-Watson:     </th> <td>   1.900</td>\n",
       "</tr>\n",
       "<tr>\n",
       "  <th>Prob(Omnibus):</th> <td> 0.176</td> <th>  Jarque-Bera (JB):  </th> <td>   3.230</td>\n",
       "</tr>\n",
       "<tr>\n",
       "  <th>Skew:</th>          <td> 0.607</td> <th>  Prob(JB):          </th> <td>   0.199</td>\n",
       "</tr>\n",
       "<tr>\n",
       "  <th>Kurtosis:</th>      <td> 2.787</td> <th>  Cond. No.          </th> <td>3.32e+03</td>\n",
       "</tr>\n",
       "</table><br/><br/>Notes:<br/>[1] Standard Errors assume that the covariance matrix of the errors is correctly specified.<br/>[2] The condition number is large, 3.32e+03. This might indicate that there are<br/>strong multicollinearity or other numerical problems."
      ],
      "text/plain": [
       "<class 'statsmodels.iolib.summary.Summary'>\n",
       "\"\"\"\n",
       "                            OLS Regression Results                            \n",
       "==============================================================================\n",
       "Dep. Variable:                poverty   R-squared:                       0.641\n",
       "Model:                            OLS   Adj. R-squared:                  0.618\n",
       "Method:                 Least Squares   F-statistic:                     28.00\n",
       "Date:                Tue, 26 Jul 2022   Prob (F-statistic):           1.55e-10\n",
       "Time:                        12:38:46   Log-Likelihood:                -103.41\n",
       "No. Observations:                  51   AIC:                             214.8\n",
       "Df Residuals:                      47   BIC:                             222.5\n",
       "Df Model:                           3                                         \n",
       "Covariance Type:            nonrobust                                         \n",
       "==============================================================================\n",
       "                 coef    std err          t      P>|t|      [0.025      0.975]\n",
       "------------------------------------------------------------------------------\n",
       "Intercept     68.7220      6.389     10.756      0.000      55.869      81.575\n",
       "metro_res     -0.0555      0.019     -2.926      0.005      -0.094      -0.017\n",
       "white         -0.0533      0.021     -2.483      0.017      -0.097      -0.010\n",
       "hs_grad       -0.5697      0.075     -7.569      0.000      -0.721      -0.418\n",
       "==============================================================================\n",
       "Omnibus:                        3.479   Durbin-Watson:                   1.900\n",
       "Prob(Omnibus):                  0.176   Jarque-Bera (JB):                3.230\n",
       "Skew:                           0.607   Prob(JB):                        0.199\n",
       "Kurtosis:                       2.787   Cond. No.                     3.32e+03\n",
       "==============================================================================\n",
       "\n",
       "Notes:\n",
       "[1] Standard Errors assume that the covariance matrix of the errors is correctly specified.\n",
       "[2] The condition number is large, 3.32e+03. This might indicate that there are\n",
       "strong multicollinearity or other numerical problems.\n",
       "\"\"\""
      ]
     },
     "execution_count": 1496,
     "metadata": {},
     "output_type": "execute_result"
    }
   ],
   "source": [
    "lm = smf.ols(formula='poverty ~ metro_res + white + hs_grad', data=df).fit()\n",
    "\n",
    "# print the coefficients\n",
    "#lm.params\n",
    "\n",
    "# print a summary of the fitted model\n",
    "lm.summary()"
   ]
  },
  {
   "cell_type": "markdown",
   "id": "fbccf25c",
   "metadata": {},
   "source": [
    "---\n",
    "\n",
    "[Про выбор наилучшей регрессионной модели](https://www.kaggle.com/code/junkal/selecting-the-best-regression-model/notebook)\n",
    "\n",
    "---"
   ]
  },
  {
   "cell_type": "markdown",
   "id": "aadb87d3",
   "metadata": {},
   "source": [
    "### Хи квадрат"
   ]
  },
  {
   "cell_type": "markdown",
   "id": "ed8a159a",
   "metadata": {},
   "source": [
    "$$ \\chi^2 = \\sum_{i=1}^{n} \\frac{(O_i-E_i)^2}{E_i} $$,\n",
    "где $ O_i $ - наблюдаемая частота, $ E_i $ - ожидаемая частота"
   ]
  },
  {
   "cell_type": "markdown",
   "id": "5c20726c",
   "metadata": {},
   "source": [
    "$ H_0 $ - предполагаем, что распределение частот равномерное"
   ]
  },
  {
   "cell_type": "markdown",
   "id": "6199f428",
   "metadata": {},
   "source": [
    "**Задача:**\n",
    "\n",
    "Эмпирическое распределение частот некоторого номинативного признака с тремя градациями приняло вид\n",
    "18, 55, 27. Предполагаемое теоретическое распределение — 1 : 2 : 1.\n",
    "\n",
    "Рассчитайте расстояние хи-квадрат и введите получившееся значение с точностью хотя бы до одной цифры после запятой."
   ]
  },
  {
   "cell_type": "code",
   "execution_count": 371,
   "id": "d82692d8",
   "metadata": {},
   "outputs": [
    {
     "name": "stdout",
     "output_type": "stream",
     "text": [
      "2.62\n"
     ]
    },
    {
     "data": {
      "text/plain": [
       "Power_divergenceResult(statistic=2.62, pvalue=0.26982005638468687)"
      ]
     },
     "execution_count": 371,
     "metadata": {},
     "output_type": "execute_result"
    }
   ],
   "source": [
    "import scipy.stats as st\n",
    "result = st.chisquare([18, 55, 27], f_exp = [25, 50, 25])\n",
    "\n",
    "print(result[0])\n",
    "result"
   ]
  },
  {
   "cell_type": "markdown",
   "id": "a4b41f18",
   "metadata": {},
   "source": [
    "Критическое значение для $ \\chi^2 $ для p < 0.05 равняется 5.9 (df = 2)"
   ]
  },
  {
   "cell_type": "markdown",
   "id": "faa8773f",
   "metadata": {},
   "source": [
    "Если эксперимент, где всего лишь 2 значения номинативного признака и зная один из них мы можем найти значение другого, то df = 1\n",
    "\n",
    "Пример: монетка (df = 1), игральный кубик (df = 5)\n",
    "\n",
    "При этом зная общее число бросков"
   ]
  },
  {
   "cell_type": "markdown",
   "id": "40ff9a47",
   "metadata": {},
   "source": [
    "**Распределение $\\chi^2$:**"
   ]
  },
  {
   "cell_type": "code",
   "execution_count": 518,
   "id": "5892b83d",
   "metadata": {},
   "outputs": [
    {
     "data": {
      "image/png": "[encoded data removed]",
      "text/plain": [
       "<Figure size 432x288 with 1 Axes>"
      ]
     },
     "metadata": {
      "needs_background": "light"
     },
     "output_type": "display_data"
    }
   ],
   "source": [
    "import scipy.stats as sp\n",
    "import numpy as np\n",
    "import matplotlib.pyplot as plt\n",
    "\n",
    "fig, ax = plt.subplots()\n",
    "p = 0.95\n",
    "df = 3\n",
    "chi_value = sp.chi2.isf(1-p, df = df)\n",
    "y = sp.chi2.pdf(x, df = df)\n",
    "ax.plot(x, y)\n",
    "x = np.linspace(0, 10, 300)\n",
    "left_x, right_x = x <= chi_value, x >= chi_value\n",
    "ax.fill_between(x[left_x], y[left_x], color = '#99EF67')\n",
    "ax.fill_between(x[right_x], y[right_x], color = '#FF6E64')\n",
    "plt.show()"
   ]
  },
  {
   "cell_type": "markdown",
   "id": "38fb6219",
   "metadata": {},
   "source": [
    "**Задача:**\n",
    "\n",
    "Какая доля наблюдений лежит в диапазоне от 2 до 4 у распределения хи-квадрат с двумя степенями свободы?"
   ]
  },
  {
   "cell_type": "code",
   "execution_count": 379,
   "id": "69ed4714",
   "metadata": {},
   "outputs": [
    {
     "name": "stdout",
     "output_type": "stream",
     "text": [
      "0.23254415793482974\n"
     ]
    }
   ],
   "source": [
    "print(st.chi2.sf(2, 2) - st.chi2.sf(4, 2))"
   ]
  },
  {
   "cell_type": "markdown",
   "id": "f20bcedc",
   "metadata": {},
   "source": [
    "<img src = 'img/chi-squared1.png' align = midlle width = 400>\n",
    "<img src = 'img/chi-squared2.png' align = middle width = 400>"
   ]
  },
  {
   "cell_type": "markdown",
   "id": "7867f608",
   "metadata": {},
   "source": [
    "Рассчитаем p-уровень значимости для примера с игральной костью. Значения наблюдаемых частот (от единички до шестерки):\n",
    "\n",
    "10, 10, 10, 5, 10, 15\n",
    "\n",
    "Проверьте нулевую гипотезу о том, что эмпирическое распределение частот не отличается от равномерного. В поле для ответа введите получившийся p-уровень значимости. "
   ]
  },
  {
   "cell_type": "code",
   "execution_count": 380,
   "id": "9421d95d",
   "metadata": {},
   "outputs": [
    {
     "data": {
      "text/plain": [
       "Power_divergenceResult(statistic=5.0, pvalue=0.4158801869955079)"
      ]
     },
     "execution_count": 380,
     "metadata": {},
     "output_type": "execute_result"
    }
   ],
   "source": [
    "# Observed | Expected frequencies\n",
    "st.chisquare([10, 10, 10, 5, 10, 15], f_exp = [10, 10, 10, 10, 10, 10])"
   ]
  },
  {
   "cell_type": "markdown",
   "id": "da2bd5a2",
   "metadata": {},
   "source": [
    "**Задача:**\n",
    "\n",
    "Проверьте гипотезу о том, что в ГС нет никаких различий в предпочтениях трех партий\n",
    "<img src = \"img/plot2.png\">"
   ]
  },
  {
   "cell_type": "code",
   "execution_count": 237,
   "id": "ac0d4f77",
   "metadata": {
    "scrolled": true
   },
   "outputs": [
    {
     "data": {
      "text/plain": [
       "Power_divergenceResult(statistic=26.666666666666668, pvalue=1.61959679231261e-06)"
      ]
     },
     "execution_count": 237,
     "metadata": {},
     "output_type": "execute_result"
    }
   ],
   "source": [
    "st.chisquare([10, 30, 50], f_exp = [30, 30, 30])"
   ]
  },
  {
   "cell_type": "markdown",
   "id": "ea4fb90e",
   "metadata": {},
   "source": [
    "**Задача:**\n",
    "\n",
    "\n",
    "В группе 15 юношей и 9 девушек, проверьте гипотезу о том, что распределение частот девушек и юношей не отличается от равномерного в генеральной совокупности студентов"
   ]
  },
  {
   "cell_type": "code",
   "execution_count": 381,
   "id": "2f2fbc2d",
   "metadata": {},
   "outputs": [
    {
     "data": {
      "text/plain": [
       "Power_divergenceResult(statistic=1.5, pvalue=0.22067136191984324)"
      ]
     },
     "execution_count": 381,
     "metadata": {},
     "output_type": "execute_result"
    }
   ],
   "source": [
    "st.chisquare([15, 9], f_exp = [12, 12])"
   ]
  },
  {
   "cell_type": "markdown",
   "id": "f8459c2f",
   "metadata": {},
   "source": [
    "**Задача:**\n",
    "\n",
    "В 2013 году Эдвард Сноуден передал СМИ секретную информацию АНБ, касающуюся слежки американских спецслужб за информационными коммуникациями между гражданами. Однако ﻿его поступок вызвал неоднозначную реакцию в обществе. Исследовательский центр USA TODAY провел опрос 1500 граждан США с целью выяснить, воспринимают ли они поступок Сноудена как положительный или отрицательный. 53% опрошенных респондентов оценили разоблачение положительно.\n",
    "\n",
    "При помощи теста хи-квадрат проверьте нулевую гипотезу о том, что в генеральной совокупности распределение отношения к поступку Сноудена является равномерным, то есть 50 на 50."
   ]
  },
  {
   "cell_type": "code",
   "execution_count": 239,
   "id": "c9e42a14",
   "metadata": {},
   "outputs": [
    {
     "data": {
      "text/plain": [
       "Power_divergenceResult(statistic=5.4, pvalue=0.02013675155034633)"
      ]
     },
     "execution_count": 239,
     "metadata": {},
     "output_type": "execute_result"
    }
   ],
   "source": [
    "st.chisquare([795, 705], f_exp = [750, 750])"
   ]
  },
  {
   "cell_type": "markdown",
   "id": "f431044e",
   "metadata": {},
   "source": [
    "### Анализ таблиц сопряженности"
   ]
  },
  {
   "cell_type": "markdown",
   "id": "39521f90",
   "metadata": {},
   "source": [
    "#### Для расчета вручную:\n",
    "<img src = \"img/slide1.png\" width = 650>"
   ]
  },
  {
   "cell_type": "markdown",
   "id": "71f483d3",
   "metadata": {},
   "source": [
    "**Задача:**\n",
    "\n",
    "В таблице представлены результаты эксперимента, направленного на проверку гипотезы о взаимосвязи двух номинативных переменных с двумя градациями. Рассчитайте ожидаемые частоты для проверки нулевой гипотезы о независимости двух переменных X и Y.\n",
    "\n",
    "<img src = \"img/table1.png\">\n",
    "\n",
    "Напишите максимальное значение из четырех ожидаемых частот."
   ]
  },
  {
   "cell_type": "code",
   "execution_count": 391,
   "id": "a6d7a3f6",
   "metadata": {},
   "outputs": [
    {
     "name": "stdout",
     "output_type": "stream",
     "text": [
      "11.666666666666666\n"
     ]
    },
    {
     "data": {
      "text/plain": [
       "(3.715714285714286,\n",
       " 0.053902557169387154,\n",
       " 1,\n",
       " array([[ 6.66666667,  9.33333333],\n",
       "        [ 8.33333333, 11.66666667]]))"
      ]
     },
     "execution_count": 391,
     "metadata": {},
     "output_type": "execute_result"
    }
   ],
   "source": [
    "observed = [[10, 6], [5, 15]]\n",
    "\n",
    "# return values: chi2 | p-value | dof (degrees of freedom) | expected values\n",
    "print(st.chi2_contingency(observed)[3].max())\n",
    "\n",
    "st.chi2_contingency(observed)"
   ]
  },
  {
   "cell_type": "markdown",
   "id": "ed11e9bc",
   "metadata": {},
   "source": [
    "Формула для расчета ожидаемых частот в таблице сопряженности:\n",
    "$$ f_{i, j} = \\frac{f_i \\cdot f_j}{N} $$\n",
    "\n",
    "$f_i$ - число наблюдений в $i$-ой строке\n",
    "\n",
    "$f_j$ - число наблюдений в $j$-ом столбце\n",
    "\n",
    "$N$ - общее количество наблюдений в таблице"
   ]
  },
  {
   "cell_type": "markdown",
   "id": "e3aa1e2d",
   "metadata": {},
   "source": [
    "<img src = \"img/slide2.png\" width = 650>"
   ]
  },
  {
   "cell_type": "markdown",
   "id": "aeb40396",
   "metadata": {},
   "source": [
    "### Поправка Йетса\n",
    "\n",
    "<img src = \"img/slide3.png\" width = 650>"
   ]
  },
  {
   "cell_type": "markdown",
   "id": "58945967",
   "metadata": {},
   "source": [
    "df при расчете $\\chi^2$ равняется: df = (n - 1)(m - 1)"
   ]
  },
  {
   "cell_type": "markdown",
   "id": "b5c72eda",
   "metadata": {},
   "source": [
    "**Задача:**\n",
    "\n",
    "Перед знаком стоп некоторые водители останавливаются полностью, другие лишь сбавляют скорость, но некоторые не останавливаются вообще. Важнейший вопрос, есть ли взаимосвязь между полом и стилем вождения автомобиля!  Ниже представлена таблица сопряженности данных исследования, посвященного этому вопросу.\n",
    "\n",
    "<img src = \"img/table2.png\">"
   ]
  },
  {
   "cell_type": "code",
   "execution_count": 394,
   "id": "5e830a5d",
   "metadata": {},
   "outputs": [
    {
     "data": {
      "text/plain": [
       "(0.9544070774762996,\n",
       " 0.6205162173513055,\n",
       " 2,\n",
       " array([[17.97297297, 17.02702703],\n",
       "        [11.81081081, 11.18918919],\n",
       "        [ 8.21621622,  7.78378378]]))"
      ]
     },
     "execution_count": 394,
     "metadata": {},
     "output_type": "execute_result"
    }
   ],
   "source": [
    "import pandas as pd\n",
    "df = pd.DataFrame(np.array([(20, 15), (11, 12), (7, 9)]), index = ['Тормозят', 'Притормаживают', 'Не тормозят'], columns = ['Мужчины', 'Женщины'])\n",
    "\n",
    "chi_tuple = st.chi2_contingency(df, correction = False)\n",
    "chi_tuple\n",
    "#st.chisquare(df.to_numpy().ravel(), f_exp = chi_tuple[3].ravel())"
   ]
  },
  {
   "cell_type": "markdown",
   "id": "b4a7acc8",
   "metadata": {},
   "source": [
    "<img src = \"img/table3.png\" width = 650>"
   ]
  },
  {
   "cell_type": "code",
   "execution_count": 419,
   "id": "744d6357",
   "metadata": {},
   "outputs": [
    {
     "data": {
      "image/png": "[encoded data removed]",
      "text/plain": [
       "<Figure size 432x288 with 3 Axes>"
      ]
     },
     "metadata": {
      "needs_background": "light"
     },
     "output_type": "display_data"
    }
   ],
   "source": [
    "from statsmodels.graphics.mosaicplot import mosaic\n",
    "props = lambda key: {'color': '#FFD254' if 'Trombosis' in key else '#AB2314'}\n",
    "pill_data = {('Normal', 'Aspirine'): 18, \n",
    "             ('Normal', 'Placebo'): 7,\n",
    "             ('Trombosis', 'Aspirine'): 6,\n",
    "             ('Trombosis', 'Placebo'): 13\n",
    "            }\n",
    "\n",
    "my_plot = mosaic(pill_data, gap = 0.04) #, properties = props)"
   ]
  },
  {
   "cell_type": "markdown",
   "id": "33dd4dec",
   "metadata": {},
   "source": [
    "- размер прямоугольников  соответствует количеству наблюдений.\n",
    "- цвет прямоугольников - величине значимости отклонения ожидаемых и наблюдаемых частот в этой ячейке.\n",
    "- если значения стандартизированных остатков больше 3х, можно считать, что в этой ячейке зафиксированы значимые отклонения.\n",
    "\n",
    "*Без понятия как вывести легенду*"
   ]
  },
  {
   "cell_type": "markdown",
   "id": "3cd47997",
   "metadata": {},
   "source": [
    "### Точный критерий Фишера"
   ]
  },
  {
   "cell_type": "markdown",
   "id": "e12c54c4",
   "metadata": {},
   "source": [
    "Используется при маленьких выборках, но сейчас, так как есть компьютеры может использоваться и на больших выборках"
   ]
  },
  {
   "cell_type": "markdown",
   "id": "688ff93b",
   "metadata": {},
   "source": [
    "$$ \\frac{C^a_{a+b} \\cdot C^c_{c+d}}{C^{a + c}_n} $$"
   ]
  },
  {
   "cell_type": "markdown",
   "id": "5f9c2afb",
   "metadata": {},
   "source": [
    "<img src = \"img/slide4.png\">"
   ]
  },
  {
   "cell_type": "code",
   "execution_count": 432,
   "id": "59cf3be8",
   "metadata": {},
   "outputs": [
    {
     "name": "stdout",
     "output_type": "stream",
     "text": [
      "0.48571428571428565\n"
     ]
    }
   ],
   "source": [
    "odds_ratio, p_value = st.fisher_exact([[1, 3], [3, 1]])\n",
    "\n",
    "print(p_value)"
   ]
  },
  {
   "cell_type": "markdown",
   "id": "aa459308",
   "metadata": {},
   "source": [
    "<img src = \"img/slide5.png\">"
   ]
  },
  {
   "cell_type": "markdown",
   "id": "a524ac6a",
   "metadata": {},
   "source": [
    "### Логистическая регрессия"
   ]
  },
  {
   "cell_type": "code",
   "execution_count": 762,
   "id": "de2292dd",
   "metadata": {},
   "outputs": [],
   "source": [
    "import warnings\n",
    "\n",
    "warnings.filterwarnings('ignore')\n",
    "#warnings.filterwarnings('always')\n",
    "#warnings.simplefilter('always')"
   ]
  },
  {
   "cell_type": "code",
   "execution_count": 760,
   "id": "4509fbfe",
   "metadata": {},
   "outputs": [
    {
     "data": {
      "image/png": "[encoded data removed]",
      "text/plain": [
       "<Figure size 1440x720 with 1 Axes>"
      ]
     },
     "metadata": {
      "needs_background": "light"
     },
     "output_type": "display_data"
    }
   ],
   "source": [
    "import numpy as np\n",
    "import matplotlib.pyplot as plt\n",
    "\n",
    "fig = plt.subplots(figsize = (20, 10))\n",
    "\n",
    "def odds(p):\n",
    "    return p / (1 - p)\n",
    "\n",
    "def logit(x):\n",
    "    return np.exp(x) / (1 + np.exp(x))\n",
    "\n",
    "p1 = np.linspace(0, 1, 10000)\n",
    "x1 = np.log(odds(p1))\n",
    "x2 = np.linspace(-10, 10, 10000)\n",
    "p2 = logit(x2)\n",
    "\n",
    "plt.plot(x1, p1, label='x = ln(odds); odds=p/(1-p))')\n",
    "plt.plot(x2, p2, 'r:', label='p = exp(x)/(1 + exp(x))')\n",
    "plt.legend()\n",
    "plt.show()"
   ]
  },
  {
   "cell_type": "code",
   "execution_count": 763,
   "id": "38f75fc7",
   "metadata": {},
   "outputs": [],
   "source": [
    "import warnings\n",
    "warnings.filterwarnings('always')"
   ]
  },
  {
   "cell_type": "markdown",
   "id": "4a68caa2",
   "metadata": {},
   "source": [
    "**Задача:**\n",
    "\n",
    "Предположим, мы подбросили монетку 100 раз, и 70 раз выпал орел. Чему равняется натуральный логарифм шансов выпадения решки?"
   ]
  },
  {
   "cell_type": "code",
   "execution_count": 439,
   "id": "fc614a22",
   "metadata": {
    "scrolled": true
   },
   "outputs": [
    {
     "data": {
      "text/plain": [
       "-0.8472978603872037"
      ]
     },
     "execution_count": 439,
     "metadata": {},
     "output_type": "execute_result"
    }
   ],
   "source": [
    "np.log(30/70)"
   ]
  },
  {
   "cell_type": "markdown",
   "id": "896e15cc",
   "metadata": {},
   "source": [
    "**Задача:**\n",
    "\n",
    "Предположим, что мы получили логарифм шансов выпадения решки, равный -1. Тогда вероятность выпадения решки равняется:"
   ]
  },
  {
   "cell_type": "markdown",
   "id": "ac163543",
   "metadata": {},
   "source": [
    "<img src = \"img/written_records1.jpeg\" width = 300>"
   ]
  },
  {
   "cell_type": "code",
   "execution_count": 440,
   "id": "4da62fb1",
   "metadata": {},
   "outputs": [
    {
     "name": "stdout",
     "output_type": "stream",
     "text": [
      "0.2689414213699951\n"
     ]
    }
   ],
   "source": [
    "p = 1/(1+np.e)\n",
    "print(p)"
   ]
  },
  {
   "cell_type": "markdown",
   "id": "05d9d351",
   "metadata": {},
   "source": [
    "**Задача:**\n",
    "\n",
    "<img src = \"img/table4.png\">\n",
    "\n",
    "Рассчитайте логарифм шанса, того что случайно выбранный человек из нашей выборки окажется биологом."
   ]
  },
  {
   "cell_type": "code",
   "execution_count": 301,
   "id": "992b0a89",
   "metadata": {},
   "outputs": [
    {
     "data": {
      "text/plain": [
       "0.3448404862917296"
      ]
     },
     "execution_count": 301,
     "metadata": {},
     "output_type": "execute_result"
    }
   ],
   "source": [
    "np.log(24/17)"
   ]
  },
  {
   "cell_type": "markdown",
   "id": "63e53005",
   "metadata": {},
   "source": [
    "**Задача:**\n",
    "\n",
    "С помощью логистической регрессии без предикторов мы захотели узнать, правда ли, что сдавая Анатолию Дмитриевичу, легче провалить экзамен, чем сдать. В нашей выборке было 50 студентов. Часть из них сдала экзамен (положительный исход), а часть - нет (отрицательный исход). Свободный член нашей регрессии оказался равен -0.8472979. Сколько человек всё-таки сдало экзамен?"
   ]
  },
  {
   "cell_type": "code",
   "execution_count": 519,
   "id": "cc2f972f",
   "metadata": {},
   "outputs": [
    {
     "data": {
      "text/plain": [
       "15"
      ]
     },
     "execution_count": 519,
     "metadata": {},
     "output_type": "execute_result"
    }
   ],
   "source": [
    "a = np.exp(-0.8472979)\n",
    "p = a/(1 + a)\n",
    "round(p * 50)"
   ]
  },
  {
   "cell_type": "markdown",
   "id": "8231a0ef",
   "metadata": {},
   "source": [
    "### Модель без предикторов. Intercept only model"
   ]
  },
  {
   "cell_type": "code",
   "execution_count": 683,
   "id": "02e30f21",
   "metadata": {
    "scrolled": false
   },
   "outputs": [
    {
     "data": {
      "text/html": [
       "<div>\n",
       "<style scoped>\n",
       "    .dataframe tbody tr th:only-of-type {\n",
       "        vertical-align: middle;\n",
       "    }\n",
       "\n",
       "    .dataframe tbody tr th {\n",
       "        vertical-align: top;\n",
       "    }\n",
       "\n",
       "    .dataframe thead th {\n",
       "        text-align: right;\n",
       "    }\n",
       "</style>\n",
       "<table border=\"1\" class=\"dataframe\">\n",
       "  <thead>\n",
       "    <tr style=\"text-align: right;\">\n",
       "      <th></th>\n",
       "      <th>PassengerId</th>\n",
       "      <th>Survived</th>\n",
       "      <th>Pclass</th>\n",
       "      <th>Name</th>\n",
       "      <th>Sex</th>\n",
       "      <th>Age</th>\n",
       "      <th>SibSp</th>\n",
       "      <th>Parch</th>\n",
       "      <th>Ticket</th>\n",
       "      <th>Fare</th>\n",
       "      <th>Cabin</th>\n",
       "      <th>Embarked</th>\n",
       "    </tr>\n",
       "  </thead>\n",
       "  <tbody>\n",
       "    <tr>\n",
       "      <th>0</th>\n",
       "      <td>1</td>\n",
       "      <td>0</td>\n",
       "      <td>3</td>\n",
       "      <td>Braund, Mr. Owen Harris</td>\n",
       "      <td>male</td>\n",
       "      <td>22.0</td>\n",
       "      <td>1</td>\n",
       "      <td>0</td>\n",
       "      <td>A/5 21171</td>\n",
       "      <td>7.2500</td>\n",
       "      <td>NaN</td>\n",
       "      <td>S</td>\n",
       "    </tr>\n",
       "    <tr>\n",
       "      <th>1</th>\n",
       "      <td>2</td>\n",
       "      <td>1</td>\n",
       "      <td>1</td>\n",
       "      <td>Cumings, Mrs. John Bradley (Florence Briggs Th...</td>\n",
       "      <td>female</td>\n",
       "      <td>38.0</td>\n",
       "      <td>1</td>\n",
       "      <td>0</td>\n",
       "      <td>PC 17599</td>\n",
       "      <td>71.2833</td>\n",
       "      <td>C85</td>\n",
       "      <td>C</td>\n",
       "    </tr>\n",
       "    <tr>\n",
       "      <th>2</th>\n",
       "      <td>3</td>\n",
       "      <td>1</td>\n",
       "      <td>3</td>\n",
       "      <td>Heikkinen, Miss. Laina</td>\n",
       "      <td>female</td>\n",
       "      <td>26.0</td>\n",
       "      <td>0</td>\n",
       "      <td>0</td>\n",
       "      <td>STON/O2. 3101282</td>\n",
       "      <td>7.9250</td>\n",
       "      <td>NaN</td>\n",
       "      <td>S</td>\n",
       "    </tr>\n",
       "    <tr>\n",
       "      <th>3</th>\n",
       "      <td>4</td>\n",
       "      <td>1</td>\n",
       "      <td>1</td>\n",
       "      <td>Futrelle, Mrs. Jacques Heath (Lily May Peel)</td>\n",
       "      <td>female</td>\n",
       "      <td>35.0</td>\n",
       "      <td>1</td>\n",
       "      <td>0</td>\n",
       "      <td>113803</td>\n",
       "      <td>53.1000</td>\n",
       "      <td>C123</td>\n",
       "      <td>S</td>\n",
       "    </tr>\n",
       "    <tr>\n",
       "      <th>4</th>\n",
       "      <td>5</td>\n",
       "      <td>0</td>\n",
       "      <td>3</td>\n",
       "      <td>Allen, Mr. William Henry</td>\n",
       "      <td>male</td>\n",
       "      <td>35.0</td>\n",
       "      <td>0</td>\n",
       "      <td>0</td>\n",
       "      <td>373450</td>\n",
       "      <td>8.0500</td>\n",
       "      <td>NaN</td>\n",
       "      <td>S</td>\n",
       "    </tr>\n",
       "  </tbody>\n",
       "</table>\n",
       "</div>"
      ],
      "text/plain": [
       "   PassengerId  Survived  Pclass  \\\n",
       "0            1         0       3   \n",
       "1            2         1       1   \n",
       "2            3         1       3   \n",
       "3            4         1       1   \n",
       "4            5         0       3   \n",
       "\n",
       "                                                Name     Sex   Age  SibSp  \\\n",
       "0                            Braund, Mr. Owen Harris    male  22.0      1   \n",
       "1  Cumings, Mrs. John Bradley (Florence Briggs Th...  female  38.0      1   \n",
       "2                             Heikkinen, Miss. Laina  female  26.0      0   \n",
       "3       Futrelle, Mrs. Jacques Heath (Lily May Peel)  female  35.0      1   \n",
       "4                           Allen, Mr. William Henry    male  35.0      0   \n",
       "\n",
       "   Parch            Ticket     Fare Cabin Embarked  \n",
       "0      0         A/5 21171   7.2500   NaN        S  \n",
       "1      0          PC 17599  71.2833   C85        C  \n",
       "2      0  STON/O2. 3101282   7.9250   NaN        S  \n",
       "3      0            113803  53.1000  C123        S  \n",
       "4      0            373450   8.0500   NaN        S  "
      ]
     },
     "execution_count": 683,
     "metadata": {},
     "output_type": "execute_result"
    }
   ],
   "source": [
    "from sklearn.linear_model import LogisticRegression\n",
    "import pandas as pd\n",
    "import numpy as np\n",
    "\n",
    "df = pd.read_csv('data/titanic.csv')\n",
    "df.head()"
   ]
  },
  {
   "cell_type": "code",
   "execution_count": 696,
   "id": "ceff055e",
   "metadata": {},
   "outputs": [],
   "source": [
    "df = df.dropna(subset = 'Age')\n",
    "\n",
    "nSurvived = df.groupby(['Survived'])['Survived'].count()"
   ]
  },
  {
   "cell_type": "code",
   "execution_count": 782,
   "id": "759084b7",
   "metadata": {
    "scrolled": false
   },
   "outputs": [
    {
     "name": "stdout",
     "output_type": "stream",
     "text": [
      "\n",
      "model odds: 0.684\n",
      "manual odds: 0.684\n",
      "probability of Survival: 0.406\n",
      "\n"
     ]
    }
   ],
   "source": [
    "y = df.Survived\n",
    "# фиктиный предиктор (чтобы сделать модель без предиктора)\n",
    "x = np.zeros((y.size, 1))\n",
    "\n",
    "model = LogisticRegression()\n",
    "clf = model.fit(x, y)\n",
    "\n",
    "# Шансы полученные из модели и вычисленные вручную\n",
    "odds1 = np.exp(np.ndarray.item(clf.intercept_))\n",
    "odds2 = nSurvived[1] / nSurvived[0]\n",
    "p = odds1 / (odds1 + 1)\n",
    "print(f'''\n",
    "model odds: {odds1:.3f}\n",
    "manual odds: {odds2:.3f}\n",
    "probability of Survival: {p:.3f}\n",
    "''')"
   ]
  },
  {
   "cell_type": "markdown",
   "id": "34b28569",
   "metadata": {},
   "source": [
    "---\n",
    "\n",
    "*На заметку:* https://stackoverflow.com/questions/70143564/logisticregression-from-sk-learn-and-smf-logit-from-statsmodels-formula-api-re\n",
    "\n",
    "---"
   ]
  },
  {
   "cell_type": "code",
   "execution_count": 1433,
   "id": "8257d199",
   "metadata": {},
   "outputs": [
    {
     "name": "stdout",
     "output_type": "stream",
     "text": [
      "Optimization terminated successfully.\n",
      "         Current function value: 0.675431\n",
      "         Iterations 4\n"
     ]
    },
    {
     "data": {
      "text/html": [
       "<table class=\"simpletable\">\n",
       "<caption>Logit Regression Results</caption>\n",
       "<tr>\n",
       "  <th>Dep. Variable:</th>       <td>Survived</td>     <th>  No. Observations:  </th>  <td>   714</td>  \n",
       "</tr>\n",
       "<tr>\n",
       "  <th>Model:</th>                 <td>Logit</td>      <th>  Df Residuals:      </th>  <td>   713</td>  \n",
       "</tr>\n",
       "<tr>\n",
       "  <th>Method:</th>                 <td>MLE</td>       <th>  Df Model:          </th>  <td>     0</td>  \n",
       "</tr>\n",
       "<tr>\n",
       "  <th>Date:</th>            <td>Mon, 25 Jul 2022</td> <th>  Pseudo R-squ.:     </th> <td>9.013e-11</td>\n",
       "</tr>\n",
       "<tr>\n",
       "  <th>Time:</th>                <td>23:23:55</td>     <th>  Log-Likelihood:    </th> <td> -482.26</td> \n",
       "</tr>\n",
       "<tr>\n",
       "  <th>converged:</th>             <td>True</td>       <th>  LL-Null:           </th> <td> -482.26</td> \n",
       "</tr>\n",
       "<tr>\n",
       "  <th>Covariance Type:</th>     <td>nonrobust</td>    <th>  LLR p-value:       </th>  <td>   nan</td>  \n",
       "</tr>\n",
       "</table>\n",
       "<table class=\"simpletable\">\n",
       "<tr>\n",
       "      <td></td>         <th>coef</th>     <th>std err</th>      <th>z</th>      <th>P>|z|</th>  <th>[0.025</th>    <th>0.975]</th>  \n",
       "</tr>\n",
       "<tr>\n",
       "  <th>Intercept</th> <td>   -0.3799</td> <td>    0.076</td> <td>   -4.985</td> <td> 0.000</td> <td>   -0.529</td> <td>   -0.230</td>\n",
       "</tr>\n",
       "</table>"
      ],
      "text/plain": [
       "<class 'statsmodels.iolib.summary.Summary'>\n",
       "\"\"\"\n",
       "                           Logit Regression Results                           \n",
       "==============================================================================\n",
       "Dep. Variable:               Survived   No. Observations:                  714\n",
       "Model:                          Logit   Df Residuals:                      713\n",
       "Method:                           MLE   Df Model:                            0\n",
       "Date:                Mon, 25 Jul 2022   Pseudo R-squ.:               9.013e-11\n",
       "Time:                        23:23:55   Log-Likelihood:                -482.26\n",
       "converged:                       True   LL-Null:                       -482.26\n",
       "Covariance Type:            nonrobust   LLR p-value:                       nan\n",
       "==============================================================================\n",
       "                 coef    std err          z      P>|z|      [0.025      0.975]\n",
       "------------------------------------------------------------------------------\n",
       "Intercept     -0.3799      0.076     -4.985      0.000      -0.529      -0.230\n",
       "==============================================================================\n",
       "\"\"\""
      ]
     },
     "execution_count": 1433,
     "metadata": {},
     "output_type": "execute_result"
    }
   ],
   "source": [
    "import statsmodels.formula.api as smf\n",
    "df = pd.read_csv('data/titanic.csv')\n",
    "df = df.dropna(subset = 'Age')\n",
    "\n",
    "# Стилистика R (По мне самый простой и удобный способ)\n",
    "model = smf.logit(formula = 'Survived ~ 1', data = df)\n",
    "res_rstyle = model.fit()\n",
    "\n",
    "res_rstyle.summary()"
   ]
  },
  {
   "cell_type": "markdown",
   "id": "c7a2f6e7",
   "metadata": {},
   "source": [
    "### Модель с одним номинативным предиктором"
   ]
  },
  {
   "cell_type": "code",
   "execution_count": 1434,
   "id": "154d1090",
   "metadata": {},
   "outputs": [
    {
     "data": {
      "text/html": [
       "<div>\n",
       "<style scoped>\n",
       "    .dataframe tbody tr th:only-of-type {\n",
       "        vertical-align: middle;\n",
       "    }\n",
       "\n",
       "    .dataframe tbody tr th {\n",
       "        vertical-align: top;\n",
       "    }\n",
       "\n",
       "    .dataframe thead th {\n",
       "        text-align: right;\n",
       "    }\n",
       "</style>\n",
       "<table border=\"1\" class=\"dataframe\">\n",
       "  <thead>\n",
       "    <tr style=\"text-align: right;\">\n",
       "      <th>Sex</th>\n",
       "      <th>female</th>\n",
       "      <th>male</th>\n",
       "    </tr>\n",
       "    <tr>\n",
       "      <th>Survived</th>\n",
       "      <th></th>\n",
       "      <th></th>\n",
       "    </tr>\n",
       "  </thead>\n",
       "  <tbody>\n",
       "    <tr>\n",
       "      <th>0</th>\n",
       "      <td>64</td>\n",
       "      <td>360</td>\n",
       "    </tr>\n",
       "    <tr>\n",
       "      <th>1</th>\n",
       "      <td>197</td>\n",
       "      <td>93</td>\n",
       "    </tr>\n",
       "  </tbody>\n",
       "</table>\n",
       "</div>"
      ],
      "text/plain": [
       "Sex       female  male\n",
       "Survived              \n",
       "0             64   360\n",
       "1            197    93"
      ]
     },
     "execution_count": 1434,
     "metadata": {},
     "output_type": "execute_result"
    }
   ],
   "source": [
    "nSexSurvived = pd.crosstab(df.Survived, df.Sex)\n",
    "nSexSurvived"
   ]
  },
  {
   "cell_type": "code",
   "execution_count": 1435,
   "id": "69991ec6",
   "metadata": {},
   "outputs": [
    {
     "name": "stdout",
     "output_type": "stream",
     "text": [
      "\n",
      "intercept: 1.124\n",
      "SexMale: -2.478\n",
      "\n",
      "\n",
      "log(odds_f) = 1.1243\n",
      "log(odds_m) = -1.3535\n",
      "log(odds_fm) = 2.4778\n",
      "log(odds_mf) = -2.4778\n",
      "\n"
     ]
    }
   ],
   "source": [
    "y = df.Survived\n",
    "# Перевод в номинативный тип\n",
    "x, _ = pd.factorize(df.Sex)\n",
    "\n",
    "# Инвертируем, чтобы в Intercept был логарифм отношения шансов полож исхода\n",
    "# для женщин\n",
    "# А при коэффициенте - логарифм отношения шансов полож исхода для мужчин \n",
    "x = 1 - x.reshape((-1, 1))\n",
    "\n",
    "# penalty - это регулиризация (штраф, который нам сейчас не нужен)\n",
    "model = LogisticRegression(penalty='none')\n",
    "clf = model.fit(x, y)\n",
    "print(f'''\n",
    "intercept: {np.ndarray.item(clf.intercept_):.3f}\n",
    "SexMale: {np.ndarray.item(clf.coef_):.3f}\n",
    "''')\n",
    "# SexMale: log(odds_M/odds_F) < 0\n",
    "odds_f = nSexSurvived['female'][1]/nSexSurvived['female'][0]\n",
    "odds_m = nSexSurvived['male'][1]/nSexSurvived['male'][0]\n",
    "odds_fm = odds_f/odds_m\n",
    "odds_mf = odds_m/odds_f\n",
    "print(f'''\n",
    "log(odds_f) = {np.log(odds_f):.4f}\n",
    "log(odds_m) = {np.log(odds_m):.4f}\n",
    "log(odds_fm) = {np.log(odds_fm):.4f}\n",
    "log(odds_mf) = {np.log(odds_mf):.4f}\n",
    "''')"
   ]
  },
  {
   "cell_type": "markdown",
   "id": "79b97187",
   "metadata": {},
   "source": [
    "#### Используем StatsModels вместо SkLearn"
   ]
  },
  {
   "cell_type": "code",
   "execution_count": 1078,
   "id": "6d5ad149",
   "metadata": {},
   "outputs": [
    {
     "data": {
      "text/html": [
       "<table class=\"simpletable\">\n",
       "<caption>Generalized Linear Model Regression Results</caption>\n",
       "<tr>\n",
       "  <th>Dep. Variable:</th>           <td>y</td>        <th>  No. Observations:  </th>  <td>   714</td> \n",
       "</tr>\n",
       "<tr>\n",
       "  <th>Model:</th>                  <td>GLM</td>       <th>  Df Residuals:      </th>  <td>   712</td> \n",
       "</tr>\n",
       "<tr>\n",
       "  <th>Model Family:</th>        <td>Binomial</td>     <th>  Df Model:          </th>  <td>     1</td> \n",
       "</tr>\n",
       "<tr>\n",
       "  <th>Link Function:</th>         <td>Logit</td>      <th>  Scale:             </th> <td>  1.0000</td>\n",
       "</tr>\n",
       "<tr>\n",
       "  <th>Method:</th>                <td>IRLS</td>       <th>  Log-Likelihood:    </th> <td> -375.35</td>\n",
       "</tr>\n",
       "<tr>\n",
       "  <th>Date:</th>            <td>Mon, 25 Jul 2022</td> <th>  Deviance:          </th> <td>  750.70</td>\n",
       "</tr>\n",
       "<tr>\n",
       "  <th>Time:</th>                <td>14:33:58</td>     <th>  Pearson chi2:      </th>  <td>  714.</td> \n",
       "</tr>\n",
       "<tr>\n",
       "  <th>No. Iterations:</th>          <td>4</td>        <th>  Pseudo R-squ. (CS):</th>  <td>0.2588</td> \n",
       "</tr>\n",
       "<tr>\n",
       "  <th>Covariance Type:</th>     <td>nonrobust</td>    <th>                     </th>     <td> </td>   \n",
       "</tr>\n",
       "</table>\n",
       "<table class=\"simpletable\">\n",
       "<tr>\n",
       "    <td></td>       <th>coef</th>     <th>std err</th>      <th>z</th>      <th>P>|z|</th>  <th>[0.025</th>    <th>0.975]</th>  \n",
       "</tr>\n",
       "<tr>\n",
       "  <th>const</th> <td>    1.1243</td> <td>    0.144</td> <td>    7.814</td> <td> 0.000</td> <td>    0.842</td> <td>    1.406</td>\n",
       "</tr>\n",
       "<tr>\n",
       "  <th>0</th>     <td>   -2.4778</td> <td>    0.185</td> <td>  -13.392</td> <td> 0.000</td> <td>   -2.840</td> <td>   -2.115</td>\n",
       "</tr>\n",
       "</table>"
      ],
      "text/plain": [
       "<class 'statsmodels.iolib.summary.Summary'>\n",
       "\"\"\"\n",
       "                 Generalized Linear Model Regression Results                  \n",
       "==============================================================================\n",
       "Dep. Variable:                      y   No. Observations:                  714\n",
       "Model:                            GLM   Df Residuals:                      712\n",
       "Model Family:                Binomial   Df Model:                            1\n",
       "Link Function:                  Logit   Scale:                          1.0000\n",
       "Method:                          IRLS   Log-Likelihood:                -375.35\n",
       "Date:                Mon, 25 Jul 2022   Deviance:                       750.70\n",
       "Time:                        14:33:58   Pearson chi2:                     714.\n",
       "No. Iterations:                     4   Pseudo R-squ. (CS):             0.2588\n",
       "Covariance Type:            nonrobust                                         \n",
       "==============================================================================\n",
       "                 coef    std err          z      P>|z|      [0.025      0.975]\n",
       "------------------------------------------------------------------------------\n",
       "const          1.1243      0.144      7.814      0.000       0.842       1.406\n",
       "0             -2.4778      0.185    -13.392      0.000      -2.840      -2.115\n",
       "==============================================================================\n",
       "\"\"\""
      ]
     },
     "execution_count": 1078,
     "metadata": {},
     "output_type": "execute_result"
    }
   ],
   "source": [
    "import pandas as pd\n",
    "import statsmodels.api as sm\n",
    "\n",
    "df = pd.read_csv('data/titanic.csv', dtype = category_columns)\n",
    "df = df[df.Age.notnull()] # <=> df = df.dropna(subset = 'Age')\n",
    "\n",
    "y = df.loc[:,'Survived'].cat.codes\n",
    "x = sm.add_constant(df.loc[:,'Sex'].cat.codes) # Тут как-то запутанно,\n",
    "# в примере пишут + к этой строчке\n",
    "# x = sm.add_constant(df.loc[:,'Pclass'].cat.codes)\n",
    "# (Это если мы хотим провести анализ с двумя номинативными предикторами)\n",
    "# но это не особо работает, в отличие от примера ниже\n",
    "\n",
    "# Для перевода из female, male: 0 и 1 соответственно\n",
    "# легче всего использовать cat.codes,\n",
    "# а не как в предыдущем примере factorize, а потом reshape, хотя здесь\n",
    "# reshape может и не пригодиться, наверное\n",
    "glm_binom = sm.GLM(y, x, family = sm.families.Binomial())\n",
    "res = glm_binom.fit()\n",
    "res.summary()"
   ]
  },
  {
   "cell_type": "code",
   "execution_count": 1077,
   "id": "cbdd182f",
   "metadata": {},
   "outputs": [
    {
     "name": "stdout",
     "output_type": "stream",
     "text": [
      "Optimization terminated successfully.\n",
      "         Current function value: 0.525700\n",
      "         Iterations 5\n"
     ]
    },
    {
     "data": {
      "text/html": [
       "<table class=\"simpletable\">\n",
       "<caption>Logit Regression Results</caption>\n",
       "<tr>\n",
       "  <th>Dep. Variable:</th>       <td>Survived</td>     <th>  No. Observations:  </th>  <td>   714</td>  \n",
       "</tr>\n",
       "<tr>\n",
       "  <th>Model:</th>                 <td>Logit</td>      <th>  Df Residuals:      </th>  <td>   712</td>  \n",
       "</tr>\n",
       "<tr>\n",
       "  <th>Method:</th>                 <td>MLE</td>       <th>  Df Model:          </th>  <td>     1</td>  \n",
       "</tr>\n",
       "<tr>\n",
       "  <th>Date:</th>            <td>Mon, 25 Jul 2022</td> <th>  Pseudo R-squ.:     </th>  <td>0.2217</td>  \n",
       "</tr>\n",
       "<tr>\n",
       "  <th>Time:</th>                <td>14:32:47</td>     <th>  Log-Likelihood:    </th> <td> -375.35</td> \n",
       "</tr>\n",
       "<tr>\n",
       "  <th>converged:</th>             <td>True</td>       <th>  LL-Null:           </th> <td> -482.26</td> \n",
       "</tr>\n",
       "<tr>\n",
       "  <th>Covariance Type:</th>     <td>nonrobust</td>    <th>  LLR p-value:       </th> <td>2.020e-48</td>\n",
       "</tr>\n",
       "</table>\n",
       "<table class=\"simpletable\">\n",
       "<tr>\n",
       "         <td></td>           <th>coef</th>     <th>std err</th>      <th>z</th>      <th>P>|z|</th>  <th>[0.025</th>    <th>0.975]</th>  \n",
       "</tr>\n",
       "<tr>\n",
       "  <th>Intercept</th>      <td>    1.1243</td> <td>    0.144</td> <td>    7.814</td> <td> 0.000</td> <td>    0.842</td> <td>    1.406</td>\n",
       "</tr>\n",
       "<tr>\n",
       "  <th>C(Sex)[T.male]</th> <td>   -2.4778</td> <td>    0.185</td> <td>  -13.392</td> <td> 0.000</td> <td>   -2.840</td> <td>   -2.115</td>\n",
       "</tr>\n",
       "</table>"
      ],
      "text/plain": [
       "<class 'statsmodels.iolib.summary.Summary'>\n",
       "\"\"\"\n",
       "                           Logit Regression Results                           \n",
       "==============================================================================\n",
       "Dep. Variable:               Survived   No. Observations:                  714\n",
       "Model:                          Logit   Df Residuals:                      712\n",
       "Method:                           MLE   Df Model:                            1\n",
       "Date:                Mon, 25 Jul 2022   Pseudo R-squ.:                  0.2217\n",
       "Time:                        14:32:47   Log-Likelihood:                -375.35\n",
       "converged:                       True   LL-Null:                       -482.26\n",
       "Covariance Type:            nonrobust   LLR p-value:                 2.020e-48\n",
       "==================================================================================\n",
       "                     coef    std err          z      P>|z|      [0.025      0.975]\n",
       "----------------------------------------------------------------------------------\n",
       "Intercept          1.1243      0.144      7.814      0.000       0.842       1.406\n",
       "C(Sex)[T.male]    -2.4778      0.185    -13.392      0.000      -2.840      -2.115\n",
       "==================================================================================\n",
       "\"\"\""
      ]
     },
     "execution_count": 1077,
     "metadata": {},
     "output_type": "execute_result"
    }
   ],
   "source": [
    "import statsmodels.formula.api as smf\n",
    "df = pd.read_csv('data/titanic.csv')\n",
    "df = df.dropna(subset = 'Age')\n",
    "\n",
    "# Стилистика R (По мне самый простой и удобный способ)\n",
    "# Буковкой C мы указываем, что это категориальные данные, так еще проще\n",
    "# чем в предыдущем примере\n",
    "model = smf.logit(formula = 'Survived ~ C(Sex)', data = df)\n",
    "res_rstyle = model.fit()\n",
    "\n",
    "res_rstyle.summary()"
   ]
  },
  {
   "cell_type": "markdown",
   "id": "df49c29e",
   "metadata": {},
   "source": [
    "### Модель с двумя номинативными предикторами"
   ]
  },
  {
   "cell_type": "code",
   "execution_count": 1107,
   "id": "a0fa37bb",
   "metadata": {},
   "outputs": [
    {
     "data": {
      "text/html": [
       "<table class=\"simpletable\">\n",
       "<caption>Generalized Linear Model Regression Results</caption>\n",
       "<tr>\n",
       "  <th>Dep. Variable:</th>   <td>['Survived[0]', 'Survived[1]']</td> <th>  No. Observations:  </th>  <td>   714</td> \n",
       "</tr>\n",
       "<tr>\n",
       "  <th>Model:</th>                         <td>GLM</td>              <th>  Df Residuals:      </th>  <td>   708</td> \n",
       "</tr>\n",
       "<tr>\n",
       "  <th>Model Family:</th>               <td>Binomial</td>            <th>  Df Model:          </th>  <td>     5</td> \n",
       "</tr>\n",
       "<tr>\n",
       "  <th>Link Function:</th>                <td>Logit</td>             <th>  Scale:             </th> <td>  1.0000</td>\n",
       "</tr>\n",
       "<tr>\n",
       "  <th>Method:</th>                       <td>IRLS</td>              <th>  Log-Likelihood:    </th> <td> -321.14</td>\n",
       "</tr>\n",
       "<tr>\n",
       "  <th>Date:</th>                   <td>Mon, 25 Jul 2022</td>        <th>  Deviance:          </th> <td>  642.28</td>\n",
       "</tr>\n",
       "<tr>\n",
       "  <th>Time:</th>                       <td>17:03:48</td>            <th>  Pearson chi2:      </th>  <td>  714.</td> \n",
       "</tr>\n",
       "<tr>\n",
       "  <th>No. Iterations:</th>                 <td>6</td>               <th>  Pseudo R-squ. (CS):</th>  <td>0.3632</td> \n",
       "</tr>\n",
       "<tr>\n",
       "  <th>Covariance Type:</th>            <td>nonrobust</td>           <th>                     </th>     <td> </td>   \n",
       "</tr>\n",
       "</table>\n",
       "<table class=\"simpletable\">\n",
       "<tr>\n",
       "             <td></td>                <th>coef</th>     <th>std err</th>      <th>z</th>      <th>P>|z|</th>  <th>[0.025</th>    <th>0.975]</th>  \n",
       "</tr>\n",
       "<tr>\n",
       "  <th>Intercept</th>               <td>   -3.3081</td> <td>    0.588</td> <td>   -5.628</td> <td> 0.000</td> <td>   -4.460</td> <td>   -2.156</td>\n",
       "</tr>\n",
       "<tr>\n",
       "  <th>Sex[T.male]</th>             <td>    3.7301</td> <td>    0.622</td> <td>    5.997</td> <td> 0.000</td> <td>    2.511</td> <td>    4.949</td>\n",
       "</tr>\n",
       "<tr>\n",
       "  <th>Pclass[T.2]</th>             <td>    0.8804</td> <td>    0.726</td> <td>    1.213</td> <td> 0.225</td> <td>   -0.542</td> <td>    2.303</td>\n",
       "</tr>\n",
       "<tr>\n",
       "  <th>Pclass[T.3]</th>             <td>    3.4653</td> <td>    0.620</td> <td>    5.585</td> <td> 0.000</td> <td>    2.249</td> <td>    4.681</td>\n",
       "</tr>\n",
       "<tr>\n",
       "  <th>Sex[T.male]:Pclass[T.2]</th> <td>    0.4204</td> <td>    0.804</td> <td>    0.523</td> <td> 0.601</td> <td>   -1.156</td> <td>    1.997</td>\n",
       "</tr>\n",
       "<tr>\n",
       "  <th>Sex[T.male]:Pclass[T.3]</th> <td>   -2.1542</td> <td>    0.676</td> <td>   -3.185</td> <td> 0.001</td> <td>   -3.480</td> <td>   -0.829</td>\n",
       "</tr>\n",
       "</table>"
      ],
      "text/plain": [
       "<class 'statsmodels.iolib.summary.Summary'>\n",
       "\"\"\"\n",
       "                       Generalized Linear Model Regression Results                        \n",
       "==========================================================================================\n",
       "Dep. Variable:     ['Survived[0]', 'Survived[1]']   No. Observations:                  714\n",
       "Model:                                        GLM   Df Residuals:                      708\n",
       "Model Family:                            Binomial   Df Model:                            5\n",
       "Link Function:                              Logit   Scale:                          1.0000\n",
       "Method:                                      IRLS   Log-Likelihood:                -321.14\n",
       "Date:                            Mon, 25 Jul 2022   Deviance:                       642.28\n",
       "Time:                                    17:03:48   Pearson chi2:                     714.\n",
       "No. Iterations:                                 6   Pseudo R-squ. (CS):             0.3632\n",
       "Covariance Type:                        nonrobust                                         \n",
       "===========================================================================================\n",
       "                              coef    std err          z      P>|z|      [0.025      0.975]\n",
       "-------------------------------------------------------------------------------------------\n",
       "Intercept                  -3.3081      0.588     -5.628      0.000      -4.460      -2.156\n",
       "Sex[T.male]                 3.7301      0.622      5.997      0.000       2.511       4.949\n",
       "Pclass[T.2]                 0.8804      0.726      1.213      0.225      -0.542       2.303\n",
       "Pclass[T.3]                 3.4653      0.620      5.585      0.000       2.249       4.681\n",
       "Sex[T.male]:Pclass[T.2]     0.4204      0.804      0.523      0.601      -1.156       1.997\n",
       "Sex[T.male]:Pclass[T.3]    -2.1542      0.676     -3.185      0.001      -3.480      -0.829\n",
       "===========================================================================================\n",
       "\"\"\""
      ]
     },
     "execution_count": 1107,
     "metadata": {},
     "output_type": "execute_result"
    }
   ],
   "source": [
    "import statsmodels.formula.api as smf\n",
    "\n",
    "# Приводим данные к категориальным (которые возможно)\n",
    "df = pd.read_csv('data/titanic.csv', dtype = category_columns)\n",
    "df = df.dropna(subset = 'Age')\n",
    "\n",
    "# Стилистика R\n",
    "# В этом случае почему-то коэффициенты меняют знак, это связано с категоризацией\n",
    "# данных (dtype = category_columns)\n",
    "glm_binom_rstyle = smf.glm(formula=\"Survived ~ Sex*Pclass\", data=df, family=sm.families.Binomial())\n",
    "res_rstyle = glm_binom_rstyle.fit()\n",
    "\n",
    "res_rstyle.summary()"
   ]
  },
  {
   "cell_type": "code",
   "execution_count": 1106,
   "id": "a4528dc6",
   "metadata": {},
   "outputs": [
    {
     "name": "stdout",
     "output_type": "stream",
     "text": [
      "Optimization terminated successfully.\n",
      "         Current function value: 0.449772\n",
      "         Iterations 7\n"
     ]
    },
    {
     "data": {
      "text/html": [
       "<table class=\"simpletable\">\n",
       "<caption>Logit Regression Results</caption>\n",
       "<tr>\n",
       "  <th>Dep. Variable:</th>       <td>Survived</td>     <th>  No. Observations:  </th>  <td>   714</td>  \n",
       "</tr>\n",
       "<tr>\n",
       "  <th>Model:</th>                 <td>Logit</td>      <th>  Df Residuals:      </th>  <td>   708</td>  \n",
       "</tr>\n",
       "<tr>\n",
       "  <th>Method:</th>                 <td>MLE</td>       <th>  Df Model:          </th>  <td>     5</td>  \n",
       "</tr>\n",
       "<tr>\n",
       "  <th>Date:</th>            <td>Mon, 25 Jul 2022</td> <th>  Pseudo R-squ.:     </th>  <td>0.3341</td>  \n",
       "</tr>\n",
       "<tr>\n",
       "  <th>Time:</th>                <td>17:03:23</td>     <th>  Log-Likelihood:    </th> <td> -321.14</td> \n",
       "</tr>\n",
       "<tr>\n",
       "  <th>converged:</th>             <td>True</td>       <th>  LL-Null:           </th> <td> -482.26</td> \n",
       "</tr>\n",
       "<tr>\n",
       "  <th>Covariance Type:</th>     <td>nonrobust</td>    <th>  LLR p-value:       </th> <td>1.650e-67</td>\n",
       "</tr>\n",
       "</table>\n",
       "<table class=\"simpletable\">\n",
       "<tr>\n",
       "                <td></td>                   <th>coef</th>     <th>std err</th>      <th>z</th>      <th>P>|z|</th>  <th>[0.025</th>    <th>0.975]</th>  \n",
       "</tr>\n",
       "<tr>\n",
       "  <th>Intercept</th>                     <td>    3.3081</td> <td>    0.588</td> <td>    5.628</td> <td> 0.000</td> <td>    2.156</td> <td>    4.460</td>\n",
       "</tr>\n",
       "<tr>\n",
       "  <th>C(Sex)[T.male]</th>                <td>   -3.7301</td> <td>    0.622</td> <td>   -5.997</td> <td> 0.000</td> <td>   -4.949</td> <td>   -2.511</td>\n",
       "</tr>\n",
       "<tr>\n",
       "  <th>C(Pclass)[T.2]</th>                <td>   -0.8804</td> <td>    0.726</td> <td>   -1.213</td> <td> 0.225</td> <td>   -2.303</td> <td>    0.542</td>\n",
       "</tr>\n",
       "<tr>\n",
       "  <th>C(Pclass)[T.3]</th>                <td>   -3.4653</td> <td>    0.620</td> <td>   -5.585</td> <td> 0.000</td> <td>   -4.681</td> <td>   -2.249</td>\n",
       "</tr>\n",
       "<tr>\n",
       "  <th>C(Sex)[T.male]:C(Pclass)[T.2]</th> <td>   -0.4204</td> <td>    0.804</td> <td>   -0.523</td> <td> 0.601</td> <td>   -1.997</td> <td>    1.156</td>\n",
       "</tr>\n",
       "<tr>\n",
       "  <th>C(Sex)[T.male]:C(Pclass)[T.3]</th> <td>    2.1542</td> <td>    0.676</td> <td>    3.185</td> <td> 0.001</td> <td>    0.829</td> <td>    3.480</td>\n",
       "</tr>\n",
       "</table>"
      ],
      "text/plain": [
       "<class 'statsmodels.iolib.summary.Summary'>\n",
       "\"\"\"\n",
       "                           Logit Regression Results                           \n",
       "==============================================================================\n",
       "Dep. Variable:               Survived   No. Observations:                  714\n",
       "Model:                          Logit   Df Residuals:                      708\n",
       "Method:                           MLE   Df Model:                            5\n",
       "Date:                Mon, 25 Jul 2022   Pseudo R-squ.:                  0.3341\n",
       "Time:                        17:03:23   Log-Likelihood:                -321.14\n",
       "converged:                       True   LL-Null:                       -482.26\n",
       "Covariance Type:            nonrobust   LLR p-value:                 1.650e-67\n",
       "=================================================================================================\n",
       "                                    coef    std err          z      P>|z|      [0.025      0.975]\n",
       "-------------------------------------------------------------------------------------------------\n",
       "Intercept                         3.3081      0.588      5.628      0.000       2.156       4.460\n",
       "C(Sex)[T.male]                   -3.7301      0.622     -5.997      0.000      -4.949      -2.511\n",
       "C(Pclass)[T.2]                   -0.8804      0.726     -1.213      0.225      -2.303       0.542\n",
       "C(Pclass)[T.3]                   -3.4653      0.620     -5.585      0.000      -4.681      -2.249\n",
       "C(Sex)[T.male]:C(Pclass)[T.2]    -0.4204      0.804     -0.523      0.601      -1.997       1.156\n",
       "C(Sex)[T.male]:C(Pclass)[T.3]     2.1542      0.676      3.185      0.001       0.829       3.480\n",
       "=================================================================================================\n",
       "\"\"\""
      ]
     },
     "execution_count": 1106,
     "metadata": {},
     "output_type": "execute_result"
    }
   ],
   "source": [
    "import statsmodels.formula.api as smf\n",
    "from statsmodels.tools.eval_measures import aic\n",
    "df = pd.read_csv('data/titanic.csv')\n",
    "df = df.dropna(subset = 'Age')\n",
    "\n",
    "# Стилистика R (По мне самый простой и удобный способ)\n",
    "# Буковкой C мы указываем, что это категориальные данные, так еще проще\n",
    "# чем в предыдущем примере + коэффициенты имеют правильный знак\n",
    "model = smf.logit(formula = 'Survived ~ C(Sex) * C(Pclass)', data = df)\n",
    "res_rstyle = model.fit()\n",
    "\n",
    "res_rstyle.summary()"
   ]
  },
  {
   "cell_type": "markdown",
   "id": "816802df",
   "metadata": {},
   "source": [
    "**Задача:**\n",
    "\n",
    "Рассчитайте значение экспоненты коэффициентов модели, в поле для ответа введите сумму получившихся чисел.\n",
    "\n",
    "<img src = 'img/table5.png'>"
   ]
  },
  {
   "cell_type": "code",
   "execution_count": 310,
   "id": "c0653c12",
   "metadata": {},
   "outputs": [
    {
     "data": {
      "text/plain": [
       "3.161989115096665"
      ]
     },
     "execution_count": 310,
     "metadata": {},
     "output_type": "execute_result"
    }
   ],
   "source": [
    "np.exp(1.1243)+np.exp(-2.4778)"
   ]
  },
  {
   "cell_type": "markdown",
   "id": "f0b0c5bd",
   "metadata": {},
   "source": [
    "**Задача:**\n",
    "\n",
    "Во сколько раз шансы выжить для женщин превышают шансы выжить для мужчин?\n",
    "\n",
    "<img src = 'img/table5.png'>"
   ]
  },
  {
   "cell_type": "code",
   "execution_count": 330,
   "id": "64d4e3b3",
   "metadata": {},
   "outputs": [
    {
     "data": {
      "text/plain": [
       "11.915022512809621"
      ]
     },
     "execution_count": 330,
     "metadata": {},
     "output_type": "execute_result"
    }
   ],
   "source": [
    "df = pd.DataFrame({'Estimate': [1.1243, -2.4778],\n",
    "                   'SE': [0.1439, 0.1850],\n",
    "                   'z value': [7.81, -13.39],\n",
    "                   'Pr(>|z|)': [0.0000, 0.0000]},\n",
    "                   index = ['(Intercept)', 'SexMale'])\n",
    "\n",
    "exp_female_est = np.exp(df['Estimate'][0])\n",
    "p_female = exp_female_est/(1 + exp_female_est)\n",
    "odds_female_survive =  p_female / (1 - p_female)\n",
    "\n",
    "exp_male_est = np.exp(df['Estimate'][0] + df['Estimate'][1])\n",
    "p_male = exp_male_est/(1 + exp_male_est)\n",
    "odds_male_survive =  p_male / (1 - p_male)\n",
    "\n",
    "odds_female_survive / odds_male_survive\n"
   ]
  },
  {
   "cell_type": "markdown",
   "id": "baf633b5",
   "metadata": {},
   "source": [
    "### Взаимодействие номинативных предикторов"
   ]
  },
  {
   "cell_type": "code",
   "execution_count": 333,
   "id": "53297171",
   "metadata": {},
   "outputs": [
    {
     "data": {
      "text/plain": [
       "0.8334113864245404"
      ]
     },
     "execution_count": 333,
     "metadata": {},
     "output_type": "execute_result"
    }
   ],
   "source": [
    "effect_exp = np.exp(-1.15 + 0.8 + 2.13 - 0.17)\n",
    "\n",
    "effect_exp/(1 + effect_exp) "
   ]
  },
  {
   "cell_type": "code",
   "execution_count": 358,
   "id": "a49b9962",
   "metadata": {},
   "outputs": [
    {
     "name": "stdout",
     "output_type": "stream",
     "text": [
      "41.68327628324819\n"
     ]
    }
   ],
   "source": [
    "odds_female_1st_class = np.exp(3.3081)\n",
    "odds_female_2d_class = np.exp(3.3081 - 0.8804)\n",
    "\n",
    "odds_male_2nd_class = np.exp(3.3081 - 3.7301 - 0.8804 - 0.4204)\n",
    "odds_male_3d_class = np.exp(3.3081 - 3.7301 - 3.4653 + 2.1542)\n",
    "\n",
    "# odds_female_1st_class / (odds_male_2nd_class + odds_male_3d_class) # ??\n",
    "\n",
    "prob_of_surv_fem_1st_cl = odds_female_1st_class / (1 + odds_female_1st_class)\n",
    "prob_of_surv_fem_1st_cl\n",
    "\n",
    "odds_male_1st_class = np.exp(3.3081 - 3.7301)\n",
    "\n",
    "print(odds_female_1st_class / odds_male_1st_class)"
   ]
  },
  {
   "cell_type": "markdown",
   "id": "ce7d15b5",
   "metadata": {},
   "source": [
    "### Непараметрические методы"
   ]
  },
  {
   "cell_type": "markdown",
   "id": "1a1197e7",
   "metadata": {},
   "source": [
    "U-критерий Манна-Уитни аналог t-теста\n",
    "\n",
    "Манна-Уитни требует одинаковых распределений двух выборок(не обязательно нормальных)"
   ]
  },
  {
   "cell_type": "code",
   "execution_count": 1114,
   "id": "dd517166",
   "metadata": {},
   "outputs": [
    {
     "name": "stdout",
     "output_type": "stream",
     "text": [
      "17.0 0.1111111111111111\n"
     ]
    }
   ],
   "source": [
    "from scipy.stats import mannwhitneyu\n",
    "males = [19, 22, 16, 29, 24]\n",
    "females = [20, 11, 17, 12]\n",
    "\n",
    "U1, p = mannwhitneyu(males, females, method=\"exact\")\n",
    "print(U1, p)"
   ]
  },
  {
   "cell_type": "markdown",
   "id": "878572be",
   "metadata": {},
   "source": [
    "<img src = \"img/note2.png\">"
   ]
  },
  {
   "cell_type": "markdown",
   "id": "0bea6145",
   "metadata": {},
   "source": [
    "<img src = img/note1.png>"
   ]
  },
  {
   "cell_type": "markdown",
   "id": "84a7a2f6",
   "metadata": {},
   "source": [
    "---\n",
    "Аналогом Дисперсионного анализа является Критерий Краскела-Уоллиса"
   ]
  },
  {
   "cell_type": "code",
   "execution_count": 1116,
   "id": "e25371af",
   "metadata": {},
   "outputs": [
    {
     "data": {
      "text/plain": [
       "KruskalResult(statistic=0.2727272727272734, pvalue=0.6015081344405895)"
      ]
     },
     "execution_count": 1116,
     "metadata": {},
     "output_type": "execute_result"
    }
   ],
   "source": [
    "from scipy import stats\n",
    "x = [1, 3, 5, 7, 9]\n",
    "y = [2, 4, 6, 8, 10]\n",
    "stats.kruskal(x, y)"
   ]
  },
  {
   "cell_type": "code",
   "execution_count": 1117,
   "id": "b20e8df1",
   "metadata": {},
   "outputs": [
    {
     "data": {
      "text/plain": [
       "KruskalResult(statistic=7.0, pvalue=0.0301973834223185)"
      ]
     },
     "execution_count": 1117,
     "metadata": {},
     "output_type": "execute_result"
    }
   ],
   "source": [
    "x = [1, 1, 1]\n",
    "y = [2, 2, 2]\n",
    "z = [2, 2]\n",
    "stats.kruskal(x, y, z)"
   ]
  },
  {
   "cell_type": "markdown",
   "id": "c5d27512",
   "metadata": {},
   "source": [
    "<img src = \"img/note3.png\">"
   ]
  },
  {
   "cell_type": "markdown",
   "id": "2c08a590",
   "metadata": {},
   "source": [
    "---\n",
    "\n",
    "[Критерий Краскела-Уоллиса (из комментариев, сам не читал)](https://baguzin.ru/wp/rangovyj-kriterij-kruskala-uollisa/)\n",
    "\n",
    "---"
   ]
  },
  {
   "cell_type": "markdown",
   "id": "323153c9",
   "metadata": {},
   "source": [
    "### Кластерный анализ методом k-средних"
   ]
  },
  {
   "cell_type": "markdown",
   "id": "3a1ead7f",
   "metadata": {},
   "source": [
    "<img src = \"img/note4.png\">"
   ]
  },
  {
   "cell_type": "markdown",
   "id": "ebc256fb",
   "metadata": {},
   "source": [
    "**Задача:**\n",
    "\n",
    "Рассмотрим пример данных, где каждое наблюдение характеризуется двумя переменными X и Y. Рассчитайте координаты центроида наблюдений, изображенных на графике. В поле для ответа введите координаты получившейся точки.\n",
    "\n",
    "<img src = \"img/graph1.jpeg\">"
   ]
  },
  {
   "cell_type": "code",
   "execution_count": 1124,
   "id": "c29167f9",
   "metadata": {},
   "outputs": [
    {
     "data": {
      "text/plain": [
       "(3.0, 5.0)"
      ]
     },
     "execution_count": 1124,
     "metadata": {},
     "output_type": "execute_result"
    }
   ],
   "source": [
    "x = np.mean([-3, 1, 2, 3, 5, 6, 7])\n",
    "y = np.mean([1, 2, 3, 4, 6, 8, 11])\n",
    "\n",
    "x, y"
   ]
  },
  {
   "cell_type": "markdown",
   "id": "2abcf96c",
   "metadata": {},
   "source": [
    "---\n",
    "\n",
    "Интересная статья: [Диаграмма Вороного](https://ru.wikipedia.org/wiki/%D0%94%D0%B8%D0%B0%D0%B3%D1%80%D0%B0%D0%BC%D0%BC%D0%B0_%D0%92%D0%BE%D1%80%D0%BE%D0%BD%D0%BE%D0%B3%D0%BE)\n",
    "\n",
    "Для визуализации k-means можно воспользоваться [сайтом](https://www.naftaliharris.com/blog/visualizing-k-means-clustering/)\n",
    "\n",
    "---"
   ]
  },
  {
   "cell_type": "markdown",
   "id": "9928dad9",
   "metadata": {},
   "source": [
    "#### Алгоритм k-means (k-средних):\n",
    "\n",
    "- Случайно выбираем исходные позиции центроидов\n",
    "\n",
    "Повторяем, пока есть изменения:\n",
    "- Для каждого наблюдения (точки) определяем, к какому центроиду он ближе всего\n",
    "- Видим, что принадлежность некоторых точек изменилась\n",
    "- Обновляем принадлежность точек\n",
    "- Обновляем позиции центроидов"
   ]
  },
  {
   "cell_type": "markdown",
   "id": "11da2d93",
   "metadata": {},
   "source": [
    "---\n",
    "\n",
    "<style>\n",
    ".leftimg \n",
    "{\n",
    "  \n",
    "}\n",
    "</style>\n",
    "\n",
    "<img src = \"img/kmeans.gif\"  width = 250 style = \"float: left; margin: 10px;\">\n",
    "\n",
    "### Про удачную сходимость k-means\n",
    "Чтобы увеличить шансы того, чтобы k-means сходился удачно, можно раскидывать центроиды на большое расстояние друг от друга.\n",
    "\n",
    "Причем повторив много раз данный алгоритм мы увеличиваем шансы того, что мы не застряли на локальном минимуме, и k-means сошелся удачно.\n",
    "\n",
    "*Если при повторных запусках алгоритма k-means на одних и тех же данных с одним и тем же количеством центроидов (k) всё время получаются разные результаты, то есть смысл изменить количество центроидов или это может означать, что в данных нет выраженной структуры*\n",
    "\n",
    "k-means не всегда удачно сходится, иногда алгоритм попадает в локальный минимум \n",
    "\n",
    "### Как выбрать оптимальное количество центроидов\n",
    "\n",
    "<img src = \"img/note5.png\">\n",
    "\n",
    "Если добавление еще одного кластера в данные значительно понижает общую сумму квадратов, то это означает, что в увеличении числа кластеров есть смысл\n",
    "\n",
    "---\n",
    "\n",
    "Если общая внутригрупповая сумма квадратов уменьшается довольно плавно, то скорее всего нет никакой явной структуры кластеров наших данных:\n",
    "<img src = \"img/graph2.png\">\n",
    "\n",
    "В качестве оптимального количества кластеров можно использовать точку перегиба и $\\pm 1$ значение от нее\n",
    "<img src = \"img/graph3.png\">\n",
    "\n",
    "---"
   ]
  },
  {
   "cell_type": "markdown",
   "id": "9b23337d",
   "metadata": {},
   "source": [
    "**Задача:**\n",
    "\n",
    "Вернемся к уже знакомым нам наблюдениям:\n",
    "<img src = \"img/graph1.jpeg\">\n",
    "Предположим, это один из кластеров в наших данных, тогда чему будет равняться внутрикластерная сумма квадратов?"
   ]
  },
  {
   "cell_type": "code",
   "execution_count": 1127,
   "id": "0f8dea9e",
   "metadata": {},
   "outputs": [
    {
     "data": {
      "text/plain": [
       "146.0"
      ]
     },
     "execution_count": 1127,
     "metadata": {},
     "output_type": "execute_result"
    }
   ],
   "source": [
    "x = np.mean([-3, 1, 2, 3, 5, 6, 7])\n",
    "y = np.mean([1, 2, 3, 4, 6, 8, 11])\n",
    "\n",
    "points = np.array([[-3, 3], [1, 4], [2, 6], [3, 8], [5, 2], [6, 11], [7, 1]])\n",
    "\n",
    "mean = np.array([x, y])\n",
    "\n",
    "ISS = np.sum((points - mean) ** 2)\n",
    "\n",
    "ISS"
   ]
  },
  {
   "cell_type": "code",
   "execution_count": 1146,
   "id": "42eede8b",
   "metadata": {},
   "outputs": [
    {
     "name": "stdout",
     "output_type": "stream",
     "text": [
      "[[3. 5.]]\n",
      "146.0\n"
     ]
    },
    {
     "data": {
      "image/png": "[encoded data removed]",
      "text/plain": [
       "<Figure size 432x288 with 1 Axes>"
      ]
     },
     "metadata": {
      "needs_background": "light"
     },
     "output_type": "display_data"
    }
   ],
   "source": [
    "# Второй вариант решения задачи\n",
    "from sklearn.cluster import KMeans\n",
    "import matplotlib.pyplot as plt\n",
    "\n",
    "points = np.array([[-3, 3], [1, 4], [2, 6], [3, 8], [5, 2], [6, 11], [7, 1]])\n",
    "\n",
    "# Обучим модель KMeans на нашем массиве с одним кластером\n",
    "kmeans = KMeans(n_clusters = 1).fit(points)\n",
    "\n",
    "# Выведем координаты центроида данного кластера\n",
    "print(kmeans.cluster_centers_)\n",
    "\n",
    "# Выведем сумму квадратов расстояний точек от центроида = аттрибут модели kmeans\n",
    "print(kmeans.inertia_)\n",
    "\n",
    "df = pd.DataFrame(points, columns = ['x', 'y'])\n",
    "df.plot(kind = 'scatter', x = 'x', y = 'y')\n",
    "plt.show()"
   ]
  },
  {
   "cell_type": "markdown",
   "id": "349fbfce",
   "metadata": {},
   "source": [
    "#### Примеры алгоритма k-средних"
   ]
  },
  {
   "cell_type": "code",
   "execution_count": 1160,
   "id": "7acdc6b9",
   "metadata": {},
   "outputs": [
    {
     "data": {
      "text/html": [
       "<div>\n",
       "<style scoped>\n",
       "    .dataframe tbody tr th:only-of-type {\n",
       "        vertical-align: middle;\n",
       "    }\n",
       "\n",
       "    .dataframe tbody tr th {\n",
       "        vertical-align: top;\n",
       "    }\n",
       "\n",
       "    .dataframe thead th {\n",
       "        text-align: right;\n",
       "    }\n",
       "</style>\n",
       "<table border=\"1\" class=\"dataframe\">\n",
       "  <thead>\n",
       "    <tr style=\"text-align: right;\">\n",
       "      <th></th>\n",
       "      <th>sepal length (cm)</th>\n",
       "      <th>sepal width (cm)</th>\n",
       "      <th>petal length (cm)</th>\n",
       "      <th>petal width (cm)</th>\n",
       "      <th>target</th>\n",
       "    </tr>\n",
       "  </thead>\n",
       "  <tbody>\n",
       "    <tr>\n",
       "      <th>0</th>\n",
       "      <td>5.1</td>\n",
       "      <td>3.5</td>\n",
       "      <td>1.4</td>\n",
       "      <td>0.2</td>\n",
       "      <td>0</td>\n",
       "    </tr>\n",
       "    <tr>\n",
       "      <th>1</th>\n",
       "      <td>4.9</td>\n",
       "      <td>3.0</td>\n",
       "      <td>1.4</td>\n",
       "      <td>0.2</td>\n",
       "      <td>0</td>\n",
       "    </tr>\n",
       "    <tr>\n",
       "      <th>2</th>\n",
       "      <td>4.7</td>\n",
       "      <td>3.2</td>\n",
       "      <td>1.3</td>\n",
       "      <td>0.2</td>\n",
       "      <td>0</td>\n",
       "    </tr>\n",
       "    <tr>\n",
       "      <th>3</th>\n",
       "      <td>4.6</td>\n",
       "      <td>3.1</td>\n",
       "      <td>1.5</td>\n",
       "      <td>0.2</td>\n",
       "      <td>0</td>\n",
       "    </tr>\n",
       "    <tr>\n",
       "      <th>4</th>\n",
       "      <td>5.0</td>\n",
       "      <td>3.6</td>\n",
       "      <td>1.4</td>\n",
       "      <td>0.2</td>\n",
       "      <td>0</td>\n",
       "    </tr>\n",
       "  </tbody>\n",
       "</table>\n",
       "</div>"
      ],
      "text/plain": [
       "   sepal length (cm)  sepal width (cm)  petal length (cm)  petal width (cm)  \\\n",
       "0                5.1               3.5                1.4               0.2   \n",
       "1                4.9               3.0                1.4               0.2   \n",
       "2                4.7               3.2                1.3               0.2   \n",
       "3                4.6               3.1                1.5               0.2   \n",
       "4                5.0               3.6                1.4               0.2   \n",
       "\n",
       "   target  \n",
       "0       0  \n",
       "1       0  \n",
       "2       0  \n",
       "3       0  \n",
       "4       0  "
      ]
     },
     "execution_count": 1160,
     "metadata": {},
     "output_type": "execute_result"
    }
   ],
   "source": [
    "from sklearn.datasets import load_iris\n",
    "import pandas as pd\n",
    "\n",
    "iris = load_iris()\n",
    "df = pd.DataFrame(iris.data, columns = iris.feature_names)\n",
    "# Уже отсортированные по категориям виды Ириса\n",
    "df['target'] = iris.target\n",
    "df.head()"
   ]
  },
  {
   "cell_type": "code",
   "execution_count": 1153,
   "id": "b3ff47a4",
   "metadata": {},
   "outputs": [
    {
     "data": {
      "image/png": "[encoded data removed]",
      "text/plain": [
       "<Figure size 432x288 with 1 Axes>"
      ]
     },
     "metadata": {
      "needs_background": "light"
     },
     "output_type": "display_data"
    }
   ],
   "source": [
    "df.plot(kind = 'scatter', x = 'sepal length (cm)', y = 'petal width (cm)')\n",
    "plt.show()"
   ]
  },
  {
   "cell_type": "code",
   "execution_count": 1185,
   "id": "07cd153b",
   "metadata": {},
   "outputs": [
    {
     "data": {
      "text/html": [
       "<div>\n",
       "<style scoped>\n",
       "    .dataframe tbody tr th:only-of-type {\n",
       "        vertical-align: middle;\n",
       "    }\n",
       "\n",
       "    .dataframe tbody tr th {\n",
       "        vertical-align: top;\n",
       "    }\n",
       "\n",
       "    .dataframe thead th {\n",
       "        text-align: right;\n",
       "    }\n",
       "</style>\n",
       "<table border=\"1\" class=\"dataframe\">\n",
       "  <thead>\n",
       "    <tr style=\"text-align: right;\">\n",
       "      <th></th>\n",
       "      <th>sepal length (cm)</th>\n",
       "      <th>petal width (cm)</th>\n",
       "      <th>cluster</th>\n",
       "    </tr>\n",
       "  </thead>\n",
       "  <tbody>\n",
       "    <tr>\n",
       "      <th>0</th>\n",
       "      <td>5.1</td>\n",
       "      <td>0.2</td>\n",
       "      <td>1</td>\n",
       "    </tr>\n",
       "    <tr>\n",
       "      <th>1</th>\n",
       "      <td>4.9</td>\n",
       "      <td>0.2</td>\n",
       "      <td>1</td>\n",
       "    </tr>\n",
       "    <tr>\n",
       "      <th>2</th>\n",
       "      <td>4.7</td>\n",
       "      <td>0.2</td>\n",
       "      <td>1</td>\n",
       "    </tr>\n",
       "    <tr>\n",
       "      <th>3</th>\n",
       "      <td>4.6</td>\n",
       "      <td>0.2</td>\n",
       "      <td>1</td>\n",
       "    </tr>\n",
       "    <tr>\n",
       "      <th>4</th>\n",
       "      <td>5.0</td>\n",
       "      <td>0.2</td>\n",
       "      <td>1</td>\n",
       "    </tr>\n",
       "  </tbody>\n",
       "</table>\n",
       "</div>"
      ],
      "text/plain": [
       "   sepal length (cm)  petal width (cm)  cluster\n",
       "0                5.1               0.2        1\n",
       "1                4.9               0.2        1\n",
       "2                4.7               0.2        1\n",
       "3                4.6               0.2        1\n",
       "4                5.0               0.2        1"
      ]
     },
     "execution_count": 1185,
     "metadata": {},
     "output_type": "execute_result"
    }
   ],
   "source": [
    "from sklearn.cluster import KMeans\n",
    "\n",
    "kmeans = KMeans(n_clusters = 3)\n",
    "\n",
    "data = df.loc[:, ['sepal length (cm)', 'petal width (cm)']]\n",
    "\n",
    "model = kmeans.fit(data)\n",
    "\n",
    "data['cluster'] = model.labels_\n",
    "data.head()"
   ]
  },
  {
   "cell_type": "markdown",
   "id": "85d38e01",
   "metadata": {},
   "source": [
    "*Предсказанные значения:*"
   ]
  },
  {
   "cell_type": "code",
   "execution_count": 1186,
   "id": "e185b300",
   "metadata": {
    "scrolled": false
   },
   "outputs": [
    {
     "data": {
      "image/png": "[encoded data removed]",
      "text/plain": [
       "<Figure size 432x288 with 2 Axes>"
      ]
     },
     "metadata": {
      "needs_background": "light"
     },
     "output_type": "display_data"
    }
   ],
   "source": [
    "data.plot(kind = 'scatter', x='sepal length (cm)', y='petal width (cm)', c = 'cluster', colormap = 'Paired')\n",
    "plt.show()"
   ]
  },
  {
   "cell_type": "markdown",
   "id": "828d7fe7",
   "metadata": {},
   "source": [
    "*Правильные значения:*"
   ]
  },
  {
   "cell_type": "code",
   "execution_count": 1188,
   "id": "a88aca3a",
   "metadata": {},
   "outputs": [
    {
     "data": {
      "image/png": "[encoded data removed]",
      "text/plain": [
       "<Figure size 432x288 with 2 Axes>"
      ]
     },
     "metadata": {
      "needs_background": "light"
     },
     "output_type": "display_data"
    }
   ],
   "source": [
    "df.plot(kind='scatter', x='sepal length (cm)', y='petal width (cm)', c='target', colormap='Paired')\n",
    "plt.show()"
   ]
  },
  {
   "cell_type": "code",
   "execution_count": 1458,
   "id": "d311e5bb",
   "metadata": {
    "scrolled": false
   },
   "outputs": [
    {
     "data": {
      "image/png": "[encoded data removed]",
      "text/plain": [
       "<Figure size 432x288 with 2 Axes>"
      ]
     },
     "metadata": {
      "needs_background": "light"
     },
     "output_type": "display_data"
    },
    {
     "data": {
      "image/png": "[encoded data removed]",
      "text/plain": [
       "<Figure size 432x288 with 1 Axes>"
      ]
     },
     "metadata": {
      "needs_background": "light"
     },
     "output_type": "display_data"
    }
   ],
   "source": [
    "import numpy as np\n",
    "df = pd.DataFrame(\n",
    "    np.concatenate(\n",
    "        (\n",
    "            np.random.uniform([1, 1], [10, 10], (10, 2)),\n",
    "            np.random.uniform([45, 45], [55, 55], (10, 2)),\n",
    "            np.random.uniform([90, 90], [100, 100], (10, 2)),\n",
    "        )\n",
    "    ),\n",
    "    columns=[\"x\", \"y\"],\n",
    ")\n",
    "a = np.array([])\n",
    "for i in range(1, 16):\n",
    "    kmeans = KMeans(n_clusters = i)\n",
    "    model = kmeans.fit(df)\n",
    "    df['cluster'] = model.labels_\n",
    "    a = np.append(a, kmeans.inertia_)\n",
    "\n",
    "graph = pd.DataFrame(a, columns = ['y'])\n",
    "graph['index'] = np.array(range(1, 16)).reshape(-1, 1)\n",
    "graph = graph.set_index('index')\n",
    "\n",
    "kmeans = KMeans(n_clusters = 3)\n",
    "model = kmeans.fit(df)\n",
    "df['cluster'] = model.labels_\n",
    "\n",
    "# Ось x не отображается так как в документации написано,\n",
    "# что при kind = \"scatter\" эта ось не отображается\n",
    "df.plot(kind=\"scatter\", x=\"x\", y=\"y\", c=\"cluster\",colormap=\"Paired\", title = 'The specified number of clusters: 3')\n",
    "graph.plot(xlabel = 'Number of clusters', ylabel = 'Total within-cluster sum of squares')\n",
    "\n",
    "plt.show()"
   ]
  },
  {
   "cell_type": "markdown",
   "id": "f177e287",
   "metadata": {},
   "source": [
    "### Иерархическая кластеризация"
   ]
  },
  {
   "cell_type": "markdown",
   "id": "246def84",
   "metadata": {},
   "source": [
    "#### Метод ближайшего соседа"
   ]
  },
  {
   "cell_type": "code",
   "execution_count": 1461,
   "id": "d551e29c",
   "metadata": {},
   "outputs": [
    {
     "data": {
      "image/png": "[encoded data removed]",
      "text/plain": [
       "<Figure size 1800x720 with 1 Axes>"
      ]
     },
     "metadata": {
      "needs_background": "light"
     },
     "output_type": "display_data"
    }
   ],
   "source": [
    "import numpy as np\n",
    "import pandas as pd\n",
    "from scipy.cluster.hierarchy import dendrogram, linkage\n",
    "from matplotlib import pyplot as plt\n",
    "\n",
    "df = pd.DataFrame(\n",
    "    np.concatenate(\n",
    "        (\n",
    "            np.random.uniform([1, 1], [10, 10], (10, 2)),\n",
    "            np.random.uniform([45, 45], [55, 55], (10, 2)),\n",
    "            np.random.uniform([90, 90], [100, 100], (10, 2)),\n",
    "        )\n",
    "    ),\n",
    "    columns=[\"x\", \"y\"],\n",
    ")\n",
    "\n",
    "Z = linkage(df, 'single')\n",
    "fig = plt.figure(figsize=(25, 10))\n",
    "dn = dendrogram(Z)\n",
    "plt.show()"
   ]
  },
  {
   "cell_type": "markdown",
   "id": "a237ef93",
   "metadata": {},
   "source": [
    "### Заметки:"
   ]
  },
  {
   "cell_type": "markdown",
   "id": "c2338f41",
   "metadata": {},
   "source": [
    "---\n",
    "Интересные ссылки:\n",
    "\n",
    "[Visualizing DBSCAN Clustering](https://www.naftaliharris.com/blog/visualizing-dbscan-clustering/)\n",
    "\n",
    "[Visualizing Lasso Polytope Geometry](https://www.naftaliharris.com/blog/lasso-polytope-geometry/)\n",
    "\n",
    "---\n",
    "<img src = \"img/info.png\">\n",
    "<img src = \"img/ml.png\">\n",
    "<img src = \"img/tests_diagram.jpg\">"
   ]
  }
 ],
 "metadata": {
  "kernelspec": {
   "display_name": "Python 3 (ipykernel)",
   "language": "python",
   "name": "python3"
  },
  "language_info": {
   "codemirror_mode": {
    "name": "ipython",
    "version": 3
   },
   "file_extension": ".py",
   "mimetype": "text/x-python",
   "name": "python",
   "nbconvert_exporter": "python",
   "pygments_lexer": "ipython3",
   "version": "3.9.7"
  }
 },
 "nbformat": 4,
 "nbformat_minor": 5
}
