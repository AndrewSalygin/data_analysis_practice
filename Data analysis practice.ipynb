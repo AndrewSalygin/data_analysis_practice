{
 "cells": [
  {
   "cell_type": "markdown",
   "id": "11abffaf",
   "metadata": {},
   "source": [
    "## Практика по библиотекам numpy, scipy, pandas, matplotlib, seaborn, plotly, statsmodels"
   ]
  },
  {
   "cell_type": "markdown",
   "id": "b9b8b4c3",
   "metadata": {},
   "source": [
    "### Среднее, медиана и мода"
   ]
  },
  {
   "cell_type": "code",
   "execution_count": 11,
   "id": "97d3659e",
   "metadata": {},
   "outputs": [
    {
     "name": "stdout",
     "output_type": "stream",
     "text": [
      "mode: 172\n",
      "median: 170.5\n",
      "mean: 170.4\n"
     ]
    }
   ],
   "source": [
    "# Расчет с помощью scipy и numpy\n",
    "import numpy as np\n",
    "from scipy import stats\n",
    "sample = np.array([185, 175, 170, 169, 171, 175, 157, 172, 170, 172, 167, 173, 168, 167, 166,\n",
    "              167, 169, 172, 177, 178, 165, 161, 179, 159, 164, 178, 172, 170, 173, 171])\n",
    "# В numpy кажись нет моды :(\n",
    "print('mode:', stats.mode(sample)[0][0])\n",
    "print('median:', np.median(sample))\n",
    "print('mean:', np.mean(sample))"
   ]
  },
  {
   "cell_type": "code",
   "execution_count": 14,
   "id": "1a65d2dc",
   "metadata": {
    "scrolled": true
   },
   "outputs": [
    {
     "name": "stdout",
     "output_type": "stream",
     "text": [
      "mode: 0    172\n",
      "dtype: int64\n",
      "median: 170.5\n",
      "mean: 170.4\n"
     ]
    }
   ],
   "source": [
    "# Расчет с помощью pandas\n",
    "import pandas as pd\n",
    "sample = pd.Series([185, 175, 170, 169, 171, 175, 157, 172, 170, 172, 167, 173, 168, 167, 166,\n",
    "              167, 169, 172, 177, 178, 165, 161, 179, 159, 164, 178, 172, 170, 173, 171])\n",
    "print('mode:', sample.mode())\n",
    "print('median:', sample.median())\n",
    "print('mean:', sample.mean())"
   ]
  },
  {
   "cell_type": "code",
   "execution_count": 23,
   "id": "6e7c974f",
   "metadata": {},
   "outputs": [],
   "source": [
    "sample = np.array([185, 175, 170, 169, 171, 175, 157, 172, 170, 172, 167, 173, 168, 167, 166,\n",
    "              167, 169, 172, 177, 178, 165, 161, 179, 159, 164, 178, 172, 170, 173, 171])"
   ]
  },
  {
   "cell_type": "markdown",
   "id": "3b73cdb1",
   "metadata": {},
   "source": [
    "### Меры изменчивости"
   ]
  },
  {
   "cell_type": "code",
   "execution_count": 24,
   "id": "4664f1ad",
   "metadata": {},
   "outputs": [
    {
     "name": "stdout",
     "output_type": "stream",
     "text": [
      "Размах: 28\n",
      "Стандартное отклонение: 5.902541825349482\n"
     ]
    }
   ],
   "source": [
    "print('Размах:', np.max(sample) - np.min(sample))\n",
    "print('Стандартное отклонение:', np.std(sample))"
   ]
  },
  {
   "cell_type": "markdown",
   "id": "b1879474",
   "metadata": {},
   "source": [
    "### Диаграмма boxplot"
   ]
  },
  {
   "cell_type": "code",
   "execution_count": 32,
   "id": "802bc485",
   "metadata": {},
   "outputs": [
    {
     "data": {
      "image/png": "[encoded data removed]",
      "text/plain": [
       "<Figure size 432x288 with 1 Axes>"
      ]
     },
     "metadata": {
      "needs_background": "light"
     },
     "output_type": "display_data"
    }
   ],
   "source": [
    "import matplotlib.pyplot as plt\n",
    "\n",
    "plt.boxplot(sample)\n",
    "plt.show()"
   ]
  },
  {
   "cell_type": "code",
   "execution_count": 39,
   "id": "7fde8fe5",
   "metadata": {
    "scrolled": true
   },
   "outputs": [
    {
     "data": {
      "image/png": "[encoded data removed]",
      "text/plain": [
       "<Figure size 432x288 with 1 Axes>"
      ]
     },
     "metadata": {
      "needs_background": "light"
     },
     "output_type": "display_data"
    }
   ],
   "source": [
    "# Имитация доски Гальтона в коде\n",
    "import seaborn as sns\n",
    "data = dict()\n",
    "\n",
    "# Кол-во шариков\n",
    "N = 10000\n",
    "\n",
    "# Кол-во уровней\n",
    "level = 20\n",
    "\n",
    "for _ in range(N):\n",
    "    index = 0\n",
    "    for _ in range(level):\n",
    "        index += np.random.choice([-1, 1]) \n",
    "    data.setdefault(index, 0)\n",
    "    data[index] += 1\n",
    "sns.barplot(x = list(data.keys()), y = list(data.values()));"
   ]
  },
  {
   "cell_type": "markdown",
   "id": "12333a7b",
   "metadata": {},
   "source": [
    "### Z-преобразование"
   ]
  },
  {
   "cell_type": "code",
   "execution_count": 44,
   "id": "200e59e1",
   "metadata": {},
   "outputs": [
    {
     "name": "stdout",
     "output_type": "stream",
     "text": [
      "1.4\n"
     ]
    }
   ],
   "source": [
    "M = 175\n",
    "sd = 8\n",
    "value = 186.2\n",
    "z = (value - M)/sd\n",
    "print(round(z, ndigits = 2))"
   ]
  },
  {
   "cell_type": "code",
   "execution_count": 48,
   "id": "275be11b",
   "metadata": {},
   "outputs": [
    {
     "name": "stdout",
     "output_type": "stream",
     "text": [
      "[ 90.0 , 110.0 ]\n"
     ]
    }
   ],
   "source": [
    "# 95% Наблюдений будет в диапазоне\n",
    "M = 100\n",
    "D = 25\n",
    "sd = np.sqrt(D)\n",
    "\n",
    "print('[', M - 2*sd, ',', M + 2*sd, ']')"
   ]
  },
  {
   "cell_type": "code",
   "execution_count": 86,
   "id": "8fe7dff1",
   "metadata": {},
   "outputs": [
    {
     "data": {
      "text/plain": [
       "0.0477903522728147"
      ]
     },
     "execution_count": 86,
     "metadata": {},
     "output_type": "execute_result"
    }
   ],
   "source": [
    "# Какой процент людей c IQ > 125\n",
    "import scipy as sp\n",
    "\n",
    "M = 100\n",
    "sd = 15\n",
    "value = 125\n",
    "\n",
    "sp.stats.norm.sf((value - M)/sd)"
   ]
  },
  {
   "cell_type": "code",
   "execution_count": 74,
   "id": "fc91ec48",
   "metadata": {},
   "outputs": [
    {
     "name": "stdout",
     "output_type": "stream",
     "text": [
      "0.77\n"
     ]
    }
   ],
   "source": [
    "# Какой приблизительно процент людей обладает IQ на \n",
    "# промежутке от 70 до 112\n",
    "\n",
    "M = 100\n",
    "sd = 15\n",
    "value1 = 70\n",
    "value2 = 112\n",
    "\n",
    "p_value_left = sp.stats.norm.cdf((value1-M)/sd)\n",
    "p_value_right = sp.stats.norm.sf((value2-M)/sd)\n",
    "print(round(1 - p_value_left - p_value_right, ndigits = 2))"
   ]
  },
  {
   "cell_type": "code",
   "execution_count": 76,
   "id": "24ba9d88",
   "metadata": {},
   "outputs": [
    {
     "name": "stdout",
     "output_type": "stream",
     "text": [
      "0.2\n"
     ]
    }
   ],
   "source": [
    "# Рассчитать стандартную ошибку\n",
    "\n",
    "D = 4\n",
    "N = 100\n",
    "\n",
    "se = np.sqrt(D)/np.sqrt(N)\n",
    "print(se)"
   ]
  },
  {
   "cell_type": "code",
   "execution_count": 83,
   "id": "560f94e0",
   "metadata": {},
   "outputs": [
    {
     "name": "stdout",
     "output_type": "stream",
     "text": [
      "[ 8.71 , 11.29 ]\n"
     ]
    }
   ],
   "source": [
    "# Рассчитать 99% доверительный интервал\n",
    "x = 10\n",
    "sd = 5\n",
    "n = 100\n",
    "\n",
    "print('[', x - 2.58 * (sd/np.sqrt(n)), ',', x + 2.58 * (sd/np.sqrt(n)) ,']')"
   ]
  },
  {
   "cell_type": "code",
   "execution_count": 103,
   "id": "57241a23",
   "metadata": {},
   "outputs": [
    {
     "data": {
      "image/png": "[encoded data removed]",
      "text/plain": [
       "<Figure size 432x288 with 1 Axes>"
      ]
     },
     "metadata": {
      "needs_background": "light"
     },
     "output_type": "display_data"
    }
   ],
   "source": [
    "# T-распределение\n",
    "x = np.linspace(-5, 5, 100)\n",
    "y = sp.stats.t.pdf(x, df = 100)\n",
    "\n",
    "plt.plot(y);"
   ]
  },
  {
   "cell_type": "code",
   "execution_count": 126,
   "id": "31af593f",
   "metadata": {},
   "outputs": [
    {
     "data": {
      "image/png": "[encoded data removed]",
      "text/plain": [
       "<Figure size 720x360 with 1 Axes>"
      ]
     },
     "metadata": {
      "needs_background": "light"
     },
     "output_type": "display_data"
    }
   ],
   "source": [
    "# Нормальное распределение\n",
    "x = np.linspace(-5, 5, 100)\n",
    "y1 = sp.stats.norm.pdf(x)\n",
    "y2 = sp.stats.t.pdf(x, df = 5)\n",
    "plt.figure(figsize=(10, 5))\n",
    "plt.plot(y1)\n",
    "plt.plot(y2, 'r:')\n",
    "plt.legend(['normal distribution', 't-distribution with df = 5'], loc = 'upper right')\n",
    "plt.show()"
   ]
  },
  {
   "cell_type": "code",
   "execution_count": 132,
   "id": "3d930a7d",
   "metadata": {},
   "outputs": [
    {
     "data": {
      "text/plain": [
       "0.065"
      ]
     },
     "execution_count": 132,
     "metadata": {},
     "output_type": "execute_result"
    }
   ],
   "source": [
    "# Рассчитать p-уровень значимости (двусторонний)\n",
    "mean = 10\n",
    "t = -2\n",
    "n = 15\n",
    "round(sp.stats.t.cdf(t, df = n-1) * 2, ndigits = 3)"
   ]
  },
  {
   "cell_type": "markdown",
   "id": "e8d287d5",
   "metadata": {},
   "source": [
    "### T-критерий Стьюдента"
   ]
  },
  {
   "cell_type": "code",
   "execution_count": 28,
   "id": "8813f476",
   "metadata": {
    "scrolled": true
   },
   "outputs": [
    {
     "name": "stdout",
     "output_type": "stream",
     "text": [
      "                   Mx         SD     N        SE\n",
      "1-ая выборка  100.815  10.246503  20.0  2.291188\n",
      "2-ая выборка   75.735  15.458102  20.0  3.456537\n",
      "p-value: 8.113664646369756e-06\n",
      "p-value in one line: 4.894702897415829e-07\n",
      "Отклоняем нулевую гипотезу H0 о равенстве средних значений данных выборок\n"
     ]
    },
    {
     "data": {
      "text/html": [
       "<div>\n",
       "<style scoped>\n",
       "    .dataframe tbody tr th:only-of-type {\n",
       "        vertical-align: middle;\n",
       "    }\n",
       "\n",
       "    .dataframe tbody tr th {\n",
       "        vertical-align: top;\n",
       "    }\n",
       "\n",
       "    .dataframe thead th {\n",
       "        text-align: right;\n",
       "    }\n",
       "</style>\n",
       "<table border=\"1\" class=\"dataframe\">\n",
       "  <thead>\n",
       "    <tr style=\"text-align: right;\">\n",
       "      <th></th>\n",
       "      <th>Mx</th>\n",
       "      <th>SD</th>\n",
       "      <th>N</th>\n",
       "      <th>SE</th>\n",
       "      <th>interval</th>\n",
       "    </tr>\n",
       "  </thead>\n",
       "  <tbody>\n",
       "    <tr>\n",
       "      <th>1-ая выборка</th>\n",
       "      <td>100.815</td>\n",
       "      <td>10.246503</td>\n",
       "      <td>20.0</td>\n",
       "      <td>2.291188</td>\n",
       "      <td>[96.02, 105.61]</td>\n",
       "    </tr>\n",
       "    <tr>\n",
       "      <th>2-ая выборка</th>\n",
       "      <td>75.735</td>\n",
       "      <td>15.458102</td>\n",
       "      <td>20.0</td>\n",
       "      <td>3.456537</td>\n",
       "      <td>[68.5, 82.97]</td>\n",
       "    </tr>\n",
       "  </tbody>\n",
       "</table>\n",
       "</div>"
      ],
      "text/plain": [
       "                   Mx         SD     N        SE         interval\n",
       "1-ая выборка  100.815  10.246503  20.0  2.291188  [96.02, 105.61]\n",
       "2-ая выборка   75.735  15.458102  20.0  3.456537    [68.5, 82.97]"
      ]
     },
     "execution_count": 28,
     "metadata": {},
     "output_type": "execute_result"
    }
   ],
   "source": [
    "import numpy as np\n",
    "import pandas as pd\n",
    "array1 = np.array([84.7, 105, 98.9, 97.9, 108.7, 81.3, 99.4, 89.4 , 93, 119.3, 99.2, 99.4, 97.1, 112.4, 99.8, 94.7, 114, 95.1, 115.5, 111.5])\n",
    "array2 = np.array([57.2, 68.6, 104.4, 95.1, 89.9, 70.8, 83.5, 60.1, 75.7, 102, 69, 79.6, 68.9, 98.6, 76, 74.8, 56, 55.6, 69.4, 59.5])\n",
    "\n",
    "# Считаем количество элементов, среднее, стандартное отклонение и стандартную ошибку\n",
    "dtfm = pd.DataFrame({'1-ая выборка':array1, '2-ая выборка':array2}).agg(['mean', 'std', 'count', 'sem']).T\n",
    "dtfm.columns = ['Mx', 'SD', 'N', 'SE']\n",
    "\n",
    "print(dtfm)\n",
    "\n",
    "# Выясним являются ли значения статистически значимыми\n",
    "df = len(array1) - 1\n",
    "\n",
    "sd1 = dtfm.loc['1-ая выборка']['SD']\n",
    "n1 = dtfm.loc['1-ая выборка']['N']\n",
    "\n",
    "sd2 = dtfm.loc['2-ая выборка']['SD']\n",
    "n2 = dtfm.loc['2-ая выборка']['N']\n",
    "\n",
    "se = np.sqrt((sd1 ** 2 / n1) + (sd2 ** 2 / n2))\n",
    "\n",
    "se1 = dtfm.loc['1-ая выборка']['SE']\n",
    "se2 = dtfm.loc['2-ая выборка']['SE']\n",
    "\n",
    "mean1 = array1.mean()\n",
    "mean2 = array2.mean()\n",
    "t = (mean1 - mean2) / se\n",
    "p_value = 2*(1 - sp.stats.t.cdf(t, df))\n",
    "\n",
    "print('p-value:', p_value)\n",
    "\n",
    "# В одну строчку тоже самое\n",
    "print('p-value in one line:', sp.stats.ttest_ind(array1, array2, alternative='two-sided')[1])\n",
    "\n",
    "if p_value < 0.05:\n",
    "    print('Отклоняем нулевую гипотезу H0 о равенстве средних значений данных выборок')\n",
    "else:\n",
    "    print('Верна нулевая гипотеза H0 о равенстве средних значений данных выборок')\n",
    "    \n",
    "# 95% интервал отклонения среднего\n",
    "# Возвращается кортеж\n",
    "interval1 = sp.stats.t.interval(0.95, df = df, loc = mean1, scale = se1)\n",
    "interval2 = sp.stats.t.interval(0.95, df = df, loc = mean2, scale = se2)\n",
    "\n",
    "# Округляем значения\n",
    "interval_arr1 = np.around(np.array(interval1), decimals = 2)\n",
    "interval_arr2 = np.around(np.array(interval2), decimals = 2)\n",
    "\n",
    "d = {'1-ая выборка':interval_arr1, '2-ая выборка':interval_arr2}\n",
    "dtfm['interval'] = pd.Series(data = d)\n",
    "\n",
    "dtfm"
   ]
  },
  {
   "cell_type": "code",
   "execution_count": 238,
   "id": "c3cdd28b",
   "metadata": {
    "scrolled": true
   },
   "outputs": [
    {
     "name": "stdout",
     "output_type": "stream",
     "text": [
      "                  Mx        SD     N        SE\n",
      "1-ая выборка  108.05  5.995393  20.0  1.340611\n",
      "2-ая выборка  109.90  5.230477  20.0  1.169570\n",
      "p-value: 0.3114564636004076\n",
      "p-value in one line: 0.3049752508036721\n",
      "Верна нулевая гипотеза H0 о равенстве средних значений данных выборок\n"
     ]
    }
   ],
   "source": [
    "array3 = np.array([101, 101, 107, 112, 108, 103, 101, 113, 103, 118, 103, 117, 119, 104, 114, 113, 106, 104, 110, 104])\n",
    "array4 = np.array([116, 102, 109, 109, 119, 116, 115, 116, 105, 103, 111, 102, 114, 106, 105, 107, 113, 114, 107, 109])\n",
    "\n",
    "dtfm = pd.DataFrame({'1-ая выборка':array3, '2-ая выборка':array4}).agg(['mean', 'std', 'count', 'sem']).T\n",
    "dtfm.columns = ['Mx', 'SD', 'N', 'SE']\n",
    "\n",
    "df = len(array3) - 1\n",
    "print(dtfm)\n",
    "\n",
    "sd1 = dtfm.loc['1-ая выборка']['SD']\n",
    "n1 = dtfm.loc['1-ая выборка']['N']\n",
    "\n",
    "sd2 = dtfm.loc['2-ая выборка']['SD']\n",
    "n2 = dtfm.loc['2-ая выборка']['N']\n",
    "\n",
    "se = np.sqrt((sd1 ** 2 / n1) + (sd2 ** 2 / n2))\n",
    "\n",
    "mean1 = array4.mean()\n",
    "mean2 = array3.mean()\n",
    "\n",
    "t = (mean1 - mean2) / se\n",
    "\n",
    "p_value = 2*(1 - sp.stats.t.cdf(t, df))\n",
    "print('p-value:', p_value)\n",
    "\n",
    "# В одну строчку тоже самое\n",
    "print('p-value in one line:', sp.stats.ttest_ind(array3, array4, alternative='two-sided')[1])\n",
    "\n",
    "if p_value < 0.05:\n",
    "    print('Отклоняем нулевую гипотезу H0 о равенстве средних значений данных выборок')\n",
    "else:\n",
    "    print('Верна нулевая гипотеза H0 о равенстве средних значений данных выборок')"
   ]
  },
  {
   "cell_type": "code",
   "execution_count": 376,
   "id": "71324370",
   "metadata": {
    "scrolled": true
   },
   "outputs": [
    {
     "data": {
      "image/png": "[encoded data removed]",
      "text/plain": [
       "<Figure size 1152x576 with 2 Axes>"
      ]
     },
     "metadata": {
      "needs_background": "light"
     },
     "output_type": "display_data"
    }
   ],
   "source": [
    "# Строим окна для графиков\n",
    "fig, (ax1, ax2) = plt.subplots(nrows = 1, ncols = 2, figsize = (16, 8))\n",
    "\n",
    "# Boxplot\n",
    "plot1 = ax1.boxplot([array1, array2], labels = ['1-ая выборка', '2-ая выборка'])\n",
    "\n",
    "# Доверительные интервалы\n",
    "plt.xlim(-1, 2)\n",
    "plt.ylim(40, 140)\n",
    "plot2 = ax2.errorbar(x = dtfm.index, y = dtfm['Mx'], yerr = dtfm['interval'][1] - dtfm['interval'][0], color = 'black', capsize=10, fmt = 'o')\n",
    "\n",
    "for ax in [ax1, ax2]:\n",
    "    ax.yaxis.grid(True)\n",
    "    ax.set_title('Температура плавления ДНК двух типов', fontsize = 18)\n",
    "    ax.set_xlabel('Сравнение двух выборок', fontsize = 18)\n",
    "    ax.set_ylabel('Температура F', fontsize = 18)"
   ]
  },
  {
   "cell_type": "markdown",
   "id": "11abdcb6",
   "metadata": {},
   "source": [
    "Рассчитать доверительный интервал для t-распределения\n",
    "$$ \\bar{X}=89,9\\quad sd=11,3\\quad n=20$$"
   ]
  },
  {
   "cell_type": "code",
   "execution_count": 27,
   "id": "579c32a6",
   "metadata": {},
   "outputs": [
    {
     "data": {
      "text/plain": [
       "(84.61143720745503, 95.18856279254499)"
      ]
     },
     "execution_count": 27,
     "metadata": {},
     "output_type": "execute_result"
    }
   ],
   "source": [
    "import scipy as sp\n",
    "from scipy import stats\n",
    "x = 89.9\n",
    "sd = 11.3\n",
    "n = 20\n",
    "\n",
    "# 95 % процентный доверительный интервал\n",
    "p = 0.95\n",
    "\n",
    "se = sd/np.sqrt(n)\n",
    "\n",
    "stats.t.interval(0.95, df = n-1, scale = se, loc = x)"
   ]
  },
  {
   "cell_type": "markdown",
   "id": "3acaa9bf",
   "metadata": {},
   "source": [
    "Первые премии Оскар за лучшую мужскую и женскую роль были вручены в 1929. Данные гистограммы демонстрируют распределение возраста победителей с 1929 по 2014 год (100 мужчин, 100 женщин). Используя t - критерий проверьте, можно ли считать наблюдаемые различия в возрасте между лучшими актрисами и актерами  статистически достоверными.\n",
    "\n",
    "Средний возраст мужчин равен 45, sd = 9.\n",
    "\n",
    "Средний возраст женщин равен 34, sd = 10.\n",
    "\n",
    "<img src = 'plot1.png'>"
   ]
  },
  {
   "cell_type": "code",
   "execution_count": 35,
   "id": "d3e1d37a",
   "metadata": {},
   "outputs": [
    {
     "name": "stdout",
     "output_type": "stream",
     "text": [
      "p-value: 3.455544014290269e-14\n",
      "Отклоняем нулевую гипотезу H0 о равенстве средних значений данных выборок\n"
     ]
    }
   ],
   "source": [
    "mean1, mean2 = 45, 34\n",
    "sd1, sd2 = 9, 10\n",
    "n1, n2 = 100, 100\n",
    "\n",
    "se = np.sqrt((sd1 ** 2 / n1) + (sd2 ** 2 / n2))\n",
    "\n",
    "t_value = (mean1 - mean2) / se\n",
    "\n",
    "p_value = 2*sp.stats.t.sf(t_value, n1+n2 - 2)\n",
    "print('p-value:', p_value)\n",
    "if p_value < 0.05:\n",
    "    print('Отклоняем нулевую гипотезу H0 о равенстве средних значений данных выборок')\n",
    "else:\n",
    "    print('Верна нулевая гипотеза H0 о равенстве средних значений данных выборок')"
   ]
  },
  {
   "cell_type": "markdown",
   "id": "1d79937d",
   "metadata": {},
   "source": [
    "### QQ-plot"
   ]
  },
  {
   "cell_type": "code",
   "execution_count": 122,
   "id": "7356b985",
   "metadata": {},
   "outputs": [
    {
     "data": {
      "image/png": "[encoded data removed]",
      "text/plain": [
       "<Figure size 1152x576 with 2 Axes>"
      ]
     },
     "metadata": {
      "needs_background": "light"
     },
     "output_type": "display_data"
    }
   ],
   "source": [
    "import numpy as np\n",
    "import matplotlib.pyplot as plt\n",
    "mu = 0\n",
    "sigma = 10\n",
    "n = 1000\n",
    "\n",
    "sequence = np.random.normal(mu, sigma, n)\n",
    "\n",
    "# normal distribution\n",
    "fig, (ax1, ax2) = plt.subplots(1, 2, figsize = (16, 8))\n",
    "\n",
    "#fig.suptitle('Normal Distribution and QQ-plot', fontsize = 24)\n",
    "\n",
    "x = np.linspace(mu - 3*sigma, mu + 3*sigma, 1000)\n",
    "plot1 = ax1.hist(sequence, 40, density = True)\n",
    "\n",
    "ax1.plot(x, stats.norm.pdf(x, mu, sigma), color='r')\n",
    "\n",
    "ax1.set_title('Normal Distribution', fontsize = 20)\n",
    "\n",
    "# QQ-plot\n",
    "stats.probplot(sequence, dist = 'norm', plot = ax2)\n",
    "\n",
    "ax2.set_title('QQ-plot', fontsize = 20)\n",
    "\n",
    "ax2.set_xlabel('Theoretical quantiles', fontsize = 18)\n",
    "ax2.set_ylabel('Ordered Values', fontsize = 18)\n",
    "\n",
    "for ax in [ax1, ax2]:\n",
    "    ax.tick_params(axis='both', labelsize=16)"
   ]
  },
  {
   "cell_type": "markdown",
   "id": "82096c5e",
   "metadata": {},
   "source": [
    "### Однофакторный дисперсионный анализ\n",
    "\n",
    "$$ SS_{total} = \\sum_{j=1}^{p}{\\sum_{i=1}^{n_j}{(x_{ij} - \\bar{x})^2}} = SS_{between} + SS_{within} $$\n",
    "$$ SS_{between} = \\sum_{j=1}^{p}{n_j{(\\bar{x}_j - \\bar{x})^2}} $$\n",
    "$$ SS_{within} = \\sum_{j=1}^{p}{\\sum_{i=1}^{n_j}{(x_{ij} - \\bar{x}_j)^2}} $$"
   ]
  },
  {
   "cell_type": "code",
   "execution_count": 461,
   "id": "38d72e9c",
   "metadata": {},
   "outputs": [
    {
     "name": "stdout",
     "output_type": "stream",
     "text": [
      "Нулевая гипотеза: a=b=c\n",
      "Альтернативная гипотеза: !(a=b=c)\n",
      "p-value: 0.008\n",
      "Отклоняем нулевую гипотезу H0 о равенстве средних значений данных выборок\n"
     ]
    },
    {
     "data": {
      "image/png": "[encoded data removed]",
      "text/plain": [
       "<Figure size 1152x648 with 1 Axes>"
      ]
     },
     "metadata": {
      "needs_background": "light"
     },
     "output_type": "display_data"
    },
    {
     "data": {
      "image/png": "[encoded data removed]",
      "text/plain": [
       "<Figure size 1152x648 with 1 Axes>"
      ]
     },
     "metadata": {
      "needs_background": "light"
     },
     "output_type": "display_data"
    }
   ],
   "source": [
    "data = pd.DataFrame({\"a\": [3, 1, 2], \"b\": [5, 3, 4], \"c\": [7, 6, 5]})\n",
    "data.boxplot(figsize=(16, 9))\n",
    "\n",
    "print(\"Нулевая гипотеза:\", \"=\".join(data))\n",
    "print(\"Альтернативная гипотеза:\", f'!({\"=\".join(data)})')\n",
    "\n",
    "general_mean = data.values.flatten().mean()\n",
    "\n",
    "fig, ax = plt.subplots(1, 1, figsize=(16, 9))\n",
    "plt.boxplot(data, labels=[\"a\", \"b\", \"c\"])\n",
    "ax.yaxis.grid(True)\n",
    "\n",
    "# внутригрупповая сумма квадратов \n",
    "ssw = np.sum(\n",
    "    np.sum(\n",
    "        pd.Series(\n",
    "            map(\n",
    "                lambda x: pd.Series(map(lambda y: (y - x[1]) ** 2, data[x[0]])),\n",
    "                data.mean().items(),\n",
    "            )\n",
    "        )\n",
    "    )\n",
    ")\n",
    "\n",
    "# межгрупповая сумма квадратов\n",
    "ssb = np.sum(\n",
    "    pd.Series(\n",
    "        map(\n",
    "            lambda x: data[x[0]].shape[0] * (x[1] - general_mean) ** 2,\n",
    "            data.mean().items(),\n",
    "        )\n",
    "    )\n",
    ")\n",
    "\n",
    "count_of_groups = data.shape[1]\n",
    "\n",
    "# число степеней свободы для межгрупповой суммы квадратов\n",
    "dfb = count_of_groups - 1\n",
    "\n",
    "# число степеней свободы для внутригрупповой суммы квадратов\n",
    "dfw = data.size - count_of_groups\n",
    "\n",
    "# межгрупповой средний квадрат\n",
    "mssb = ssb / dfb\n",
    "\n",
    "# внутригрупповой средний квадрат\n",
    "mssw = ssw / dfw\n",
    "\n",
    "f_value = mssb / mssw\n",
    "\n",
    "p_value = stats.f.sf(f_value, dfb, dfw)\n",
    "print('p-value:', round(p_value, ndigits = 3))\n",
    "\n",
    "if p_value < 0.05:\n",
    "    print('Отклоняем нулевую гипотезу H0 о равенстве средних значений данных выборок')\n",
    "else:\n",
    "    print('Верна нулевая гипотеза H0 о равенстве средних значений данных выборок')"
   ]
  },
  {
   "cell_type": "markdown",
   "id": "fa0889b9",
   "metadata": {},
   "source": [
    "### Множественные сравнения в ANOVA"
   ]
  },
  {
   "cell_type": "markdown",
   "id": "278914ae",
   "metadata": {},
   "source": [
    "#### T-критерий без поправок на множественную проверку гипотез"
   ]
  },
  {
   "cell_type": "code",
   "execution_count": 148,
   "id": "123c410a",
   "metadata": {},
   "outputs": [],
   "source": [
    "import numpy as np\n",
    "from numpy import random\n",
    "import matplotlib.pyplot as plt\n",
    "from scipy.stats import t\n",
    "\n",
    "# Парный t-критерий возвращает True, если средние всех выборок равны\n",
    "def pair_t(samples, alpha):\n",
    "    n_samples = samples.shape[0]\n",
    "    n_combinations = n_samples*(n_samples - 1) / 2\n",
    "    result = np.zeros(n_combinations, dtype = bool)\n",
    "    k = 0\n",
    "    for i in range(n_samples):\n",
    "        for j in range(i + 1, n_samples):\n",
    "            N = samples[i].size\n",
    "            se = np.sqrt((samples[i].std()**2)/N + (samples[j].std()**2)/N)\n",
    "            t_value = (samples[i].mean() - samples[j].mean())/se\n",
    "            p_value = t.sf(t_value, N-2)\n",
    "            result[k] = p_value >= alpha\n",
    "            k += 1\n",
    "    return np.all(result)"
   ]
  },
  {
   "cell_type": "code",
   "execution_count": 81,
   "id": "b0d300f0",
   "metadata": {},
   "outputs": [],
   "source": [
    "# Возвращает количество ложных результатов при парном сравнении с помощью t-критерия\n",
    "# alpha = 1 - p_value\n",
    "def pair_t_test(repeats, n_samples, sample_size, ax, alpha = 0.05):\n",
    "    result = np.zeros(repeats, dtype = bool)\n",
    "    for i in range(repeats):\n",
    "        samples = random.randn(n_samples, sample_size)\n",
    "        result[i] = pair_t(samples, alpha)\n",
    "        \n",
    "    unique, counts = np.unique(result, return_counts = True)\n",
    "    percentage = counts/result.size\n",
    "    explode = (0.1, 0.1)\n",
    "    ax.pie(percentage, explode = explode, labels = unique, autopct='%.0f%%', colors = ['#D62728', '#2CA02C'], shadow=True, startangle=90)"
   ]
  },
  {
   "cell_type": "code",
   "execution_count": 85,
   "id": "d8050740",
   "metadata": {
    "scrolled": true
   },
   "outputs": [
    {
     "data": {
      "image/png": "[encoded data removed]",
      "text/plain": [
       "<Figure size 1440x288 with 4 Axes>"
      ]
     },
     "metadata": {},
     "output_type": "display_data"
    }
   ],
   "source": [
    "fig, axs = plt.subplots(ncols = 4, figsize = (20, 4))\n",
    "n_samples = [2, 4, 8, 16]\n",
    "fig.suptitle('Процент ошибок при попарном сравнении выборок t-критерием без учета поправок на множественную проверку гипотез')\n",
    "\n",
    "for n, ax in zip(n_samples, axs):\n",
    "    pair_t_test(250, n, 100, ax)\n",
    "    ax.set_title(f'{n} samples')"
   ]
  },
  {
   "cell_type": "code",
   "execution_count": 86,
   "id": "78d3e349",
   "metadata": {},
   "outputs": [
    {
     "data": {
      "image/png": "[encoded data removed]",
      "text/plain": [
       "<Figure size 1440x288 with 4 Axes>"
      ]
     },
     "metadata": {},
     "output_type": "display_data"
    }
   ],
   "source": [
    "fig, axs = plt.subplots(ncols=4, figsize=(20, 4))\n",
    "n_samples = [2, 4, 8, 16]\n",
    "fig.suptitle('Процент ошибок при попарном сравнении выборок t-критерием с поправкой Бонферрони')\n",
    "\n",
    "for n, ax in zip(n_samples, axs):\n",
    "    alpha = 0.05/((n*(n-1))/2)\n",
    "    pair_t_test(250, n, 100, ax, alpha)\n",
    "    ax.set_title(f'{n} samples')\n",
    "    \n",
    "# Поправка Бонферонни слишком консервативная и её за это критикуют. \n",
    "# На её замену используют Критерий Тьюки"
   ]
  },
  {
   "cell_type": "markdown",
   "id": "322c4db8",
   "metadata": {},
   "source": [
    "#### Ошибки первого и второго рода"
   ]
  },
  {
   "cell_type": "markdown",
   "id": "94454f91",
   "metadata": {},
   "source": [
    "<img src='errors.jpg'>"
   ]
  },
  {
   "cell_type": "markdown",
   "id": "b73ae0f1",
   "metadata": {},
   "source": [
    "### Корреляция"
   ]
  },
  {
   "cell_type": "code",
   "execution_count": 59,
   "id": "f54d90bb",
   "metadata": {},
   "outputs": [
    {
     "data": {
      "image/png": "[encoded data removed]",
      "text/plain": [
       "<Figure size 576x1152 with 3 Axes>"
      ]
     },
     "metadata": {
      "needs_background": "light"
     },
     "output_type": "display_data"
    },
    {
     "name": "stdout",
     "output_type": "stream",
     "text": [
      "\n",
      "cov1: -36.97\n",
      "cov2: -40.85\n",
      "cov3: -25.26\n",
      "\n",
      "cor1: -0.98\n",
      "cor2: -0.79\n",
      "cor3: -0.51\n",
      "\n"
     ]
    }
   ],
   "source": [
    "import random as r\n",
    "import matplotlib.pyplot as plt\n",
    "\n",
    "def cov(x, y):\n",
    "    return ((x - x.mean()) * (y - y.mean())).sum()/(x.size - 1)\n",
    "\n",
    "def cor(x, y):\n",
    "    return cov(x, y)/(np.std(x, ddof = 1)*np.std(y, ddof = 1))\n",
    "\n",
    "# p - показатель случайности фактора\n",
    "def randomize(arr, p):\n",
    "    alpha = np.max(arr) - np.min(arr)\n",
    "    res = np.zeros(arr.shape)\n",
    "    for i, value in enumerate(arr):\n",
    "        sign = 1 if r.choice([True, False]) else -1\n",
    "        res[i] = sign*alpha*r.random()*p - value\n",
    "    return res\n",
    "\n",
    "x = np.array(range(20))\n",
    "y1 = randomize(x, 0.1)\n",
    "y2 = randomize(x, 0.5)\n",
    "y3 = randomize(x, 0.9)\n",
    "\n",
    "fig, (ax1, ax2, ax3) = plt.subplots(3, 1, figsize = (8, 16))\n",
    "ax1.scatter(x, y1)\n",
    "ax2.scatter(x, y2)\n",
    "ax3.scatter(x, y3)\n",
    "\n",
    "ax1.set_title('Высокая корреляция')\n",
    "ax2.set_title('Средняя корреляция')\n",
    "ax3.set_title('Низкая корреляция')\n",
    "\n",
    "plt.show()\n",
    "\n",
    "print(f'''\n",
    "cov1: {cov(x, y1):.2f}\n",
    "cov2: {cov(x, y2):.2f}\n",
    "cov3: {cov(x, y3):.2f}\n",
    "\n",
    "cor1: {cor(x, y1):.2f}\n",
    "cor2: {cor(x, y2):.2f}\n",
    "cor3: {cor(x, y3):.2f}\n",
    "''')"
   ]
  },
  {
   "cell_type": "markdown",
   "id": "f02666f1",
   "metadata": {},
   "source": [
    "### Регрессия с одной независимой переменной"
   ]
  },
  {
   "cell_type": "code",
   "execution_count": 60,
   "id": "7f2fc4e2",
   "metadata": {
    "scrolled": true
   },
   "outputs": [
    {
     "data": {
      "image/png": "[encoded data removed]",
      "text/plain": [
       "<Figure size 432x288 with 1 Axes>"
      ]
     },
     "metadata": {
      "needs_background": "light"
     },
     "output_type": "display_data"
    }
   ],
   "source": [
    "# Метод наименьших квадратов\n",
    "b1 = y1.std()/x.std()*cor(x, y1)\n",
    "b0 = y1.mean() - b1*x.mean()\n",
    "f = lambda x: b0 + b1*x\n",
    "y = f(x)\n",
    "plt.scatter(x, y1)\n",
    "plt.plot(x, y, color='r')\n",
    "plt.show()\n"
   ]
  },
  {
   "cell_type": "markdown",
   "id": "0b0bebe5",
   "metadata": {},
   "source": [
    "### Регрессионный анализ на данных"
   ]
  },
  {
   "cell_type": "code",
   "execution_count": 3,
   "id": "f839906e",
   "metadata": {},
   "outputs": [
    {
     "data": {
      "text/html": [
       "<div>\n",
       "<style scoped>\n",
       "    .dataframe tbody tr th:only-of-type {\n",
       "        vertical-align: middle;\n",
       "    }\n",
       "\n",
       "    .dataframe tbody tr th {\n",
       "        vertical-align: top;\n",
       "    }\n",
       "\n",
       "    .dataframe thead th {\n",
       "        text-align: right;\n",
       "    }\n",
       "</style>\n",
       "<table border=\"1\" class=\"dataframe\">\n",
       "  <thead>\n",
       "    <tr style=\"text-align: right;\">\n",
       "      <th></th>\n",
       "      <th>state</th>\n",
       "      <th>metro_res</th>\n",
       "      <th>white</th>\n",
       "      <th>hs_grad</th>\n",
       "      <th>poverty</th>\n",
       "      <th>female_house</th>\n",
       "    </tr>\n",
       "  </thead>\n",
       "  <tbody>\n",
       "    <tr>\n",
       "      <th>0</th>\n",
       "      <td>Alabama</td>\n",
       "      <td>55.4</td>\n",
       "      <td>71.3</td>\n",
       "      <td>79.9</td>\n",
       "      <td>14.6</td>\n",
       "      <td>14.2</td>\n",
       "    </tr>\n",
       "    <tr>\n",
       "      <th>1</th>\n",
       "      <td>Alaska</td>\n",
       "      <td>65.6</td>\n",
       "      <td>70.8</td>\n",
       "      <td>90.6</td>\n",
       "      <td>8.3</td>\n",
       "      <td>10.8</td>\n",
       "    </tr>\n",
       "    <tr>\n",
       "      <th>2</th>\n",
       "      <td>Arizona</td>\n",
       "      <td>88.2</td>\n",
       "      <td>87.7</td>\n",
       "      <td>83.8</td>\n",
       "      <td>13.3</td>\n",
       "      <td>11.1</td>\n",
       "    </tr>\n",
       "    <tr>\n",
       "      <th>3</th>\n",
       "      <td>Arkansas</td>\n",
       "      <td>52.5</td>\n",
       "      <td>81.0</td>\n",
       "      <td>80.9</td>\n",
       "      <td>18.0</td>\n",
       "      <td>12.1</td>\n",
       "    </tr>\n",
       "    <tr>\n",
       "      <th>4</th>\n",
       "      <td>California</td>\n",
       "      <td>94.4</td>\n",
       "      <td>77.5</td>\n",
       "      <td>81.1</td>\n",
       "      <td>12.8</td>\n",
       "      <td>12.6</td>\n",
       "    </tr>\n",
       "  </tbody>\n",
       "</table>\n",
       "</div>"
      ],
      "text/plain": [
       "        state  metro_res  white  hs_grad  poverty  female_house\n",
       "0     Alabama       55.4   71.3     79.9     14.6          14.2\n",
       "1      Alaska       65.6   70.8     90.6      8.3          10.8\n",
       "2     Arizona       88.2   87.7     83.8     13.3          11.1\n",
       "3    Arkansas       52.5   81.0     80.9     18.0          12.1\n",
       "4  California       94.4   77.5     81.1     12.8          12.6"
      ]
     },
     "execution_count": 3,
     "metadata": {},
     "output_type": "execute_result"
    }
   ],
   "source": [
    "import numpy as np\n",
    "import pandas as pd\n",
    "import matplotlib.pyplot as plt\n",
    "import seaborn as sb\n",
    "df = pd.read_csv('states.csv')\n",
    "df.head()"
   ]
  },
  {
   "cell_type": "code",
   "execution_count": 102,
   "id": "f7df2b5d",
   "metadata": {},
   "outputs": [
    {
     "data": {
      "text/html": [
       "<div>\n",
       "<style scoped>\n",
       "    .dataframe tbody tr th:only-of-type {\n",
       "        vertical-align: middle;\n",
       "    }\n",
       "\n",
       "    .dataframe tbody tr th {\n",
       "        vertical-align: top;\n",
       "    }\n",
       "\n",
       "    .dataframe thead th {\n",
       "        text-align: right;\n",
       "    }\n",
       "</style>\n",
       "<table border=\"1\" class=\"dataframe\">\n",
       "  <thead>\n",
       "    <tr style=\"text-align: right;\">\n",
       "      <th></th>\n",
       "      <th>count</th>\n",
       "      <th>mean</th>\n",
       "      <th>std</th>\n",
       "      <th>min</th>\n",
       "      <th>25%</th>\n",
       "      <th>50%</th>\n",
       "      <th>75%</th>\n",
       "      <th>max</th>\n",
       "    </tr>\n",
       "  </thead>\n",
       "  <tbody>\n",
       "    <tr>\n",
       "      <th>metro_res</th>\n",
       "      <td>51.0</td>\n",
       "      <td>72.249020</td>\n",
       "      <td>15.275894</td>\n",
       "      <td>38.2</td>\n",
       "      <td>60.80</td>\n",
       "      <td>71.6</td>\n",
       "      <td>86.80</td>\n",
       "      <td>100.0</td>\n",
       "    </tr>\n",
       "    <tr>\n",
       "      <th>white</th>\n",
       "      <td>51.0</td>\n",
       "      <td>81.719608</td>\n",
       "      <td>13.897223</td>\n",
       "      <td>25.9</td>\n",
       "      <td>76.80</td>\n",
       "      <td>85.4</td>\n",
       "      <td>90.25</td>\n",
       "      <td>97.1</td>\n",
       "    </tr>\n",
       "    <tr>\n",
       "      <th>hs_grad</th>\n",
       "      <td>51.0</td>\n",
       "      <td>86.011765</td>\n",
       "      <td>3.725998</td>\n",
       "      <td>77.2</td>\n",
       "      <td>83.30</td>\n",
       "      <td>86.9</td>\n",
       "      <td>88.70</td>\n",
       "      <td>92.1</td>\n",
       "    </tr>\n",
       "    <tr>\n",
       "      <th>poverty</th>\n",
       "      <td>51.0</td>\n",
       "      <td>11.349020</td>\n",
       "      <td>3.099185</td>\n",
       "      <td>5.6</td>\n",
       "      <td>9.25</td>\n",
       "      <td>10.6</td>\n",
       "      <td>13.40</td>\n",
       "      <td>18.0</td>\n",
       "    </tr>\n",
       "    <tr>\n",
       "      <th>female_house</th>\n",
       "      <td>51.0</td>\n",
       "      <td>11.633333</td>\n",
       "      <td>2.356155</td>\n",
       "      <td>7.8</td>\n",
       "      <td>9.55</td>\n",
       "      <td>11.8</td>\n",
       "      <td>12.65</td>\n",
       "      <td>18.9</td>\n",
       "    </tr>\n",
       "  </tbody>\n",
       "</table>\n",
       "</div>"
      ],
      "text/plain": [
       "              count       mean        std   min    25%   50%    75%    max\n",
       "metro_res      51.0  72.249020  15.275894  38.2  60.80  71.6  86.80  100.0\n",
       "white          51.0  81.719608  13.897223  25.9  76.80  85.4  90.25   97.1\n",
       "hs_grad        51.0  86.011765   3.725998  77.2  83.30  86.9  88.70   92.1\n",
       "poverty        51.0  11.349020   3.099185   5.6   9.25  10.6  13.40   18.0\n",
       "female_house   51.0  11.633333   2.356155   7.8   9.55  11.8  12.65   18.9"
      ]
     },
     "execution_count": 102,
     "metadata": {},
     "output_type": "execute_result"
    }
   ],
   "source": [
    "df.describe().T"
   ]
  },
  {
   "cell_type": "code",
   "execution_count": 121,
   "id": "1ae6ff04",
   "metadata": {},
   "outputs": [
    {
     "data": {
      "text/plain": [
       "<seaborn.axisgrid.JointGrid at 0x1e337a71c40>"
      ]
     },
     "execution_count": 121,
     "metadata": {},
     "output_type": "execute_result"
    },
    {
     "data": {
      "image/png": "[encoded data removed]",
      "text/plain": [
       "<Figure size 432x432 with 3 Axes>"
      ]
     },
     "metadata": {
      "needs_background": "light"
     },
     "output_type": "display_data"
    }
   ],
   "source": [
    "sb.jointplot(data = df, x = 'hs_grad', y = 'poverty', kind = 'reg', color='#2CA02C')"
   ]
  },
  {
   "cell_type": "code",
   "execution_count": 74,
   "id": "59b02dcd",
   "metadata": {
    "scrolled": true
   },
   "outputs": [
    {
     "data": {
      "image/png": "[encoded data removed]",
      "text/plain": [
       "<Figure size 432x288 with 1 Axes>"
      ]
     },
     "metadata": {
      "needs_background": "light"
     },
     "output_type": "display_data"
    }
   ],
   "source": [
    "# Строим модель\n",
    "from scipy.stats import linregress\n",
    "\n",
    "slope, intercept, r_value, p_value, se = linregress(df['hs_grad'], df['poverty'])\n",
    "\n",
    "x = np.linspace(df['hs_grad'].min(), df['hs_grad'].max(), num = 51)\n",
    "\n",
    "reg = lambda x: intercept + slope * x\n",
    "fig, ax = plt.subplots(1, 1)\n",
    "ax.set_xlabel('hs_grad %')\n",
    "ax.set_ylabel('poverty %')\n",
    "plt.scatter(data = df, x = 'hs_grad', y = 'poverty', label = 'data')\n",
    "plt.title('Linear Regression')\n",
    "plt.plot(x, reg(x), color = 'r', label = 'fitted line')\n",
    "plt.legend()\n",
    "plt.show()"
   ]
  },
  {
   "cell_type": "code",
   "execution_count": 17,
   "id": "7935b35a",
   "metadata": {},
   "outputs": [
    {
     "name": "stdout",
     "output_type": "stream",
     "text": [
      "\n",
      "slope = -0.62\n",
      "intercept = 64.78\n",
      "r_value = -0.75\n",
      "R squared = 0.56\n",
      "p_value = 0.00000\n",
      "se = 0.079\n",
      "\n"
     ]
    }
   ],
   "source": [
    "print(f'''\n",
    "slope = {slope:.2f}\n",
    "intercept = {intercept:.2f}\n",
    "r_value = {r_value:.2f}\n",
    "R squared = {(r_value ** 2):.2f}\n",
    "p_value = {p_value:.5f}\n",
    "se = {se:.3f}\n",
    "''')"
   ]
  },
  {
   "cell_type": "code",
   "execution_count": 170,
   "id": "65979144",
   "metadata": {},
   "outputs": [
    {
     "data": {
      "image/png": "[encoded data removed]",
      "text/plain": [
       "<Figure size 720x720 with 2 Axes>"
      ]
     },
     "metadata": {
      "needs_background": "light"
     },
     "output_type": "display_data"
    }
   ],
   "source": [
    "import scipy as sp\n",
    "fig, (ax1, ax2) = plt.subplots(2,1, figsize = (10, 10))\n",
    "plt.subplots_adjust(hspace=0.3)\n",
    "coordinates = (df['hs_grad'].values, df['poverty'].values)\n",
    "residuals = coordinates[1] - reg(coordinates[0])\n",
    "ax1.scatter(coordinates[0], residuals)\n",
    "                                 \n",
    "func = lambda x: 0*x\n",
    "ax1.plot(x, func(x), '--', color = 'r')\n",
    "ax1.set_title('Анализ остатков', fontsize = 20)\n",
    "ax1.set_xlabel('hs_grad %', fontsize = 12)\n",
    "\n",
    "sp.stats.probplot(residuals, plot = ax2)\n",
    "ax2.set_title('QQ-plot', fontsize = 20)\n",
    "plt.show()\n"
   ]
  },
  {
   "cell_type": "code",
   "execution_count": 163,
   "id": "f441bb85",
   "metadata": {},
   "outputs": [
    {
     "data": {
      "image/png": "[encoded data removed]",
      "text/plain": [
       "<Figure size 432x648 with 2 Axes>"
      ]
     },
     "metadata": {
      "needs_background": "light"
     },
     "output_type": "display_data"
    }
   ],
   "source": [
    "import pandas as pd\n",
    "import numpy as np\n",
    "import matplotlib.pyplot as plt\n",
    "import statsmodels.formula.api as sm\n",
    "import statsmodels.api as sma\n",
    "\n",
    "# получаем данные и вычисляем коэффициэнты регрессионной модели\n",
    "data=pd.read_csv('states.csv', sep=',')\n",
    "intercept, slope = sm.ols(formula=\"poverty ~ hs_grad\", data=data).fit().params\n",
    "X = data['hs_grad']\n",
    "Y = data['poverty']\n",
    "\n",
    "# вычисляем остатки - на сколько Y далека от теоретической модели\n",
    "residuals = Y - intercept - slope*X\n",
    "x1=np.linspace(min(X),max(X),len(X))\n",
    "\n",
    "# создаем графики\n",
    "fig, (ax1,ax2) = plt.subplots(nrows=2, ncols=1, figsize=(6, 9))\n",
    "# scatter plot\n",
    "ax1.scatter(X,residuals)\n",
    "ax1.plot(x1,[0]*len(x1),'--r')\n",
    "# Q-Q plot\n",
    "sma.qqplot(residuals, line='s', ax = ax2)\n",
    "\n",
    "ax1.grid()\n",
    "ax1.set_title('Анализ остатков')\n",
    "ax1.set_xlabel('Среднее образование (%)')\n",
    "ax1.set_ylabel('Остатки')\n",
    "ax1.set_xticks(np.arange(76,93, step=4))\n",
    "ax1.set_yticks(np.arange(-5,6, step=2.5))\n",
    "\n",
    "ax2.set_title('QQ-Plot')\n",
    "\n",
    "fig.tight_layout(pad=3.0)\n",
    "plt.show()"
   ]
  },
  {
   "cell_type": "markdown",
   "id": "31f7718a",
   "metadata": {},
   "source": [
    "### Регрессионный анализ с несколькими независимыми переменными"
   ]
  },
  {
   "cell_type": "code",
   "execution_count": 226,
   "id": "b7ece5c0",
   "metadata": {},
   "outputs": [
    {
     "data": {
      "application/vnd.plotly.v1+json": {
       "config": {
        "plotlyServerURL": "https://plot.ly"
       },
       "data": [
        {
         "hovertemplate": "poverty_pred=False<br>white=%{x}<br>hs_grad=%{y}<br>poverty=%{z}<extra></extra>",
         "legendgroup": "False",
         "marker": {
          "color": "red",
          "size": 3,
          "symbol": "circle"
         },
         "mode": "markers",
         "name": "False",
         "scene": "scene",
         "showlegend": true,
         "type": "scatter3d",
         "x": [
          71.3,
          70.8,
          77.5,
          90.2,
          85.4,
          76.3,
          80.6,
          67.5,
          25.9,
          79.5,
          88.9,
          94.9,
          89.3,
          65.6,
          87.2,
          81.5,
          90.2,
          85.3,
          84.1,
          96.3,
          77.3,
          74.1,
          85.4,
          86.4,
          89.2,
          67.7,
          80.8,
          83.6,
          73.9,
          90.1
         ],
         "y": [
          79.9,
          90.6,
          81.1,
          88.7,
          87.5,
          88.7,
          84.7,
          85.1,
          88.5,
          85.9,
          86.4,
          89.7,
          88.6,
          87.6,
          87.1,
          87.6,
          91.6,
          88.3,
          85.6,
          92.1,
          86.2,
          81.4,
          87.2,
          86,
          81,
          80.8,
          81,
          77.2,
          87.8,
          88.6
         ],
         "z": [
          14.6,
          8.3,
          12.8,
          9.4,
          7.8,
          8.1,
          12.1,
          12.1,
          10.6,
          11.2,
          8.7,
          8.3,
          9.4,
          7.3,
          9.6,
          10.3,
          6.5,
          9.6,
          8.3,
          5.6,
          7.8,
          13.1,
          10.1,
          9.2,
          10.3,
          13.5,
          14.2,
          15.3,
          8.7,
          8.6
         ]
        },
        {
         "hovertemplate": "poverty_pred=True<br>white=%{x}<br>hs_grad=%{y}<br>poverty=%{z}<extra></extra>",
         "legendgroup": "True",
         "marker": {
          "color": "green",
          "size": 3,
          "symbol": "circle"
         },
         "mode": "markers",
         "name": "True",
         "scene": "scene",
         "showlegend": true,
         "type": "scatter3d",
         "x": [
          87.7,
          81,
          36.2,
          95.5,
          90.3,
          64.2,
          97.1,
          61.2,
          90.9,
          92.1,
          84.9,
          73.6,
          92.5,
          78.4,
          90.8,
          88.8,
          93.6,
          96.9,
          85.5,
          95,
          94.7
         ],
         "y": [
          83.8,
          80.9,
          86,
          88.2,
          82.8,
          79.8,
          86.6,
          81.2,
          90.1,
          90.8,
          81.7,
          84.2,
          89.7,
          85.7,
          86.9,
          88.7,
          89.4,
          88.9,
          89.1,
          78.7,
          90.9
         ],
         "z": [
          13.3,
          18,
          16.8,
          11.8,
          13.1,
          17,
          11.3,
          17.6,
          13.7,
          9.5,
          17.8,
          14,
          11.9,
          14.7,
          11.2,
          10.2,
          9.3,
          9.9,
          10.8,
          16,
          9.5
         ]
        },
        {
         "colorscale": [
          [
           0,
           "rgb(243, 231, 155)"
          ],
          [
           0.16666666666666666,
           "rgb(250, 196, 132)"
          ],
          [
           0.3333333333333333,
           "rgb(248, 160, 126)"
          ],
          [
           0.5,
           "rgb(235, 127, 134)"
          ],
          [
           0.6666666666666666,
           "rgb(206, 102, 147)"
          ],
          [
           0.8333333333333334,
           "rgb(160, 89, 160)"
          ],
          [
           1,
           "rgb(92, 83, 165)"
          ]
         ],
         "name": "prediction",
         "opacity": 0.8,
         "type": "surface",
         "x": [
          23.9,
          24.9,
          25.9,
          26.9,
          27.9,
          28.9,
          29.9,
          30.9,
          31.9,
          32.9,
          33.9,
          34.9,
          35.9,
          36.9,
          37.9,
          38.9,
          39.9,
          40.9,
          41.9,
          42.9,
          43.9,
          44.9,
          45.9,
          46.9,
          47.9,
          48.9,
          49.9,
          50.9,
          51.9,
          52.9,
          53.9,
          54.9,
          55.9,
          56.9,
          57.9,
          58.9,
          59.9,
          60.9,
          61.9,
          62.9,
          63.9,
          64.9,
          65.9,
          66.9,
          67.9,
          68.9,
          69.9,
          70.9,
          71.9,
          72.9,
          73.9,
          74.9,
          75.9,
          76.9,
          77.9,
          78.9,
          79.9,
          80.9,
          81.9,
          82.9,
          83.9,
          84.9,
          85.9,
          86.9,
          87.9,
          88.9,
          89.9,
          90.9,
          91.9,
          92.9,
          93.9,
          94.9,
          95.9,
          96.9,
          97.9,
          98.9
         ],
         "y": [
          75.2,
          76.2,
          77.2,
          78.2,
          79.2,
          80.2,
          81.2,
          82.2,
          83.2,
          84.2,
          85.2,
          86.2,
          87.2,
          88.2,
          89.2,
          90.2,
          91.2,
          92.2,
          93.2
         ],
         "z": [
          [
           19.554764392496978,
           19.52387626122706,
           19.492988129957155,
           19.46209999868725,
           19.431211867417332,
           19.400323736147428,
           19.369435604877523,
           19.338547473607605,
           19.3076593423377,
           19.27677121106779,
           19.245883079797878,
           19.214994948527973,
           19.184106817258062,
           19.15321868598815,
           19.122330554718246,
           19.091442423448335,
           19.060554292178423,
           19.02966616090852,
           18.998778029638608,
           18.967889898368696,
           18.937001767098792,
           18.90611363582888,
           18.87522550455897,
           18.844337373289065,
           18.813449242019153,
           18.782561110749242,
           18.751672979479338,
           18.720784848209426,
           18.689896716939515,
           18.659008585669604,
           18.6281204543997,
           18.597232323129788,
           18.566344191859876,
           18.535456060589972,
           18.50456792932006,
           18.47367979805015,
           18.442791666780245,
           18.411903535510334,
           18.381015404240422,
           18.350127272970518,
           18.319239141700606,
           18.288351010430695,
           18.257462879160784,
           18.22657474789088,
           18.195686616620968,
           18.164798485351056,
           18.133910354081152,
           18.10302222281124,
           18.07213409154133,
           18.041245960271425,
           18.010357829001514,
           17.979469697731602,
           17.948581566461698,
           17.917693435191786,
           17.886805303921875,
           17.85591717265197,
           17.82502904138206,
           17.794140910112148,
           17.763252778842244,
           17.732364647572332,
           17.70147651630242,
           17.670588385032516,
           17.639700253762605,
           17.608812122492694,
           17.57792399122279,
           17.547035859952878,
           17.516147728682967,
           17.485259597413055,
           17.45437146614315,
           17.42348333487324,
           17.392595203603328,
           17.361707072333424,
           17.330818941063512,
           17.2999308097936,
           17.269042678523697,
           17.238154547253785
          ],
          [
           18.960984808658324,
           18.930096677388406,
           18.8992085461185,
           18.868320414848597,
           18.83743228357868,
           18.806544152308774,
           18.77565602103887,
           18.74476788976895,
           18.713879758499047,
           18.682991627229136,
           18.652103495959224,
           18.62121536468932,
           18.59032723341941,
           18.559439102149497,
           18.528550970879593,
           18.49766283960968,
           18.46677470833977,
           18.435886577069866,
           18.404998445799954,
           18.374110314530043,
           18.34322218326014,
           18.312334051990227,
           18.281445920720316,
           18.25055778945041,
           18.2196696581805,
           18.18878152691059,
           18.157893395640684,
           18.127005264370773,
           18.09611713310086,
           18.06522900183095,
           18.034340870561046,
           18.003452739291134,
           17.972564608021223,
           17.94167647675132,
           17.910788345481407,
           17.879900214211496,
           17.84901208294159,
           17.81812395167168,
           17.78723582040177,
           17.756347689131864,
           17.725459557861953,
           17.69457142659204,
           17.66368329532213,
           17.632795164052226,
           17.601907032782314,
           17.571018901512403,
           17.5401307702425,
           17.509242638972587,
           17.478354507702676,
           17.44746637643277,
           17.41657824516286,
           17.38569011389295,
           17.354801982623044,
           17.323913851353133,
           17.29302572008322,
           17.262137588813317,
           17.231249457543406,
           17.200361326273494,
           17.16947319500359,
           17.13858506373368,
           17.107696932463767,
           17.076808801193863,
           17.04592066992395,
           17.01503253865404,
           16.984144407384136,
           16.953256276114224,
           16.922368144844313,
           16.8914800135744,
           16.860591882304497,
           16.829703751034586,
           16.798815619764675,
           16.76792748849477,
           16.73703935722486,
           16.706151225954947,
           16.675263094685043,
           16.64437496341513
          ],
          [
           18.367205224819664,
           18.336317093549745,
           18.30542896227984,
           18.274540831009936,
           18.243652699740018,
           18.212764568470114,
           18.18187643720021,
           18.15098830593029,
           18.120100174660386,
           18.089212043390475,
           18.058323912120564,
           18.02743578085066,
           17.996547649580748,
           17.965659518310837,
           17.934771387040932,
           17.90388325577102,
           17.87299512450111,
           17.842106993231205,
           17.811218861961294,
           17.780330730691382,
           17.749442599421478,
           17.718554468151567,
           17.687666336881655,
           17.65677820561175,
           17.62589007434184,
           17.595001943071928,
           17.564113811802024,
           17.533225680532112,
           17.5023375492622,
           17.47144941799229,
           17.440561286722385,
           17.409673155452474,
           17.378785024182562,
           17.347896892912658,
           17.317008761642747,
           17.286120630372835,
           17.25523249910293,
           17.22434436783302,
           17.193456236563108,
           17.162568105293204,
           17.131679974023292,
           17.10079184275338,
           17.06990371148347,
           17.039015580213565,
           17.008127448943654,
           16.977239317673742,
           16.946351186403838,
           16.915463055133927,
           16.884574923864015,
           16.85368679259411,
           16.8227986613242,
           16.791910530054288,
           16.761022398784384,
           16.730134267514472,
           16.69924613624456,
           16.668358004974657,
           16.637469873704745,
           16.606581742434834,
           16.57569361116493,
           16.544805479895018,
           16.513917348625107,
           16.483029217355202,
           16.45214108608529,
           16.42125295481538,
           16.390364823545475,
           16.359476692275564,
           16.328588561005652,
           16.29770042973574,
           16.266812298465837,
           16.235924167195925,
           16.205036035926014,
           16.17414790465611,
           16.143259773386198,
           16.112371642116287,
           16.081483510846383,
           16.05059537957647
          ],
          [
           17.773425640981003,
           17.742537509711084,
           17.71164937844118,
           17.680761247171276,
           17.649873115901357,
           17.618984984631453,
           17.58809685336155,
           17.55720872209163,
           17.526320590821726,
           17.495432459551814,
           17.464544328281903,
           17.433656197012,
           17.402768065742087,
           17.371879934472176,
           17.34099180320227,
           17.31010367193236,
           17.27921554066245,
           17.248327409392544,
           17.217439278122633,
           17.18655114685272,
           17.155663015582817,
           17.124774884312906,
           17.093886753042995,
           17.06299862177309,
           17.03211049050318,
           17.001222359233267,
           16.970334227963363,
           16.93944609669345,
           16.90855796542354,
           16.87766983415363,
           16.846781702883725,
           16.815893571613813,
           16.7850054403439,
           16.754117309073997,
           16.723229177804086,
           16.692341046534175,
           16.66145291526427,
           16.63056478399436,
           16.599676652724447,
           16.568788521454543,
           16.53790039018463,
           16.50701225891472,
           16.47612412764481,
           16.445235996374905,
           16.414347865104993,
           16.383459733835082,
           16.352571602565177,
           16.321683471295266,
           16.290795340025355,
           16.25990720875545,
           16.22901907748554,
           16.198130946215628,
           16.167242814945723,
           16.136354683675812,
           16.1054665524059,
           16.074578421135996,
           16.043690289866085,
           16.012802158596173,
           15.981914027326269,
           15.951025896056358,
           15.920137764786446,
           15.889249633516542,
           15.85836150224663,
           15.827473370976719,
           15.796585239706815,
           15.765697108436903,
           15.734808977166992,
           15.70392084589708,
           15.673032714627176,
           15.642144583357265,
           15.611256452087353,
           15.580368320817449,
           15.549480189547538,
           15.518592058277626,
           15.487703927007722,
           15.45681579573781
          ],
          [
           17.179646057142342,
           17.148757925872424,
           17.11786979460252,
           17.086981663332615,
           17.056093532062697,
           17.025205400792792,
           16.994317269522888,
           16.96342913825297,
           16.932541006983065,
           16.901652875713154,
           16.870764744443242,
           16.839876613173338,
           16.808988481903427,
           16.778100350633515,
           16.74721221936361,
           16.7163240880937,
           16.685435956823788,
           16.654547825553884,
           16.623659694283972,
           16.59277156301406,
           16.561883431744157,
           16.530995300474245,
           16.500107169204334,
           16.46921903793443,
           16.43833090666452,
           16.407442775394607,
           16.376554644124703,
           16.34566651285479,
           16.31477838158488,
           16.28389025031497,
           16.253002119045064,
           16.222113987775153,
           16.19122585650524,
           16.160337725235337,
           16.129449593965425,
           16.098561462695514,
           16.06767333142561,
           16.0367852001557,
           16.005897068885787,
           15.975008937615883,
           15.944120806345971,
           15.91323267507606,
           15.882344543806148,
           15.851456412536244,
           15.820568281266333,
           15.789680149996421,
           15.758792018726517,
           15.727903887456606,
           15.697015756186694,
           15.66612762491679,
           15.635239493646878,
           15.604351362376967,
           15.573463231107063,
           15.542575099837151,
           15.51168696856724,
           15.480798837297336,
           15.449910706027424,
           15.419022574757513,
           15.388134443487608,
           15.357246312217697,
           15.326358180947786,
           15.295470049677881,
           15.26458191840797,
           15.233693787138058,
           15.202805655868154,
           15.171917524598243,
           15.141029393328331,
           15.11014126205842,
           15.079253130788516,
           15.048364999518604,
           15.017476868248693,
           14.986588736978788,
           14.955700605708877,
           14.924812474438966,
           14.893924343169061,
           14.86303621189915
          ],
          [
           16.585866473303682,
           16.554978342033763,
           16.52409021076386,
           16.493202079493955,
           16.462313948224036,
           16.431425816954132,
           16.400537685684228,
           16.36964955441431,
           16.338761423144405,
           16.307873291874493,
           16.276985160604582,
           16.246097029334678,
           16.215208898064766,
           16.184320766794855,
           16.15343263552495,
           16.12254450425504,
           16.091656372985128,
           16.060768241715223,
           16.029880110445312,
           15.9989919791754,
           15.968103847905496,
           15.937215716635585,
           15.906327585365673,
           15.875439454095769,
           15.844551322825858,
           15.813663191555946,
           15.782775060286042,
           15.75188692901613,
           15.720998797746219,
           15.690110666476308,
           15.659222535206403,
           15.628334403936492,
           15.59744627266658,
           15.566558141396676,
           15.535670010126765,
           15.504781878856853,
           15.47389374758695,
           15.443005616317038,
           15.412117485047126,
           15.381229353777222,
           15.35034122250731,
           15.3194530912374,
           15.288564959967488,
           15.257676828697583,
           15.226788697427672,
           15.19590056615776,
           15.165012434887856,
           15.134124303617945,
           15.103236172348034,
           15.07234804107813,
           15.041459909808218,
           15.010571778538306,
           14.979683647268402,
           14.94879551599849,
           14.91790738472858,
           14.887019253458675,
           14.856131122188764,
           14.825242990918852,
           14.794354859648948,
           14.763466728379036,
           14.732578597109125,
           14.70169046583922,
           14.67080233456931,
           14.639914203299398,
           14.609026072029494,
           14.578137940759582,
           14.54724980948967,
           14.51636167821976,
           14.485473546949855,
           14.454585415679944,
           14.423697284410032,
           14.392809153140128,
           14.361921021870216,
           14.331032890600305,
           14.3001447593304,
           14.26925662806049
          ],
          [
           15.992086889465021,
           15.961198758195103,
           15.930310626925198,
           15.899422495655294,
           15.868534364385376,
           15.837646233115471,
           15.806758101845567,
           15.775869970575648,
           15.744981839305744,
           15.714093708035833,
           15.683205576765921,
           15.652317445496017,
           15.621429314226106,
           15.590541182956194,
           15.55965305168629,
           15.528764920416378,
           15.497876789146467,
           15.466988657876563,
           15.436100526606651,
           15.40521239533674,
           15.374324264066836,
           15.343436132796924,
           15.312548001527013,
           15.281659870257108,
           15.250771738987197,
           15.219883607717286,
           15.188995476447381,
           15.15810734517747,
           15.127219213907559,
           15.096331082637647,
           15.065442951367743,
           15.034554820097831,
           15.00366668882792,
           14.972778557558016,
           14.941890426288104,
           14.911002295018193,
           14.880114163748289,
           14.849226032478377,
           14.818337901208466,
           14.787449769938561,
           14.75656163866865,
           14.725673507398739,
           14.694785376128827,
           14.663897244858923,
           14.633009113589011,
           14.6021209823191,
           14.571232851049196,
           14.540344719779284,
           14.509456588509373,
           14.478568457239469,
           14.447680325969557,
           14.416792194699646,
           14.385904063429741,
           14.35501593215983,
           14.324127800889919,
           14.293239669620014,
           14.262351538350103,
           14.231463407080192,
           14.200575275810287,
           14.169687144540376,
           14.138799013270464,
           14.10791088200056,
           14.077022750730649,
           14.046134619460737,
           14.015246488190833,
           13.984358356920922,
           13.95347022565101,
           13.922582094381099,
           13.891693963111194,
           13.860805831841283,
           13.829917700571372,
           13.799029569301467,
           13.768141438031556,
           13.737253306761644,
           13.70636517549174,
           13.675477044221829
          ],
          [
           15.39830730562636,
           15.367419174356442,
           15.336531043086538,
           15.305642911816634,
           15.274754780546715,
           15.24386664927681,
           15.212978518006906,
           15.182090386736988,
           15.151202255467084,
           15.120314124197172,
           15.08942599292726,
           15.058537861657356,
           15.027649730387445,
           14.996761599117534,
           14.96587346784763,
           14.934985336577718,
           14.904097205307806,
           14.873209074037902,
           14.84232094276799,
           14.81143281149808,
           14.780544680228175,
           14.749656548958264,
           14.718768417688352,
           14.687880286418448,
           14.656992155148536,
           14.626104023878625,
           14.59521589260872,
           14.56432776133881,
           14.533439630068898,
           14.502551498798987,
           14.471663367529082,
           14.44077523625917,
           14.40988710498926,
           14.378998973719355,
           14.348110842449444,
           14.317222711179532,
           14.286334579909628,
           14.255446448639717,
           14.224558317369805,
           14.1936701860999,
           14.16278205482999,
           14.131893923560078,
           14.101005792290167,
           14.070117661020262,
           14.03922952975035,
           14.00834139848044,
           13.977453267210535,
           13.946565135940624,
           13.915677004670712,
           13.884788873400808,
           13.853900742130897,
           13.823012610860985,
           13.792124479591081,
           13.76123634832117,
           13.730348217051258,
           13.699460085781354,
           13.668571954511442,
           13.637683823241531,
           13.606795691971627,
           13.575907560701715,
           13.545019429431804,
           13.5141312981619,
           13.483243166891988,
           13.452355035622077,
           13.421466904352172,
           13.390578773082261,
           13.35969064181235,
           13.328802510542438,
           13.297914379272534,
           13.267026248002622,
           13.236138116732711,
           13.205249985462807,
           13.174361854192895,
           13.143473722922984,
           13.11258559165308,
           13.081697460383168
          ],
          [
           14.8045277217877,
           14.773639590517782,
           14.742751459247877,
           14.711863327977973,
           14.680975196708054,
           14.65008706543815,
           14.619198934168246,
           14.588310802898327,
           14.557422671628423,
           14.526534540358512,
           14.4956464090886,
           14.464758277818696,
           14.433870146548784,
           14.402982015278873,
           14.372093884008969,
           14.341205752739057,
           14.310317621469146,
           14.279429490199242,
           14.24854135892933,
           14.217653227659419,
           14.186765096389514,
           14.155876965119603,
           14.124988833849692,
           14.094100702579787,
           14.063212571309876,
           14.032324440039964,
           14.00143630877006,
           13.970548177500149,
           13.939660046230237,
           13.908771914960326,
           13.877883783690422,
           13.84699565242051,
           13.816107521150599,
           13.785219389880695,
           13.754331258610783,
           13.723443127340872,
           13.692554996070967,
           13.661666864801056,
           13.630778733531145,
           13.59989060226124,
           13.569002470991329,
           13.538114339721417,
           13.507226208451506,
           13.476338077181602,
           13.44544994591169,
           13.414561814641779,
           13.383673683371875,
           13.352785552101963,
           13.321897420832052,
           13.291009289562147,
           13.260121158292236,
           13.229233027022325,
           13.19834489575242,
           13.167456764482509,
           13.136568633212597,
           13.105680501942693,
           13.074792370672782,
           13.04390423940287,
           13.013016108132966,
           12.982127976863055,
           12.951239845593143,
           12.920351714323239,
           12.889463583053328,
           12.858575451783416,
           12.827687320513512,
           12.7967991892436,
           12.765911057973689,
           12.735022926703778,
           12.704134795433873,
           12.673246664163962,
           12.64235853289405,
           12.611470401624146,
           12.580582270354235,
           12.549694139084323,
           12.518806007814419,
           12.487917876544508
          ],
          [
           14.21074813794904,
           14.179860006679121,
           14.148971875409217,
           14.118083744139312,
           14.087195612869394,
           14.05630748159949,
           14.025419350329585,
           13.994531219059667,
           13.963643087789762,
           13.932754956519851,
           13.90186682524994,
           13.870978693980035,
           13.840090562710124,
           13.809202431440212,
           13.778314300170308,
           13.747426168900397,
           13.716538037630485,
           13.685649906360581,
           13.65476177509067,
           13.623873643820758,
           13.592985512550854,
           13.562097381280942,
           13.531209250011031,
           13.500321118741127,
           13.469432987471215,
           13.438544856201304,
           13.4076567249314,
           13.376768593661488,
           13.345880462391577,
           13.314992331121665,
           13.284104199851761,
           13.25321606858185,
           13.222327937311938,
           13.191439806042034,
           13.160551674772123,
           13.129663543502211,
           13.098775412232307,
           13.067887280962395,
           13.036999149692484,
           13.00611101842258,
           12.975222887152668,
           12.944334755882757,
           12.913446624612845,
           12.882558493342941,
           12.85167036207303,
           12.820782230803118,
           12.789894099533214,
           12.759005968263303,
           12.728117836993391,
           12.697229705723487,
           12.666341574453575,
           12.635453443183664,
           12.60456531191376,
           12.573677180643848,
           12.542789049373937,
           12.511900918104033,
           12.481012786834121,
           12.45012465556421,
           12.419236524294305,
           12.388348393024394,
           12.357460261754483,
           12.326572130484578,
           12.295683999214667,
           12.264795867944756,
           12.233907736674851,
           12.20301960540494,
           12.172131474135028,
           12.141243342865117,
           12.110355211595213,
           12.079467080325301,
           12.04857894905539,
           12.017690817785486,
           11.986802686515574,
           11.955914555245663,
           11.925026423975758,
           11.894138292705847
          ],
          [
           13.616968554110379,
           13.58608042284046,
           13.555192291570556,
           13.524304160300652,
           13.493416029030733,
           13.462527897760829,
           13.431639766490925,
           13.400751635221006,
           13.369863503951102,
           13.33897537268119,
           13.308087241411279,
           13.277199110141375,
           13.246310978871463,
           13.215422847601552,
           13.184534716331648,
           13.153646585061736,
           13.122758453791825,
           13.09187032252192,
           13.060982191252009,
           13.030094059982098,
           12.999205928712193,
           12.968317797442282,
           12.93742966617237,
           12.906541534902466,
           12.875653403632555,
           12.844765272362643,
           12.813877141092739,
           12.782989009822828,
           12.752100878552916,
           12.721212747283005,
           12.6903246160131,
           12.659436484743189,
           12.628548353473278,
           12.597660222203373,
           12.566772090933462,
           12.53588395966355,
           12.504995828393646,
           12.474107697123735,
           12.443219565853823,
           12.412331434583919,
           12.381443303314008,
           12.350555172044096,
           12.319667040774185,
           12.28877890950428,
           12.25789077823437,
           12.227002646964458,
           12.196114515694553,
           12.165226384424642,
           12.13433825315473,
           12.103450121884826,
           12.072561990614915,
           12.041673859345003,
           12.0107857280751,
           11.979897596805188,
           11.949009465535276,
           11.918121334265372,
           11.88723320299546,
           11.85634507172555,
           11.825456940455645,
           11.794568809185733,
           11.763680677915822,
           11.732792546645918,
           11.701904415376006,
           11.671016284106095,
           11.64012815283619,
           11.60924002156628,
           11.578351890296368,
           11.547463759026456,
           11.516575627756552,
           11.48568749648664,
           11.45479936521673,
           11.423911233946825,
           11.393023102676914,
           11.362134971407002,
           11.331246840137098,
           11.300358708867186
          ],
          [
           13.023188970271718,
           12.9923008390018,
           12.961412707731895,
           12.930524576461991,
           12.899636445192073,
           12.868748313922168,
           12.837860182652264,
           12.806972051382346,
           12.776083920112441,
           12.74519578884253,
           12.714307657572618,
           12.683419526302714,
           12.652531395032803,
           12.621643263762891,
           12.590755132492987,
           12.559867001223076,
           12.528978869953164,
           12.49809073868326,
           12.467202607413348,
           12.436314476143437,
           12.405426344873533,
           12.374538213603621,
           12.34365008233371,
           12.312761951063806,
           12.281873819793894,
           12.250985688523983,
           12.220097557254078,
           12.189209425984167,
           12.158321294714256,
           12.127433163444344,
           12.09654503217444,
           12.065656900904528,
           12.034768769634617,
           12.003880638364713,
           11.972992507094801,
           11.94210437582489,
           11.911216244554986,
           11.880328113285074,
           11.849439982015163,
           11.818551850745258,
           11.787663719475347,
           11.756775588205436,
           11.725887456935524,
           11.69499932566562,
           11.664111194395709,
           11.633223063125797,
           11.602334931855893,
           11.571446800585981,
           11.54055866931607,
           11.509670538046166,
           11.478782406776254,
           11.447894275506343,
           11.417006144236439,
           11.386118012966527,
           11.355229881696616,
           11.324341750426711,
           11.2934536191568,
           11.262565487886889,
           11.231677356616984,
           11.200789225347073,
           11.169901094077161,
           11.139012962807257,
           11.108124831537346,
           11.077236700267434,
           11.04634856899753,
           11.015460437727619,
           10.984572306457707,
           10.953684175187796,
           10.922796043917891,
           10.89190791264798,
           10.861019781378069,
           10.830131650108164,
           10.799243518838253,
           10.768355387568342,
           10.737467256298437,
           10.706579125028526
          ],
          [
           12.429409386433058,
           12.39852125516314,
           12.367633123893235,
           12.33674499262333,
           12.305856861353412,
           12.274968730083508,
           12.244080598813603,
           12.213192467543685,
           12.18230433627378,
           12.15141620500387,
           12.120528073733958,
           12.089639942464053,
           12.058751811194142,
           12.02786367992423,
           11.996975548654326,
           11.966087417384415,
           11.935199286114504,
           11.9043111548446,
           11.873423023574688,
           11.842534892304776,
           11.811646761034872,
           11.78075862976496,
           11.74987049849505,
           11.718982367225145,
           11.688094235955234,
           11.657206104685322,
           11.626317973415418,
           11.595429842145506,
           11.564541710875595,
           11.533653579605684,
           11.50276544833578,
           11.471877317065868,
           11.440989185795956,
           11.410101054526052,
           11.37921292325614,
           11.34832479198623,
           11.317436660716325,
           11.286548529446414,
           11.255660398176502,
           11.224772266906598,
           11.193884135636686,
           11.162996004366775,
           11.132107873096864,
           11.10121974182696,
           11.070331610557048,
           11.039443479287137,
           11.008555348017232,
           10.97766721674732,
           10.94677908547741,
           10.915890954207505,
           10.885002822937594,
           10.854114691667682,
           10.823226560397778,
           10.792338429127867,
           10.761450297857955,
           10.73056216658805,
           10.69967403531814,
           10.668785904048228,
           10.637897772778324,
           10.607009641508412,
           10.576121510238501,
           10.545233378968597,
           10.514345247698685,
           10.483457116428774,
           10.45256898515887,
           10.421680853888958,
           10.390792722619047,
           10.359904591349135,
           10.329016460079231,
           10.29812832880932,
           10.267240197539408,
           10.236352066269504,
           10.205463934999592,
           10.174575803729681,
           10.143687672459777,
           10.112799541189865
          ],
          [
           11.835629802594397,
           11.804741671324479,
           11.773853540054574,
           11.74296540878467,
           11.712077277514751,
           11.681189146244847,
           11.650301014974943,
           11.619412883705024,
           11.58852475243512,
           11.557636621165209,
           11.526748489895297,
           11.495860358625393,
           11.464972227355481,
           11.43408409608557,
           11.403195964815666,
           11.372307833545754,
           11.341419702275843,
           11.310531571005939,
           11.279643439736027,
           11.248755308466116,
           11.217867177196212,
           11.1869790459263,
           11.156090914656389,
           11.125202783386484,
           11.094314652116573,
           11.063426520846662,
           11.032538389576757,
           11.001650258306846,
           10.970762127036934,
           10.939873995767023,
           10.908985864497119,
           10.878097733227207,
           10.847209601957296,
           10.816321470687392,
           10.78543333941748,
           10.754545208147569,
           10.723657076877664,
           10.692768945607753,
           10.661880814337842,
           10.630992683067937,
           10.600104551798026,
           10.569216420528114,
           10.538328289258203,
           10.507440157988299,
           10.476552026718387,
           10.445663895448476,
           10.414775764178572,
           10.38388763290866,
           10.352999501638749,
           10.322111370368845,
           10.291223239098933,
           10.260335107829022,
           10.229446976559117,
           10.198558845289206,
           10.167670714019295,
           10.13678258274939,
           10.105894451479479,
           10.075006320209567,
           10.044118188939663,
           10.013230057669752,
           9.98234192639984,
           9.951453795129936,
           9.920565663860025,
           9.889677532590113,
           9.858789401320209,
           9.827901270050297,
           9.797013138780386,
           9.766125007510475,
           9.73523687624057,
           9.704348744970659,
           9.673460613700748,
           9.642572482430843,
           9.611684351160932,
           9.58079621989102,
           9.549908088621116,
           9.519019957351205
          ],
          [
           11.241850218755737,
           11.210962087485818,
           11.180073956215914,
           11.14918582494601,
           11.11829769367609,
           11.087409562406187,
           11.056521431136282,
           11.025633299866364,
           10.99474516859646,
           10.963857037326548,
           10.932968906056637,
           10.902080774786732,
           10.871192643516821,
           10.84030451224691,
           10.809416380977005,
           10.778528249707094,
           10.747640118437182,
           10.716751987167278,
           10.685863855897367,
           10.654975724627455,
           10.624087593357551,
           10.59319946208764,
           10.562311330817728,
           10.531423199547824,
           10.500535068277912,
           10.469646937008001,
           10.438758805738097,
           10.407870674468185,
           10.376982543198274,
           10.346094411928362,
           10.315206280658458,
           10.284318149388547,
           10.253430018118635,
           10.222541886848731,
           10.19165375557882,
           10.160765624308908,
           10.129877493039004,
           10.098989361769092,
           10.068101230499181,
           10.037213099229277,
           10.006324967959365,
           9.975436836689454,
           9.944548705419543,
           9.913660574149638,
           9.882772442879727,
           9.851884311609815,
           9.820996180339911,
           9.79010804907,
           9.759219917800088,
           9.728331786530184,
           9.697443655260273,
           9.666555523990361,
           9.635667392720457,
           9.604779261450545,
           9.573891130180634,
           9.54300299891073,
           9.512114867640818,
           9.481226736370907,
           9.450338605101003,
           9.419450473831091,
           9.38856234256118,
           9.357674211291275,
           9.326786080021364,
           9.295897948751453,
           9.265009817481548,
           9.234121686211637,
           9.203233554941725,
           9.172345423671814,
           9.14145729240191,
           9.110569161131998,
           9.079681029862087,
           9.048792898592183,
           9.017904767322271,
           8.98701663605236,
           8.956128504782455,
           8.925240373512544
          ],
          [
           10.648070634917076,
           10.617182503647157,
           10.586294372377253,
           10.555406241107349,
           10.52451810983743,
           10.493629978567526,
           10.462741847297622,
           10.431853716027703,
           10.400965584757799,
           10.370077453487887,
           10.339189322217976,
           10.308301190948072,
           10.27741305967816,
           10.246524928408249,
           10.215636797138345,
           10.184748665868433,
           10.153860534598522,
           10.122972403328617,
           10.092084272058706,
           10.061196140788795,
           10.03030800951889,
           9.999419878248979,
           9.968531746979068,
           9.937643615709163,
           9.906755484439252,
           9.87586735316934,
           9.844979221899436,
           9.814091090629525,
           9.783202959359613,
           9.752314828089702,
           9.721426696819798,
           9.690538565549886,
           9.659650434279975,
           9.62876230301007,
           9.597874171740159,
           9.566986040470248,
           9.536097909200343,
           9.505209777930432,
           9.47432164666052,
           9.443433515390616,
           9.412545384120705,
           9.381657252850793,
           9.350769121580882,
           9.319880990310978,
           9.288992859041066,
           9.258104727771155,
           9.22721659650125,
           9.196328465231339,
           9.165440333961428,
           9.134552202691523,
           9.103664071421612,
           9.0727759401517,
           9.041887808881796,
           9.010999677611885,
           8.980111546341973,
           8.949223415072069,
           8.918335283802158,
           8.887447152532246,
           8.856559021262342,
           8.82567088999243,
           8.79478275872252,
           8.763894627452615,
           8.733006496182703,
           8.702118364912792,
           8.671230233642888,
           8.640342102372976,
           8.609453971103065,
           8.578565839833153,
           8.54767770856325,
           8.516789577293338,
           8.485901446023426,
           8.455013314753522,
           8.42412518348361,
           8.3932370522137,
           8.362348920943795,
           8.331460789673883
          ],
          [
           10.054291051078415,
           10.023402919808497,
           9.992514788538593,
           9.961626657268688,
           9.93073852599877,
           9.899850394728865,
           9.868962263458961,
           9.838074132189043,
           9.807186000919138,
           9.776297869649227,
           9.745409738379315,
           9.714521607109411,
           9.6836334758395,
           9.652745344569588,
           9.621857213299684,
           9.590969082029773,
           9.560080950759861,
           9.529192819489957,
           9.498304688220045,
           9.467416556950134,
           9.43652842568023,
           9.405640294410318,
           9.374752163140407,
           9.343864031870503,
           9.312975900600591,
           9.28208776933068,
           9.251199638060775,
           9.220311506790864,
           9.189423375520953,
           9.158535244251041,
           9.127647112981137,
           9.096758981711226,
           9.065870850441314,
           9.03498271917141,
           9.004094587901498,
           8.973206456631587,
           8.942318325361683,
           8.911430194091771,
           8.88054206282186,
           8.849653931551956,
           8.818765800282044,
           8.787877669012133,
           8.756989537742221,
           8.726101406472317,
           8.695213275202406,
           8.664325143932494,
           8.63343701266259,
           8.602548881392678,
           8.571660750122767,
           8.540772618852863,
           8.509884487582951,
           8.47899635631304,
           8.448108225043136,
           8.417220093773224,
           8.386331962503313,
           8.355443831233409,
           8.324555699963497,
           8.293667568693586,
           8.262779437423681,
           8.23189130615377,
           8.201003174883859,
           8.170115043613954,
           8.139226912344043,
           8.108338781074131,
           8.077450649804227,
           8.046562518534316,
           8.015674387264404,
           7.984786255994493,
           7.953898124724589,
           7.923009993454677,
           7.892121862184766,
           7.861233730914861,
           7.83034559964495,
           7.799457468375039,
           7.768569337105134,
           7.737681205835223
          ],
          [
           9.460511467239762,
           9.429623335969843,
           9.398735204699939,
           9.367847073430035,
           9.336958942160116,
           9.306070810890212,
           9.275182679620308,
           9.244294548350389,
           9.213406417080485,
           9.182518285810573,
           9.151630154540662,
           9.120742023270758,
           9.089853892000846,
           9.058965760730935,
           9.02807762946103,
           8.99718949819112,
           8.966301366921208,
           8.935413235651303,
           8.904525104381392,
           8.87363697311148,
           8.842748841841576,
           8.811860710571665,
           8.780972579301753,
           8.75008444803185,
           8.719196316761938,
           8.688308185492026,
           8.657420054222122,
           8.62653192295221,
           8.5956437916823,
           8.564755660412388,
           8.533867529142483,
           8.502979397872572,
           8.47209126660266,
           8.441203135332756,
           8.410315004062845,
           8.379426872792934,
           8.34853874152303,
           8.317650610253118,
           8.286762478983206,
           8.255874347713302,
           8.22498621644339,
           8.19409808517348,
           8.163209953903568,
           8.132321822633664,
           8.101433691363752,
           8.07054556009384,
           8.039657428823936,
           8.008769297554025,
           7.977881166284114,
           7.946993035014209,
           7.916104903744298,
           7.8852167724743865,
           7.854328641204482,
           7.823440509934571,
           7.792552378664659,
           7.761664247394755,
           7.730776116124844,
           7.699887984854932,
           7.668999853585028,
           7.6381117223151165,
           7.607223591045205,
           7.576335459775301,
           7.545447328505389,
           7.514559197235478,
           7.483671065965574,
           7.452782934695662,
           7.421894803425751,
           7.391006672155839,
           7.360118540885935,
           7.329230409616024,
           7.298342278346112,
           7.267454147076208,
           7.2365660158062965,
           7.205677884536385,
           7.174789753266481,
           7.143901621996569
          ],
          [
           8.866731883401101,
           8.835843752131183,
           8.804955620861278,
           8.774067489591374,
           8.743179358321456,
           8.712291227051551,
           8.681403095781647,
           8.650514964511729,
           8.619626833241824,
           8.588738701971913,
           8.557850570702001,
           8.526962439432097,
           8.496074308162186,
           8.465186176892274,
           8.43429804562237,
           8.403409914352459,
           8.372521783082547,
           8.341633651812643,
           8.310745520542731,
           8.27985738927282,
           8.248969258002916,
           8.218081126733004,
           8.187192995463093,
           8.156304864193189,
           8.125416732923277,
           8.094528601653366,
           8.063640470383461,
           8.03275233911355,
           8.001864207843639,
           7.970976076573727,
           7.940087945303823,
           7.9091998140339115,
           7.878311682764,
           7.847423551494096,
           7.816535420224184,
           7.785647288954273,
           7.754759157684369,
           7.723871026414457,
           7.692982895144546,
           7.6620947638746415,
           7.63120663260473,
           7.600318501334819,
           7.569430370064907,
           7.538542238795003,
           7.5076541075250915,
           7.47676597625518,
           7.445877844985276,
           7.414989713715364,
           7.384101582445453,
           7.353213451175549,
           7.322325319905637,
           7.291437188635726,
           7.260549057365822,
           7.22966092609591,
           7.198772794825999,
           7.167884663556094,
           7.136996532286183,
           7.106108401016272,
           7.075220269746367,
           7.044332138476456,
           7.0134440072065445,
           6.98255587593664,
           6.951667744666729,
           6.920779613396817,
           6.889891482126913,
           6.859003350857002,
           6.82811521958709,
           6.797227088317179,
           6.7663389570472745,
           6.735450825777363,
           6.704562694507452,
           6.673674563237547,
           6.642786431967636,
           6.6118983006977246,
           6.58101016942782,
           6.550122038157909
          ]
         ]
        }
       ],
       "layout": {
        "legend": {
         "title": {
          "text": "poverty_pred"
         },
         "tracegroupgap": 0,
         "x": 0.01,
         "xanchor": "left",
         "y": 0.99,
         "yanchor": "top"
        },
        "scene": {
         "domain": {
          "x": [
           0,
           1
          ],
          "y": [
           0,
           1
          ]
         },
         "xaxis": {
          "title": {
           "text": "white"
          }
         },
         "yaxis": {
          "title": {
           "text": "hs_grad"
          }
         },
         "zaxis": {
          "title": {
           "text": "poverty"
          }
         }
        },
        "template": {
         "data": {
          "bar": [
           {
            "error_x": {
             "color": "#2a3f5f"
            },
            "error_y": {
             "color": "#2a3f5f"
            },
            "marker": {
             "line": {
              "color": "#E5ECF6",
              "width": 0.5
             },
             "pattern": {
              "fillmode": "overlay",
              "size": 10,
              "solidity": 0.2
             }
            },
            "type": "bar"
           }
          ],
          "barpolar": [
           {
            "marker": {
             "line": {
              "color": "#E5ECF6",
              "width": 0.5
             },
             "pattern": {
              "fillmode": "overlay",
              "size": 10,
              "solidity": 0.2
             }
            },
            "type": "barpolar"
           }
          ],
          "carpet": [
           {
            "aaxis": {
             "endlinecolor": "#2a3f5f",
             "gridcolor": "white",
             "linecolor": "white",
             "minorgridcolor": "white",
             "startlinecolor": "#2a3f5f"
            },
            "baxis": {
             "endlinecolor": "#2a3f5f",
             "gridcolor": "white",
             "linecolor": "white",
             "minorgridcolor": "white",
             "startlinecolor": "#2a3f5f"
            },
            "type": "carpet"
           }
          ],
          "choropleth": [
           {
            "colorbar": {
             "outlinewidth": 0,
             "ticks": ""
            },
            "type": "choropleth"
           }
          ],
          "contour": [
           {
            "colorbar": {
             "outlinewidth": 0,
             "ticks": ""
            },
            "colorscale": [
             [
              0,
              "#0d0887"
             ],
             [
              0.1111111111111111,
              "#46039f"
             ],
             [
              0.2222222222222222,
              "#7201a8"
             ],
             [
              0.3333333333333333,
              "#9c179e"
             ],
             [
              0.4444444444444444,
              "#bd3786"
             ],
             [
              0.5555555555555556,
              "#d8576b"
             ],
             [
              0.6666666666666666,
              "#ed7953"
             ],
             [
              0.7777777777777778,
              "#fb9f3a"
             ],
             [
              0.8888888888888888,
              "#fdca26"
             ],
             [
              1,
              "#f0f921"
             ]
            ],
            "type": "contour"
           }
          ],
          "contourcarpet": [
           {
            "colorbar": {
             "outlinewidth": 0,
             "ticks": ""
            },
            "type": "contourcarpet"
           }
          ],
          "heatmap": [
           {
            "colorbar": {
             "outlinewidth": 0,
             "ticks": ""
            },
            "colorscale": [
             [
              0,
              "#0d0887"
             ],
             [
              0.1111111111111111,
              "#46039f"
             ],
             [
              0.2222222222222222,
              "#7201a8"
             ],
             [
              0.3333333333333333,
              "#9c179e"
             ],
             [
              0.4444444444444444,
              "#bd3786"
             ],
             [
              0.5555555555555556,
              "#d8576b"
             ],
             [
              0.6666666666666666,
              "#ed7953"
             ],
             [
              0.7777777777777778,
              "#fb9f3a"
             ],
             [
              0.8888888888888888,
              "#fdca26"
             ],
             [
              1,
              "#f0f921"
             ]
            ],
            "type": "heatmap"
           }
          ],
          "heatmapgl": [
           {
            "colorbar": {
             "outlinewidth": 0,
             "ticks": ""
            },
            "colorscale": [
             [
              0,
              "#0d0887"
             ],
             [
              0.1111111111111111,
              "#46039f"
             ],
             [
              0.2222222222222222,
              "#7201a8"
             ],
             [
              0.3333333333333333,
              "#9c179e"
             ],
             [
              0.4444444444444444,
              "#bd3786"
             ],
             [
              0.5555555555555556,
              "#d8576b"
             ],
             [
              0.6666666666666666,
              "#ed7953"
             ],
             [
              0.7777777777777778,
              "#fb9f3a"
             ],
             [
              0.8888888888888888,
              "#fdca26"
             ],
             [
              1,
              "#f0f921"
             ]
            ],
            "type": "heatmapgl"
           }
          ],
          "histogram": [
           {
            "marker": {
             "pattern": {
              "fillmode": "overlay",
              "size": 10,
              "solidity": 0.2
             }
            },
            "type": "histogram"
           }
          ],
          "histogram2d": [
           {
            "colorbar": {
             "outlinewidth": 0,
             "ticks": ""
            },
            "colorscale": [
             [
              0,
              "#0d0887"
             ],
             [
              0.1111111111111111,
              "#46039f"
             ],
             [
              0.2222222222222222,
              "#7201a8"
             ],
             [
              0.3333333333333333,
              "#9c179e"
             ],
             [
              0.4444444444444444,
              "#bd3786"
             ],
             [
              0.5555555555555556,
              "#d8576b"
             ],
             [
              0.6666666666666666,
              "#ed7953"
             ],
             [
              0.7777777777777778,
              "#fb9f3a"
             ],
             [
              0.8888888888888888,
              "#fdca26"
             ],
             [
              1,
              "#f0f921"
             ]
            ],
            "type": "histogram2d"
           }
          ],
          "histogram2dcontour": [
           {
            "colorbar": {
             "outlinewidth": 0,
             "ticks": ""
            },
            "colorscale": [
             [
              0,
              "#0d0887"
             ],
             [
              0.1111111111111111,
              "#46039f"
             ],
             [
              0.2222222222222222,
              "#7201a8"
             ],
             [
              0.3333333333333333,
              "#9c179e"
             ],
             [
              0.4444444444444444,
              "#bd3786"
             ],
             [
              0.5555555555555556,
              "#d8576b"
             ],
             [
              0.6666666666666666,
              "#ed7953"
             ],
             [
              0.7777777777777778,
              "#fb9f3a"
             ],
             [
              0.8888888888888888,
              "#fdca26"
             ],
             [
              1,
              "#f0f921"
             ]
            ],
            "type": "histogram2dcontour"
           }
          ],
          "mesh3d": [
           {
            "colorbar": {
             "outlinewidth": 0,
             "ticks": ""
            },
            "type": "mesh3d"
           }
          ],
          "parcoords": [
           {
            "line": {
             "colorbar": {
              "outlinewidth": 0,
              "ticks": ""
             }
            },
            "type": "parcoords"
           }
          ],
          "pie": [
           {
            "automargin": true,
            "type": "pie"
           }
          ],
          "scatter": [
           {
            "fillpattern": {
             "fillmode": "overlay",
             "size": 10,
             "solidity": 0.2
            },
            "type": "scatter"
           }
          ],
          "scatter3d": [
           {
            "line": {
             "colorbar": {
              "outlinewidth": 0,
              "ticks": ""
             }
            },
            "marker": {
             "colorbar": {
              "outlinewidth": 0,
              "ticks": ""
             }
            },
            "type": "scatter3d"
           }
          ],
          "scattercarpet": [
           {
            "marker": {
             "colorbar": {
              "outlinewidth": 0,
              "ticks": ""
             }
            },
            "type": "scattercarpet"
           }
          ],
          "scattergeo": [
           {
            "marker": {
             "colorbar": {
              "outlinewidth": 0,
              "ticks": ""
             }
            },
            "type": "scattergeo"
           }
          ],
          "scattergl": [
           {
            "marker": {
             "colorbar": {
              "outlinewidth": 0,
              "ticks": ""
             }
            },
            "type": "scattergl"
           }
          ],
          "scattermapbox": [
           {
            "marker": {
             "colorbar": {
              "outlinewidth": 0,
              "ticks": ""
             }
            },
            "type": "scattermapbox"
           }
          ],
          "scatterpolar": [
           {
            "marker": {
             "colorbar": {
              "outlinewidth": 0,
              "ticks": ""
             }
            },
            "type": "scatterpolar"
           }
          ],
          "scatterpolargl": [
           {
            "marker": {
             "colorbar": {
              "outlinewidth": 0,
              "ticks": ""
             }
            },
            "type": "scatterpolargl"
           }
          ],
          "scatterternary": [
           {
            "marker": {
             "colorbar": {
              "outlinewidth": 0,
              "ticks": ""
             }
            },
            "type": "scatterternary"
           }
          ],
          "surface": [
           {
            "colorbar": {
             "outlinewidth": 0,
             "ticks": ""
            },
            "colorscale": [
             [
              0,
              "#0d0887"
             ],
             [
              0.1111111111111111,
              "#46039f"
             ],
             [
              0.2222222222222222,
              "#7201a8"
             ],
             [
              0.3333333333333333,
              "#9c179e"
             ],
             [
              0.4444444444444444,
              "#bd3786"
             ],
             [
              0.5555555555555556,
              "#d8576b"
             ],
             [
              0.6666666666666666,
              "#ed7953"
             ],
             [
              0.7777777777777778,
              "#fb9f3a"
             ],
             [
              0.8888888888888888,
              "#fdca26"
             ],
             [
              1,
              "#f0f921"
             ]
            ],
            "type": "surface"
           }
          ],
          "table": [
           {
            "cells": {
             "fill": {
              "color": "#EBF0F8"
             },
             "line": {
              "color": "white"
             }
            },
            "header": {
             "fill": {
              "color": "#C8D4E3"
             },
             "line": {
              "color": "white"
             }
            },
            "type": "table"
           }
          ]
         },
         "layout": {
          "annotationdefaults": {
           "arrowcolor": "#2a3f5f",
           "arrowhead": 0,
           "arrowwidth": 1
          },
          "autotypenumbers": "strict",
          "coloraxis": {
           "colorbar": {
            "outlinewidth": 0,
            "ticks": ""
           }
          },
          "colorscale": {
           "diverging": [
            [
             0,
             "#8e0152"
            ],
            [
             0.1,
             "#c51b7d"
            ],
            [
             0.2,
             "#de77ae"
            ],
            [
             0.3,
             "#f1b6da"
            ],
            [
             0.4,
             "#fde0ef"
            ],
            [
             0.5,
             "#f7f7f7"
            ],
            [
             0.6,
             "#e6f5d0"
            ],
            [
             0.7,
             "#b8e186"
            ],
            [
             0.8,
             "#7fbc41"
            ],
            [
             0.9,
             "#4d9221"
            ],
            [
             1,
             "#276419"
            ]
           ],
           "sequential": [
            [
             0,
             "#0d0887"
            ],
            [
             0.1111111111111111,
             "#46039f"
            ],
            [
             0.2222222222222222,
             "#7201a8"
            ],
            [
             0.3333333333333333,
             "#9c179e"
            ],
            [
             0.4444444444444444,
             "#bd3786"
            ],
            [
             0.5555555555555556,
             "#d8576b"
            ],
            [
             0.6666666666666666,
             "#ed7953"
            ],
            [
             0.7777777777777778,
             "#fb9f3a"
            ],
            [
             0.8888888888888888,
             "#fdca26"
            ],
            [
             1,
             "#f0f921"
            ]
           ],
           "sequentialminus": [
            [
             0,
             "#0d0887"
            ],
            [
             0.1111111111111111,
             "#46039f"
            ],
            [
             0.2222222222222222,
             "#7201a8"
            ],
            [
             0.3333333333333333,
             "#9c179e"
            ],
            [
             0.4444444444444444,
             "#bd3786"
            ],
            [
             0.5555555555555556,
             "#d8576b"
            ],
            [
             0.6666666666666666,
             "#ed7953"
            ],
            [
             0.7777777777777778,
             "#fb9f3a"
            ],
            [
             0.8888888888888888,
             "#fdca26"
            ],
            [
             1,
             "#f0f921"
            ]
           ]
          },
          "colorway": [
           "#636efa",
           "#EF553B",
           "#00cc96",
           "#ab63fa",
           "#FFA15A",
           "#19d3f3",
           "#FF6692",
           "#B6E880",
           "#FF97FF",
           "#FECB52"
          ],
          "font": {
           "color": "#2a3f5f"
          },
          "geo": {
           "bgcolor": "white",
           "lakecolor": "white",
           "landcolor": "#E5ECF6",
           "showlakes": true,
           "showland": true,
           "subunitcolor": "white"
          },
          "hoverlabel": {
           "align": "left"
          },
          "hovermode": "closest",
          "mapbox": {
           "style": "light"
          },
          "paper_bgcolor": "white",
          "plot_bgcolor": "#E5ECF6",
          "polar": {
           "angularaxis": {
            "gridcolor": "white",
            "linecolor": "white",
            "ticks": ""
           },
           "bgcolor": "#E5ECF6",
           "radialaxis": {
            "gridcolor": "white",
            "linecolor": "white",
            "ticks": ""
           }
          },
          "scene": {
           "xaxis": {
            "backgroundcolor": "#E5ECF6",
            "gridcolor": "white",
            "gridwidth": 2,
            "linecolor": "white",
            "showbackground": true,
            "ticks": "",
            "zerolinecolor": "white"
           },
           "yaxis": {
            "backgroundcolor": "#E5ECF6",
            "gridcolor": "white",
            "gridwidth": 2,
            "linecolor": "white",
            "showbackground": true,
            "ticks": "",
            "zerolinecolor": "white"
           },
           "zaxis": {
            "backgroundcolor": "#E5ECF6",
            "gridcolor": "white",
            "gridwidth": 2,
            "linecolor": "white",
            "showbackground": true,
            "ticks": "",
            "zerolinecolor": "white"
           }
          },
          "shapedefaults": {
           "line": {
            "color": "#2a3f5f"
           }
          },
          "ternary": {
           "aaxis": {
            "gridcolor": "white",
            "linecolor": "white",
            "ticks": ""
           },
           "baxis": {
            "gridcolor": "white",
            "linecolor": "white",
            "ticks": ""
           },
           "bgcolor": "#E5ECF6",
           "caxis": {
            "gridcolor": "white",
            "linecolor": "white",
            "ticks": ""
           }
          },
          "title": {
           "x": 0.05
          },
          "xaxis": {
           "automargin": true,
           "gridcolor": "white",
           "linecolor": "white",
           "ticks": "",
           "title": {
            "standoff": 15
           },
           "zerolinecolor": "white",
           "zerolinewidth": 2
          },
          "yaxis": {
           "automargin": true,
           "gridcolor": "white",
           "linecolor": "white",
           "ticks": "",
           "title": {
            "standoff": 15
           },
           "zerolinecolor": "white",
           "zerolinewidth": 2
          }
         }
        },
        "title": {
         "text": "Зависиость процента белого населения и уровня образования на бедность населения"
        }
       }
      },
      "text/html": [
       "<div>                            <div id=\"d8651e88-4e18-438b-8057-eef6f3c5f64a\" class=\"plotly-graph-div\" style=\"height:525px; width:100%;\"></div>            <script type=\"text/javascript\">                require([\"plotly\"], function(Plotly) {                    window.PLOTLYENV=window.PLOTLYENV || {};                                    if (document.getElementById(\"d8651e88-4e18-438b-8057-eef6f3c5f64a\")) {                    Plotly.newPlot(                        \"d8651e88-4e18-438b-8057-eef6f3c5f64a\",                        [{\"hovertemplate\":\"poverty_pred=False<br>white=%{x}<br>hs_grad=%{y}<br>poverty=%{z}<extra></extra>\",\"legendgroup\":\"False\",\"marker\":{\"color\":\"red\",\"symbol\":\"circle\",\"size\":3},\"mode\":\"markers\",\"name\":\"False\",\"scene\":\"scene\",\"showlegend\":true,\"x\":[71.3,70.8,77.5,90.2,85.4,76.3,80.6,67.5,25.9,79.5,88.9,94.9,89.3,65.6,87.2,81.5,90.2,85.3,84.1,96.3,77.3,74.1,85.4,86.4,89.2,67.7,80.8,83.6,73.9,90.1],\"y\":[79.9,90.6,81.1,88.7,87.5,88.7,84.7,85.1,88.5,85.9,86.4,89.7,88.6,87.6,87.1,87.6,91.6,88.3,85.6,92.1,86.2,81.4,87.2,86.0,81.0,80.8,81.0,77.2,87.8,88.6],\"z\":[14.6,8.3,12.8,9.4,7.8,8.1,12.1,12.1,10.6,11.2,8.7,8.3,9.4,7.3,9.6,10.3,6.5,9.6,8.3,5.6,7.8,13.1,10.1,9.2,10.3,13.5,14.2,15.3,8.7,8.6],\"type\":\"scatter3d\"},{\"hovertemplate\":\"poverty_pred=True<br>white=%{x}<br>hs_grad=%{y}<br>poverty=%{z}<extra></extra>\",\"legendgroup\":\"True\",\"marker\":{\"color\":\"green\",\"symbol\":\"circle\",\"size\":3},\"mode\":\"markers\",\"name\":\"True\",\"scene\":\"scene\",\"showlegend\":true,\"x\":[87.7,81.0,36.2,95.5,90.3,64.2,97.1,61.2,90.9,92.1,84.9,73.6,92.5,78.4,90.8,88.8,93.6,96.9,85.5,95.0,94.7],\"y\":[83.8,80.9,86.0,88.2,82.8,79.8,86.6,81.2,90.1,90.8,81.7,84.2,89.7,85.7,86.9,88.7,89.4,88.9,89.1,78.7,90.9],\"z\":[13.3,18.0,16.8,11.8,13.1,17.0,11.3,17.6,13.7,9.5,17.8,14.0,11.9,14.7,11.2,10.2,9.3,9.9,10.8,16.0,9.5],\"type\":\"scatter3d\"},{\"colorscale\":[[0.0,\"rgb(243, 231, 155)\"],[0.16666666666666666,\"rgb(250, 196, 132)\"],[0.3333333333333333,\"rgb(248, 160, 126)\"],[0.5,\"rgb(235, 127, 134)\"],[0.6666666666666666,\"rgb(206, 102, 147)\"],[0.8333333333333334,\"rgb(160, 89, 160)\"],[1.0,\"rgb(92, 83, 165)\"]],\"name\":\"prediction\",\"opacity\":0.8,\"x\":[23.9,24.9,25.9,26.9,27.9,28.9,29.9,30.9,31.9,32.9,33.9,34.9,35.9,36.9,37.9,38.9,39.9,40.9,41.9,42.9,43.9,44.9,45.9,46.9,47.9,48.9,49.9,50.9,51.9,52.9,53.9,54.9,55.9,56.9,57.9,58.9,59.9,60.9,61.9,62.9,63.9,64.9,65.9,66.9,67.9,68.9,69.9,70.9,71.9,72.9,73.9,74.9,75.9,76.9,77.9,78.9,79.9,80.9,81.9,82.9,83.9,84.9,85.9,86.9,87.9,88.9,89.9,90.9,91.9,92.9,93.9,94.9,95.9,96.9,97.9,98.9],\"y\":[75.2,76.2,77.2,78.2,79.2,80.2,81.2,82.2,83.2,84.2,85.2,86.2,87.2,88.2,89.2,90.2,91.2,92.2,93.2],\"z\":[[19.554764392496978,19.52387626122706,19.492988129957155,19.46209999868725,19.431211867417332,19.400323736147428,19.369435604877523,19.338547473607605,19.3076593423377,19.27677121106779,19.245883079797878,19.214994948527973,19.184106817258062,19.15321868598815,19.122330554718246,19.091442423448335,19.060554292178423,19.02966616090852,18.998778029638608,18.967889898368696,18.937001767098792,18.90611363582888,18.87522550455897,18.844337373289065,18.813449242019153,18.782561110749242,18.751672979479338,18.720784848209426,18.689896716939515,18.659008585669604,18.6281204543997,18.597232323129788,18.566344191859876,18.535456060589972,18.50456792932006,18.47367979805015,18.442791666780245,18.411903535510334,18.381015404240422,18.350127272970518,18.319239141700606,18.288351010430695,18.257462879160784,18.22657474789088,18.195686616620968,18.164798485351056,18.133910354081152,18.10302222281124,18.07213409154133,18.041245960271425,18.010357829001514,17.979469697731602,17.948581566461698,17.917693435191786,17.886805303921875,17.85591717265197,17.82502904138206,17.794140910112148,17.763252778842244,17.732364647572332,17.70147651630242,17.670588385032516,17.639700253762605,17.608812122492694,17.57792399122279,17.547035859952878,17.516147728682967,17.485259597413055,17.45437146614315,17.42348333487324,17.392595203603328,17.361707072333424,17.330818941063512,17.2999308097936,17.269042678523697,17.238154547253785],[18.960984808658324,18.930096677388406,18.8992085461185,18.868320414848597,18.83743228357868,18.806544152308774,18.77565602103887,18.74476788976895,18.713879758499047,18.682991627229136,18.652103495959224,18.62121536468932,18.59032723341941,18.559439102149497,18.528550970879593,18.49766283960968,18.46677470833977,18.435886577069866,18.404998445799954,18.374110314530043,18.34322218326014,18.312334051990227,18.281445920720316,18.25055778945041,18.2196696581805,18.18878152691059,18.157893395640684,18.127005264370773,18.09611713310086,18.06522900183095,18.034340870561046,18.003452739291134,17.972564608021223,17.94167647675132,17.910788345481407,17.879900214211496,17.84901208294159,17.81812395167168,17.78723582040177,17.756347689131864,17.725459557861953,17.69457142659204,17.66368329532213,17.632795164052226,17.601907032782314,17.571018901512403,17.5401307702425,17.509242638972587,17.478354507702676,17.44746637643277,17.41657824516286,17.38569011389295,17.354801982623044,17.323913851353133,17.29302572008322,17.262137588813317,17.231249457543406,17.200361326273494,17.16947319500359,17.13858506373368,17.107696932463767,17.076808801193863,17.04592066992395,17.01503253865404,16.984144407384136,16.953256276114224,16.922368144844313,16.8914800135744,16.860591882304497,16.829703751034586,16.798815619764675,16.76792748849477,16.73703935722486,16.706151225954947,16.675263094685043,16.64437496341513],[18.367205224819664,18.336317093549745,18.30542896227984,18.274540831009936,18.243652699740018,18.212764568470114,18.18187643720021,18.15098830593029,18.120100174660386,18.089212043390475,18.058323912120564,18.02743578085066,17.996547649580748,17.965659518310837,17.934771387040932,17.90388325577102,17.87299512450111,17.842106993231205,17.811218861961294,17.780330730691382,17.749442599421478,17.718554468151567,17.687666336881655,17.65677820561175,17.62589007434184,17.595001943071928,17.564113811802024,17.533225680532112,17.5023375492622,17.47144941799229,17.440561286722385,17.409673155452474,17.378785024182562,17.347896892912658,17.317008761642747,17.286120630372835,17.25523249910293,17.22434436783302,17.193456236563108,17.162568105293204,17.131679974023292,17.10079184275338,17.06990371148347,17.039015580213565,17.008127448943654,16.977239317673742,16.946351186403838,16.915463055133927,16.884574923864015,16.85368679259411,16.8227986613242,16.791910530054288,16.761022398784384,16.730134267514472,16.69924613624456,16.668358004974657,16.637469873704745,16.606581742434834,16.57569361116493,16.544805479895018,16.513917348625107,16.483029217355202,16.45214108608529,16.42125295481538,16.390364823545475,16.359476692275564,16.328588561005652,16.29770042973574,16.266812298465837,16.235924167195925,16.205036035926014,16.17414790465611,16.143259773386198,16.112371642116287,16.081483510846383,16.05059537957647],[17.773425640981003,17.742537509711084,17.71164937844118,17.680761247171276,17.649873115901357,17.618984984631453,17.58809685336155,17.55720872209163,17.526320590821726,17.495432459551814,17.464544328281903,17.433656197012,17.402768065742087,17.371879934472176,17.34099180320227,17.31010367193236,17.27921554066245,17.248327409392544,17.217439278122633,17.18655114685272,17.155663015582817,17.124774884312906,17.093886753042995,17.06299862177309,17.03211049050318,17.001222359233267,16.970334227963363,16.93944609669345,16.90855796542354,16.87766983415363,16.846781702883725,16.815893571613813,16.7850054403439,16.754117309073997,16.723229177804086,16.692341046534175,16.66145291526427,16.63056478399436,16.599676652724447,16.568788521454543,16.53790039018463,16.50701225891472,16.47612412764481,16.445235996374905,16.414347865104993,16.383459733835082,16.352571602565177,16.321683471295266,16.290795340025355,16.25990720875545,16.22901907748554,16.198130946215628,16.167242814945723,16.136354683675812,16.1054665524059,16.074578421135996,16.043690289866085,16.012802158596173,15.981914027326269,15.951025896056358,15.920137764786446,15.889249633516542,15.85836150224663,15.827473370976719,15.796585239706815,15.765697108436903,15.734808977166992,15.70392084589708,15.673032714627176,15.642144583357265,15.611256452087353,15.580368320817449,15.549480189547538,15.518592058277626,15.487703927007722,15.45681579573781],[17.179646057142342,17.148757925872424,17.11786979460252,17.086981663332615,17.056093532062697,17.025205400792792,16.994317269522888,16.96342913825297,16.932541006983065,16.901652875713154,16.870764744443242,16.839876613173338,16.808988481903427,16.778100350633515,16.74721221936361,16.7163240880937,16.685435956823788,16.654547825553884,16.623659694283972,16.59277156301406,16.561883431744157,16.530995300474245,16.500107169204334,16.46921903793443,16.43833090666452,16.407442775394607,16.376554644124703,16.34566651285479,16.31477838158488,16.28389025031497,16.253002119045064,16.222113987775153,16.19122585650524,16.160337725235337,16.129449593965425,16.098561462695514,16.06767333142561,16.0367852001557,16.005897068885787,15.975008937615883,15.944120806345971,15.91323267507606,15.882344543806148,15.851456412536244,15.820568281266333,15.789680149996421,15.758792018726517,15.727903887456606,15.697015756186694,15.66612762491679,15.635239493646878,15.604351362376967,15.573463231107063,15.542575099837151,15.51168696856724,15.480798837297336,15.449910706027424,15.419022574757513,15.388134443487608,15.357246312217697,15.326358180947786,15.295470049677881,15.26458191840797,15.233693787138058,15.202805655868154,15.171917524598243,15.141029393328331,15.11014126205842,15.079253130788516,15.048364999518604,15.017476868248693,14.986588736978788,14.955700605708877,14.924812474438966,14.893924343169061,14.86303621189915],[16.585866473303682,16.554978342033763,16.52409021076386,16.493202079493955,16.462313948224036,16.431425816954132,16.400537685684228,16.36964955441431,16.338761423144405,16.307873291874493,16.276985160604582,16.246097029334678,16.215208898064766,16.184320766794855,16.15343263552495,16.12254450425504,16.091656372985128,16.060768241715223,16.029880110445312,15.9989919791754,15.968103847905496,15.937215716635585,15.906327585365673,15.875439454095769,15.844551322825858,15.813663191555946,15.782775060286042,15.75188692901613,15.720998797746219,15.690110666476308,15.659222535206403,15.628334403936492,15.59744627266658,15.566558141396676,15.535670010126765,15.504781878856853,15.47389374758695,15.443005616317038,15.412117485047126,15.381229353777222,15.35034122250731,15.3194530912374,15.288564959967488,15.257676828697583,15.226788697427672,15.19590056615776,15.165012434887856,15.134124303617945,15.103236172348034,15.07234804107813,15.041459909808218,15.010571778538306,14.979683647268402,14.94879551599849,14.91790738472858,14.887019253458675,14.856131122188764,14.825242990918852,14.794354859648948,14.763466728379036,14.732578597109125,14.70169046583922,14.67080233456931,14.639914203299398,14.609026072029494,14.578137940759582,14.54724980948967,14.51636167821976,14.485473546949855,14.454585415679944,14.423697284410032,14.392809153140128,14.361921021870216,14.331032890600305,14.3001447593304,14.26925662806049],[15.992086889465021,15.961198758195103,15.930310626925198,15.899422495655294,15.868534364385376,15.837646233115471,15.806758101845567,15.775869970575648,15.744981839305744,15.714093708035833,15.683205576765921,15.652317445496017,15.621429314226106,15.590541182956194,15.55965305168629,15.528764920416378,15.497876789146467,15.466988657876563,15.436100526606651,15.40521239533674,15.374324264066836,15.343436132796924,15.312548001527013,15.281659870257108,15.250771738987197,15.219883607717286,15.188995476447381,15.15810734517747,15.127219213907559,15.096331082637647,15.065442951367743,15.034554820097831,15.00366668882792,14.972778557558016,14.941890426288104,14.911002295018193,14.880114163748289,14.849226032478377,14.818337901208466,14.787449769938561,14.75656163866865,14.725673507398739,14.694785376128827,14.663897244858923,14.633009113589011,14.6021209823191,14.571232851049196,14.540344719779284,14.509456588509373,14.478568457239469,14.447680325969557,14.416792194699646,14.385904063429741,14.35501593215983,14.324127800889919,14.293239669620014,14.262351538350103,14.231463407080192,14.200575275810287,14.169687144540376,14.138799013270464,14.10791088200056,14.077022750730649,14.046134619460737,14.015246488190833,13.984358356920922,13.95347022565101,13.922582094381099,13.891693963111194,13.860805831841283,13.829917700571372,13.799029569301467,13.768141438031556,13.737253306761644,13.70636517549174,13.675477044221829],[15.39830730562636,15.367419174356442,15.336531043086538,15.305642911816634,15.274754780546715,15.24386664927681,15.212978518006906,15.182090386736988,15.151202255467084,15.120314124197172,15.08942599292726,15.058537861657356,15.027649730387445,14.996761599117534,14.96587346784763,14.934985336577718,14.904097205307806,14.873209074037902,14.84232094276799,14.81143281149808,14.780544680228175,14.749656548958264,14.718768417688352,14.687880286418448,14.656992155148536,14.626104023878625,14.59521589260872,14.56432776133881,14.533439630068898,14.502551498798987,14.471663367529082,14.44077523625917,14.40988710498926,14.378998973719355,14.348110842449444,14.317222711179532,14.286334579909628,14.255446448639717,14.224558317369805,14.1936701860999,14.16278205482999,14.131893923560078,14.101005792290167,14.070117661020262,14.03922952975035,14.00834139848044,13.977453267210535,13.946565135940624,13.915677004670712,13.884788873400808,13.853900742130897,13.823012610860985,13.792124479591081,13.76123634832117,13.730348217051258,13.699460085781354,13.668571954511442,13.637683823241531,13.606795691971627,13.575907560701715,13.545019429431804,13.5141312981619,13.483243166891988,13.452355035622077,13.421466904352172,13.390578773082261,13.35969064181235,13.328802510542438,13.297914379272534,13.267026248002622,13.236138116732711,13.205249985462807,13.174361854192895,13.143473722922984,13.11258559165308,13.081697460383168],[14.8045277217877,14.773639590517782,14.742751459247877,14.711863327977973,14.680975196708054,14.65008706543815,14.619198934168246,14.588310802898327,14.557422671628423,14.526534540358512,14.4956464090886,14.464758277818696,14.433870146548784,14.402982015278873,14.372093884008969,14.341205752739057,14.310317621469146,14.279429490199242,14.24854135892933,14.217653227659419,14.186765096389514,14.155876965119603,14.124988833849692,14.094100702579787,14.063212571309876,14.032324440039964,14.00143630877006,13.970548177500149,13.939660046230237,13.908771914960326,13.877883783690422,13.84699565242051,13.816107521150599,13.785219389880695,13.754331258610783,13.723443127340872,13.692554996070967,13.661666864801056,13.630778733531145,13.59989060226124,13.569002470991329,13.538114339721417,13.507226208451506,13.476338077181602,13.44544994591169,13.414561814641779,13.383673683371875,13.352785552101963,13.321897420832052,13.291009289562147,13.260121158292236,13.229233027022325,13.19834489575242,13.167456764482509,13.136568633212597,13.105680501942693,13.074792370672782,13.04390423940287,13.013016108132966,12.982127976863055,12.951239845593143,12.920351714323239,12.889463583053328,12.858575451783416,12.827687320513512,12.7967991892436,12.765911057973689,12.735022926703778,12.704134795433873,12.673246664163962,12.64235853289405,12.611470401624146,12.580582270354235,12.549694139084323,12.518806007814419,12.487917876544508],[14.21074813794904,14.179860006679121,14.148971875409217,14.118083744139312,14.087195612869394,14.05630748159949,14.025419350329585,13.994531219059667,13.963643087789762,13.932754956519851,13.90186682524994,13.870978693980035,13.840090562710124,13.809202431440212,13.778314300170308,13.747426168900397,13.716538037630485,13.685649906360581,13.65476177509067,13.623873643820758,13.592985512550854,13.562097381280942,13.531209250011031,13.500321118741127,13.469432987471215,13.438544856201304,13.4076567249314,13.376768593661488,13.345880462391577,13.314992331121665,13.284104199851761,13.25321606858185,13.222327937311938,13.191439806042034,13.160551674772123,13.129663543502211,13.098775412232307,13.067887280962395,13.036999149692484,13.00611101842258,12.975222887152668,12.944334755882757,12.913446624612845,12.882558493342941,12.85167036207303,12.820782230803118,12.789894099533214,12.759005968263303,12.728117836993391,12.697229705723487,12.666341574453575,12.635453443183664,12.60456531191376,12.573677180643848,12.542789049373937,12.511900918104033,12.481012786834121,12.45012465556421,12.419236524294305,12.388348393024394,12.357460261754483,12.326572130484578,12.295683999214667,12.264795867944756,12.233907736674851,12.20301960540494,12.172131474135028,12.141243342865117,12.110355211595213,12.079467080325301,12.04857894905539,12.017690817785486,11.986802686515574,11.955914555245663,11.925026423975758,11.894138292705847],[13.616968554110379,13.58608042284046,13.555192291570556,13.524304160300652,13.493416029030733,13.462527897760829,13.431639766490925,13.400751635221006,13.369863503951102,13.33897537268119,13.308087241411279,13.277199110141375,13.246310978871463,13.215422847601552,13.184534716331648,13.153646585061736,13.122758453791825,13.09187032252192,13.060982191252009,13.030094059982098,12.999205928712193,12.968317797442282,12.93742966617237,12.906541534902466,12.875653403632555,12.844765272362643,12.813877141092739,12.782989009822828,12.752100878552916,12.721212747283005,12.6903246160131,12.659436484743189,12.628548353473278,12.597660222203373,12.566772090933462,12.53588395966355,12.504995828393646,12.474107697123735,12.443219565853823,12.412331434583919,12.381443303314008,12.350555172044096,12.319667040774185,12.28877890950428,12.25789077823437,12.227002646964458,12.196114515694553,12.165226384424642,12.13433825315473,12.103450121884826,12.072561990614915,12.041673859345003,12.0107857280751,11.979897596805188,11.949009465535276,11.918121334265372,11.88723320299546,11.85634507172555,11.825456940455645,11.794568809185733,11.763680677915822,11.732792546645918,11.701904415376006,11.671016284106095,11.64012815283619,11.60924002156628,11.578351890296368,11.547463759026456,11.516575627756552,11.48568749648664,11.45479936521673,11.423911233946825,11.393023102676914,11.362134971407002,11.331246840137098,11.300358708867186],[13.023188970271718,12.9923008390018,12.961412707731895,12.930524576461991,12.899636445192073,12.868748313922168,12.837860182652264,12.806972051382346,12.776083920112441,12.74519578884253,12.714307657572618,12.683419526302714,12.652531395032803,12.621643263762891,12.590755132492987,12.559867001223076,12.528978869953164,12.49809073868326,12.467202607413348,12.436314476143437,12.405426344873533,12.374538213603621,12.34365008233371,12.312761951063806,12.281873819793894,12.250985688523983,12.220097557254078,12.189209425984167,12.158321294714256,12.127433163444344,12.09654503217444,12.065656900904528,12.034768769634617,12.003880638364713,11.972992507094801,11.94210437582489,11.911216244554986,11.880328113285074,11.849439982015163,11.818551850745258,11.787663719475347,11.756775588205436,11.725887456935524,11.69499932566562,11.664111194395709,11.633223063125797,11.602334931855893,11.571446800585981,11.54055866931607,11.509670538046166,11.478782406776254,11.447894275506343,11.417006144236439,11.386118012966527,11.355229881696616,11.324341750426711,11.2934536191568,11.262565487886889,11.231677356616984,11.200789225347073,11.169901094077161,11.139012962807257,11.108124831537346,11.077236700267434,11.04634856899753,11.015460437727619,10.984572306457707,10.953684175187796,10.922796043917891,10.89190791264798,10.861019781378069,10.830131650108164,10.799243518838253,10.768355387568342,10.737467256298437,10.706579125028526],[12.429409386433058,12.39852125516314,12.367633123893235,12.33674499262333,12.305856861353412,12.274968730083508,12.244080598813603,12.213192467543685,12.18230433627378,12.15141620500387,12.120528073733958,12.089639942464053,12.058751811194142,12.02786367992423,11.996975548654326,11.966087417384415,11.935199286114504,11.9043111548446,11.873423023574688,11.842534892304776,11.811646761034872,11.78075862976496,11.74987049849505,11.718982367225145,11.688094235955234,11.657206104685322,11.626317973415418,11.595429842145506,11.564541710875595,11.533653579605684,11.50276544833578,11.471877317065868,11.440989185795956,11.410101054526052,11.37921292325614,11.34832479198623,11.317436660716325,11.286548529446414,11.255660398176502,11.224772266906598,11.193884135636686,11.162996004366775,11.132107873096864,11.10121974182696,11.070331610557048,11.039443479287137,11.008555348017232,10.97766721674732,10.94677908547741,10.915890954207505,10.885002822937594,10.854114691667682,10.823226560397778,10.792338429127867,10.761450297857955,10.73056216658805,10.69967403531814,10.668785904048228,10.637897772778324,10.607009641508412,10.576121510238501,10.545233378968597,10.514345247698685,10.483457116428774,10.45256898515887,10.421680853888958,10.390792722619047,10.359904591349135,10.329016460079231,10.29812832880932,10.267240197539408,10.236352066269504,10.205463934999592,10.174575803729681,10.143687672459777,10.112799541189865],[11.835629802594397,11.804741671324479,11.773853540054574,11.74296540878467,11.712077277514751,11.681189146244847,11.650301014974943,11.619412883705024,11.58852475243512,11.557636621165209,11.526748489895297,11.495860358625393,11.464972227355481,11.43408409608557,11.403195964815666,11.372307833545754,11.341419702275843,11.310531571005939,11.279643439736027,11.248755308466116,11.217867177196212,11.1869790459263,11.156090914656389,11.125202783386484,11.094314652116573,11.063426520846662,11.032538389576757,11.001650258306846,10.970762127036934,10.939873995767023,10.908985864497119,10.878097733227207,10.847209601957296,10.816321470687392,10.78543333941748,10.754545208147569,10.723657076877664,10.692768945607753,10.661880814337842,10.630992683067937,10.600104551798026,10.569216420528114,10.538328289258203,10.507440157988299,10.476552026718387,10.445663895448476,10.414775764178572,10.38388763290866,10.352999501638749,10.322111370368845,10.291223239098933,10.260335107829022,10.229446976559117,10.198558845289206,10.167670714019295,10.13678258274939,10.105894451479479,10.075006320209567,10.044118188939663,10.013230057669752,9.98234192639984,9.951453795129936,9.920565663860025,9.889677532590113,9.858789401320209,9.827901270050297,9.797013138780386,9.766125007510475,9.73523687624057,9.704348744970659,9.673460613700748,9.642572482430843,9.611684351160932,9.58079621989102,9.549908088621116,9.519019957351205],[11.241850218755737,11.210962087485818,11.180073956215914,11.14918582494601,11.11829769367609,11.087409562406187,11.056521431136282,11.025633299866364,10.99474516859646,10.963857037326548,10.932968906056637,10.902080774786732,10.871192643516821,10.84030451224691,10.809416380977005,10.778528249707094,10.747640118437182,10.716751987167278,10.685863855897367,10.654975724627455,10.624087593357551,10.59319946208764,10.562311330817728,10.531423199547824,10.500535068277912,10.469646937008001,10.438758805738097,10.407870674468185,10.376982543198274,10.346094411928362,10.315206280658458,10.284318149388547,10.253430018118635,10.222541886848731,10.19165375557882,10.160765624308908,10.129877493039004,10.098989361769092,10.068101230499181,10.037213099229277,10.006324967959365,9.975436836689454,9.944548705419543,9.913660574149638,9.882772442879727,9.851884311609815,9.820996180339911,9.79010804907,9.759219917800088,9.728331786530184,9.697443655260273,9.666555523990361,9.635667392720457,9.604779261450545,9.573891130180634,9.54300299891073,9.512114867640818,9.481226736370907,9.450338605101003,9.419450473831091,9.38856234256118,9.357674211291275,9.326786080021364,9.295897948751453,9.265009817481548,9.234121686211637,9.203233554941725,9.172345423671814,9.14145729240191,9.110569161131998,9.079681029862087,9.048792898592183,9.017904767322271,8.98701663605236,8.956128504782455,8.925240373512544],[10.648070634917076,10.617182503647157,10.586294372377253,10.555406241107349,10.52451810983743,10.493629978567526,10.462741847297622,10.431853716027703,10.400965584757799,10.370077453487887,10.339189322217976,10.308301190948072,10.27741305967816,10.246524928408249,10.215636797138345,10.184748665868433,10.153860534598522,10.122972403328617,10.092084272058706,10.061196140788795,10.03030800951889,9.999419878248979,9.968531746979068,9.937643615709163,9.906755484439252,9.87586735316934,9.844979221899436,9.814091090629525,9.783202959359613,9.752314828089702,9.721426696819798,9.690538565549886,9.659650434279975,9.62876230301007,9.597874171740159,9.566986040470248,9.536097909200343,9.505209777930432,9.47432164666052,9.443433515390616,9.412545384120705,9.381657252850793,9.350769121580882,9.319880990310978,9.288992859041066,9.258104727771155,9.22721659650125,9.196328465231339,9.165440333961428,9.134552202691523,9.103664071421612,9.0727759401517,9.041887808881796,9.010999677611885,8.980111546341973,8.949223415072069,8.918335283802158,8.887447152532246,8.856559021262342,8.82567088999243,8.79478275872252,8.763894627452615,8.733006496182703,8.702118364912792,8.671230233642888,8.640342102372976,8.609453971103065,8.578565839833153,8.54767770856325,8.516789577293338,8.485901446023426,8.455013314753522,8.42412518348361,8.3932370522137,8.362348920943795,8.331460789673883],[10.054291051078415,10.023402919808497,9.992514788538593,9.961626657268688,9.93073852599877,9.899850394728865,9.868962263458961,9.838074132189043,9.807186000919138,9.776297869649227,9.745409738379315,9.714521607109411,9.6836334758395,9.652745344569588,9.621857213299684,9.590969082029773,9.560080950759861,9.529192819489957,9.498304688220045,9.467416556950134,9.43652842568023,9.405640294410318,9.374752163140407,9.343864031870503,9.312975900600591,9.28208776933068,9.251199638060775,9.220311506790864,9.189423375520953,9.158535244251041,9.127647112981137,9.096758981711226,9.065870850441314,9.03498271917141,9.004094587901498,8.973206456631587,8.942318325361683,8.911430194091771,8.88054206282186,8.849653931551956,8.818765800282044,8.787877669012133,8.756989537742221,8.726101406472317,8.695213275202406,8.664325143932494,8.63343701266259,8.602548881392678,8.571660750122767,8.540772618852863,8.509884487582951,8.47899635631304,8.448108225043136,8.417220093773224,8.386331962503313,8.355443831233409,8.324555699963497,8.293667568693586,8.262779437423681,8.23189130615377,8.201003174883859,8.170115043613954,8.139226912344043,8.108338781074131,8.077450649804227,8.046562518534316,8.015674387264404,7.984786255994493,7.953898124724589,7.923009993454677,7.892121862184766,7.861233730914861,7.83034559964495,7.799457468375039,7.768569337105134,7.737681205835223],[9.460511467239762,9.429623335969843,9.398735204699939,9.367847073430035,9.336958942160116,9.306070810890212,9.275182679620308,9.244294548350389,9.213406417080485,9.182518285810573,9.151630154540662,9.120742023270758,9.089853892000846,9.058965760730935,9.02807762946103,8.99718949819112,8.966301366921208,8.935413235651303,8.904525104381392,8.87363697311148,8.842748841841576,8.811860710571665,8.780972579301753,8.75008444803185,8.719196316761938,8.688308185492026,8.657420054222122,8.62653192295221,8.5956437916823,8.564755660412388,8.533867529142483,8.502979397872572,8.47209126660266,8.441203135332756,8.410315004062845,8.379426872792934,8.34853874152303,8.317650610253118,8.286762478983206,8.255874347713302,8.22498621644339,8.19409808517348,8.163209953903568,8.132321822633664,8.101433691363752,8.07054556009384,8.039657428823936,8.008769297554025,7.977881166284114,7.946993035014209,7.916104903744298,7.8852167724743865,7.854328641204482,7.823440509934571,7.792552378664659,7.761664247394755,7.730776116124844,7.699887984854932,7.668999853585028,7.6381117223151165,7.607223591045205,7.576335459775301,7.545447328505389,7.514559197235478,7.483671065965574,7.452782934695662,7.421894803425751,7.391006672155839,7.360118540885935,7.329230409616024,7.298342278346112,7.267454147076208,7.2365660158062965,7.205677884536385,7.174789753266481,7.143901621996569],[8.866731883401101,8.835843752131183,8.804955620861278,8.774067489591374,8.743179358321456,8.712291227051551,8.681403095781647,8.650514964511729,8.619626833241824,8.588738701971913,8.557850570702001,8.526962439432097,8.496074308162186,8.465186176892274,8.43429804562237,8.403409914352459,8.372521783082547,8.341633651812643,8.310745520542731,8.27985738927282,8.248969258002916,8.218081126733004,8.187192995463093,8.156304864193189,8.125416732923277,8.094528601653366,8.063640470383461,8.03275233911355,8.001864207843639,7.970976076573727,7.940087945303823,7.9091998140339115,7.878311682764,7.847423551494096,7.816535420224184,7.785647288954273,7.754759157684369,7.723871026414457,7.692982895144546,7.6620947638746415,7.63120663260473,7.600318501334819,7.569430370064907,7.538542238795003,7.5076541075250915,7.47676597625518,7.445877844985276,7.414989713715364,7.384101582445453,7.353213451175549,7.322325319905637,7.291437188635726,7.260549057365822,7.22966092609591,7.198772794825999,7.167884663556094,7.136996532286183,7.106108401016272,7.075220269746367,7.044332138476456,7.0134440072065445,6.98255587593664,6.951667744666729,6.920779613396817,6.889891482126913,6.859003350857002,6.82811521958709,6.797227088317179,6.7663389570472745,6.735450825777363,6.704562694507452,6.673674563237547,6.642786431967636,6.6118983006977246,6.58101016942782,6.550122038157909]],\"type\":\"surface\"}],                        {\"template\":{\"data\":{\"histogram2dcontour\":[{\"type\":\"histogram2dcontour\",\"colorbar\":{\"outlinewidth\":0,\"ticks\":\"\"},\"colorscale\":[[0.0,\"#0d0887\"],[0.1111111111111111,\"#46039f\"],[0.2222222222222222,\"#7201a8\"],[0.3333333333333333,\"#9c179e\"],[0.4444444444444444,\"#bd3786\"],[0.5555555555555556,\"#d8576b\"],[0.6666666666666666,\"#ed7953\"],[0.7777777777777778,\"#fb9f3a\"],[0.8888888888888888,\"#fdca26\"],[1.0,\"#f0f921\"]]}],\"choropleth\":[{\"type\":\"choropleth\",\"colorbar\":{\"outlinewidth\":0,\"ticks\":\"\"}}],\"histogram2d\":[{\"type\":\"histogram2d\",\"colorbar\":{\"outlinewidth\":0,\"ticks\":\"\"},\"colorscale\":[[0.0,\"#0d0887\"],[0.1111111111111111,\"#46039f\"],[0.2222222222222222,\"#7201a8\"],[0.3333333333333333,\"#9c179e\"],[0.4444444444444444,\"#bd3786\"],[0.5555555555555556,\"#d8576b\"],[0.6666666666666666,\"#ed7953\"],[0.7777777777777778,\"#fb9f3a\"],[0.8888888888888888,\"#fdca26\"],[1.0,\"#f0f921\"]]}],\"heatmap\":[{\"type\":\"heatmap\",\"colorbar\":{\"outlinewidth\":0,\"ticks\":\"\"},\"colorscale\":[[0.0,\"#0d0887\"],[0.1111111111111111,\"#46039f\"],[0.2222222222222222,\"#7201a8\"],[0.3333333333333333,\"#9c179e\"],[0.4444444444444444,\"#bd3786\"],[0.5555555555555556,\"#d8576b\"],[0.6666666666666666,\"#ed7953\"],[0.7777777777777778,\"#fb9f3a\"],[0.8888888888888888,\"#fdca26\"],[1.0,\"#f0f921\"]]}],\"heatmapgl\":[{\"type\":\"heatmapgl\",\"colorbar\":{\"outlinewidth\":0,\"ticks\":\"\"},\"colorscale\":[[0.0,\"#0d0887\"],[0.1111111111111111,\"#46039f\"],[0.2222222222222222,\"#7201a8\"],[0.3333333333333333,\"#9c179e\"],[0.4444444444444444,\"#bd3786\"],[0.5555555555555556,\"#d8576b\"],[0.6666666666666666,\"#ed7953\"],[0.7777777777777778,\"#fb9f3a\"],[0.8888888888888888,\"#fdca26\"],[1.0,\"#f0f921\"]]}],\"contourcarpet\":[{\"type\":\"contourcarpet\",\"colorbar\":{\"outlinewidth\":0,\"ticks\":\"\"}}],\"contour\":[{\"type\":\"contour\",\"colorbar\":{\"outlinewidth\":0,\"ticks\":\"\"},\"colorscale\":[[0.0,\"#0d0887\"],[0.1111111111111111,\"#46039f\"],[0.2222222222222222,\"#7201a8\"],[0.3333333333333333,\"#9c179e\"],[0.4444444444444444,\"#bd3786\"],[0.5555555555555556,\"#d8576b\"],[0.6666666666666666,\"#ed7953\"],[0.7777777777777778,\"#fb9f3a\"],[0.8888888888888888,\"#fdca26\"],[1.0,\"#f0f921\"]]}],\"surface\":[{\"type\":\"surface\",\"colorbar\":{\"outlinewidth\":0,\"ticks\":\"\"},\"colorscale\":[[0.0,\"#0d0887\"],[0.1111111111111111,\"#46039f\"],[0.2222222222222222,\"#7201a8\"],[0.3333333333333333,\"#9c179e\"],[0.4444444444444444,\"#bd3786\"],[0.5555555555555556,\"#d8576b\"],[0.6666666666666666,\"#ed7953\"],[0.7777777777777778,\"#fb9f3a\"],[0.8888888888888888,\"#fdca26\"],[1.0,\"#f0f921\"]]}],\"mesh3d\":[{\"type\":\"mesh3d\",\"colorbar\":{\"outlinewidth\":0,\"ticks\":\"\"}}],\"scatter\":[{\"fillpattern\":{\"fillmode\":\"overlay\",\"size\":10,\"solidity\":0.2},\"type\":\"scatter\"}],\"parcoords\":[{\"type\":\"parcoords\",\"line\":{\"colorbar\":{\"outlinewidth\":0,\"ticks\":\"\"}}}],\"scatterpolargl\":[{\"type\":\"scatterpolargl\",\"marker\":{\"colorbar\":{\"outlinewidth\":0,\"ticks\":\"\"}}}],\"bar\":[{\"error_x\":{\"color\":\"#2a3f5f\"},\"error_y\":{\"color\":\"#2a3f5f\"},\"marker\":{\"line\":{\"color\":\"#E5ECF6\",\"width\":0.5},\"pattern\":{\"fillmode\":\"overlay\",\"size\":10,\"solidity\":0.2}},\"type\":\"bar\"}],\"scattergeo\":[{\"type\":\"scattergeo\",\"marker\":{\"colorbar\":{\"outlinewidth\":0,\"ticks\":\"\"}}}],\"scatterpolar\":[{\"type\":\"scatterpolar\",\"marker\":{\"colorbar\":{\"outlinewidth\":0,\"ticks\":\"\"}}}],\"histogram\":[{\"marker\":{\"pattern\":{\"fillmode\":\"overlay\",\"size\":10,\"solidity\":0.2}},\"type\":\"histogram\"}],\"scattergl\":[{\"type\":\"scattergl\",\"marker\":{\"colorbar\":{\"outlinewidth\":0,\"ticks\":\"\"}}}],\"scatter3d\":[{\"type\":\"scatter3d\",\"line\":{\"colorbar\":{\"outlinewidth\":0,\"ticks\":\"\"}},\"marker\":{\"colorbar\":{\"outlinewidth\":0,\"ticks\":\"\"}}}],\"scattermapbox\":[{\"type\":\"scattermapbox\",\"marker\":{\"colorbar\":{\"outlinewidth\":0,\"ticks\":\"\"}}}],\"scatterternary\":[{\"type\":\"scatterternary\",\"marker\":{\"colorbar\":{\"outlinewidth\":0,\"ticks\":\"\"}}}],\"scattercarpet\":[{\"type\":\"scattercarpet\",\"marker\":{\"colorbar\":{\"outlinewidth\":0,\"ticks\":\"\"}}}],\"carpet\":[{\"aaxis\":{\"endlinecolor\":\"#2a3f5f\",\"gridcolor\":\"white\",\"linecolor\":\"white\",\"minorgridcolor\":\"white\",\"startlinecolor\":\"#2a3f5f\"},\"baxis\":{\"endlinecolor\":\"#2a3f5f\",\"gridcolor\":\"white\",\"linecolor\":\"white\",\"minorgridcolor\":\"white\",\"startlinecolor\":\"#2a3f5f\"},\"type\":\"carpet\"}],\"table\":[{\"cells\":{\"fill\":{\"color\":\"#EBF0F8\"},\"line\":{\"color\":\"white\"}},\"header\":{\"fill\":{\"color\":\"#C8D4E3\"},\"line\":{\"color\":\"white\"}},\"type\":\"table\"}],\"barpolar\":[{\"marker\":{\"line\":{\"color\":\"#E5ECF6\",\"width\":0.5},\"pattern\":{\"fillmode\":\"overlay\",\"size\":10,\"solidity\":0.2}},\"type\":\"barpolar\"}],\"pie\":[{\"automargin\":true,\"type\":\"pie\"}]},\"layout\":{\"autotypenumbers\":\"strict\",\"colorway\":[\"#636efa\",\"#EF553B\",\"#00cc96\",\"#ab63fa\",\"#FFA15A\",\"#19d3f3\",\"#FF6692\",\"#B6E880\",\"#FF97FF\",\"#FECB52\"],\"font\":{\"color\":\"#2a3f5f\"},\"hovermode\":\"closest\",\"hoverlabel\":{\"align\":\"left\"},\"paper_bgcolor\":\"white\",\"plot_bgcolor\":\"#E5ECF6\",\"polar\":{\"bgcolor\":\"#E5ECF6\",\"angularaxis\":{\"gridcolor\":\"white\",\"linecolor\":\"white\",\"ticks\":\"\"},\"radialaxis\":{\"gridcolor\":\"white\",\"linecolor\":\"white\",\"ticks\":\"\"}},\"ternary\":{\"bgcolor\":\"#E5ECF6\",\"aaxis\":{\"gridcolor\":\"white\",\"linecolor\":\"white\",\"ticks\":\"\"},\"baxis\":{\"gridcolor\":\"white\",\"linecolor\":\"white\",\"ticks\":\"\"},\"caxis\":{\"gridcolor\":\"white\",\"linecolor\":\"white\",\"ticks\":\"\"}},\"coloraxis\":{\"colorbar\":{\"outlinewidth\":0,\"ticks\":\"\"}},\"colorscale\":{\"sequential\":[[0.0,\"#0d0887\"],[0.1111111111111111,\"#46039f\"],[0.2222222222222222,\"#7201a8\"],[0.3333333333333333,\"#9c179e\"],[0.4444444444444444,\"#bd3786\"],[0.5555555555555556,\"#d8576b\"],[0.6666666666666666,\"#ed7953\"],[0.7777777777777778,\"#fb9f3a\"],[0.8888888888888888,\"#fdca26\"],[1.0,\"#f0f921\"]],\"sequentialminus\":[[0.0,\"#0d0887\"],[0.1111111111111111,\"#46039f\"],[0.2222222222222222,\"#7201a8\"],[0.3333333333333333,\"#9c179e\"],[0.4444444444444444,\"#bd3786\"],[0.5555555555555556,\"#d8576b\"],[0.6666666666666666,\"#ed7953\"],[0.7777777777777778,\"#fb9f3a\"],[0.8888888888888888,\"#fdca26\"],[1.0,\"#f0f921\"]],\"diverging\":[[0,\"#8e0152\"],[0.1,\"#c51b7d\"],[0.2,\"#de77ae\"],[0.3,\"#f1b6da\"],[0.4,\"#fde0ef\"],[0.5,\"#f7f7f7\"],[0.6,\"#e6f5d0\"],[0.7,\"#b8e186\"],[0.8,\"#7fbc41\"],[0.9,\"#4d9221\"],[1,\"#276419\"]]},\"xaxis\":{\"gridcolor\":\"white\",\"linecolor\":\"white\",\"ticks\":\"\",\"title\":{\"standoff\":15},\"zerolinecolor\":\"white\",\"automargin\":true,\"zerolinewidth\":2},\"yaxis\":{\"gridcolor\":\"white\",\"linecolor\":\"white\",\"ticks\":\"\",\"title\":{\"standoff\":15},\"zerolinecolor\":\"white\",\"automargin\":true,\"zerolinewidth\":2},\"scene\":{\"xaxis\":{\"backgroundcolor\":\"#E5ECF6\",\"gridcolor\":\"white\",\"linecolor\":\"white\",\"showbackground\":true,\"ticks\":\"\",\"zerolinecolor\":\"white\",\"gridwidth\":2},\"yaxis\":{\"backgroundcolor\":\"#E5ECF6\",\"gridcolor\":\"white\",\"linecolor\":\"white\",\"showbackground\":true,\"ticks\":\"\",\"zerolinecolor\":\"white\",\"gridwidth\":2},\"zaxis\":{\"backgroundcolor\":\"#E5ECF6\",\"gridcolor\":\"white\",\"linecolor\":\"white\",\"showbackground\":true,\"ticks\":\"\",\"zerolinecolor\":\"white\",\"gridwidth\":2}},\"shapedefaults\":{\"line\":{\"color\":\"#2a3f5f\"}},\"annotationdefaults\":{\"arrowcolor\":\"#2a3f5f\",\"arrowhead\":0,\"arrowwidth\":1},\"geo\":{\"bgcolor\":\"white\",\"landcolor\":\"#E5ECF6\",\"subunitcolor\":\"white\",\"showland\":true,\"showlakes\":true,\"lakecolor\":\"white\"},\"title\":{\"x\":0.05},\"mapbox\":{\"style\":\"light\"}}},\"scene\":{\"domain\":{\"x\":[0.0,1.0],\"y\":[0.0,1.0]},\"xaxis\":{\"title\":{\"text\":\"white\"}},\"yaxis\":{\"title\":{\"text\":\"hs_grad\"}},\"zaxis\":{\"title\":{\"text\":\"poverty\"}}},\"legend\":{\"title\":{\"text\":\"poverty_pred\"},\"tracegroupgap\":0,\"yanchor\":\"top\",\"y\":0.99,\"xanchor\":\"left\",\"x\":0.01},\"title\":{\"text\":\"\\u0417\\u0430\\u0432\\u0438\\u0441\\u0438\\u043e\\u0441\\u0442\\u044c \\u043f\\u0440\\u043e\\u0446\\u0435\\u043d\\u0442\\u0430 \\u0431\\u0435\\u043b\\u043e\\u0433\\u043e \\u043d\\u0430\\u0441\\u0435\\u043b\\u0435\\u043d\\u0438\\u044f \\u0438 \\u0443\\u0440\\u043e\\u0432\\u043d\\u044f \\u043e\\u0431\\u0440\\u0430\\u0437\\u043e\\u0432\\u0430\\u043d\\u0438\\u044f \\u043d\\u0430 \\u0431\\u0435\\u0434\\u043d\\u043e\\u0441\\u0442\\u044c \\u043d\\u0430\\u0441\\u0435\\u043b\\u0435\\u043d\\u0438\\u044f\"}},                        {\"responsive\": true}                    ).then(function(){\n",
       "                            \n",
       "var gd = document.getElementById('d8651e88-4e18-438b-8057-eef6f3c5f64a');\n",
       "var x = new MutationObserver(function (mutations, observer) {{\n",
       "        var display = window.getComputedStyle(gd).display;\n",
       "        if (!display || display === 'none') {{\n",
       "            console.log([gd, 'removed!']);\n",
       "            Plotly.purge(gd);\n",
       "            observer.disconnect();\n",
       "        }}\n",
       "}});\n",
       "\n",
       "// Listen for the removal of the full notebook cells\n",
       "var notebookContainer = gd.closest('#notebook-container');\n",
       "if (notebookContainer) {{\n",
       "    x.observe(notebookContainer, {childList: true});\n",
       "}}\n",
       "\n",
       "// Listen for the clearing of the current output cell\n",
       "var outputEl = gd.closest('.output');\n",
       "if (outputEl) {{\n",
       "    x.observe(outputEl, {childList: true});\n",
       "}}\n",
       "\n",
       "                        })                };                });            </script>        </div>"
      ]
     },
     "metadata": {},
     "output_type": "display_data"
    }
   ],
   "source": [
    "import pandas as pd\n",
    "import plotly.express as px\n",
    "import plotly.graph_objects as pgo\n",
    "import numpy as np\n",
    "import statsmodels.formula.api as smfa\n",
    "\n",
    "df = pd.read_csv('states.csv')\n",
    "\n",
    "lm = smfa.ols(formula='poverty ~ white + hs_grad', data = df).fit()\n",
    "#print(lm.summary())\n",
    "margin = 2\n",
    "mesh_size = 1\n",
    "x_min, x_max = df.white.min() - margin, df.white.max() + margin\n",
    "y_min, y_max = df.hs_grad.min() - margin, df.hs_grad.max() + margin\n",
    "z_pred = lambda x, y: lm.params.Intercept + lm.params.white * x  + lm.params.hs_grad * y\n",
    "x_range = np.arange(x_min, x_max, mesh_size)\n",
    "y_range = np.arange(y_min, y_max, mesh_size)\n",
    "z_range = np.array([[z_pred(x, y) for x in x_range] for y in y_range])\n",
    "\n",
    "df['poverty_pred'] = np.array([poverty >= z_pred(df.white[i], df.hs_grad[i]) for i, poverty in df.poverty.items()])\n",
    "\n",
    "fig = px.scatter_3d(df, x = 'white', y = 'hs_grad', z = 'poverty', \n",
    "                    color='poverty_pred', \n",
    "                    color_discrete_sequence=['red', 'green'],\n",
    "                   title='Зависиость процента белого населения и уровня образования на бедность населения')\n",
    "fig.update_traces(marker=dict(size=3))\n",
    "fig.add_traces(pgo.Surface(x = x_range, y = y_range, z = z_range, name = 'prediction', opacity=0.8, colorscale = 'sunset'))\n",
    "fig.update_layout(legend=dict(\n",
    "    yanchor=\"top\",\n",
    "    y=0.99,\n",
    "    xanchor=\"left\",\n",
    "    x=0.01\n",
    "))\n",
    "\n",
    "fig.show()"
   ]
  }
 ],
 "metadata": {
  "kernelspec": {
   "display_name": "Python 3 (ipykernel)",
   "language": "python",
   "name": "python3"
  },
  "language_info": {
   "codemirror_mode": {
    "name": "ipython",
    "version": 3
   },
   "file_extension": ".py",
   "mimetype": "text/x-python",
   "name": "python",
   "nbconvert_exporter": "python",
   "pygments_lexer": "ipython3",
   "version": "3.9.7"
  }
 },
 "nbformat": 4,
 "nbformat_minor": 5
}
